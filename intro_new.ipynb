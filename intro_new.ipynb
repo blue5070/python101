{
  "nbformat": 4,
  "nbformat_minor": 0,
  "metadata": {
    "kernelspec": {
      "display_name": "Python 3",
      "language": "python",
      "name": "python3"
    },
    "language_info": {
      "codemirror_mode": {
        "name": "ipython",
        "version": 3
      },
      "file_extension": ".py",
      "mimetype": "text/x-python",
      "name": "python",
      "nbconvert_exporter": "python",
      "pygments_lexer": "ipython3",
      "version": "3.8.5"
    },
    "colab": {
      "name": "intro.ipynb",
      "provenance": [],
      "toc_visible": true,
      "include_colab_link": true
    }
  },
  "cells": [
    {
      "cell_type": "markdown",
      "metadata": {
        "id": "view-in-github",
        "colab_type": "text"
      },
      "source": [
        "<a href=\"https://colab.research.google.com/github/minyoung347/python101/blob/main/intro_new.ipynb\" target=\"_parent\"><img src=\"https://colab.research.google.com/assets/colab-badge.svg\" alt=\"Open In Colab\"/></a>"
      ]
    },
    {
      "cell_type": "markdown",
      "metadata": {
        "id": "jwMT9xqBplpA"
      },
      "source": [
        "# 주피터노트북\n"
      ]
    },
    {
      "cell_type": "markdown",
      "metadata": {
        "id": "hIN0AWUWuQGu"
      },
      "source": [
        "## 셀 타입\n",
        "\n",
        "- 코드\n",
        "- 마크다운/텍스트"
      ]
    },
    {
      "cell_type": "markdown",
      "metadata": {
        "id": "uUSqwNRIuTLX"
      },
      "source": [
        "## 셀 모드\n",
        "\n",
        "- 편집\n",
        "- 명령"
      ]
    },
    {
      "cell_type": "markdown",
      "metadata": {
        "id": "jBUE4J2GmMec"
      },
      "source": [
        "\n",
        "## 셀 실행\n",
        "\n",
        "- Shift + Enter 현재 셀 실행하고 아래 셀 선택\n",
        "- Ctrl + Enter 현재 셀 실행하고 현재 셀 선택\n",
        "- Alt + Enter (colab) 현재 셀 실행하고 아래에 새로운 코드 셀 생성"
      ]
    },
    {
      "cell_type": "markdown",
      "metadata": {
        "id": "6xAOkXo5plpC"
      },
      "source": [
        "## 단축키\n",
        "- 구글 코랩에서는 노트북 단축키를 사용자가 지정할 수 있으며, 일반적인 주피터노트북과 달리 셀 편집모드에서도 단축키를 통해 셀 잘라내기, 새로운 셀 생성 등 셀 편집이 가능\n",
        "\n",
        "- '메뉴-도구-단축키'에서 설정\n",
        "    - 셀 잘라내기 Ctrl + m, x\n",
        "    - 셀 복사하기 Ctrl + m, c\n",
        "    - 셀 붙이기 Ctrl + v\n",
        "    - 셀 삭제 Ctrl + m, d\n",
        "    - 위에 새로운 셀 삽입하기 Ctrl + m, a\n",
        "    - 아래에 새로운 셀 삽입하기 Ctrl + m, b\n",
        "    - 셀 타입 코드로 변환 Ctrl + m, y\n",
        "    - 셀 타입 마크다운으로 변환 Ctrl + m, m\n",
        "    - 실행 취소 Ctrl + m, z\n",
        "    - 단축키 확인 Ctrl + m, x\n",
        "    - 선택된 여러 셀 병합 Ctrl + Shift + m\n",
        "    - 현재 커서 위치에서 셀 분할 Ctrl + m, -\n",
        "    - 주석 설정/해제 Ctrl + /"
      ]
    },
    {
      "cell_type": "markdown",
      "metadata": {
        "id": "2lDW_v4WplpF"
      },
      "source": [
        "# 기본 자료형"
      ]
    },
    {
      "cell_type": "markdown",
      "metadata": {
        "id": "FUzXR2ySplpG"
      },
      "source": [
        "## 숫자, 참/거짓, 문자열"
      ]
    },
    {
      "cell_type": "code",
      "metadata": {
        "colab": {
          "base_uri": "https://localhost:8080/"
        },
        "id": "ibNHTrl8plpG",
        "outputId": "916bf60e-4974-4144-bcc8-c0fc92832e79"
      },
      "source": [
        "1"
      ],
      "execution_count": 1,
      "outputs": [
        {
          "output_type": "execute_result",
          "data": {
            "text/plain": [
              "1"
            ]
          },
          "metadata": {},
          "execution_count": 1
        }
      ]
    },
    {
      "cell_type": "code",
      "metadata": {
        "colab": {
          "base_uri": "https://localhost:8080/"
        },
        "id": "pXbt8obKplpG",
        "outputId": "0e36eb71-a13f-4294-a347-bdf558cd81f7"
      },
      "source": [
        "type(1)"
      ],
      "execution_count": null,
      "outputs": [
        {
          "output_type": "execute_result",
          "data": {
            "text/plain": [
              "int"
            ]
          },
          "metadata": {},
          "execution_count": 2
        }
      ]
    },
    {
      "cell_type": "code",
      "metadata": {
        "colab": {
          "base_uri": "https://localhost:8080/"
        },
        "id": "q1E_vIBdplpG",
        "outputId": "6ab2731a-6097-45c8-b2d8-64ae56239649"
      },
      "source": [
        "type(1.0)"
      ],
      "execution_count": null,
      "outputs": [
        {
          "output_type": "execute_result",
          "data": {
            "text/plain": [
              "float"
            ]
          },
          "metadata": {},
          "execution_count": 3
        }
      ]
    },
    {
      "cell_type": "code",
      "metadata": {
        "colab": {
          "base_uri": "https://localhost:8080/"
        },
        "id": "TyKF1DtxplpG",
        "outputId": "e17a9784-e46b-44ea-abfe-9a9b57baccf5"
      },
      "source": [
        "False, True"
      ],
      "execution_count": null,
      "outputs": [
        {
          "output_type": "execute_result",
          "data": {
            "text/plain": [
              "(False, True)"
            ]
          },
          "metadata": {},
          "execution_count": 4
        }
      ]
    },
    {
      "cell_type": "code",
      "metadata": {
        "colab": {
          "base_uri": "https://localhost:8080/"
        },
        "id": "0xCcMW83plpH",
        "outputId": "2f707eb4-ab7c-4dd7-d490-f4b164209618"
      },
      "source": [
        "type(False)"
      ],
      "execution_count": null,
      "outputs": [
        {
          "output_type": "execute_result",
          "data": {
            "text/plain": [
              "bool"
            ]
          },
          "metadata": {},
          "execution_count": 5
        }
      ]
    },
    {
      "cell_type": "code",
      "metadata": {
        "colab": {
          "base_uri": "https://localhost:8080/"
        },
        "id": "gUOZPQrLplpH",
        "outputId": "ec1752f4-dbbe-4157-9251-7bca3b735d1c"
      },
      "source": [
        "type('python')"
      ],
      "execution_count": null,
      "outputs": [
        {
          "output_type": "execute_result",
          "data": {
            "text/plain": [
              "str"
            ]
          },
          "metadata": {},
          "execution_count": 6
        }
      ]
    },
    {
      "cell_type": "code",
      "metadata": {
        "colab": {
          "base_uri": "https://localhost:8080/"
        },
        "id": "r0oSz78XplpH",
        "outputId": "0b059459-1be3-4b47-f57c-d13bf33cc70a"
      },
      "source": [
        "type(\"python\")"
      ],
      "execution_count": null,
      "outputs": [
        {
          "output_type": "execute_result",
          "data": {
            "text/plain": [
              "str"
            ]
          },
          "metadata": {},
          "execution_count": 7
        }
      ]
    },
    {
      "cell_type": "code",
      "metadata": {
        "colab": {
          "base_uri": "https://localhost:8080/"
        },
        "id": "Mit-TmWuplpH",
        "outputId": "0f52f6ef-7e4c-4077-d285-6b449af8e686"
      },
      "source": [
        "type('a')"
      ],
      "execution_count": null,
      "outputs": [
        {
          "output_type": "execute_result",
          "data": {
            "text/plain": [
              "str"
            ]
          },
          "metadata": {},
          "execution_count": 8
        }
      ]
    },
    {
      "cell_type": "code",
      "metadata": {
        "colab": {
          "base_uri": "https://localhost:8080/"
        },
        "id": "wg7PwJL9plpH",
        "outputId": "af9cd0a0-f40d-4ad7-e7af-8ce5925333c0"
      },
      "source": [
        "type(\"p\")"
      ],
      "execution_count": null,
      "outputs": [
        {
          "output_type": "execute_result",
          "data": {
            "text/plain": [
              "str"
            ]
          },
          "metadata": {},
          "execution_count": 9
        }
      ]
    },
    {
      "cell_type": "code",
      "metadata": {
        "colab": {
          "base_uri": "https://localhost:8080/"
        },
        "id": "IP78CxLmplpI",
        "outputId": "5e935317-a498-4bb7-b9a6-dd7262e131fa"
      },
      "source": [
        "type('python'), type(.5)"
      ],
      "execution_count": null,
      "outputs": [
        {
          "output_type": "execute_result",
          "data": {
            "text/plain": [
              "(str, float)"
            ]
          },
          "metadata": {},
          "execution_count": 10
        }
      ]
    },
    {
      "cell_type": "code",
      "metadata": {
        "colab": {
          "base_uri": "https://localhost:8080/"
        },
        "id": "zp7kR8nCplpI",
        "outputId": "4b07e81d-9c65-4eb2-b5af-232b19314c0b"
      },
      "source": [
        "a = 5\n",
        "b = (a == 5)\n",
        "c = 'KOR'\n",
        "print(a, b, c)"
      ],
      "execution_count": null,
      "outputs": [
        {
          "output_type": "stream",
          "name": "stdout",
          "text": [
            "5 True KOR\n"
          ]
        }
      ]
    },
    {
      "cell_type": "markdown",
      "metadata": {
        "id": "1RlJvVPPplpI"
      },
      "source": [
        "- 더하기"
      ]
    },
    {
      "cell_type": "code",
      "metadata": {
        "colab": {
          "base_uri": "https://localhost:8080/"
        },
        "id": "bQUcBF6kplpI",
        "outputId": "81d5c9e1-6dcb-437f-8d07-d4c2f0d53e45"
      },
      "source": [
        "4 + 5"
      ],
      "execution_count": null,
      "outputs": [
        {
          "output_type": "execute_result",
          "data": {
            "text/plain": [
              "9"
            ]
          },
          "metadata": {},
          "execution_count": 12
        }
      ]
    },
    {
      "cell_type": "code",
      "metadata": {
        "colab": {
          "base_uri": "https://localhost:8080/",
          "height": 35
        },
        "id": "4ZwrU7d-plpI",
        "outputId": "89feeb51-8b29-40e7-fad4-695a54521f81"
      },
      "source": [
        "'KOR' + '15'"
      ],
      "execution_count": null,
      "outputs": [
        {
          "output_type": "execute_result",
          "data": {
            "application/vnd.google.colaboratory.intrinsic+json": {
              "type": "string"
            },
            "text/plain": [
              "'KOR15'"
            ]
          },
          "metadata": {},
          "execution_count": 13
        }
      ]
    },
    {
      "cell_type": "code",
      "metadata": {
        "colab": {
          "base_uri": "https://localhost:8080/",
          "height": 166
        },
        "id": "wDGp9HLvplpJ",
        "outputId": "95b7e84a-992e-4465-8c4e-a41c233a90d5"
      },
      "source": [
        "'KOR' + 15"
      ],
      "execution_count": null,
      "outputs": [
        {
          "output_type": "error",
          "ename": "TypeError",
          "evalue": "ignored",
          "traceback": [
            "\u001b[0;31m---------------------------------------------------------------------------\u001b[0m",
            "\u001b[0;31mTypeError\u001b[0m                                 Traceback (most recent call last)",
            "\u001b[0;32m<ipython-input-14-20d4bb33d198>\u001b[0m in \u001b[0;36m<module>\u001b[0;34m()\u001b[0m\n\u001b[0;32m----> 1\u001b[0;31m \u001b[0;34m'KOR'\u001b[0m \u001b[0;34m+\u001b[0m \u001b[0;36m15\u001b[0m\u001b[0;34m\u001b[0m\u001b[0;34m\u001b[0m\u001b[0m\n\u001b[0m",
            "\u001b[0;31mTypeError\u001b[0m: can only concatenate str (not \"int\") to str"
          ]
        }
      ]
    },
    {
      "cell_type": "markdown",
      "metadata": {
        "id": "CXSLZvllRNPB"
      },
      "source": [
        "- 수는 수끼리, 문자열은 문자열끼리 더할 수 있음\n",
        "- 자료형 변경은 str(), float(), int() 등을 이용"
      ]
    },
    {
      "cell_type": "code",
      "metadata": {
        "colab": {
          "base_uri": "https://localhost:8080/",
          "height": 35
        },
        "id": "fH9LuWoJplpJ",
        "outputId": "3b83564f-510b-42dc-9e7b-f2a6dfcafabc"
      },
      "source": [
        "'KOR' + str(15)"
      ],
      "execution_count": null,
      "outputs": [
        {
          "output_type": "execute_result",
          "data": {
            "application/vnd.google.colaboratory.intrinsic+json": {
              "type": "string"
            },
            "text/plain": [
              "'KOR15'"
            ]
          },
          "metadata": {},
          "execution_count": 15
        }
      ]
    },
    {
      "cell_type": "code",
      "metadata": {
        "colab": {
          "base_uri": "https://localhost:8080/"
        },
        "id": "b9XEvt9CplpJ",
        "outputId": "030f2223-9a0c-4fc3-fd1d-a876117696b9"
      },
      "source": [
        "type(str(15))"
      ],
      "execution_count": null,
      "outputs": [
        {
          "output_type": "execute_result",
          "data": {
            "text/plain": [
              "str"
            ]
          },
          "metadata": {},
          "execution_count": 16
        }
      ]
    },
    {
      "cell_type": "code",
      "metadata": {
        "colab": {
          "base_uri": "https://localhost:8080/"
        },
        "id": "4szQuNbCplpJ",
        "outputId": "abe60d3d-c265-46f5-f069-1febededad05"
      },
      "source": [
        "float(str(15))"
      ],
      "execution_count": null,
      "outputs": [
        {
          "output_type": "execute_result",
          "data": {
            "text/plain": [
              "15.0"
            ]
          },
          "metadata": {},
          "execution_count": 17
        }
      ]
    },
    {
      "cell_type": "markdown",
      "metadata": {
        "id": "7g8KeLtmRulV"
      },
      "source": [
        "- bool 자료형에 사칙연산을 적용할 경우 False는 0, True는 1의 값을 갖는 것으로 처리됨"
      ]
    },
    {
      "cell_type": "code",
      "metadata": {
        "colab": {
          "base_uri": "https://localhost:8080/"
        },
        "id": "Ghzo11E0plpJ",
        "outputId": "1c26aa3e-1091-4a1d-c3e5-03767ad3aa9e"
      },
      "source": [
        "4 + True"
      ],
      "execution_count": null,
      "outputs": [
        {
          "output_type": "execute_result",
          "data": {
            "text/plain": [
              "5"
            ]
          },
          "metadata": {},
          "execution_count": 23
        }
      ]
    },
    {
      "cell_type": "code",
      "metadata": {
        "colab": {
          "base_uri": "https://localhost:8080/"
        },
        "id": "pdtjUuBLplpJ",
        "outputId": "ca9e03dd-8aba-4d2f-b53f-f0fb149f21f9"
      },
      "source": [
        "4 + False"
      ],
      "execution_count": null,
      "outputs": [
        {
          "output_type": "execute_result",
          "data": {
            "text/plain": [
              "4"
            ]
          },
          "metadata": {},
          "execution_count": 24
        }
      ]
    },
    {
      "cell_type": "code",
      "metadata": {
        "colab": {
          "base_uri": "https://localhost:8080/"
        },
        "id": "Yk2-dgg5plpK",
        "outputId": "f7f84fa7-1e85-4ea4-a96c-b158b869ff78"
      },
      "source": [
        "4 * True"
      ],
      "execution_count": null,
      "outputs": [
        {
          "output_type": "execute_result",
          "data": {
            "text/plain": [
              "4"
            ]
          },
          "metadata": {},
          "execution_count": 25
        }
      ]
    },
    {
      "cell_type": "code",
      "metadata": {
        "colab": {
          "base_uri": "https://localhost:8080/"
        },
        "id": "_WO49bD2plpK",
        "outputId": "d5a08743-3caf-481f-cef5-7116a136293b"
      },
      "source": [
        "4 * False"
      ],
      "execution_count": null,
      "outputs": [
        {
          "output_type": "execute_result",
          "data": {
            "text/plain": [
              "0"
            ]
          },
          "metadata": {},
          "execution_count": 26
        }
      ]
    },
    {
      "cell_type": "code",
      "metadata": {
        "colab": {
          "base_uri": "https://localhost:8080/"
        },
        "id": "boRojZFSplpK",
        "outputId": "c13bfd11-3bd7-4102-d7de-80895ff645b2"
      },
      "source": [
        "int(True)"
      ],
      "execution_count": null,
      "outputs": [
        {
          "output_type": "execute_result",
          "data": {
            "text/plain": [
              "1"
            ]
          },
          "metadata": {},
          "execution_count": 27
        }
      ]
    },
    {
      "cell_type": "markdown",
      "metadata": {
        "id": "_DsNzxuXplpK"
      },
      "source": [
        "- 문자열 포맷 f-string"
      ]
    },
    {
      "cell_type": "code",
      "metadata": {
        "colab": {
          "base_uri": "https://localhost:8080/"
        },
        "id": "fn0Ke_hSplpK",
        "outputId": "dbe80ae5-2627-4902-ddf0-08efd49ac810"
      },
      "source": [
        "a = 2\n",
        "b = 'two'\n",
        "print(a, b)"
      ],
      "execution_count": null,
      "outputs": [
        {
          "output_type": "stream",
          "name": "stdout",
          "text": [
            "2 two\n"
          ]
        }
      ]
    },
    {
      "cell_type": "code",
      "metadata": {
        "colab": {
          "base_uri": "https://localhost:8080/"
        },
        "id": "fGvZJKfOplpK",
        "outputId": "056cb34e-0903-40f9-b6b6-52b367aef2fd"
      },
      "source": [
        "print(f'{a} is {b}')"
      ],
      "execution_count": null,
      "outputs": [
        {
          "output_type": "stream",
          "name": "stdout",
          "text": [
            "2 is two\n"
          ]
        }
      ]
    },
    {
      "cell_type": "code",
      "metadata": {
        "colab": {
          "base_uri": "https://localhost:8080/"
        },
        "id": "Z35sO1nOplpK",
        "outputId": "16beed10-34f2-4cce-f074-23a7349b2fb7"
      },
      "source": [
        "print(f'{a:.2f} is {b:}')"
      ],
      "execution_count": null,
      "outputs": [
        {
          "output_type": "stream",
          "name": "stdout",
          "text": [
            "2.00 is two\n"
          ]
        }
      ]
    },
    {
      "cell_type": "code",
      "metadata": {
        "colab": {
          "base_uri": "https://localhost:8080/"
        },
        "id": "bOWYq_dOplpL",
        "outputId": "210737b9-f178-4ba4-9da8-26faac07e103"
      },
      "source": [
        "print(f'{b:} is {a:.2f}')"
      ],
      "execution_count": null,
      "outputs": [
        {
          "output_type": "stream",
          "name": "stdout",
          "text": [
            "two is 2.00\n"
          ]
        }
      ]
    },
    {
      "cell_type": "code",
      "metadata": {
        "colab": {
          "base_uri": "https://localhost:8080/"
        },
        "id": "GEpSVxhsplpL",
        "outputId": "2ad2f7a0-1447-4a32-f347-6605f5372c7b"
      },
      "source": [
        "print(f'{b:} is {10000:,.2f}')"
      ],
      "execution_count": null,
      "outputs": [
        {
          "output_type": "stream",
          "name": "stdout",
          "text": [
            "two is 10,000.00\n"
          ]
        }
      ]
    },
    {
      "cell_type": "markdown",
      "metadata": {
        "id": "3siuC5njplpL"
      },
      "source": [
        "- 문자열에서 공백 없애기"
      ]
    },
    {
      "cell_type": "code",
      "metadata": {
        "colab": {
          "base_uri": "https://localhost:8080/",
          "height": 35
        },
        "id": "6ZukADH3plpL",
        "outputId": "4a975645-b016-4279-dc18-32926ff8df0f"
      },
      "source": [
        "\" abc \".lstrip()"
      ],
      "execution_count": null,
      "outputs": [
        {
          "output_type": "execute_result",
          "data": {
            "application/vnd.google.colaboratory.intrinsic+json": {
              "type": "string"
            },
            "text/plain": [
              "'abc '"
            ]
          },
          "metadata": {},
          "execution_count": 33
        }
      ]
    },
    {
      "cell_type": "code",
      "metadata": {
        "colab": {
          "base_uri": "https://localhost:8080/",
          "height": 35
        },
        "id": "7hUmNy5tplpL",
        "outputId": "ef89b4f6-8dba-4008-b06c-7352e9dec5c4"
      },
      "source": [
        "\" abc \".rstrip()"
      ],
      "execution_count": null,
      "outputs": [
        {
          "output_type": "execute_result",
          "data": {
            "application/vnd.google.colaboratory.intrinsic+json": {
              "type": "string"
            },
            "text/plain": [
              "' abc'"
            ]
          },
          "metadata": {},
          "execution_count": 34
        }
      ]
    },
    {
      "cell_type": "code",
      "metadata": {
        "colab": {
          "base_uri": "https://localhost:8080/",
          "height": 35
        },
        "id": "HUdLs-17plpL",
        "outputId": "b4146290-df3a-4879-ee95-656d67c31662"
      },
      "source": [
        "\" abc \".strip()"
      ],
      "execution_count": null,
      "outputs": [
        {
          "output_type": "execute_result",
          "data": {
            "application/vnd.google.colaboratory.intrinsic+json": {
              "type": "string"
            },
            "text/plain": [
              "'abc'"
            ]
          },
          "metadata": {},
          "execution_count": 35
        }
      ]
    },
    {
      "cell_type": "code",
      "metadata": {
        "colab": {
          "base_uri": "https://localhost:8080/",
          "height": 35
        },
        "id": "FPwUgUqOplpL",
        "outputId": "92dcbd8e-3342-4c38-d51d-1efab1009885"
      },
      "source": [
        "\"abc\".strip('a')"
      ],
      "execution_count": null,
      "outputs": [
        {
          "output_type": "execute_result",
          "data": {
            "application/vnd.google.colaboratory.intrinsic+json": {
              "type": "string"
            },
            "text/plain": [
              "'bc'"
            ]
          },
          "metadata": {},
          "execution_count": 36
        }
      ]
    },
    {
      "cell_type": "markdown",
      "metadata": {
        "id": "zcHFY5o9plpM"
      },
      "source": [
        "## 리스트"
      ]
    },
    {
      "cell_type": "code",
      "metadata": {
        "id": "QCiLko44plpM"
      },
      "source": [
        "a = [1, 2, 3]\n",
        "b = ['one', 'two', 'three']"
      ],
      "execution_count": null,
      "outputs": []
    },
    {
      "cell_type": "code",
      "metadata": {
        "colab": {
          "base_uri": "https://localhost:8080/"
        },
        "id": "sp7EfIO-plpM",
        "outputId": "95b16916-84aa-45c0-9297-a6f2faf7f072"
      },
      "source": [
        "type(a)"
      ],
      "execution_count": null,
      "outputs": [
        {
          "output_type": "execute_result",
          "data": {
            "text/plain": [
              "list"
            ]
          },
          "metadata": {},
          "execution_count": 38
        }
      ]
    },
    {
      "cell_type": "code",
      "metadata": {
        "colab": {
          "base_uri": "https://localhost:8080/"
        },
        "id": "y49xn6_hplpM",
        "outputId": "30033765-1153-4469-918b-12398a49bcff"
      },
      "source": [
        "a * 2"
      ],
      "execution_count": null,
      "outputs": [
        {
          "output_type": "execute_result",
          "data": {
            "text/plain": [
              "[1, 2, 3, 1, 2, 3]"
            ]
          },
          "metadata": {},
          "execution_count": 39
        }
      ]
    },
    {
      "cell_type": "code",
      "metadata": {
        "colab": {
          "base_uri": "https://localhost:8080/"
        },
        "id": "2HlEc1C0plpM",
        "outputId": "6e6daed2-4cae-4a30-f554-a13d24843165"
      },
      "source": [
        "b * 2"
      ],
      "execution_count": null,
      "outputs": [
        {
          "output_type": "execute_result",
          "data": {
            "text/plain": [
              "['one', 'two', 'three', 'one', 'two', 'three']"
            ]
          },
          "metadata": {},
          "execution_count": 40
        }
      ]
    },
    {
      "cell_type": "code",
      "metadata": {
        "colab": {
          "base_uri": "https://localhost:8080/"
        },
        "id": "zHDMP4G_plpM",
        "outputId": "845918ef-4e24-4459-c754-36bb22671b11"
      },
      "source": [
        "a + b"
      ],
      "execution_count": null,
      "outputs": [
        {
          "output_type": "execute_result",
          "data": {
            "text/plain": [
              "[1, 2, 3, 'one', 'two', 'three']"
            ]
          },
          "metadata": {},
          "execution_count": 41
        }
      ]
    },
    {
      "cell_type": "code",
      "metadata": {
        "colab": {
          "base_uri": "https://localhost:8080/",
          "height": 166
        },
        "id": "53O9ZnIFplpM",
        "outputId": "5ff4cbd0-e8cd-4f2a-ed4b-0abb0c7ee745"
      },
      "source": [
        "a + 5"
      ],
      "execution_count": null,
      "outputs": [
        {
          "output_type": "error",
          "ename": "TypeError",
          "evalue": "ignored",
          "traceback": [
            "\u001b[0;31m---------------------------------------------------------------------------\u001b[0m",
            "\u001b[0;31mTypeError\u001b[0m                                 Traceback (most recent call last)",
            "\u001b[0;32m<ipython-input-42-5cd40e0bb6cf>\u001b[0m in \u001b[0;36m<module>\u001b[0;34m()\u001b[0m\n\u001b[0;32m----> 1\u001b[0;31m \u001b[0ma\u001b[0m \u001b[0;34m+\u001b[0m \u001b[0;36m5\u001b[0m\u001b[0;34m\u001b[0m\u001b[0;34m\u001b[0m\u001b[0m\n\u001b[0m",
            "\u001b[0;31mTypeError\u001b[0m: can only concatenate list (not \"int\") to list"
          ]
        }
      ]
    },
    {
      "cell_type": "code",
      "metadata": {
        "colab": {
          "base_uri": "https://localhost:8080/",
          "height": 166
        },
        "id": "3V9pGdYFplpN",
        "outputId": "5967cdd8-77c8-46de-8091-538de1f47da4"
      },
      "source": [
        "a + 'four'"
      ],
      "execution_count": null,
      "outputs": [
        {
          "output_type": "error",
          "ename": "TypeError",
          "evalue": "ignored",
          "traceback": [
            "\u001b[0;31m---------------------------------------------------------------------------\u001b[0m",
            "\u001b[0;31mTypeError\u001b[0m                                 Traceback (most recent call last)",
            "\u001b[0;32m<ipython-input-43-0303589e4648>\u001b[0m in \u001b[0;36m<module>\u001b[0;34m()\u001b[0m\n\u001b[0;32m----> 1\u001b[0;31m \u001b[0ma\u001b[0m \u001b[0;34m+\u001b[0m \u001b[0;34m'four'\u001b[0m\u001b[0;34m\u001b[0m\u001b[0;34m\u001b[0m\u001b[0m\n\u001b[0m",
            "\u001b[0;31mTypeError\u001b[0m: can only concatenate list (not \"str\") to list"
          ]
        }
      ]
    },
    {
      "cell_type": "markdown",
      "metadata": {
        "id": "3dU-pVatplpN"
      },
      "source": [
        "- list에 숫자 또는 문자열을 더하는 연산이 정의되어 있지 않으므로 오류발생"
      ]
    },
    {
      "cell_type": "code",
      "metadata": {
        "colab": {
          "base_uri": "https://localhost:8080/"
        },
        "id": "YwhXBSABplpN",
        "outputId": "942c5032-a849-4808-9ed6-b8cc0875a344"
      },
      "source": [
        "a + [5]"
      ],
      "execution_count": null,
      "outputs": [
        {
          "output_type": "execute_result",
          "data": {
            "text/plain": [
              "[1, 2, 3, 5]"
            ]
          },
          "metadata": {},
          "execution_count": 44
        }
      ]
    },
    {
      "cell_type": "code",
      "metadata": {
        "colab": {
          "base_uri": "https://localhost:8080/"
        },
        "id": "ics6GYA-plpN",
        "outputId": "95527332-8047-47cd-e7d6-2b1124514c81"
      },
      "source": [
        "b.append('four')\n",
        "print(b)"
      ],
      "execution_count": null,
      "outputs": [
        {
          "output_type": "stream",
          "name": "stdout",
          "text": [
            "['one', 'two', 'three', 'four']\n"
          ]
        }
      ]
    },
    {
      "cell_type": "markdown",
      "metadata": {
        "id": "x1O08-aeplpN"
      },
      "source": [
        "- 숫자로 이루어진 리스트의 각 항목에 숫자를 더하기 위해서는 list comprehension이나 for-loop 이용"
      ]
    },
    {
      "cell_type": "code",
      "metadata": {
        "id": "yDfDGtlNplpN",
        "colab": {
          "base_uri": "https://localhost:8080/"
        },
        "outputId": "bbb7148e-bd11-43f6-f06d-bc8964fe20b1"
      },
      "source": [
        "[i + 1 for i in a]"
      ],
      "execution_count": null,
      "outputs": [
        {
          "output_type": "execute_result",
          "data": {
            "text/plain": [
              "[2, 3, 4]"
            ]
          },
          "metadata": {},
          "execution_count": 46
        }
      ]
    },
    {
      "cell_type": "markdown",
      "metadata": {
        "id": "L0ZQjuC2plpN"
      },
      "source": [
        "- 뒤에 다룰 넘파이 ndarray 자료형은 숫자형 자료 리스트처럼 생겼으나, 숫자 하나를 더할 수 있음"
      ]
    },
    {
      "cell_type": "code",
      "metadata": {
        "colab": {
          "base_uri": "https://localhost:8080/"
        },
        "id": "iPtgYebIplpN",
        "outputId": "0c853199-edc9-4ebc-a33e-800994fde8b2"
      },
      "source": [
        "list(range(10))"
      ],
      "execution_count": null,
      "outputs": [
        {
          "output_type": "execute_result",
          "data": {
            "text/plain": [
              "[0, 1, 2, 3, 4, 5, 6, 7, 8, 9]"
            ]
          },
          "metadata": {},
          "execution_count": 47
        }
      ]
    },
    {
      "cell_type": "markdown",
      "metadata": {
        "id": "9hL8FpZIplpO"
      },
      "source": [
        "- 리스트에 있는 문자열을 특정 기호로 연결"
      ]
    },
    {
      "cell_type": "code",
      "metadata": {
        "colab": {
          "base_uri": "https://localhost:8080/"
        },
        "id": "weMGGcSnplpO",
        "outputId": "f6316b3d-84d5-4d66-b4d2-268b294a8859"
      },
      "source": [
        "b"
      ],
      "execution_count": null,
      "outputs": [
        {
          "output_type": "execute_result",
          "data": {
            "text/plain": [
              "['one', 'two', 'three', 'four']"
            ]
          },
          "metadata": {},
          "execution_count": 48
        }
      ]
    },
    {
      "cell_type": "code",
      "metadata": {
        "colab": {
          "base_uri": "https://localhost:8080/",
          "height": 35
        },
        "id": "ZCs23hE5plpO",
        "outputId": "e49c88ab-3cad-4b33-d608-d00593656645"
      },
      "source": [
        "':'.join(b)"
      ],
      "execution_count": null,
      "outputs": [
        {
          "output_type": "execute_result",
          "data": {
            "application/vnd.google.colaboratory.intrinsic+json": {
              "type": "string"
            },
            "text/plain": [
              "'one:two:three:four'"
            ]
          },
          "metadata": {},
          "execution_count": 49
        }
      ]
    },
    {
      "cell_type": "markdown",
      "metadata": {
        "id": "VSN0RYpGplpO"
      },
      "source": [
        "- 파이썬 인덱스는 0부터 시작!!"
      ]
    },
    {
      "cell_type": "code",
      "metadata": {
        "colab": {
          "base_uri": "https://localhost:8080/"
        },
        "id": "K8bDKfI_plpO",
        "outputId": "20267f6e-8ea4-4814-c876-dc3b54a509d9"
      },
      "source": [
        "a[0]"
      ],
      "execution_count": null,
      "outputs": [
        {
          "output_type": "execute_result",
          "data": {
            "text/plain": [
              "1"
            ]
          },
          "metadata": {},
          "execution_count": 50
        }
      ]
    },
    {
      "cell_type": "code",
      "metadata": {
        "colab": {
          "base_uri": "https://localhost:8080/"
        },
        "id": "gAtXisSjplpO",
        "outputId": "5e1a352c-86e2-44d9-8120-a8c17eaa0f2f"
      },
      "source": [
        "a[0:2]"
      ],
      "execution_count": null,
      "outputs": [
        {
          "output_type": "execute_result",
          "data": {
            "text/plain": [
              "[1, 2]"
            ]
          },
          "metadata": {},
          "execution_count": 51
        }
      ]
    },
    {
      "cell_type": "markdown",
      "metadata": {
        "id": "vRT8wJ74plpO"
      },
      "source": [
        "- list의 마지막 항목의 인덱스는 -1"
      ]
    },
    {
      "cell_type": "code",
      "metadata": {
        "colab": {
          "base_uri": "https://localhost:8080/"
        },
        "id": "Do_mDuYVplpO",
        "outputId": "828b3740-0620-4116-8a4b-0c483f985ab2"
      },
      "source": [
        "a[-1]"
      ],
      "execution_count": null,
      "outputs": [
        {
          "output_type": "execute_result",
          "data": {
            "text/plain": [
              "3"
            ]
          },
          "metadata": {},
          "execution_count": 52
        }
      ]
    },
    {
      "cell_type": "code",
      "metadata": {
        "colab": {
          "base_uri": "https://localhost:8080/"
        },
        "id": "I3GTH7SvplpP",
        "outputId": "7864b777-046f-40a2-d8ac-c028d164327d"
      },
      "source": [
        "a = ['KOR', 'USA', 'CHN']\n",
        "print(a[0], a[-1], a[:2], a[-2:])"
      ],
      "execution_count": 2,
      "outputs": [
        {
          "output_type": "stream",
          "name": "stdout",
          "text": [
            "KOR CHN ['KOR', 'USA'] ['USA', 'CHN']\n"
          ]
        }
      ]
    },
    {
      "cell_type": "markdown",
      "metadata": {
        "id": "fB3a845YplpP"
      },
      "source": [
        "- 주피터노트북에서 긴 리스트는 세로로 표시되지만, %pprint 명령어로 옵션 변경 가능,\n",
        "- print() 명령어를 사용하면, 긴 리스트도 가로로 표시"
      ]
    },
    {
      "cell_type": "code",
      "metadata": {
        "colab": {
          "base_uri": "https://localhost:8080/"
        },
        "id": "J2Byf-aJplpP",
        "outputId": "052bb830-7d6d-4360-e0f4-c2b538d1b9fc"
      },
      "source": [
        "a * 4"
      ],
      "execution_count": 3,
      "outputs": [
        {
          "output_type": "execute_result",
          "data": {
            "text/plain": [
              "['KOR',\n",
              " 'USA',\n",
              " 'CHN',\n",
              " 'KOR',\n",
              " 'USA',\n",
              " 'CHN',\n",
              " 'KOR',\n",
              " 'USA',\n",
              " 'CHN',\n",
              " 'KOR',\n",
              " 'USA',\n",
              " 'CHN']"
            ]
          },
          "metadata": {},
          "execution_count": 3
        }
      ]
    },
    {
      "cell_type": "code",
      "metadata": {
        "colab": {
          "base_uri": "https://localhost:8080/"
        },
        "id": "_oVw6pnWplpP",
        "outputId": "d1e9f9e5-7eb3-445c-f9e2-2ef7a379f375"
      },
      "source": [
        "print(a * 4)"
      ],
      "execution_count": 4,
      "outputs": [
        {
          "output_type": "stream",
          "name": "stdout",
          "text": [
            "['KOR', 'USA', 'CHN', 'KOR', 'USA', 'CHN', 'KOR', 'USA', 'CHN', 'KOR', 'USA', 'CHN']\n"
          ]
        }
      ]
    },
    {
      "cell_type": "code",
      "source": [
        "from pprint import pprint"
      ],
      "metadata": {
        "id": "9lZ23JIcl-HT"
      },
      "execution_count": 7,
      "outputs": []
    },
    {
      "cell_type": "code",
      "metadata": {
        "colab": {
          "base_uri": "https://localhost:8080/"
        },
        "id": "rS7Q-uLrplpP",
        "outputId": "d2082642-1997-432a-ddd8-e54877ad88ce"
      },
      "source": [
        "%pprint"
      ],
      "execution_count": 14,
      "outputs": [
        {
          "output_type": "stream",
          "name": "stdout",
          "text": [
            "Pretty printing has been turned OFF\n"
          ]
        }
      ]
    },
    {
      "cell_type": "code",
      "metadata": {
        "colab": {
          "base_uri": "https://localhost:8080/"
        },
        "id": "XXQht5hSplpP",
        "outputId": "1a1f2c3e-a8ad-4600-c00a-bce92160c74a"
      },
      "source": [
        "a * 4"
      ],
      "execution_count": 15,
      "outputs": [
        {
          "output_type": "execute_result",
          "data": {
            "text/plain": [
              "['KOR', 'USA', 'CHN', 'KOR', 'USA', 'CHN', 'KOR', 'USA', 'CHN', 'KOR', 'USA', 'CHN']"
            ]
          },
          "metadata": {},
          "execution_count": 15
        }
      ]
    },
    {
      "cell_type": "markdown",
      "metadata": {
        "id": "XJhS-OzzplpP"
      },
      "source": [
        "- 문자열 리스트의 각 항목을 따옴표 없이 print()하기 위해 리스트이름 앞에 * 입력\n",
        "- print()가 출력하는 각 항목 사이를 구분하기 위해 sep = '기호'를 지정\n",
        "- print()가 마지막에 출력할 내용을 지정하기 위해 end = '기호'를 지정(기본은 '\\n')"
      ]
    },
    {
      "cell_type": "code",
      "metadata": {
        "colab": {
          "base_uri": "https://localhost:8080/"
        },
        "id": "bgMMv7EZplpQ",
        "outputId": "510c45a2-36f1-471d-c26f-d63b3a95dfc4"
      },
      "source": [
        "print(a)"
      ],
      "execution_count": null,
      "outputs": [
        {
          "output_type": "stream",
          "name": "stdout",
          "text": [
            "['KOR', 'USA', 'CHN']\n"
          ]
        }
      ]
    },
    {
      "cell_type": "code",
      "metadata": {
        "colab": {
          "base_uri": "https://localhost:8080/"
        },
        "id": "dsIAYIK_plpQ",
        "outputId": "92e22c1d-1882-44fe-ad73-f633dc0ca244"
      },
      "source": [
        "print(*a)"
      ],
      "execution_count": null,
      "outputs": [
        {
          "output_type": "stream",
          "name": "stdout",
          "text": [
            "KOR USA CHN\n"
          ]
        }
      ]
    },
    {
      "cell_type": "code",
      "metadata": {
        "colab": {
          "base_uri": "https://localhost:8080/"
        },
        "id": "3vSOur9jplpQ",
        "outputId": "93bad9e1-25f8-44e1-dada-4c5a5333f9ea"
      },
      "source": [
        "print(*a, sep = ', ')"
      ],
      "execution_count": null,
      "outputs": [
        {
          "output_type": "stream",
          "name": "stdout",
          "text": [
            "KOR, USA, CHN\n"
          ]
        }
      ]
    },
    {
      "cell_type": "markdown",
      "metadata": {
        "id": "i7-NlpntplpQ"
      },
      "source": [
        "- list comprehension"
      ]
    },
    {
      "cell_type": "code",
      "metadata": {
        "colab": {
          "base_uri": "https://localhost:8080/",
          "height": 166
        },
        "id": "VXAg6bIzplpQ",
        "outputId": "4b8a9bfa-1018-4f58-818c-fc7b6ce6101e"
      },
      "source": [
        "['KOR', 'USA', 'CHN'] - ['CHN', 'AUS']"
      ],
      "execution_count": null,
      "outputs": [
        {
          "output_type": "error",
          "ename": "TypeError",
          "evalue": "ignored",
          "traceback": [
            "\u001b[0;31m---------------------------------------------------------------------------\u001b[0m",
            "\u001b[0;31mTypeError\u001b[0m                                 Traceback (most recent call last)",
            "\u001b[0;32m<ipython-input-61-2a9b0e82d73c>\u001b[0m in \u001b[0;36m<module>\u001b[0;34m()\u001b[0m\n\u001b[0;32m----> 1\u001b[0;31m \u001b[0;34m[\u001b[0m\u001b[0;34m'KOR'\u001b[0m\u001b[0;34m,\u001b[0m \u001b[0;34m'USA'\u001b[0m\u001b[0;34m,\u001b[0m \u001b[0;34m'CHN'\u001b[0m\u001b[0;34m]\u001b[0m \u001b[0;34m-\u001b[0m \u001b[0;34m[\u001b[0m\u001b[0;34m'CHN'\u001b[0m\u001b[0;34m,\u001b[0m \u001b[0;34m'AUS'\u001b[0m\u001b[0;34m]\u001b[0m\u001b[0;34m\u001b[0m\u001b[0;34m\u001b[0m\u001b[0m\n\u001b[0m",
            "\u001b[0;31mTypeError\u001b[0m: unsupported operand type(s) for -: 'list' and 'list'"
          ]
        }
      ]
    },
    {
      "cell_type": "code",
      "metadata": {
        "colab": {
          "base_uri": "https://localhost:8080/"
        },
        "id": "UHvHPbCYplpQ",
        "outputId": "12d1ff9a-cd9d-4197-a106-71d0f2980050"
      },
      "source": [
        "[s for s in ['KOR', 'USA', 'CHN'] if s not in ['CHN', 'AUS']]"
      ],
      "execution_count": null,
      "outputs": [
        {
          "output_type": "execute_result",
          "data": {
            "text/plain": [
              "['KOR', 'USA']"
            ]
          },
          "metadata": {},
          "execution_count": 62
        }
      ]
    },
    {
      "cell_type": "markdown",
      "metadata": {
        "id": "NLbNGd0tplpQ"
      },
      "source": [
        "- set() 이용"
      ]
    },
    {
      "cell_type": "code",
      "metadata": {
        "colab": {
          "base_uri": "https://localhost:8080/"
        },
        "id": "owFzu0rJplpQ",
        "outputId": "3d4f7d9a-32aa-4d67-d9c8-f7c27075836e"
      },
      "source": [
        "set(['KOR', 'USA', 'CHN']), set(['CHN', 'AUS'])"
      ],
      "execution_count": null,
      "outputs": [
        {
          "output_type": "execute_result",
          "data": {
            "text/plain": [
              "({'USA', 'KOR', 'CHN'}, {'AUS', 'CHN'})"
            ]
          },
          "metadata": {},
          "execution_count": 63
        }
      ]
    },
    {
      "cell_type": "code",
      "metadata": {
        "colab": {
          "base_uri": "https://localhost:8080/"
        },
        "id": "asVHCWFaplpR",
        "outputId": "2c81e65f-d525-402a-b539-d3584a72c0e6"
      },
      "source": [
        "set(['KOR', 'USA', 'CHN']) - set(['CHN', 'AUS'])"
      ],
      "execution_count": null,
      "outputs": [
        {
          "output_type": "execute_result",
          "data": {
            "text/plain": [
              "{'USA', 'KOR'}"
            ]
          },
          "metadata": {},
          "execution_count": 64
        }
      ]
    },
    {
      "cell_type": "code",
      "metadata": {
        "colab": {
          "base_uri": "https://localhost:8080/"
        },
        "id": "txnO0BJ_plpR",
        "outputId": "6287005e-25ad-49f4-d943-3affb18ae86f"
      },
      "source": [
        "list(set(['KOR', 'USA', 'CHN']) - set(['CHN', 'AUS']))"
      ],
      "execution_count": null,
      "outputs": [
        {
          "output_type": "execute_result",
          "data": {
            "text/plain": [
              "['USA', 'KOR']"
            ]
          },
          "metadata": {},
          "execution_count": 65
        }
      ]
    },
    {
      "cell_type": "markdown",
      "metadata": {
        "id": "owBOJbKCplpR"
      },
      "source": [
        "- 문자열 리스트 항목별로 문자열 더하기"
      ]
    },
    {
      "cell_type": "code",
      "metadata": {
        "colab": {
          "base_uri": "https://localhost:8080/"
        },
        "id": "1gsa51RnplpS",
        "outputId": "5f3402c6-5792-4e66-e541-c76abe50c2c6"
      },
      "source": [
        "[s + ':g' for s in ['KOR', 'USA', 'CHN']]"
      ],
      "execution_count": null,
      "outputs": [
        {
          "output_type": "execute_result",
          "data": {
            "text/plain": [
              "['KOR:g', 'USA:g', 'CHN:g']"
            ]
          },
          "metadata": {},
          "execution_count": 66
        }
      ]
    },
    {
      "cell_type": "markdown",
      "metadata": {
        "id": "L09r0gyUSmN-"
      },
      "source": [
        "- 문자열은 각 캐릭터(123.../abc.../가나다... 등)로 구성된 리스트"
      ]
    },
    {
      "cell_type": "code",
      "metadata": {
        "id": "AGpghLedSyFV"
      },
      "source": [
        "a = 'abcde'"
      ],
      "execution_count": null,
      "outputs": []
    },
    {
      "cell_type": "code",
      "metadata": {
        "id": "DA-2XROBS2nN",
        "colab": {
          "base_uri": "https://localhost:8080/",
          "height": 35
        },
        "outputId": "4bc8cb46-d1a9-4901-9e2c-3ea4388f5ae3"
      },
      "source": [
        "a[:3]"
      ],
      "execution_count": null,
      "outputs": [
        {
          "output_type": "execute_result",
          "data": {
            "application/vnd.google.colaboratory.intrinsic+json": {
              "type": "string"
            },
            "text/plain": [
              "'abc'"
            ]
          },
          "metadata": {},
          "execution_count": 71
        }
      ]
    },
    {
      "cell_type": "code",
      "metadata": {
        "id": "Fz3MQds_S4Na",
        "colab": {
          "base_uri": "https://localhost:8080/",
          "height": 35
        },
        "outputId": "fa05dd1a-eb56-4da6-f4b3-cd2486b9b84e"
      },
      "source": [
        "a[-2:]"
      ],
      "execution_count": null,
      "outputs": [
        {
          "output_type": "execute_result",
          "data": {
            "application/vnd.google.colaboratory.intrinsic+json": {
              "type": "string"
            },
            "text/plain": [
              "'de'"
            ]
          },
          "metadata": {},
          "execution_count": 72
        }
      ]
    },
    {
      "cell_type": "code",
      "metadata": {
        "id": "ln_uyVyuS6sV",
        "colab": {
          "base_uri": "https://localhost:8080/",
          "height": 35
        },
        "outputId": "1fae547f-17ee-4592-b545-5100309af086"
      },
      "source": [
        "\"가나다라마\"[:2]"
      ],
      "execution_count": null,
      "outputs": [
        {
          "output_type": "execute_result",
          "data": {
            "application/vnd.google.colaboratory.intrinsic+json": {
              "type": "string"
            },
            "text/plain": [
              "'가나'"
            ]
          },
          "metadata": {},
          "execution_count": 73
        }
      ]
    },
    {
      "cell_type": "markdown",
      "metadata": {
        "id": "qNqtBf2rplpS"
      },
      "source": [
        "- 이전 실행한 출력셀의 값 불러오기"
      ]
    },
    {
      "cell_type": "code",
      "metadata": {
        "colab": {
          "base_uri": "https://localhost:8080/"
        },
        "id": "mF4jrz2ZplpS",
        "outputId": "f7ec7b08-34af-4515-859a-4f3eb9627f3a"
      },
      "source": [
        "_"
      ],
      "execution_count": null,
      "outputs": [
        {
          "output_type": "execute_result",
          "data": {
            "text/plain": [
              "['KOR:g', 'USA:g', 'CHN:g']"
            ]
          },
          "metadata": {},
          "execution_count": 67
        }
      ]
    },
    {
      "cell_type": "code",
      "metadata": {
        "colab": {
          "base_uri": "https://localhost:8080/",
          "height": 35
        },
        "id": "RHOEgdSfplpS",
        "outputId": "5f61ef40-ff19-4a75-f98a-1ba674a572b2"
      },
      "source": [
        "Out[71]"
      ],
      "execution_count": null,
      "outputs": [
        {
          "output_type": "execute_result",
          "data": {
            "application/vnd.google.colaboratory.intrinsic+json": {
              "type": "string"
            },
            "text/plain": [
              "'abc'"
            ]
          },
          "metadata": {},
          "execution_count": 75
        }
      ]
    },
    {
      "cell_type": "code",
      "metadata": {
        "colab": {
          "base_uri": "https://localhost:8080/",
          "height": 166
        },
        "id": "_tj_PHSpplpT",
        "outputId": "1aea0df3-2a48-4132-ab0b-7b41bb1a16a7"
      },
      "source": [
        "_63"
      ],
      "execution_count": null,
      "outputs": [
        {
          "output_type": "error",
          "ename": "NameError",
          "evalue": "ignored",
          "traceback": [
            "\u001b[0;31m---------------------------------------------------------------------------\u001b[0m",
            "\u001b[0;31mNameError\u001b[0m                                 Traceback (most recent call last)",
            "\u001b[0;32m<ipython-input-69-bac08ec09c6e>\u001b[0m in \u001b[0;36m<module>\u001b[0;34m()\u001b[0m\n\u001b[0;32m----> 1\u001b[0;31m \u001b[0m_69\u001b[0m\u001b[0;34m\u001b[0m\u001b[0;34m\u001b[0m\u001b[0m\n\u001b[0m",
            "\u001b[0;31mNameError\u001b[0m: name '_69' is not defined"
          ]
        }
      ]
    },
    {
      "cell_type": "markdown",
      "metadata": {
        "id": "AcYPI1Ecjo0w"
      },
      "source": [
        "- range()로 수 리스트 만들기\n",
        "    - range(s, e, i): 처음 위치(생략시 0), 마지막 위치(리스트에 포함 안됨), 수 간격(생략시 1)\n",
        "    - for-loop 등에서 주로 이용하며, 순서대로 해당하는 값만 필요하므로 실제 리스트를 생성하지 않음\n",
        "        - 리스트 생성시 메모리 공간을 크게 차지할 수 있으므로 비효율적임\n",
        "    - 리스트를 생성하기 위해서는 list() 함수 실행"
      ]
    },
    {
      "cell_type": "code",
      "metadata": {
        "colab": {
          "base_uri": "https://localhost:8080/"
        },
        "id": "6wAlslqNk9c8",
        "outputId": "c58d08de-e3b0-4731-e755-29d906e5ffc5"
      },
      "source": [
        "for i in range(5):  # range(0, 5, 1)\n",
        "    print(i)"
      ],
      "execution_count": null,
      "outputs": [
        {
          "output_type": "stream",
          "name": "stdout",
          "text": [
            "0\n",
            "1\n",
            "2\n",
            "3\n",
            "4\n"
          ]
        }
      ]
    },
    {
      "cell_type": "code",
      "metadata": {
        "colab": {
          "base_uri": "https://localhost:8080/"
        },
        "id": "kYJlQKcylL00",
        "outputId": "d54ce097-9433-402e-97a1-2c5ba7a4ba93"
      },
      "source": [
        "for i in range(5, 0, -2):  # range(0, 5, 1)\n",
        "    print(i)"
      ],
      "execution_count": null,
      "outputs": [
        {
          "output_type": "stream",
          "name": "stdout",
          "text": [
            "5\n",
            "3\n",
            "1\n"
          ]
        }
      ]
    },
    {
      "cell_type": "code",
      "metadata": {
        "id": "6k6c6VFSj1P2",
        "colab": {
          "base_uri": "https://localhost:8080/"
        },
        "outputId": "89779588-d0a8-438d-bad8-288b9d07396d"
      },
      "source": [
        "list(range(10))"
      ],
      "execution_count": null,
      "outputs": [
        {
          "output_type": "execute_result",
          "data": {
            "text/plain": [
              "[0, 1, 2, 3, 4, 5, 6, 7, 8, 9]"
            ]
          },
          "metadata": {},
          "execution_count": 186
        }
      ]
    },
    {
      "cell_type": "markdown",
      "metadata": {
        "id": "N2daLnGRplpT"
      },
      "source": [
        "## 딕셔너리"
      ]
    },
    {
      "cell_type": "code",
      "metadata": {
        "id": "2GZchHtWplpT"
      },
      "source": [
        "iso = {'US':'USA', 'KR':'KOR', 'JP':'JPN', 'CN':'CHN'}"
      ],
      "execution_count": null,
      "outputs": []
    },
    {
      "cell_type": "code",
      "metadata": {
        "id": "mFGzj70NplpT"
      },
      "source": [
        "kr_en = {'서울특별시':'SE', '경기도':'GG', '인청광역시':'IC'}"
      ],
      "execution_count": null,
      "outputs": []
    },
    {
      "cell_type": "code",
      "metadata": {
        "colab": {
          "base_uri": "https://localhost:8080/",
          "height": 35
        },
        "id": "I0pbra5AplpT",
        "outputId": "748f643d-68a7-485b-804a-a2d407281c3b"
      },
      "source": [
        "iso['US']"
      ],
      "execution_count": null,
      "outputs": [
        {
          "output_type": "execute_result",
          "data": {
            "application/vnd.google.colaboratory.intrinsic+json": {
              "type": "string"
            },
            "text/plain": [
              "'USA'"
            ]
          },
          "metadata": {},
          "execution_count": 78
        }
      ]
    },
    {
      "cell_type": "code",
      "metadata": {
        "colab": {
          "base_uri": "https://localhost:8080/",
          "height": 35
        },
        "id": "QKe3n0QxplpU",
        "outputId": "1bd7f1c8-401c-4b52-e693-169abd2ef5d9"
      },
      "source": [
        "iso['KR']"
      ],
      "execution_count": null,
      "outputs": [
        {
          "output_type": "execute_result",
          "data": {
            "application/vnd.google.colaboratory.intrinsic+json": {
              "type": "string"
            },
            "text/plain": [
              "'KOR'"
            ]
          },
          "metadata": {},
          "execution_count": 79
        }
      ]
    },
    {
      "cell_type": "code",
      "metadata": {
        "colab": {
          "base_uri": "https://localhost:8080/"
        },
        "id": "TUOz4mGtplpU",
        "outputId": "07ec2ee8-fb73-4957-a742-d50da4516e1e"
      },
      "source": [
        "iso.keys()"
      ],
      "execution_count": null,
      "outputs": [
        {
          "output_type": "execute_result",
          "data": {
            "text/plain": [
              "dict_keys(['US', 'KR', 'JP', 'CN'])"
            ]
          },
          "metadata": {},
          "execution_count": 80
        }
      ]
    },
    {
      "cell_type": "code",
      "metadata": {
        "colab": {
          "base_uri": "https://localhost:8080/"
        },
        "id": "UYvYD2tuplpU",
        "outputId": "1edb850e-dedc-4853-c56d-6a260bc69111"
      },
      "source": [
        "iso.values()"
      ],
      "execution_count": null,
      "outputs": [
        {
          "output_type": "execute_result",
          "data": {
            "text/plain": [
              "dict_values(['USA', 'KOR', 'JPN', 'CHN'])"
            ]
          },
          "metadata": {},
          "execution_count": 81
        }
      ]
    },
    {
      "cell_type": "code",
      "metadata": {
        "id": "dVMiiQGhplpU"
      },
      "source": [
        "iso['AU'] = 'AUS'"
      ],
      "execution_count": null,
      "outputs": []
    },
    {
      "cell_type": "code",
      "metadata": {
        "colab": {
          "base_uri": "https://localhost:8080/"
        },
        "id": "mEGXZAq6plpU",
        "outputId": "d938c644-7386-4a49-ca46-7a99ad89b1ca"
      },
      "source": [
        "iso"
      ],
      "execution_count": null,
      "outputs": [
        {
          "output_type": "execute_result",
          "data": {
            "text/plain": [
              "{'US': 'USA', 'KR': 'KOR', 'JP': 'JPN', 'CN': 'CHN', 'AU': 'AUS'}"
            ]
          },
          "metadata": {},
          "execution_count": 83
        }
      ]
    },
    {
      "cell_type": "markdown",
      "metadata": {
        "id": "ie0bl9duplpU"
      },
      "source": [
        "- dict, zip으로 딕셔너리 만들기"
      ]
    },
    {
      "cell_type": "code",
      "metadata": {
        "colab": {
          "base_uri": "https://localhost:8080/"
        },
        "id": "FhtiG9qLplpU",
        "outputId": "47761bcb-d182-4bbd-a75d-ba53a342df6f"
      },
      "source": [
        "dict(zip(['한국', '미국', '일본'], ['KR', 'US', 'JP']))"
      ],
      "execution_count": null,
      "outputs": [
        {
          "output_type": "execute_result",
          "data": {
            "text/plain": [
              "{'한국': 'KR', '미국': 'US', '일본': 'JP'}"
            ]
          },
          "metadata": {},
          "execution_count": 84
        }
      ]
    },
    {
      "cell_type": "code",
      "metadata": {
        "colab": {
          "base_uri": "https://localhost:8080/"
        },
        "id": "-1Az1sswplpV",
        "outputId": "073f06e4-aace-4040-eb0b-78dc4f8bc8b3"
      },
      "source": [
        "import pandas as pd\n",
        "countries = pd.Series(['South Korea', 'United States', 'North Korea'])\n",
        "print(countries)"
      ],
      "execution_count": 19,
      "outputs": [
        {
          "output_type": "stream",
          "name": "stdout",
          "text": [
            "0      South Korea\n",
            "1    United States\n",
            "2      North Korea\n",
            "dtype: object\n"
          ]
        }
      ]
    },
    {
      "cell_type": "code",
      "metadata": {
        "colab": {
          "base_uri": "https://localhost:8080/"
        },
        "id": "lnZxU24BplpV",
        "outputId": "136231dc-ba5f-42de-bb01-6e3882758227"
      },
      "source": [
        "cdict = {'South Korea':'KR', 'United States':'US'}\n",
        "countries.replace(cdict)"
      ],
      "execution_count": 21,
      "outputs": [
        {
          "output_type": "execute_result",
          "data": {
            "text/plain": [
              "0             KR\n",
              "1             US\n",
              "2    North Korea\n",
              "dtype: object"
            ]
          },
          "metadata": {},
          "execution_count": 21
        }
      ]
    },
    {
      "cell_type": "markdown",
      "metadata": {
        "id": "LudrxhdBplpV"
      },
      "source": [
        "## 터플"
      ]
    },
    {
      "cell_type": "code",
      "metadata": {
        "id": "R60XB1a3plpV"
      },
      "source": [
        "a, b, c = 5, 10, 15"
      ],
      "execution_count": null,
      "outputs": []
    },
    {
      "cell_type": "code",
      "metadata": {
        "colab": {
          "base_uri": "https://localhost:8080/"
        },
        "id": "pDpSREc1plpW",
        "outputId": "c08a099f-56f7-46d9-b702-d2fcbec3674d"
      },
      "source": [
        "print(a, b, c)"
      ],
      "execution_count": null,
      "outputs": [
        {
          "output_type": "stream",
          "name": "stdout",
          "text": [
            "5 10 15\n"
          ]
        }
      ]
    },
    {
      "cell_type": "code",
      "metadata": {
        "colab": {
          "base_uri": "https://localhost:8080/"
        },
        "id": "YIF8iHoPplpW",
        "outputId": "99ff998e-04a0-48d8-97cb-88aa9223ecfd"
      },
      "source": [
        "a, b = b, a\n",
        "print(a, b)"
      ],
      "execution_count": null,
      "outputs": [
        {
          "output_type": "stream",
          "name": "stdout",
          "text": [
            "10 5\n"
          ]
        }
      ]
    },
    {
      "cell_type": "code",
      "source": [
        "c = 1, 2, 3\n",
        "print(type(c))"
      ],
      "metadata": {
        "colab": {
          "base_uri": "https://localhost:8080/"
        },
        "id": "iyg3x88QsM5s",
        "outputId": "774427fb-98a0-4457-8857-636180815a32"
      },
      "execution_count": 22,
      "outputs": [
        {
          "output_type": "stream",
          "name": "stdout",
          "text": [
            "<class 'tuple'>\n"
          ]
        }
      ]
    },
    {
      "cell_type": "markdown",
      "metadata": {
        "id": "uQznY9FWplpW"
      },
      "source": [
        "## 연습문제\n",
        "\n",
        "- 아래 국가명 리스트와 연도 리스트를 이용하여 국가명_연도 문자열을 생성하라\n",
        "- 아래 리스트와 인덱스를 이용하여 일본과 중국을 제외한 국가에 대해서만 국가명_연도 문자열을 생성하라"
      ]
    },
    {
      "cell_type": "code",
      "metadata": {
        "id": "8kI8vZUNplpW"
      },
      "source": [
        "countries = ['KOR', 'USA', 'JPN', 'CHN', 'AUS', 'MEX']\n",
        "year = [17, 18, 19, 20]"
      ],
      "execution_count": null,
      "outputs": []
    },
    {
      "cell_type": "markdown",
      "metadata": {
        "id": "4IZZ5oviplpW"
      },
      "source": [
        "- 아래 문자열 리스트에서 숫자를 나타내는 문자열만 선택하여 리스트를 생성하라(힌트, isnumeric()/isdigit(), strip() 이용)"
      ]
    },
    {
      "cell_type": "code",
      "metadata": {
        "id": "aLU9e6stplpX"
      },
      "source": [
        "strings = ['KOR', '한국', '15', \"True\", '1000', '-5']"
      ],
      "execution_count": null,
      "outputs": []
    },
    {
      "cell_type": "code",
      "metadata": {
        "id": "2gCirlZwplpX"
      },
      "source": [],
      "execution_count": null,
      "outputs": []
    },
    {
      "cell_type": "markdown",
      "metadata": {
        "id": "bD8IrLeNplpX"
      },
      "source": [
        "# 문법\n",
        "\n",
        "- 파이썬에서 for loop, if 구문, 함수 정의시 indentation(스페이스 4개) 이용\n",
        "    - 주피터노트북에서 tab은 스페이스 4개를 입력\n",
        "- 코드작성의 자유도가 낮은 대신, 가독성이 매우 높아짐\n",
        "\n",
        "\n",
        "```\n",
        "<C>\n",
        "if (i=1; i<=n; i++) {\n",
        "  printf(\"%d\\n\", i);\n",
        "}\n",
        "\n",
        "<matlab>\n",
        "for i = 1:n\n",
        "    disp(i)\n",
        "end\n",
        "\n",
        "<python>\n",
        "for i = range(1, n+1)\n",
        "    disp(i)\n",
        "```"
      ]
    },
    {
      "cell_type": "markdown",
      "metadata": {
        "id": "Na2vfuFH_FLK"
      },
      "source": [
        "## definition"
      ]
    },
    {
      "cell_type": "code",
      "metadata": {
        "id": "fj8mNDvkplpX"
      },
      "source": [
        "def sum_two_numbers(a, b):\n",
        "    return a + b"
      ],
      "execution_count": null,
      "outputs": []
    },
    {
      "cell_type": "code",
      "metadata": {
        "colab": {
          "base_uri": "https://localhost:8080/"
        },
        "id": "ZPVoJCD_plpX",
        "outputId": "5e429d69-f250-48b9-8c71-d6640a739758"
      },
      "source": [
        "sum_two_numbers(1, 2)"
      ],
      "execution_count": null,
      "outputs": [
        {
          "output_type": "execute_result",
          "data": {
            "text/plain": [
              "3"
            ]
          },
          "metadata": {},
          "execution_count": 106
        }
      ]
    },
    {
      "cell_type": "code",
      "metadata": {
        "id": "ZFNz4kDgByOy"
      },
      "source": [
        "def sum_three_numbers(a, b, c=4):\n",
        "    return a + 2*b + c"
      ],
      "execution_count": null,
      "outputs": []
    },
    {
      "cell_type": "code",
      "metadata": {
        "colab": {
          "base_uri": "https://localhost:8080/"
        },
        "id": "jhza4RrBBljK",
        "outputId": "888c95de-a31f-447b-e42f-3c7c4b0136f9"
      },
      "source": [
        "sum_three_numbers(1, 2, 0)"
      ],
      "execution_count": null,
      "outputs": [
        {
          "output_type": "execute_result",
          "data": {
            "text/plain": [
              "5"
            ]
          },
          "metadata": {},
          "execution_count": 108
        }
      ]
    },
    {
      "cell_type": "code",
      "metadata": {
        "colab": {
          "base_uri": "https://localhost:8080/"
        },
        "id": "SF4nCPoICDH6",
        "outputId": "fac35822-6b7a-4667-d609-4ba4822b8c76"
      },
      "source": [
        "sum_three_numbers(1, 2)"
      ],
      "execution_count": null,
      "outputs": [
        {
          "output_type": "execute_result",
          "data": {
            "text/plain": [
              "9"
            ]
          },
          "metadata": {},
          "execution_count": 109
        }
      ]
    },
    {
      "cell_type": "code",
      "metadata": {
        "colab": {
          "base_uri": "https://localhost:8080/"
        },
        "id": "c0K0qo6RCJ2D",
        "outputId": "57b516c9-7b3a-4bd2-afa9-175c906f55b8"
      },
      "source": [
        "sum_three_numbers(b=2, a=1)"
      ],
      "execution_count": null,
      "outputs": [
        {
          "output_type": "execute_result",
          "data": {
            "text/plain": [
              "9"
            ]
          },
          "metadata": {},
          "execution_count": 110
        }
      ]
    },
    {
      "cell_type": "code",
      "metadata": {
        "id": "LTHPsxRE_dVQ"
      },
      "source": [
        "sum_two_numbers2 = lambda x, y: x + y"
      ],
      "execution_count": null,
      "outputs": []
    },
    {
      "cell_type": "code",
      "metadata": {
        "colab": {
          "base_uri": "https://localhost:8080/"
        },
        "id": "TKqDmGAp_kfq",
        "outputId": "0d552550-3b19-45e0-ee90-6c9165b6b1db"
      },
      "source": [
        "sum_two_numbers2(1, 2)"
      ],
      "execution_count": null,
      "outputs": [
        {
          "output_type": "execute_result",
          "data": {
            "text/plain": [
              "3"
            ]
          },
          "metadata": {},
          "execution_count": 112
        }
      ]
    },
    {
      "cell_type": "markdown",
      "metadata": {
        "id": "AdJnA5Mo_P2g"
      },
      "source": [
        "## for-loop, if-else"
      ]
    },
    {
      "cell_type": "code",
      "metadata": {
        "colab": {
          "base_uri": "https://localhost:8080/"
        },
        "id": "bBBlUm3MplpX",
        "outputId": "c9c03a9a-56b2-4e1a-ea4e-3db5388539ad"
      },
      "source": [
        "countries = ['KOR', 'USA', 'CHN']\n",
        "for c in countries:\n",
        "    if c == 'KOR':\n",
        "        print(c, 'is my country.')\n",
        "    else:\n",
        "        print(c)"
      ],
      "execution_count": null,
      "outputs": [
        {
          "output_type": "stream",
          "name": "stdout",
          "text": [
            "KOR is my country.\n",
            "USA\n",
            "CHN\n"
          ]
        }
      ]
    },
    {
      "cell_type": "markdown",
      "metadata": {
        "id": "kRUJF1Tb-2H8"
      },
      "source": [
        "## continue, break, pass"
      ]
    },
    {
      "cell_type": "code",
      "metadata": {
        "colab": {
          "base_uri": "https://localhost:8080/"
        },
        "id": "qqdt6yCm-_sw",
        "outputId": "ae03fe75-1225-46a4-a229-e13ae3567237"
      },
      "source": [
        "for i in range(4):    # [0, 1, 2, 3]\n",
        "    if i==2:\n",
        "        continue\n",
        "    else:\n",
        "        print(f'{i} is not 2')\n"
      ],
      "execution_count": null,
      "outputs": [
        {
          "output_type": "stream",
          "name": "stdout",
          "text": [
            "0 is not 2\n",
            "1 is not 2\n",
            "3 is not 2\n"
          ]
        }
      ]
    },
    {
      "cell_type": "code",
      "metadata": {
        "colab": {
          "base_uri": "https://localhost:8080/"
        },
        "id": "fAbT9lG9DIZD",
        "outputId": "6d9fd1d2-dace-4850-c79e-7be4cf417015"
      },
      "source": [
        "for i in range(4):    # [0, 1, 2, 3]\n",
        "    if i==2:\n",
        "        break\n",
        "    else:\n",
        "        print(f'{i} is not 2')\n"
      ],
      "execution_count": null,
      "outputs": [
        {
          "output_type": "stream",
          "name": "stdout",
          "text": [
            "0 is not 2\n",
            "1 is not 2\n"
          ]
        }
      ]
    },
    {
      "cell_type": "code",
      "metadata": {
        "colab": {
          "base_uri": "https://localhost:8080/",
          "height": 131
        },
        "id": "LZa_Fq9dEi8c",
        "outputId": "8156ef24-128c-43d7-8f01-e51ecdd655d2"
      },
      "source": [
        "if True:\n",
        "else:\n",
        "    print('False')"
      ],
      "execution_count": null,
      "outputs": [
        {
          "output_type": "error",
          "ename": "IndentationError",
          "evalue": "ignored",
          "traceback": [
            "\u001b[0;36m  File \u001b[0;32m\"<ipython-input-116-bbb973b1c60b>\"\u001b[0;36m, line \u001b[0;32m2\u001b[0m\n\u001b[0;31m    else:\u001b[0m\n\u001b[0m       ^\u001b[0m\n\u001b[0;31mIndentationError\u001b[0m\u001b[0;31m:\u001b[0m expected an indented block\n"
          ]
        }
      ]
    },
    {
      "cell_type": "code",
      "metadata": {
        "id": "5E02yd7EEpMt"
      },
      "source": [
        "if True:\n",
        "    pass\n",
        "else:\n",
        "    print('False')"
      ],
      "execution_count": null,
      "outputs": []
    },
    {
      "cell_type": "markdown",
      "metadata": {
        "id": "2Vt4L_TYplpX"
      },
      "source": [
        "## list comprehension v. for-loop\n",
        "- 앞 리스트에서 뒤 리스트에 속한 항목 제외하기"
      ]
    },
    {
      "cell_type": "code",
      "metadata": {
        "colab": {
          "base_uri": "https://localhost:8080/"
        },
        "id": "0VU-Q557plpY",
        "outputId": "a709dc4f-6490-4985-d5da-1e82f00de6e3"
      },
      "source": [
        "[s for s in ['KOR', 'USA', 'CHN'] if s not in ['CHN','AUS']]"
      ],
      "execution_count": null,
      "outputs": [
        {
          "output_type": "execute_result",
          "data": {
            "text/plain": [
              "['KOR', 'USA']"
            ]
          },
          "metadata": {},
          "execution_count": 119
        }
      ]
    },
    {
      "cell_type": "code",
      "metadata": {
        "colab": {
          "base_uri": "https://localhost:8080/"
        },
        "id": "HLSa-L3JplpY",
        "outputId": "5d198e9c-b11e-4562-8594-d942e73e3f25"
      },
      "source": [
        "clist = []\n",
        "for c in ['KOR', 'USA', 'CHN']:\n",
        "    if c not in ['CHN', 'AUS']:\n",
        "        clist = clist + [c] # clist.append(c)\n",
        "clist"
      ],
      "execution_count": null,
      "outputs": [
        {
          "output_type": "execute_result",
          "data": {
            "text/plain": [
              "['KOR', 'USA']"
            ]
          },
          "metadata": {},
          "execution_count": 120
        }
      ]
    },
    {
      "cell_type": "markdown",
      "metadata": {
        "id": "fXiJb2-vplpY"
      },
      "source": [
        "# 라이브러리: numpy\n",
        "- ndarray는 행(row)과 열(column) 보다 첫번째 차원, 두번째 차원, 세번째 차원 등으로 정의\n",
        "- 필요한 경우 matrix 자료형을 사용할 수 있으나 활용도가 낮음\n",
        "- ndarray자료형을 이용하여 일반적인 matrix연산을 모두 할 수 있음\n",
        "- 2-dim ndarray에서 행(row)처럼 보이는 것은 첫번째 차원임"
      ]
    },
    {
      "cell_type": "code",
      "metadata": {
        "colab": {
          "base_uri": "https://localhost:8080/"
        },
        "id": "k2Jgfc1WplpY",
        "outputId": "1ba4b9a5-52ae-4970-ed48-2395a505eb95"
      },
      "source": [
        "import numpy\n",
        "import numpy as np\n",
        "print(numpy.sin(0), np.sin(0))"
      ],
      "execution_count": null,
      "outputs": [
        {
          "output_type": "stream",
          "name": "stdout",
          "text": [
            "0.0 0.0\n"
          ]
        }
      ]
    },
    {
      "cell_type": "code",
      "metadata": {
        "colab": {
          "base_uri": "https://localhost:8080/",
          "height": 166
        },
        "id": "0vLWer7XplpY",
        "outputId": "260e6730-1b99-4d3b-c8cd-fcf486c00538"
      },
      "source": [
        "print(sin(0))"
      ],
      "execution_count": null,
      "outputs": [
        {
          "output_type": "error",
          "ename": "NameError",
          "evalue": "ignored",
          "traceback": [
            "\u001b[0;31m---------------------------------------------------------------------------\u001b[0m",
            "\u001b[0;31mNameError\u001b[0m                                 Traceback (most recent call last)",
            "\u001b[0;32m<ipython-input-122-6da8cd5a692f>\u001b[0m in \u001b[0;36m<module>\u001b[0;34m()\u001b[0m\n\u001b[0;32m----> 1\u001b[0;31m \u001b[0mprint\u001b[0m\u001b[0;34m(\u001b[0m\u001b[0msin\u001b[0m\u001b[0;34m(\u001b[0m\u001b[0;36m0\u001b[0m\u001b[0;34m)\u001b[0m\u001b[0;34m)\u001b[0m\u001b[0;34m\u001b[0m\u001b[0;34m\u001b[0m\u001b[0m\n\u001b[0m",
            "\u001b[0;31mNameError\u001b[0m: name 'sin' is not defined"
          ]
        }
      ]
    },
    {
      "cell_type": "code",
      "metadata": {
        "colab": {
          "base_uri": "https://localhost:8080/"
        },
        "id": "O-q0Z7iWplpY",
        "outputId": "69cb6ac4-1c34-42e3-8eb6-4cdf9e527cc4"
      },
      "source": [
        "print(np.pi)"
      ],
      "execution_count": null,
      "outputs": [
        {
          "output_type": "stream",
          "name": "stdout",
          "text": [
            "3.141592653589793\n"
          ]
        }
      ]
    },
    {
      "cell_type": "markdown",
      "metadata": {
        "id": "e4zvp4p4plpY"
      },
      "source": [
        "## 인덱스\n",
        "\n",
        "- 특정 열(두번째 차원)에 접근하기 위해서는 콜론(:)을 첫번째 인덱스 자리에 입력"
      ]
    },
    {
      "cell_type": "code",
      "metadata": {
        "id": "-fDyxqeNplpZ"
      },
      "source": [
        "a1 = np.array([[1, 2 ,3], [2, 3, 4]])"
      ],
      "execution_count": null,
      "outputs": []
    },
    {
      "cell_type": "code",
      "metadata": {
        "colab": {
          "base_uri": "https://localhost:8080/"
        },
        "id": "AvyCmZbZplpZ",
        "outputId": "ea12fdef-e901-4338-8d3c-df70eb84720a"
      },
      "source": [
        "a1[:, 0]"
      ],
      "execution_count": null,
      "outputs": [
        {
          "output_type": "execute_result",
          "data": {
            "text/plain": [
              "array([1, 2])"
            ]
          },
          "metadata": {},
          "execution_count": 125
        }
      ]
    },
    {
      "cell_type": "code",
      "metadata": {
        "colab": {
          "base_uri": "https://localhost:8080/"
        },
        "id": "RABxBORuplpZ",
        "outputId": "388771f7-d5ca-423b-8ce5-7255e0560259"
      },
      "source": [
        "a1[0, :]"
      ],
      "execution_count": null,
      "outputs": [
        {
          "output_type": "execute_result",
          "data": {
            "text/plain": [
              "array([1, 2, 3])"
            ]
          },
          "metadata": {},
          "execution_count": 126
        }
      ]
    },
    {
      "cell_type": "markdown",
      "metadata": {
        "id": "q9pQBuHXplpZ"
      },
      "source": [
        "## 통계량 및 연산"
      ]
    },
    {
      "cell_type": "code",
      "metadata": {
        "colab": {
          "base_uri": "https://localhost:8080/"
        },
        "id": "CfwCsepxplpZ",
        "outputId": "839a6e44-a0c0-4d1f-fe90-31e66b7fb22e"
      },
      "source": [
        "v = np.array([1, 2, 3])\n",
        "print(v)"
      ],
      "execution_count": null,
      "outputs": [
        {
          "output_type": "stream",
          "name": "stdout",
          "text": [
            "[1 2 3]\n"
          ]
        }
      ]
    },
    {
      "cell_type": "code",
      "metadata": {
        "colab": {
          "base_uri": "https://localhost:8080/"
        },
        "id": "jtEkHINYplpZ",
        "outputId": "301e8028-9989-43c0-fbfe-3fa4ced74c91"
      },
      "source": [
        "type(v)"
      ],
      "execution_count": null,
      "outputs": [
        {
          "output_type": "execute_result",
          "data": {
            "text/plain": [
              "<class 'numpy.ndarray'>"
            ]
          },
          "metadata": {},
          "execution_count": 128
        }
      ]
    },
    {
      "cell_type": "code",
      "metadata": {
        "colab": {
          "base_uri": "https://localhost:8080/"
        },
        "id": "3JUrDSosplpZ",
        "outputId": "08d77d60-b8f1-445b-b43c-d844808c137b"
      },
      "source": [
        "m = np.array([[1, 2], [3, 4]])\n",
        "m"
      ],
      "execution_count": null,
      "outputs": [
        {
          "output_type": "execute_result",
          "data": {
            "text/plain": [
              "array([[1, 2],\n",
              "       [3, 4]])"
            ]
          },
          "metadata": {},
          "execution_count": 129
        }
      ]
    },
    {
      "cell_type": "code",
      "metadata": {
        "colab": {
          "base_uri": "https://localhost:8080/"
        },
        "id": "Gg7BvYmnplpZ",
        "outputId": "1b83f25f-9d77-4d24-9654-9de7027fd815"
      },
      "source": [
        "print(v.mean(), v.std(), v.max())"
      ],
      "execution_count": null,
      "outputs": [
        {
          "output_type": "stream",
          "name": "stdout",
          "text": [
            "2.0 0.816496580927726 3\n"
          ]
        }
      ]
    },
    {
      "cell_type": "code",
      "metadata": {
        "colab": {
          "base_uri": "https://localhost:8080/"
        },
        "id": "1lkhx8TOplpa",
        "outputId": "6c122294-0aa8-440d-c1eb-f1c9cc6e778f"
      },
      "source": [
        "np.sin([0, np.pi / 2, np.pi])"
      ],
      "execution_count": null,
      "outputs": [
        {
          "output_type": "execute_result",
          "data": {
            "text/plain": [
              "array([0.0000000e+00, 1.0000000e+00, 1.2246468e-16])"
            ]
          },
          "metadata": {},
          "execution_count": 131
        }
      ]
    },
    {
      "cell_type": "code",
      "metadata": {
        "id": "Y241PhSJplpa"
      },
      "source": [
        "a = np.array([[1, 2], [3, 4]])"
      ],
      "execution_count": null,
      "outputs": []
    },
    {
      "cell_type": "code",
      "metadata": {
        "colab": {
          "base_uri": "https://localhost:8080/"
        },
        "id": "VqX0Ckl7plpa",
        "outputId": "153e8c34-a7bc-4bed-e27c-20be4f9d1404"
      },
      "source": [
        "a"
      ],
      "execution_count": null,
      "outputs": [
        {
          "output_type": "execute_result",
          "data": {
            "text/plain": [
              "array([[1, 2],\n",
              "       [3, 4]])"
            ]
          },
          "metadata": {},
          "execution_count": 133
        }
      ]
    },
    {
      "cell_type": "code",
      "metadata": {
        "id": "e69wHXbSplpa"
      },
      "source": [
        "a[0,0] = -1"
      ],
      "execution_count": null,
      "outputs": []
    },
    {
      "cell_type": "code",
      "metadata": {
        "colab": {
          "base_uri": "https://localhost:8080/"
        },
        "id": "n38BC583plpa",
        "outputId": "b2267a02-b55b-42d6-a661-b7ad790e8177"
      },
      "source": [
        "a"
      ],
      "execution_count": null,
      "outputs": [
        {
          "output_type": "execute_result",
          "data": {
            "text/plain": [
              "array([[-1,  2],\n",
              "       [ 3,  4]])"
            ]
          },
          "metadata": {},
          "execution_count": 135
        }
      ]
    },
    {
      "cell_type": "code",
      "metadata": {
        "colab": {
          "base_uri": "https://localhost:8080/"
        },
        "id": "lIxD74iyplpb",
        "outputId": "7a0f5e12-1503-4449-b9b8-7c3e868dc752"
      },
      "source": [
        "a[0] = 0\n",
        "a"
      ],
      "execution_count": null,
      "outputs": [
        {
          "output_type": "execute_result",
          "data": {
            "text/plain": [
              "array([[0, 0],\n",
              "       [3, 4]])"
            ]
          },
          "metadata": {},
          "execution_count": 136
        }
      ]
    },
    {
      "cell_type": "code",
      "metadata": {
        "colab": {
          "base_uri": "https://localhost:8080/"
        },
        "id": "jKkteEbqplpb",
        "outputId": "f7385876-9d10-4140-d059-448efbef62e4"
      },
      "source": [
        "a[:, 1] = [5, 6]\n",
        "print(a)"
      ],
      "execution_count": null,
      "outputs": [
        {
          "output_type": "stream",
          "name": "stdout",
          "text": [
            "[[0 5]\n",
            " [3 6]]\n"
          ]
        }
      ]
    },
    {
      "cell_type": "code",
      "metadata": {
        "id": "-qi7NmUYplpb"
      },
      "source": [
        "v1 = np.array([1, 2, 3])\n",
        "v2 = np.array([-1, 0, 1])"
      ],
      "execution_count": null,
      "outputs": []
    },
    {
      "cell_type": "code",
      "metadata": {
        "colab": {
          "base_uri": "https://localhost:8080/"
        },
        "id": "V1BMn7YUplpb",
        "outputId": "0a9ebf38-42a1-4fd3-f475-04dd7b220ecc"
      },
      "source": [
        "v1 + 1"
      ],
      "execution_count": null,
      "outputs": [
        {
          "output_type": "execute_result",
          "data": {
            "text/plain": [
              "array([2, 3, 4])"
            ]
          },
          "metadata": {},
          "execution_count": 139
        }
      ]
    },
    {
      "cell_type": "code",
      "metadata": {
        "colab": {
          "base_uri": "https://localhost:8080/"
        },
        "id": "Tfp-_yqoplpb",
        "outputId": "00b3e075-bab8-41e6-ae52-e3197c409f5e"
      },
      "source": [
        "v1 * 2"
      ],
      "execution_count": null,
      "outputs": [
        {
          "output_type": "execute_result",
          "data": {
            "text/plain": [
              "array([2, 4, 6])"
            ]
          },
          "metadata": {},
          "execution_count": 140
        }
      ]
    },
    {
      "cell_type": "code",
      "metadata": {
        "colab": {
          "base_uri": "https://localhost:8080/"
        },
        "id": "DR44aJT4plpb",
        "outputId": "bd703d57-0758-4a42-fc08-aac6a526fd73"
      },
      "source": [
        "v1 ** 2"
      ],
      "execution_count": null,
      "outputs": [
        {
          "output_type": "execute_result",
          "data": {
            "text/plain": [
              "array([1, 4, 9])"
            ]
          },
          "metadata": {},
          "execution_count": 141
        }
      ]
    },
    {
      "cell_type": "code",
      "metadata": {
        "colab": {
          "base_uri": "https://localhost:8080/"
        },
        "id": "mNQfAJ0Uplpc",
        "outputId": "53b22914-b2a3-4209-bfa4-4d74757c2d4a"
      },
      "source": [
        "np.log(v1)"
      ],
      "execution_count": null,
      "outputs": [
        {
          "output_type": "execute_result",
          "data": {
            "text/plain": [
              "array([0.        , 0.69314718, 1.09861229])"
            ]
          },
          "metadata": {},
          "execution_count": 142
        }
      ]
    },
    {
      "cell_type": "code",
      "metadata": {
        "colab": {
          "base_uri": "https://localhost:8080/"
        },
        "id": "_uk6B2JUplpc",
        "outputId": "2691d5d5-2260-4305-d192-7c4c00f47dec"
      },
      "source": [
        "np.exp(v1)"
      ],
      "execution_count": null,
      "outputs": [
        {
          "output_type": "execute_result",
          "data": {
            "text/plain": [
              "array([ 2.71828183,  7.3890561 , 20.08553692])"
            ]
          },
          "metadata": {},
          "execution_count": 143
        }
      ]
    },
    {
      "cell_type": "markdown",
      "metadata": {
        "id": "EG0e3bHCplpc"
      },
      "source": [
        "## dimension\n",
        "- ndarray 간의 +, -, *, / 등 사칙연산은 elementwise이므로 모양이 서로 같아야함"
      ]
    },
    {
      "cell_type": "code",
      "metadata": {
        "colab": {
          "base_uri": "https://localhost:8080/"
        },
        "id": "qVmNzEDVplpc",
        "outputId": "952651e1-6c60-460e-b1ad-a54e439b51bd"
      },
      "source": [
        "v1.shape"
      ],
      "execution_count": null,
      "outputs": [
        {
          "output_type": "execute_result",
          "data": {
            "text/plain": [
              "(3,)"
            ]
          },
          "metadata": {},
          "execution_count": 144
        }
      ]
    },
    {
      "cell_type": "code",
      "metadata": {
        "id": "O4uQS0VZplpc"
      },
      "source": [
        "a2 = np.array([[1, 2], [1, 3], [1, 4]])"
      ],
      "execution_count": null,
      "outputs": []
    },
    {
      "cell_type": "code",
      "metadata": {
        "colab": {
          "base_uri": "https://localhost:8080/"
        },
        "id": "QOSlE45fplpc",
        "outputId": "61bb04a0-fc15-4eaa-bd9b-f2699d19d056"
      },
      "source": [
        "a2"
      ],
      "execution_count": null,
      "outputs": [
        {
          "output_type": "execute_result",
          "data": {
            "text/plain": [
              "array([[1, 2],\n",
              "       [1, 3],\n",
              "       [1, 4]])"
            ]
          },
          "metadata": {},
          "execution_count": 146
        }
      ]
    },
    {
      "cell_type": "code",
      "metadata": {
        "colab": {
          "base_uri": "https://localhost:8080/"
        },
        "id": "26B9L5yeplpc",
        "outputId": "911dfbb9-d79a-402f-9cf5-e180f1b353b3"
      },
      "source": [
        "a2.shape"
      ],
      "execution_count": null,
      "outputs": [
        {
          "output_type": "execute_result",
          "data": {
            "text/plain": [
              "(3, 2)"
            ]
          },
          "metadata": {},
          "execution_count": 147
        }
      ]
    },
    {
      "cell_type": "code",
      "metadata": {
        "colab": {
          "base_uri": "https://localhost:8080/"
        },
        "id": "9g-TQ463plpd",
        "outputId": "4bbb6c8c-871d-4dc8-e887-444e1de751ce"
      },
      "source": [
        "a1"
      ],
      "execution_count": null,
      "outputs": [
        {
          "output_type": "execute_result",
          "data": {
            "text/plain": [
              "array([[1, 2, 3],\n",
              "       [2, 3, 4]])"
            ]
          },
          "metadata": {},
          "execution_count": 148
        }
      ]
    },
    {
      "cell_type": "code",
      "metadata": {
        "colab": {
          "base_uri": "https://localhost:8080/",
          "height": 166
        },
        "id": "_-MSeqXBplpd",
        "outputId": "92fa5897-74ae-4d6f-e3de-4d2a40e18229"
      },
      "source": [
        "a1 * a2"
      ],
      "execution_count": null,
      "outputs": [
        {
          "output_type": "error",
          "ename": "ValueError",
          "evalue": "ignored",
          "traceback": [
            "\u001b[0;31m---------------------------------------------------------------------------\u001b[0m",
            "\u001b[0;31mValueError\u001b[0m                                Traceback (most recent call last)",
            "\u001b[0;32m<ipython-input-149-ea9ba2b73904>\u001b[0m in \u001b[0;36m<module>\u001b[0;34m()\u001b[0m\n\u001b[0;32m----> 1\u001b[0;31m \u001b[0ma1\u001b[0m \u001b[0;34m*\u001b[0m \u001b[0ma2\u001b[0m\u001b[0;34m\u001b[0m\u001b[0;34m\u001b[0m\u001b[0m\n\u001b[0m",
            "\u001b[0;31mValueError\u001b[0m: operands could not be broadcast together with shapes (2,3) (3,2) "
          ]
        }
      ]
    },
    {
      "cell_type": "code",
      "metadata": {
        "colab": {
          "base_uri": "https://localhost:8080/"
        },
        "id": "xc37umndplpe",
        "outputId": "33ee6a8e-29e8-41ca-f511-d514c53e1e8f"
      },
      "source": [
        "v1.shape, v2.shape"
      ],
      "execution_count": null,
      "outputs": [
        {
          "output_type": "execute_result",
          "data": {
            "text/plain": [
              "((3,), (3,))"
            ]
          },
          "metadata": {},
          "execution_count": 150
        }
      ]
    },
    {
      "cell_type": "code",
      "metadata": {
        "colab": {
          "base_uri": "https://localhost:8080/"
        },
        "id": "DhFPmRpLplpe",
        "outputId": "427d1aae-40ae-4f9f-c1c0-b2bac5da8142"
      },
      "source": [
        "v1 + v2"
      ],
      "execution_count": null,
      "outputs": [
        {
          "output_type": "execute_result",
          "data": {
            "text/plain": [
              "array([0, 2, 4])"
            ]
          },
          "metadata": {},
          "execution_count": 151
        }
      ]
    },
    {
      "cell_type": "code",
      "metadata": {
        "colab": {
          "base_uri": "https://localhost:8080/"
        },
        "id": "BHn6BPDJplpe",
        "outputId": "2dcffdd1-1edb-419b-e03b-8d6bd42870aa"
      },
      "source": [
        "v1 * v2"
      ],
      "execution_count": null,
      "outputs": [
        {
          "output_type": "execute_result",
          "data": {
            "text/plain": [
              "array([-1,  0,  3])"
            ]
          },
          "metadata": {},
          "execution_count": 152
        }
      ]
    },
    {
      "cell_type": "code",
      "metadata": {
        "colab": {
          "base_uri": "https://localhost:8080/"
        },
        "id": "EIXLQgrIplpe",
        "outputId": "33f3947e-c985-4504-fcc5-dfa0639f7944"
      },
      "source": [
        "v1.dot(v2)"
      ],
      "execution_count": null,
      "outputs": [
        {
          "output_type": "execute_result",
          "data": {
            "text/plain": [
              "2"
            ]
          },
          "metadata": {},
          "execution_count": 153
        }
      ]
    },
    {
      "cell_type": "code",
      "metadata": {
        "colab": {
          "base_uri": "https://localhost:8080/"
        },
        "id": "S4L3nGSyplpe",
        "outputId": "117e2bf6-5b47-419d-83e4-a9e4aefc5009"
      },
      "source": [
        "m"
      ],
      "execution_count": null,
      "outputs": [
        {
          "output_type": "execute_result",
          "data": {
            "text/plain": [
              "array([[1, 2],\n",
              "       [3, 4]])"
            ]
          },
          "metadata": {},
          "execution_count": 154
        }
      ]
    },
    {
      "cell_type": "code",
      "metadata": {
        "colab": {
          "base_uri": "https://localhost:8080/"
        },
        "id": "j962-BMWplpe",
        "outputId": "85fedd7c-f7eb-4d79-e7c3-6ef78d49e403"
      },
      "source": [
        "m.T"
      ],
      "execution_count": null,
      "outputs": [
        {
          "output_type": "execute_result",
          "data": {
            "text/plain": [
              "array([[1, 3],\n",
              "       [2, 4]])"
            ]
          },
          "metadata": {},
          "execution_count": 155
        }
      ]
    },
    {
      "cell_type": "code",
      "metadata": {
        "colab": {
          "base_uri": "https://localhost:8080/"
        },
        "id": "VSARCbGpplpf",
        "outputId": "0e295276-32fb-4cef-d43d-cd937e91ca9d"
      },
      "source": [
        "v = np.array([1, 0])\n",
        "m.dot(v)"
      ],
      "execution_count": null,
      "outputs": [
        {
          "output_type": "execute_result",
          "data": {
            "text/plain": [
              "array([1, 3])"
            ]
          },
          "metadata": {},
          "execution_count": 156
        }
      ]
    },
    {
      "cell_type": "code",
      "metadata": {
        "colab": {
          "base_uri": "https://localhost:8080/"
        },
        "id": "QqAthjUYplpf",
        "outputId": "b60a1e14-efcb-4bea-ec4d-c4e1b3cd000d"
      },
      "source": [
        "v.dot(m)"
      ],
      "execution_count": null,
      "outputs": [
        {
          "output_type": "execute_result",
          "data": {
            "text/plain": [
              "array([1, 2])"
            ]
          },
          "metadata": {},
          "execution_count": 157
        }
      ]
    },
    {
      "cell_type": "code",
      "metadata": {
        "colab": {
          "base_uri": "https://localhost:8080/"
        },
        "id": "07pqskOtplpf",
        "outputId": "5e07ed73-3821-4d7f-86fe-d1f18e6e775b"
      },
      "source": [
        "print('{} \\n\\n {}'.format(a1, a2.T))"
      ],
      "execution_count": null,
      "outputs": [
        {
          "output_type": "stream",
          "name": "stdout",
          "text": [
            "[[1 2 3]\n",
            " [2 3 4]] \n",
            "\n",
            " [[1 1 1]\n",
            " [2 3 4]]\n"
          ]
        }
      ]
    },
    {
      "cell_type": "code",
      "metadata": {
        "colab": {
          "base_uri": "https://localhost:8080/"
        },
        "id": "v98poYU5plpf",
        "outputId": "4029ae05-ad80-477d-8ad2-a84330a13110"
      },
      "source": [
        "print(a1 * a2.T)"
      ],
      "execution_count": null,
      "outputs": [
        {
          "output_type": "stream",
          "name": "stdout",
          "text": [
            "[[ 1  2  3]\n",
            " [ 4  9 16]]\n"
          ]
        }
      ]
    },
    {
      "cell_type": "markdown",
      "metadata": {
        "id": "cohxp_OHplpf"
      },
      "source": [
        "## matrix operation\n",
        "\n",
        "- numpy array로 생성된 객체는 ndarray 클래스의 메소드와 속성을 가짐\n",
        "- transpose, dot product 등"
      ]
    },
    {
      "cell_type": "code",
      "metadata": {
        "colab": {
          "base_uri": "https://localhost:8080/"
        },
        "id": "zNba342Iplpf",
        "outputId": "6a835710-1c2e-4253-a182-2e53a6f5773a"
      },
      "source": [
        "a1.dot(a2)"
      ],
      "execution_count": null,
      "outputs": [
        {
          "output_type": "execute_result",
          "data": {
            "text/plain": [
              "array([[ 6, 20],\n",
              "       [ 9, 29]])"
            ]
          },
          "metadata": {},
          "execution_count": 160
        }
      ]
    },
    {
      "cell_type": "code",
      "metadata": {
        "colab": {
          "base_uri": "https://localhost:8080/"
        },
        "id": "ooSu1GLoplpf",
        "outputId": "1e6272b1-8d3a-4584-ae3d-cc3ed1a49aa6"
      },
      "source": [
        "np.dot(a1, a2)"
      ],
      "execution_count": null,
      "outputs": [
        {
          "output_type": "execute_result",
          "data": {
            "text/plain": [
              "array([[ 6, 20],\n",
              "       [ 9, 29]])"
            ]
          },
          "metadata": {},
          "execution_count": 161
        }
      ]
    },
    {
      "cell_type": "code",
      "metadata": {
        "colab": {
          "base_uri": "https://localhost:8080/"
        },
        "id": "tcGxp3t6plpg",
        "outputId": "a1b24049-6ce6-4b02-848e-fce43d4adc35"
      },
      "source": [
        "A = np.dot(a1, a2)\n",
        "print(A)"
      ],
      "execution_count": null,
      "outputs": [
        {
          "output_type": "stream",
          "name": "stdout",
          "text": [
            "[[ 6 20]\n",
            " [ 9 29]]\n"
          ]
        }
      ]
    },
    {
      "cell_type": "markdown",
      "metadata": {
        "id": "iGQgM-Syplpg"
      },
      "source": [
        "- 역행렬: numpy.linalg.inv() 함수 이용"
      ]
    },
    {
      "cell_type": "code",
      "metadata": {
        "colab": {
          "base_uri": "https://localhost:8080/"
        },
        "id": "RarslNr_plpg",
        "outputId": "55f6d3d5-4849-42c4-8dc4-ecb4e31e89cb"
      },
      "source": [
        "print(np.linalg.inv(a1.dot(a2)))"
      ],
      "execution_count": null,
      "outputs": [
        {
          "output_type": "stream",
          "name": "stdout",
          "text": [
            "[[-4.83333333  3.33333333]\n",
            " [ 1.5        -1.        ]]\n"
          ]
        }
      ]
    },
    {
      "cell_type": "code",
      "metadata": {
        "id": "3fIn7w6mplpg"
      },
      "source": [
        "from numpy.linalg import inv"
      ],
      "execution_count": null,
      "outputs": []
    },
    {
      "cell_type": "code",
      "metadata": {
        "colab": {
          "base_uri": "https://localhost:8080/"
        },
        "id": "p_d7boJWplpg",
        "outputId": "27cc07fc-80ba-4e7c-c48f-d8d5091d6cbd"
      },
      "source": [
        "inv(a1.dot(a2))"
      ],
      "execution_count": null,
      "outputs": [
        {
          "output_type": "execute_result",
          "data": {
            "text/plain": [
              "array([[-4.83333333,  3.33333333],\n",
              "       [ 1.5       , -1.        ]])"
            ]
          },
          "metadata": {},
          "execution_count": 165
        }
      ]
    },
    {
      "cell_type": "code",
      "metadata": {
        "colab": {
          "base_uri": "https://localhost:8080/"
        },
        "id": "eRjBWaDuplpg",
        "outputId": "27128fcb-d8b5-4251-e02d-80f36c9cd8be"
      },
      "source": [
        "np.identity(a1.shape[0])"
      ],
      "execution_count": null,
      "outputs": [
        {
          "output_type": "execute_result",
          "data": {
            "text/plain": [
              "array([[1., 0.],\n",
              "       [0., 1.]])"
            ]
          },
          "metadata": {},
          "execution_count": 166
        }
      ]
    },
    {
      "cell_type": "markdown",
      "metadata": {
        "id": "Yjn6RimLplpg"
      },
      "source": [
        "- 레온티에프 역행렬"
      ]
    },
    {
      "cell_type": "code",
      "metadata": {
        "colab": {
          "base_uri": "https://localhost:8080/"
        },
        "id": "-OOn4dz2plpg",
        "outputId": "90b99f02-a105-490f-e8d2-59b7f80937cc"
      },
      "source": [
        "np.linalg.inv(np.identity(A.shape[0]) - A)"
      ],
      "execution_count": null,
      "outputs": [
        {
          "output_type": "execute_result",
          "data": {
            "text/plain": [
              "array([[ 0.7  , -0.5  ],\n",
              "       [-0.225,  0.125]])"
            ]
          },
          "metadata": {},
          "execution_count": 167
        }
      ]
    },
    {
      "cell_type": "markdown",
      "metadata": {
        "id": "cjmOkx7Pplpg"
      },
      "source": [
        "## random sample\n",
        "\n",
        "- 동일한 랜덤표본을 얻기 위해서는 numpy.random.seed(n) (예: n=1) 실행\n",
        "    - seed()를 지정하지 않는 경우 파이썬은 현재 날짜-시간을 이용하여 seed() 지정"
      ]
    },
    {
      "cell_type": "code",
      "metadata": {
        "id": "n6JZFInlplph"
      },
      "source": [
        "import numpy as np"
      ],
      "execution_count": null,
      "outputs": []
    },
    {
      "cell_type": "code",
      "metadata": {
        "id": "ynO-7MZDplph"
      },
      "source": [
        "rsn = np.random.randn(10)"
      ],
      "execution_count": null,
      "outputs": []
    },
    {
      "cell_type": "code",
      "metadata": {
        "colab": {
          "base_uri": "https://localhost:8080/"
        },
        "id": "9cR-_Y9yplph",
        "outputId": "4de79e6e-b921-420c-a4c2-9644a4aa4a36"
      },
      "source": [
        "rsn"
      ],
      "execution_count": null,
      "outputs": [
        {
          "output_type": "execute_result",
          "data": {
            "text/plain": [
              "array([-0.60895717, -0.82305526, -1.55377727,  1.14248269, -0.64340991,\n",
              "        2.04169005, -0.43915868,  0.31501826, -0.86339047, -2.08904793])"
            ]
          },
          "metadata": {},
          "execution_count": 189
        }
      ]
    },
    {
      "cell_type": "code",
      "metadata": {
        "id": "p5CuBcneplph"
      },
      "source": [
        "rsi = np.random.randint(1, 10, 10)"
      ],
      "execution_count": null,
      "outputs": []
    },
    {
      "cell_type": "code",
      "metadata": {
        "colab": {
          "base_uri": "https://localhost:8080/"
        },
        "id": "YyHZQdbZplph",
        "outputId": "eb68b685-d371-420b-c575-092155a60ca5"
      },
      "source": [
        "rsi"
      ],
      "execution_count": null,
      "outputs": [
        {
          "output_type": "execute_result",
          "data": {
            "text/plain": [
              "array([8, 6, 3, 9, 5, 6, 6, 6, 2, 7])"
            ]
          },
          "metadata": {},
          "execution_count": 191
        }
      ]
    },
    {
      "cell_type": "code",
      "metadata": {
        "id": "XDkjtSKPplph"
      },
      "source": [
        "rsu = np.random.uniform(-1, 1, 10)"
      ],
      "execution_count": null,
      "outputs": []
    },
    {
      "cell_type": "code",
      "metadata": {
        "colab": {
          "base_uri": "https://localhost:8080/"
        },
        "id": "YyvBnSEHplph",
        "outputId": "598b8afd-b8e8-4820-8a00-ccb4af4244df"
      },
      "source": [
        "rsu"
      ],
      "execution_count": null,
      "outputs": [
        {
          "output_type": "execute_result",
          "data": {
            "text/plain": [
              "array([-0.41078705, -0.50689984,  0.39877523,  0.80042766,  0.12287271,\n",
              "       -0.94712016,  0.78548871,  0.30399505,  0.28601893, -0.34132105])"
            ]
          },
          "metadata": {},
          "execution_count": 193
        }
      ]
    },
    {
      "cell_type": "code",
      "metadata": {
        "colab": {
          "base_uri": "https://localhost:8080/"
        },
        "id": "S0NbAswioKVL",
        "outputId": "ee794cfa-246c-4027-f08a-f945320d5085"
      },
      "source": [
        "np.random.seed(1)\n",
        "np.random.randn(3)"
      ],
      "execution_count": null,
      "outputs": [
        {
          "output_type": "execute_result",
          "data": {
            "text/plain": [
              "array([ 1.62434536, -0.61175641, -0.52817175])"
            ]
          },
          "metadata": {},
          "execution_count": 194
        }
      ]
    },
    {
      "cell_type": "code",
      "metadata": {
        "colab": {
          "base_uri": "https://localhost:8080/"
        },
        "id": "m3vjB6esoQ4F",
        "outputId": "426efcc2-6cf5-4458-f9e5-e66668a744ec"
      },
      "source": [
        "np.random.seed(2)\n",
        "np.random.randn(3)"
      ],
      "execution_count": null,
      "outputs": [
        {
          "output_type": "execute_result",
          "data": {
            "text/plain": [
              "array([-0.41675785, -0.05626683, -2.1361961 ])"
            ]
          },
          "metadata": {},
          "execution_count": 195
        }
      ]
    },
    {
      "cell_type": "code",
      "metadata": {
        "colab": {
          "base_uri": "https://localhost:8080/"
        },
        "id": "DnUQd3e8oUo9",
        "outputId": "7692f801-e8e0-4a2f-df01-e5c3fc52cd28"
      },
      "source": [
        "np.random.seed(1)\n",
        "np.random.randn(3)"
      ],
      "execution_count": null,
      "outputs": [
        {
          "output_type": "execute_result",
          "data": {
            "text/plain": [
              "array([ 1.62434536, -0.61175641, -0.52817175])"
            ]
          },
          "metadata": {},
          "execution_count": 196
        }
      ]
    },
    {
      "cell_type": "markdown",
      "metadata": {
        "id": "DJvy49Uqplph"
      },
      "source": [
        "# 연습문제\n",
        "\n",
        "- 아래 두 문제 가운데 한 문제를 선택"
      ]
    },
    {
      "cell_type": "markdown",
      "metadata": {
        "id": "WrWI4Erl-khS"
      },
      "source": [
        "\n",
        "\n",
        "1.   아래 식을 참고하여 선형회귀 계수 추정량을 계산하는 함수를 작성하고, 선형회귀모형을 추정하시오\n",
        "\n",
        "\n",
        "$y = X \\beta + u$ with $u \\sim norm(0, 1) / 2$\n",
        "\n",
        "$y$는 $n \\times 1$ 종속변수 벡터, $X$는 $n \\times p$ 설명변수 매트릭스, $\\beta$는 $p \\times 1$ 계수 벡터, $u$는 $\\times 1$ 비관측 요인 벡터\n",
        "$x_{1,t}=1$,\n",
        "\n",
        "\n",
        "$x_{2,t}=0.5 \\times x_{2,t-1} + \\varepsilon_2$ with $x_{2,0} = 1$ and $\\varepsilon_2 \\sim norm(0,1)$\n",
        "\n",
        "\n",
        "$x_{3,t}=0.2 \\times x_{3,t-1} + 2\\varepsilon_3$ with $x_{3,0} = 2$ and $\\varepsilon_3 \\sim norm(0,1)$\n",
        "\n",
        "$\\beta = [1, 2, 3]$\n"
      ]
    },
    {
      "cell_type": "markdown",
      "metadata": {
        "id": "5P70a0rF-iAW"
      },
      "source": [
        "\n",
        "\n",
        "2.   랜덤표본을 이용하여 원주율(np.pi) 근사값을 구하시오 (힌트: 가로, 세로 길이가 2인 정사각형에 내접한 원의 면적은 np.pi)"
      ]
    },
    {
      "cell_type": "code",
      "metadata": {
        "id": "QDaZVQ4tiUBW"
      },
      "source": [],
      "execution_count": null,
      "outputs": []
    }
  ]
}