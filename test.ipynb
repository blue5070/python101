{
  "nbformat": 4,
  "nbformat_minor": 0,
  "metadata": {
    "kernelspec": {
      "display_name": "Python 3",
      "language": "python",
      "name": "python3"
    },
    "language_info": {
      "codemirror_mode": {
        "name": "ipython",
        "version": 3
      },
      "file_extension": ".py",
      "mimetype": "text/x-python",
      "name": "python",
      "nbconvert_exporter": "python",
      "pygments_lexer": "ipython3",
      "version": "3.8.5"
    },
    "colab": {
      "name": "test.ipynb",
      "provenance": [],
      "include_colab_link": true
    }
  },
  "cells": [
    {
      "cell_type": "markdown",
      "metadata": {
        "id": "view-in-github",
        "colab_type": "text"
      },
      "source": [
        "<a href=\"https://colab.research.google.com/github/hyunchangyi/python2021/blob/main/test.ipynb\" target=\"_parent\"><img src=\"https://colab.research.google.com/assets/colab-badge.svg\" alt=\"Open In Colab\"/></a>"
      ]
    },
    {
      "cell_type": "markdown",
      "metadata": {
        "id": "6ro7zmPtNVku"
      },
      "source": [
        "# 파이썬 기초 과제"
      ]
    },
    {
      "cell_type": "markdown",
      "metadata": {
        "id": "dMTzBBKMNVkw"
      },
      "source": [
        "- 아래 각 문제에 대해 새로운 입력셀을 생성하고 파이썬 명령어를 실행하여 답안 작성\n",
        "- 파이썬 명령어와 실행 결과가 표시된 주피터노트북을 pdf 파일로 export하여 제출\n",
        "- 파일 이름은 '파이썬 기초_이름_행번.pdf'로 저장"
      ]
    },
    {
      "cell_type": "markdown",
      "metadata": {
        "id": "vUmsa7PSNVkx"
      },
      "source": [
        "# 1. list comprehension 이용\n",
        "\n",
        "#### 아래 국가명 리스트와 연도 리스트를 이용하여 국가명_연도 문자열을 생성하라\n",
        "#### 아래 리스트와 인덱스를 이용하여 중국, 호주에 대해서만 국가명_연도 문자열을 생성하라"
      ]
    },
    {
      "cell_type": "code",
      "metadata": {
        "id": "4bqoC4JvNVkx"
      },
      "source": [
        "countries = ['KOR', 'USA', 'JPN', 'CHN', 'AUS', 'MEX']\n",
        "year = [17, 18, 19, 20]"
      ],
      "execution_count": 1,
      "outputs": []
    },
    {
      "cell_type": "markdown",
      "metadata": {
        "id": "0htF0n_cNVkz"
      },
      "source": [
        "#### 아래 문자열 리스트에서 숫자로 이루어진 문자열(-5 포함)만 선택하여 리스트를 생성하라"
      ]
    },
    {
      "cell_type": "code",
      "metadata": {
        "id": "8erGfZJzNVkz"
      },
      "source": [
        "strings = ['KOR', '한국', '15', \"True\", '1000', '-5']"
      ],
      "execution_count": 4,
      "outputs": []
    },
    {
      "cell_type": "markdown",
      "metadata": {
        "id": "R212tIyONVk1"
      },
      "source": [
        "# 2. 아래 국가명 리스트와 연도 리스트, for-loop, if-else 구문을 이용하여 국가명_연도 문자열을 생성하라"
      ]
    },
    {
      "cell_type": "code",
      "metadata": {
        "id": "RSfLkZfVNVk1"
      },
      "source": [
        "countries = ['KOR', 'USA', 'JPN', 'CHN', 'AUS', 'MEX']\n",
        "year = [17, 18, 19, 20]"
      ],
      "execution_count": 5,
      "outputs": []
    },
    {
      "cell_type": "markdown",
      "metadata": {
        "id": "1LQuMczeNVk2"
      },
      "source": [
        "#### 힌트"
      ]
    },
    {
      "cell_type": "code",
      "metadata": {
        "id": "2JbNCw1ANVk2"
      },
      "source": [
        "# countries2 = []\n",
        "# for co in :\n",
        "#     for yr in :\n",
        "#         countries2 = countries2 + [co + '_' + str(yr)]"
      ],
      "execution_count": 6,
      "outputs": []
    },
    {
      "cell_type": "markdown",
      "metadata": {
        "id": "RhPn6RLiNVk3"
      },
      "source": [
        "# 3. 아래 식을 참고하여 $\\hat(\\beta)$를 계산하는 함수를 정의하고, $X, y$를 생성한 다음 선형회귀모형의 계수를 추정하시오"
      ]
    },
    {
      "cell_type": "markdown",
      "metadata": {
        "id": "hxQo1THFNVk3"
      },
      "source": [
        "$y = X \\beta + u$ with $u \\sim norm(0, 1/2)$\n",
        "\n",
        "$y$는 $n \\times 1$ 종속변수 벡터, $X$는 $n \\times p$ 설명변수 매트릭스, $\\beta$는 $p \\times 1$ 계수 벡터, $u$는 $\\times 1$ 비관측 요인 벡터\n",
        "\n",
        "$x_{1,t}=1$,\n",
        "\n",
        "$x_{2,t}=0.5 \\times x_{2,t-1} + \\varepsilon_2$ with $x_{2,0} = 1$ and $\\varepsilon_2 \\sim norm(0,1)$\n",
        "\n",
        "\n",
        "$x_{3,t}=0.2 \\times x_{3,t-1} + 2\\varepsilon_3$ with $x_{3,0} = 2$ and $\\varepsilon_3 \\sim norm(0,1)$\n",
        "\n",
        "$\\beta = [1, 2, 3]$"
      ]
    },
    {
      "cell_type": "markdown",
      "metadata": {
        "id": "pmpn4X4FNVk4"
      },
      "source": [
        "#### 힌트"
      ]
    },
    {
      "cell_type": "markdown",
      "metadata": {
        "id": "mYstQmzNNVk4"
      },
      "source": [
        "$\\hat{\\beta} = (X'X)^{-1}X'y $"
      ]
    },
    {
      "cell_type": "code",
      "metadata": {
        "id": "NkBsNxBjNVk5"
      },
      "source": [
        "# import numpy as np\n",
        "# from numpy.linalg import inv\n",
        "\n",
        "# def beta_hat(y, X):\n",
        "#     return inv(X.T.dot(X)).dot(X.T).dot(y)\n",
        "\n",
        "# N = \n",
        "# x1 = np.ones(N) * 1\n",
        "# x2 = np.ones(N) * 1\n",
        "# x3 = np.ones(N) * \n",
        "\n",
        "# for t in range(1, N):\n",
        "#     x2[t] = 0.5 * x2[t-1] + np.random.randn()\n",
        "#     x3[t] = 0.2 * x3[t-1] + np.random.randn()\n",
        "\n",
        "# X = np.array([x1, x2, x3])\n",
        "# beta = np.array([1, 2, 3])\n",
        "\n",
        "# y = X.dot(beta) + np.random.randn(N)\n",
        "\n",
        "# beta_hat(y, X)"
      ],
      "execution_count": null,
      "outputs": []
    },
    {
      "cell_type": "markdown",
      "metadata": {
        "id": "9yP9sgPwNVk7"
      },
      "source": [
        "# 4. 연도(2017~2020), 국가별(kr, us, jp) 경제성장률과 물가상승률 데이터프레임을 생성하시오\n",
        "(인덱스 첫번째 레벨은은 연도, 두번째 레벨은은 국가명. 칼럼은  [gdp, inf],\n",
        "경제성장률과 물가상승률은 넘파이 랜덤표본 이용)\n",
        "\n",
        "- 2018년 이후 한국과 미국의 연도별 평균경제성장률을 계산하라\n",
        "- 중국(cn)의 경제성장률과 물가상승률 데이터프레임을 같은 방식으로 생성하여 결합하라"
      ]
    },
    {
      "cell_type": "code",
      "metadata": {
        "id": "rHiEPfY4NVk8"
      },
      "source": [
        "# import numpy as np\n",
        "\n",
        "# ex1 = pd.DataFrame({'yr':list(range(2017, 2021)) * , 'country':['kr'] * 4 + \n",
        "#                     ['us'] * 4 + ['jp'] * 4, 'gdp':np.random.randn(12) + 1, \n",
        "#                     'inf':np.random.randn(12) + 2})\n",
        "# ex1 = ex1.set_index( )\n",
        "# ex1 = ex1.sort_index(axis = )\n",
        "# ex1.loc[2018:]"
      ],
      "execution_count": null,
      "outputs": []
    },
    {
      "cell_type": "code",
      "metadata": {
        "id": "ejeUWcUENVk9"
      },
      "source": [
        "# ex1 = ex1.unstack()\n",
        "# ex1.loc[2018:].mean()\n",
        "# ex1['gdp'].loc[2018:, ['kr', 'us']].mean(axis = 1)\n",
        "# cn = pd.DataFrame({'yr':list(range(2017, 2021)) * 1, 'country':['cn'] * 4,\n",
        "#                    'gdp':np.random.randn(4) + 1, 'inf':np.random.randn(4) + 2})\n",
        "# ex1 = ex1.stack()\n",
        "# ex1 = ex1.reset_index()\n",
        "# ex2 = pd.concat([ex1, cn], axis = 0)\n",
        "# ex2 = ex2.set_index(['yr', 'country']).unstack()\n",
        "# ex2m = ex2.groupby(level = 0, axis = 1).mean()\n",
        "# ex2m['country'] = 'mean'\n",
        "# ex2m = ex2m.set_index('country', append=True)\n",
        "# ex2m = ex2m.unstack()\n",
        "# ex3 = pd.concat([ex2, ex2m], axis = 1)\n",
        "# ex3.loc[ex3.loc[:, idx['gdp', 'mean']].ge(0.8)]"
      ],
      "execution_count": null,
      "outputs": []
    },
    {
      "cell_type": "markdown",
      "metadata": {
        "id": "MGpRG_1gNVk-"
      },
      "source": [
        "# 5. 성인 500명에 대한 키(cm)와 몸무게(kg) 데이터를 아래 관계에 따라 생성하시오\n",
        "\n",
        "$height \\sim norm(170, 15)$\n",
        "\n",
        "$weight = (height - 100)^{1.2} + u$, $u \\sim norm(0, 5)$\n",
        "\n",
        "- 키와 몸무게 각각에 대한 히스토그램(5 kg/cm 구간)을 subplots을 이용하여 그리시오\n",
        "\n",
        "- 키 180cm 이상 및 이하로 그룹을 나누어 키와 몸무게의 산포도를 그리시오"
      ]
    },
    {
      "cell_type": "markdown",
      "metadata": {
        "id": "xRe4mhDuNVk-"
      },
      "source": [
        "#### 힌트"
      ]
    },
    {
      "cell_type": "code",
      "metadata": {
        "id": "Rz8DLcsBNVk-"
      },
      "source": [
        "# import numpy as np\n",
        "# import pandas as pd\n",
        "# import matplotlib.pyplot as plt\n",
        "\n",
        "# N = 100\n",
        "# h = np.random.randn(N) * 15 + 170\n",
        "# w = (h - 100)**1.1 + np.random.randn(N)\n",
        "\n",
        "# hw = pd.DataFrame({'h':h, 'w':w})\n",
        "# hw.max()\n",
        "# hw.min()\n",
        "\n",
        "# fig, ax = plt.subplots(1, 2, figsize=(16, 4))\n",
        "# hw.groupby(pd.cut(hw.h, list(range(130, 205, 5))))['h'].count().plot.bar(ax=ax[0])\n",
        "# hw.groupby(pd.cut(hw.w, list(range(50, ))))['w'].count().plot.bar(ax=ax[1])\n",
        "\n",
        "# fig, ax = plt.subplots(1, 2, figsize=(16, 4))\n",
        "# hw.loc[hw.h.ge(180)].plot.scatter(x='h', y='w', ax=ax[0])\n",
        "# hw.loc[hw.h.lt(180)].plot.scatter(x='h', y='w', ax=ax[1])"
      ],
      "execution_count": null,
      "outputs": []
    },
    {
      "cell_type": "markdown",
      "metadata": {
        "id": "didNB4ZDNVk_"
      },
      "source": [
        "# (optional) 2000~2020년중 국가별 주택가격 변화를 분석하고자 한다.(20개 이상 국가 포함)\n",
        "\n",
        "- BIS statistics의 주택가격 데이터를 이용하여여 2014년 이후 주택가격 상승률이 가장 높은 3개, 가장 낮은 3개 국가의 주택가격 추이를 그래프로 그리시오.\n",
        "\n",
        "- BIS statistics의 주택가격 데이터를 포함하여, 국가별 주택가격에 영향을 미치는 3개 이상 설명변수를 2개 이상 데이터 출처에서 입수하여 하나의 데이터프레임으로 정리하고, 스타타 파일 포맷으로 export하시오. \n"
      ]
    },
    {
      "cell_type": "code",
      "metadata": {
        "id": "K69q-NbLNVk_"
      },
      "source": [
        ""
      ],
      "execution_count": null,
      "outputs": []
    }
  ]
}