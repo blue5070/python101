{
  "nbformat": 4,
  "nbformat_minor": 0,
  "metadata": {
    "colab": {
      "provenance": []
    },
    "kernelspec": {
      "name": "python3",
      "display_name": "Python 3"
    },
    "language_info": {
      "name": "python"
    }
  },
  "cells": [
    {
      "cell_type": "code",
      "execution_count": null,
      "metadata": {
        "colab": {
          "base_uri": "https://localhost:8080/"
        },
        "id": "RCqK5vbbv-Ii",
        "outputId": "8b2b1838-c8b5-4414-94f6-243be2397dc1"
      },
      "outputs": [
        {
          "output_type": "stream",
          "name": "stdout",
          "text": [
            "--2024-06-17 01:15:34--  https://github.com/changhoon0807/python101/raw/main/bok_python_final.zip.zip\n",
            "Resolving github.com (github.com)... 140.82.113.4\n",
            "Connecting to github.com (github.com)|140.82.113.4|:443... connected.\n",
            "HTTP request sent, awaiting response... 302 Found\n",
            "Location: https://raw.githubusercontent.com/changhoon0807/python101/main/bok_python_final.zip.zip [following]\n",
            "--2024-06-17 01:15:34--  https://raw.githubusercontent.com/changhoon0807/python101/main/bok_python_final.zip.zip\n",
            "Resolving raw.githubusercontent.com (raw.githubusercontent.com)... 185.199.108.133, 185.199.109.133, 185.199.110.133, ...\n",
            "Connecting to raw.githubusercontent.com (raw.githubusercontent.com)|185.199.108.133|:443... connected.\n",
            "HTTP request sent, awaiting response... 200 OK\n",
            "Length: 11395779 (11M) [application/zip]\n",
            "Saving to: ‘bok_python_final.zip.zip’\n",
            "\n",
            "bok_python_final.zi 100%[===================>]  10.87M  --.-KB/s    in 0.1s    \n",
            "\n",
            "2024-06-17 01:15:35 (103 MB/s) - ‘bok_python_final.zip.zip’ saved [11395779/11395779]\n",
            "\n"
          ]
        }
      ],
      "source": [
        "!wget https://github.com/changhoon0807/python101/raw/main/bok_python_final.zip.zip"
      ]
    },
    {
      "cell_type": "code",
      "source": [
        "!unzip bok_python_final.zip.zip -d bok_python"
      ],
      "metadata": {
        "colab": {
          "base_uri": "https://localhost:8080/"
        },
        "id": "k1kSK7PUwg0e",
        "outputId": "6af8ded0-e746-4e8a-a595-642d9602e368"
      },
      "execution_count": null,
      "outputs": [
        {
          "output_type": "stream",
          "name": "stdout",
          "text": [
            "Archive:  bok_python_final.zip.zip\n",
            "   creating: bok_python/bok_python_final/bok_python/\n",
            "  inflating: bok_python/bok_python_final/bok_python/__init__.py  \n",
            "   creating: bok_python/bok_python_final/bok_python/basic/\n",
            "  inflating: bok_python/bok_python_final/bok_python/basic/ols.py  \n",
            "  inflating: bok_python/bok_python_final/bok_python/basic/operator.py  \n",
            "  inflating: bok_python/bok_python_final/bok_python/basic/pdf.py  \n",
            "  inflating: bok_python/bok_python_final/bok_python/basic/rng.py  \n",
            "   creating: bok_python/bok_python_final/bok_python/bayes/\n",
            "  inflating: bok_python/bok_python_final/bok_python/bayes/__init__.py  \n",
            "  inflating: bok_python/bok_python_final/bok_python/bayes/bayes.py  \n",
            "   creating: bok_python/bok_python_final/bok_python/bok_python.egg-info/\n",
            " extracting: bok_python/bok_python_final/bok_python/bok_python.egg-info/dependency_links.txt  \n",
            "  inflating: bok_python/bok_python_final/bok_python/bok_python.egg-info/PKG-INFO  \n",
            "  inflating: bok_python/bok_python_final/bok_python/bok_python.egg-info/requires.txt  \n",
            "  inflating: bok_python/bok_python_final/bok_python/bok_python.egg-info/SOURCES.txt  \n",
            " extracting: bok_python/bok_python_final/bok_python/bok_python.egg-info/top_level.txt  \n",
            "   creating: bok_python/bok_python_final/bok_python/build/\n",
            "   creating: bok_python/bok_python_final/bok_python/build/bdist.linux-x86_64/\n",
            "   creating: bok_python/bok_python_final/bok_python/build/bdist.win-amd64/\n",
            "   creating: bok_python/bok_python_final/bok_python/build/lib.linux-x86_64-cpython-310/\n",
            "   creating: bok_python/bok_python_final/bok_python/build/lib.linux-x86_64-cpython-310/bayes/\n",
            "  inflating: bok_python/bok_python_final/bok_python/build/lib.linux-x86_64-cpython-310/bayes/__init__.py  \n",
            "  inflating: bok_python/bok_python_final/bok_python/build/lib.linux-x86_64-cpython-310/bayes/bayes.py  \n",
            "   creating: bok_python/bok_python_final/bok_python/build/lib.linux-x86_64-cpython-310/ssm/\n",
            "  inflating: bok_python/bok_python_final/bok_python/build/lib.linux-x86_64-cpython-310/ssm/cython_SSM.cpython-310-x86_64-linux-gnu.so  \n",
            "   creating: bok_python/bok_python_final/bok_python/build/lib.linux-x86_64-cpython-311/\n",
            "   creating: bok_python/bok_python_final/bok_python/build/lib.linux-x86_64-cpython-311/bayes/\n",
            "  inflating: bok_python/bok_python_final/bok_python/build/lib.linux-x86_64-cpython-311/bayes/__init__.py  \n",
            "  inflating: bok_python/bok_python_final/bok_python/build/lib.linux-x86_64-cpython-311/bayes/bayes.py  \n",
            "   creating: bok_python/bok_python_final/bok_python/build/lib.linux-x86_64-cpython-311/ssm/\n",
            "  inflating: bok_python/bok_python_final/bok_python/build/lib.linux-x86_64-cpython-311/ssm/cython_SSM.cpython-311-x86_64-linux-gnu.so  \n",
            "   creating: bok_python/bok_python_final/bok_python/build/lib.linux-x86_64-cpython-312/\n",
            "   creating: bok_python/bok_python_final/bok_python/build/lib.linux-x86_64-cpython-312/bayes/\n",
            "  inflating: bok_python/bok_python_final/bok_python/build/lib.linux-x86_64-cpython-312/bayes/__init__.py  \n",
            "  inflating: bok_python/bok_python_final/bok_python/build/lib.linux-x86_64-cpython-312/bayes/bayes.py  \n",
            "   creating: bok_python/bok_python_final/bok_python/build/lib.linux-x86_64-cpython-312/ssm/\n",
            "  inflating: bok_python/bok_python_final/bok_python/build/lib.linux-x86_64-cpython-312/ssm/cython_SSM.cpython-312-x86_64-linux-gnu.so  \n",
            "   creating: bok_python/bok_python_final/bok_python/build/lib.linux-x86_64-cpython-39/\n",
            "   creating: bok_python/bok_python_final/bok_python/build/lib.linux-x86_64-cpython-39/bayes/\n",
            "  inflating: bok_python/bok_python_final/bok_python/build/lib.linux-x86_64-cpython-39/bayes/__init__.py  \n",
            "  inflating: bok_python/bok_python_final/bok_python/build/lib.linux-x86_64-cpython-39/bayes/bayes.py  \n",
            "   creating: bok_python/bok_python_final/bok_python/build/lib.linux-x86_64-cpython-39/ssm/\n",
            "  inflating: bok_python/bok_python_final/bok_python/build/lib.linux-x86_64-cpython-39/ssm/cython_SSM.cpython-39-x86_64-linux-gnu.so  \n",
            "   creating: bok_python/bok_python_final/bok_python/build/lib.win-amd64-cpython-310/\n",
            "   creating: bok_python/bok_python_final/bok_python/build/lib.win-amd64-cpython-310/bayes/\n",
            "  inflating: bok_python/bok_python_final/bok_python/build/lib.win-amd64-cpython-310/bayes/__init__.py  \n",
            "  inflating: bok_python/bok_python_final/bok_python/build/lib.win-amd64-cpython-310/bayes/bayes.py  \n",
            "   creating: bok_python/bok_python_final/bok_python/build/lib.win-amd64-cpython-310/ssm/\n",
            "  inflating: bok_python/bok_python_final/bok_python/build/lib.win-amd64-cpython-310/ssm/cython_SSM.cp310-win_amd64.pyd  \n",
            "   creating: bok_python/bok_python_final/bok_python/build/lib.win-amd64-cpython-311/\n",
            "   creating: bok_python/bok_python_final/bok_python/build/lib.win-amd64-cpython-311/bayes/\n",
            "  inflating: bok_python/bok_python_final/bok_python/build/lib.win-amd64-cpython-311/bayes/__init__.py  \n",
            "  inflating: bok_python/bok_python_final/bok_python/build/lib.win-amd64-cpython-311/bayes/bayes.py  \n",
            "   creating: bok_python/bok_python_final/bok_python/build/lib.win-amd64-cpython-311/ssm/\n",
            "  inflating: bok_python/bok_python_final/bok_python/build/lib.win-amd64-cpython-311/ssm/cython_SSM.cp311-win_amd64.pyd  \n",
            "   creating: bok_python/bok_python_final/bok_python/build/lib.win-amd64-cpython-312/\n",
            "   creating: bok_python/bok_python_final/bok_python/build/lib.win-amd64-cpython-312/bayes/\n",
            "  inflating: bok_python/bok_python_final/bok_python/build/lib.win-amd64-cpython-312/bayes/__init__.py  \n",
            "  inflating: bok_python/bok_python_final/bok_python/build/lib.win-amd64-cpython-312/bayes/bayes.py  \n",
            "   creating: bok_python/bok_python_final/bok_python/build/lib.win-amd64-cpython-312/ssm/\n",
            "  inflating: bok_python/bok_python_final/bok_python/build/lib.win-amd64-cpython-312/ssm/cython_SSM.cp312-win_amd64.pyd  \n",
            "   creating: bok_python/bok_python_final/bok_python/build/lib.win-amd64-cpython-39/\n",
            "   creating: bok_python/bok_python_final/bok_python/build/lib.win-amd64-cpython-39/bayes/\n",
            "  inflating: bok_python/bok_python_final/bok_python/build/lib.win-amd64-cpython-39/bayes/__init__.py  \n",
            "  inflating: bok_python/bok_python_final/bok_python/build/lib.win-amd64-cpython-39/bayes/bayes.py  \n",
            "   creating: bok_python/bok_python_final/bok_python/build/lib.win-amd64-cpython-39/ssm/\n",
            "  inflating: bok_python/bok_python_final/bok_python/build/lib.win-amd64-cpython-39/ssm/cython_SSM.cp39-win_amd64.pyd  \n",
            "   creating: bok_python/bok_python_final/bok_python/build/temp.linux-x86_64-cpython-310/\n",
            "   creating: bok_python/bok_python_final/bok_python/build/temp.linux-x86_64-cpython-310/ssm/\n",
            "  inflating: bok_python/bok_python_final/bok_python/build/temp.linux-x86_64-cpython-310/ssm/cython_SSM.o  \n",
            "   creating: bok_python/bok_python_final/bok_python/build/temp.linux-x86_64-cpython-311/\n",
            "   creating: bok_python/bok_python_final/bok_python/build/temp.linux-x86_64-cpython-311/ssm/\n",
            "  inflating: bok_python/bok_python_final/bok_python/build/temp.linux-x86_64-cpython-311/ssm/cython_SSM.o  \n",
            "   creating: bok_python/bok_python_final/bok_python/build/temp.linux-x86_64-cpython-312/\n",
            "   creating: bok_python/bok_python_final/bok_python/build/temp.linux-x86_64-cpython-312/ssm/\n",
            "  inflating: bok_python/bok_python_final/bok_python/build/temp.linux-x86_64-cpython-312/ssm/cython_SSM.o  \n",
            "   creating: bok_python/bok_python_final/bok_python/build/temp.linux-x86_64-cpython-39/\n",
            "   creating: bok_python/bok_python_final/bok_python/build/temp.linux-x86_64-cpython-39/ssm/\n",
            "  inflating: bok_python/bok_python_final/bok_python/build/temp.linux-x86_64-cpython-39/ssm/cython_SSM.o  \n",
            "   creating: bok_python/bok_python_final/bok_python/build/temp.win-amd64-cpython-310/\n",
            "   creating: bok_python/bok_python_final/bok_python/build/temp.win-amd64-cpython-310/Release/\n",
            "   creating: bok_python/bok_python_final/bok_python/build/temp.win-amd64-cpython-310/Release/ssm/\n",
            "  inflating: bok_python/bok_python_final/bok_python/build/temp.win-amd64-cpython-310/Release/ssm/cython_SSM.cp310-win_amd64.exp  \n",
            "  inflating: bok_python/bok_python_final/bok_python/build/temp.win-amd64-cpython-310/Release/ssm/cython_SSM.cp310-win_amd64.lib  \n",
            "  inflating: bok_python/bok_python_final/bok_python/build/temp.win-amd64-cpython-310/Release/ssm/cython_SSM.obj  \n",
            "   creating: bok_python/bok_python_final/bok_python/build/temp.win-amd64-cpython-311/\n",
            "   creating: bok_python/bok_python_final/bok_python/build/temp.win-amd64-cpython-311/Release/\n",
            "   creating: bok_python/bok_python_final/bok_python/build/temp.win-amd64-cpython-311/Release/ssm/\n",
            "  inflating: bok_python/bok_python_final/bok_python/build/temp.win-amd64-cpython-311/Release/ssm/cython_SSM.cp311-win_amd64.exp  \n",
            "  inflating: bok_python/bok_python_final/bok_python/build/temp.win-amd64-cpython-311/Release/ssm/cython_SSM.cp311-win_amd64.lib  \n",
            "  inflating: bok_python/bok_python_final/bok_python/build/temp.win-amd64-cpython-311/Release/ssm/cython_SSM.obj  \n",
            "   creating: bok_python/bok_python_final/bok_python/build/temp.win-amd64-cpython-312/\n",
            "   creating: bok_python/bok_python_final/bok_python/build/temp.win-amd64-cpython-312/Release/\n",
            "   creating: bok_python/bok_python_final/bok_python/build/temp.win-amd64-cpython-312/Release/ssm/\n",
            "  inflating: bok_python/bok_python_final/bok_python/build/temp.win-amd64-cpython-312/Release/ssm/cython_SSM.cp312-win_amd64.exp  \n",
            "  inflating: bok_python/bok_python_final/bok_python/build/temp.win-amd64-cpython-312/Release/ssm/cython_SSM.cp312-win_amd64.lib  \n",
            "  inflating: bok_python/bok_python_final/bok_python/build/temp.win-amd64-cpython-312/Release/ssm/cython_SSM.obj  \n",
            "   creating: bok_python/bok_python_final/bok_python/build/temp.win-amd64-cpython-39/\n",
            "   creating: bok_python/bok_python_final/bok_python/build/temp.win-amd64-cpython-39/Release/\n",
            "   creating: bok_python/bok_python_final/bok_python/build/temp.win-amd64-cpython-39/Release/ssm/\n",
            "  inflating: bok_python/bok_python_final/bok_python/build/temp.win-amd64-cpython-39/Release/ssm/cython_SSM.cp39-win_amd64.exp  \n",
            "  inflating: bok_python/bok_python_final/bok_python/build/temp.win-amd64-cpython-39/Release/ssm/cython_SSM.cp39-win_amd64.lib  \n",
            "  inflating: bok_python/bok_python_final/bok_python/build/temp.win-amd64-cpython-39/Release/ssm/cython_SSM.obj  \n",
            "   creating: bok_python/bok_python_final/bok_python/dist/\n",
            "  inflating: bok_python/bok_python_final/bok_python/dist/bok_python-0.1.0.tar.gz  \n",
            "  inflating: bok_python/bok_python_final/bok_python/dist/bok_python-0.1.0-cp310-cp310-linux_x86_64.whl  \n",
            "  inflating: bok_python/bok_python_final/bok_python/dist/bok_python-0.1.0-cp310-cp310-win_amd64.whl  \n",
            "  inflating: bok_python/bok_python_final/bok_python/dist/bok_python-0.1.0-cp311-cp311-linux_x86_64.whl  \n",
            "  inflating: bok_python/bok_python_final/bok_python/dist/bok_python-0.1.0-cp311-cp311-win_amd64.whl  \n",
            "  inflating: bok_python/bok_python_final/bok_python/dist/bok_python-0.1.0-cp312-cp312-linux_x86_64.whl  \n",
            "  inflating: bok_python/bok_python_final/bok_python/dist/bok_python-0.1.0-cp312-cp312-win_amd64.whl  \n",
            "  inflating: bok_python/bok_python_final/bok_python/dist/bok_python-0.1.0-cp39-cp39-linux_x86_64.whl  \n",
            "  inflating: bok_python/bok_python_final/bok_python/dist/bok_python-0.1.0-cp39-cp39-win_amd64.whl  \n",
            "  inflating: bok_python/bok_python_final/bok_python/README.md  \n",
            "  inflating: bok_python/bok_python_final/bok_python/setup.py  \n",
            "   creating: bok_python/bok_python_final/bok_python/ssm/\n",
            "   creating: bok_python/bok_python_final/bok_python/ssm/build/\n",
            "   creating: bok_python/bok_python_final/bok_python/ssm/build/bdist.linux-x86_64/\n",
            "   creating: bok_python/bok_python_final/bok_python/ssm/build/bdist.win-amd64/\n",
            "   creating: bok_python/bok_python_final/bok_python/ssm/build/lib.linux-x86_64-cpython-310/\n",
            "  inflating: bok_python/bok_python_final/bok_python/ssm/build/lib.linux-x86_64-cpython-310/cython_SSM.cpython-310-x86_64-linux-gnu.so  \n",
            "   creating: bok_python/bok_python_final/bok_python/ssm/build/lib.linux-x86_64-cpython-311/\n",
            "  inflating: bok_python/bok_python_final/bok_python/ssm/build/lib.linux-x86_64-cpython-311/cython_SSM.cpython-311-x86_64-linux-gnu.so  \n",
            "   creating: bok_python/bok_python_final/bok_python/ssm/build/lib.linux-x86_64-cpython-312/\n",
            "  inflating: bok_python/bok_python_final/bok_python/ssm/build/lib.linux-x86_64-cpython-312/cython_SSM.cpython-312-x86_64-linux-gnu.so  \n",
            "   creating: bok_python/bok_python_final/bok_python/ssm/build/lib.linux-x86_64-cpython-39/\n",
            "  inflating: bok_python/bok_python_final/bok_python/ssm/build/lib.linux-x86_64-cpython-39/cython_SSM.cpython-39-x86_64-linux-gnu.so  \n",
            "   creating: bok_python/bok_python_final/bok_python/ssm/build/lib.win-amd64-cpython-310/\n",
            "  inflating: bok_python/bok_python_final/bok_python/ssm/build/lib.win-amd64-cpython-310/cython_SSM.cp310-win_amd64.pyd  \n",
            "   creating: bok_python/bok_python_final/bok_python/ssm/build/lib.win-amd64-cpython-311/\n",
            "  inflating: bok_python/bok_python_final/bok_python/ssm/build/lib.win-amd64-cpython-311/cython_SSM.cp311-win_amd64.pyd  \n",
            "   creating: bok_python/bok_python_final/bok_python/ssm/build/lib.win-amd64-cpython-312/\n",
            "  inflating: bok_python/bok_python_final/bok_python/ssm/build/lib.win-amd64-cpython-312/cython_SSM.cp312-win_amd64.pyd  \n",
            "   creating: bok_python/bok_python_final/bok_python/ssm/build/lib.win-amd64-cpython-39/\n",
            "  inflating: bok_python/bok_python_final/bok_python/ssm/build/lib.win-amd64-cpython-39/cython_SSM.cp39-win_amd64.pyd  \n",
            "   creating: bok_python/bok_python_final/bok_python/ssm/build/temp.linux-x86_64-cpython-310/\n",
            "  inflating: bok_python/bok_python_final/bok_python/ssm/build/temp.linux-x86_64-cpython-310/cython_SSM.o  \n",
            "   creating: bok_python/bok_python_final/bok_python/ssm/build/temp.linux-x86_64-cpython-311/\n",
            "  inflating: bok_python/bok_python_final/bok_python/ssm/build/temp.linux-x86_64-cpython-311/cython_SSM.o  \n",
            "   creating: bok_python/bok_python_final/bok_python/ssm/build/temp.linux-x86_64-cpython-312/\n",
            "  inflating: bok_python/bok_python_final/bok_python/ssm/build/temp.linux-x86_64-cpython-312/cython_SSM.o  \n",
            "   creating: bok_python/bok_python_final/bok_python/ssm/build/temp.linux-x86_64-cpython-39/\n",
            "  inflating: bok_python/bok_python_final/bok_python/ssm/build/temp.linux-x86_64-cpython-39/cython_SSM.o  \n",
            "   creating: bok_python/bok_python_final/bok_python/ssm/build/temp.win-amd64-cpython-310/\n",
            "   creating: bok_python/bok_python_final/bok_python/ssm/build/temp.win-amd64-cpython-310/Release/\n",
            "  inflating: bok_python/bok_python_final/bok_python/ssm/build/temp.win-amd64-cpython-310/Release/cython_SSM.cp310-win_amd64.exp  \n",
            "  inflating: bok_python/bok_python_final/bok_python/ssm/build/temp.win-amd64-cpython-310/Release/cython_SSM.cp310-win_amd64.lib  \n",
            "  inflating: bok_python/bok_python_final/bok_python/ssm/build/temp.win-amd64-cpython-310/Release/cython_SSM.obj  \n",
            "   creating: bok_python/bok_python_final/bok_python/ssm/build/temp.win-amd64-cpython-311/\n",
            "   creating: bok_python/bok_python_final/bok_python/ssm/build/temp.win-amd64-cpython-311/Release/\n",
            "  inflating: bok_python/bok_python_final/bok_python/ssm/build/temp.win-amd64-cpython-311/Release/cython_SSM.cp311-win_amd64.exp  \n",
            "  inflating: bok_python/bok_python_final/bok_python/ssm/build/temp.win-amd64-cpython-311/Release/cython_SSM.cp311-win_amd64.lib  \n",
            "  inflating: bok_python/bok_python_final/bok_python/ssm/build/temp.win-amd64-cpython-311/Release/cython_SSM.obj  \n",
            "   creating: bok_python/bok_python_final/bok_python/ssm/build/temp.win-amd64-cpython-312/\n",
            "   creating: bok_python/bok_python_final/bok_python/ssm/build/temp.win-amd64-cpython-312/Release/\n",
            "  inflating: bok_python/bok_python_final/bok_python/ssm/build/temp.win-amd64-cpython-312/Release/cython_SSM.cp312-win_amd64.exp  \n",
            "  inflating: bok_python/bok_python_final/bok_python/ssm/build/temp.win-amd64-cpython-312/Release/cython_SSM.cp312-win_amd64.lib  \n",
            "  inflating: bok_python/bok_python_final/bok_python/ssm/build/temp.win-amd64-cpython-312/Release/cython_SSM.obj  \n",
            "   creating: bok_python/bok_python_final/bok_python/ssm/build/temp.win-amd64-cpython-39/\n",
            "   creating: bok_python/bok_python_final/bok_python/ssm/build/temp.win-amd64-cpython-39/Release/\n",
            "  inflating: bok_python/bok_python_final/bok_python/ssm/build/temp.win-amd64-cpython-39/Release/cython_SSM.cp39-win_amd64.exp  \n",
            "  inflating: bok_python/bok_python_final/bok_python/ssm/build/temp.win-amd64-cpython-39/Release/cython_SSM.cp39-win_amd64.lib  \n",
            "  inflating: bok_python/bok_python_final/bok_python/ssm/build/temp.win-amd64-cpython-39/Release/cython_SSM.obj  \n",
            "  inflating: bok_python/bok_python_final/bok_python/ssm/cython_SSM.c  \n",
            "  inflating: bok_python/bok_python_final/bok_python/ssm/cython_SSM.cp310-win_amd64.pyd  \n",
            "  inflating: bok_python/bok_python_final/bok_python/ssm/cython_SSM.cp311-win_amd64.pyd  \n",
            "  inflating: bok_python/bok_python_final/bok_python/ssm/cython_SSM.cp312-win_amd64.pyd  \n",
            "  inflating: bok_python/bok_python_final/bok_python/ssm/cython_SSM.cp39-win_amd64.pyd  \n",
            "  inflating: bok_python/bok_python_final/bok_python/ssm/cython_SSM.cpython-310-x86_64-linux-gnu.so  \n",
            "  inflating: bok_python/bok_python_final/bok_python/ssm/cython_SSM.cpython-311-x86_64-linux-gnu.so  \n",
            "  inflating: bok_python/bok_python_final/bok_python/ssm/cython_SSM.cpython-312-x86_64-linux-gnu.so  \n",
            "  inflating: bok_python/bok_python_final/bok_python/ssm/cython_SSM.cpython-39-x86_64-linux-gnu.so  \n",
            "   creating: bok_python/bok_python_final/bok_python/ssm/cython_SSM.egg-info/\n",
            " extracting: bok_python/bok_python_final/bok_python/ssm/cython_SSM.egg-info/dependency_links.txt  \n",
            " extracting: bok_python/bok_python_final/bok_python/ssm/cython_SSM.egg-info/not-zip-safe  \n",
            "  inflating: bok_python/bok_python_final/bok_python/ssm/cython_SSM.egg-info/PKG-INFO  \n",
            "  inflating: bok_python/bok_python_final/bok_python/ssm/cython_SSM.egg-info/SOURCES.txt  \n",
            " extracting: bok_python/bok_python_final/bok_python/ssm/cython_SSM.egg-info/top_level.txt  \n",
            "  inflating: bok_python/bok_python_final/bok_python/ssm/cython_SSM.pyx  \n",
            "  inflating: bok_python/bok_python_final/bok_python/ssm/dfm.py  \n",
            "   creating: bok_python/bok_python_final/bok_python/ssm/dist/\n",
            "  inflating: bok_python/bok_python_final/bok_python/ssm/dist/cython_ssm-0.1.0.tar.gz  \n",
            "  inflating: bok_python/bok_python_final/bok_python/ssm/dist/cython_SSM-0.1.0-cp310-cp310-linux_x86_64.whl  \n",
            "  inflating: bok_python/bok_python_final/bok_python/ssm/dist/cython_SSM-0.1.0-cp310-cp310-win_amd64.whl  \n",
            "  inflating: bok_python/bok_python_final/bok_python/ssm/dist/cython_SSM-0.1.0-cp311-cp311-linux_x86_64.whl  \n",
            "  inflating: bok_python/bok_python_final/bok_python/ssm/dist/cython_SSM-0.1.0-cp311-cp311-win_amd64.whl  \n",
            "  inflating: bok_python/bok_python_final/bok_python/ssm/dist/cython_SSM-0.1.0-cp312-cp312-linux_x86_64.whl  \n",
            "  inflating: bok_python/bok_python_final/bok_python/ssm/dist/cython_SSM-0.1.0-cp312-cp312-win_amd64.whl  \n",
            "  inflating: bok_python/bok_python_final/bok_python/ssm/dist/cython_SSM-0.1.0-cp39-cp39-linux_x86_64.whl  \n",
            "  inflating: bok_python/bok_python_final/bok_python/ssm/dist/cython_SSM-0.1.0-cp39-cp39-win_amd64.whl  \n",
            "  inflating: bok_python/bok_python_final/bok_python/ssm/optimizer.py  \n",
            "  inflating: bok_python/bok_python_final/bok_python/ssm/setup_cython.py  \n",
            "  inflating: bok_python/bok_python_final/bok_python/ssm/tvp.py  \n",
            "  inflating: bok_python/bok_python_final/bok_python/ssm/uc.py  \n",
            "   creating: bok_python/bok_python_final/bok_python/var/\n",
            "  inflating: bok_python/bok_python_final/bok_python/var/block.py  \n",
            "  inflating: bok_python/bok_python_final/bok_python/var/test.py  \n",
            "  inflating: bok_python/bok_python_final/bok_python/var/var.py  \n",
            "  inflating: bok_python/bok_python_final/bok_python/var/vecm.py  \n",
            "  inflating: bok_python/bok_python_final/INSTALL_LINUX.sh  \n",
            "  inflating: bok_python/bok_python_final/INSTALL_Window.bat  \n",
            "  inflating: bok_python/bok_python_final/Main_ACF_AR.ipynb  \n",
            "  inflating: bok_python/bok_python_final/Main_Bayes_LinearReg.ipynb  \n",
            "  inflating: bok_python/bok_python_final/Main_Co_Integ_VECM.ipynb  \n",
            "  inflating: bok_python/bok_python_final/Main_SSM_DFM.ipynb  \n",
            "  inflating: bok_python/bok_python_final/Main_SSM_TVP.ipynb  \n",
            "  inflating: bok_python/bok_python_final/Main_SSM_UC.ipynb  \n",
            "  inflating: bok_python/bok_python_final/Main_Unit_Root_Test.ipynb  \n",
            "  inflating: bok_python/bok_python_final/Main_VAR.ipynb  \n",
            "   creating: bok_python/bok_python_final/test_data/\n",
            "  inflating: bok_python/bok_python_final/test_data/bayes_test_data.xlsx  \n",
            "  inflating: bok_python/bok_python_final/test_data/Data_BayesEcon.xlsx  \n",
            "  inflating: bok_python/bok_python_final/test_data/python_data.xlsx  \n",
            "  inflating: bok_python/bok_python_final/test_data/test_data_gdp.xlsx  \n"
          ]
        }
      ]
    },
    {
      "cell_type": "code",
      "source": [
        "%cd /content/bok_python/bok_python_final"
      ],
      "metadata": {
        "colab": {
          "base_uri": "https://localhost:8080/"
        },
        "id": "Ku2glmWnw_Uz",
        "outputId": "3e5dcc4c-b22f-4515-8957-93126ed9e781"
      },
      "execution_count": null,
      "outputs": [
        {
          "output_type": "stream",
          "name": "stdout",
          "text": [
            "/content/bok_python/bok_python_final\n"
          ]
        }
      ]
    },
    {
      "cell_type": "code",
      "source": [
        "!chmod +x INSTALL_LINUX.sh\n",
        "!./INSTALL_LINUX.sh"
      ],
      "metadata": {
        "colab": {
          "base_uri": "https://localhost:8080/"
        },
        "id": "Uni3sy5QxT-e",
        "outputId": "ce000880-52ab-44ec-d463-2c1d63df6552"
      },
      "execution_count": null,
      "outputs": [
        {
          "output_type": "stream",
          "name": "stdout",
          "text": [
            "Processing ./bok_python/dist/bok_python-0.1.0-cp310-cp310-linux_x86_64.whl\n",
            "Requirement already satisfied: numpy in /usr/local/lib/python3.10/dist-packages (from bok-python==0.1.0) (1.25.2)\n",
            "Requirement already satisfied: pandas in /usr/local/lib/python3.10/dist-packages (from bok-python==0.1.0) (2.0.3)\n",
            "Requirement already satisfied: cython in /usr/local/lib/python3.10/dist-packages (from bok-python==0.1.0) (3.0.10)\n",
            "Requirement already satisfied: seaborn in /usr/local/lib/python3.10/dist-packages (from bok-python==0.1.0) (0.13.1)\n",
            "Requirement already satisfied: matplotlib in /usr/local/lib/python3.10/dist-packages (from bok-python==0.1.0) (3.7.1)\n",
            "Requirement already satisfied: scipy in /usr/local/lib/python3.10/dist-packages (from bok-python==0.1.0) (1.11.4)\n",
            "Requirement already satisfied: contourpy>=1.0.1 in /usr/local/lib/python3.10/dist-packages (from matplotlib->bok-python==0.1.0) (1.2.1)\n",
            "Requirement already satisfied: cycler>=0.10 in /usr/local/lib/python3.10/dist-packages (from matplotlib->bok-python==0.1.0) (0.12.1)\n",
            "Requirement already satisfied: fonttools>=4.22.0 in /usr/local/lib/python3.10/dist-packages (from matplotlib->bok-python==0.1.0) (4.53.0)\n",
            "Requirement already satisfied: kiwisolver>=1.0.1 in /usr/local/lib/python3.10/dist-packages (from matplotlib->bok-python==0.1.0) (1.4.5)\n",
            "Requirement already satisfied: packaging>=20.0 in /usr/local/lib/python3.10/dist-packages (from matplotlib->bok-python==0.1.0) (24.1)\n",
            "Requirement already satisfied: pillow>=6.2.0 in /usr/local/lib/python3.10/dist-packages (from matplotlib->bok-python==0.1.0) (9.4.0)\n",
            "Requirement already satisfied: pyparsing>=2.3.1 in /usr/local/lib/python3.10/dist-packages (from matplotlib->bok-python==0.1.0) (3.1.2)\n",
            "Requirement already satisfied: python-dateutil>=2.7 in /usr/local/lib/python3.10/dist-packages (from matplotlib->bok-python==0.1.0) (2.8.2)\n",
            "Requirement already satisfied: pytz>=2020.1 in /usr/local/lib/python3.10/dist-packages (from pandas->bok-python==0.1.0) (2023.4)\n",
            "Requirement already satisfied: tzdata>=2022.1 in /usr/local/lib/python3.10/dist-packages (from pandas->bok-python==0.1.0) (2024.1)\n",
            "Requirement already satisfied: six>=1.5 in /usr/local/lib/python3.10/dist-packages (from python-dateutil>=2.7->matplotlib->bok-python==0.1.0) (1.16.0)\n",
            "Installing collected packages: bok-python\n",
            "Successfully installed bok-python-0.1.0\n",
            "Processing ./bok_python/ssm/dist/cython_SSM-0.1.0-cp310-cp310-linux_x86_64.whl\n",
            "Installing collected packages: cython-SSM\n",
            "Successfully installed cython-SSM-0.1.0\n",
            "All packages installed successfully.\n"
          ]
        }
      ]
    },
    {
      "cell_type": "code",
      "source": [
        "!ls /content/bok_python/bok_python_final/"
      ],
      "metadata": {
        "colab": {
          "base_uri": "https://localhost:8080/"
        },
        "id": "TOtxUq6U1a0G",
        "outputId": "eaa034fb-89c6-482f-c5c5-c4315234cd65"
      },
      "execution_count": null,
      "outputs": [
        {
          "output_type": "stream",
          "name": "stdout",
          "text": [
            "bok_python\t    Main_ACF_AR.ipynb\t\tMain_SSM_DFM.ipynb  Main_Unit_Root_Test.ipynb\n",
            "INSTALL_LINUX.sh    Main_Bayes_LinearReg.ipynb\tMain_SSM_TVP.ipynb  Main_VAR.ipynb\n",
            "INSTALL_Window.bat  Main_Co_Integ_VECM.ipynb\tMain_SSM_UC.ipynb   test_data\n"
          ]
        }
      ]
    },
    {
      "cell_type": "code",
      "source": [
        "from google.colab import drive\n",
        "drive.mount('/content/drive')"
      ],
      "metadata": {
        "id": "N70QlERN2iT7"
      },
      "execution_count": null,
      "outputs": []
    },
    {
      "cell_type": "code",
      "source": [
        "!ls"
      ],
      "metadata": {
        "id": "_DQg4VH52Pw1",
        "colab": {
          "base_uri": "https://localhost:8080/"
        },
        "outputId": "f24e6dd8-20e3-4cb8-ed44-90631bb33023"
      },
      "execution_count": null,
      "outputs": [
        {
          "output_type": "stream",
          "name": "stdout",
          "text": [
            "bok_python\t    Main_ACF_AR.ipynb\t\tMain_SSM_DFM.ipynb  Main_Unit_Root_Test.ipynb\n",
            "INSTALL_LINUX.sh    Main_Bayes_LinearReg.ipynb\tMain_SSM_TVP.ipynb  Main_VAR.ipynb\n",
            "INSTALL_Window.bat  Main_Co_Integ_VECM.ipynb\tMain_SSM_UC.ipynb   test_data\n"
          ]
        }
      ]
    },
    {
      "cell_type": "code",
      "source": [],
      "metadata": {
        "id": "7YzOEqIt4okt"
      },
      "execution_count": null,
      "outputs": []
    }
  ]
}