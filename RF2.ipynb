{
  "nbformat": 4,
  "nbformat_minor": 0,
  "metadata": {
    "colab": {
      "name": "RF2.ipynb",
      "provenance": [],
      "collapsed_sections": [],
      "authorship_tag": "ABX9TyOk8NXm3Fk8KX8LQiART4dj",
      "include_colab_link": true
    },
    "kernelspec": {
      "name": "python3",
      "display_name": "Python 3"
    },
    "language_info": {
      "name": "python"
    }
  },
  "cells": [
    {
      "cell_type": "markdown",
      "metadata": {
        "id": "view-in-github",
        "colab_type": "text"
      },
      "source": [
        "<a href=\"https://colab.research.google.com/github/hyunchangyi/python101/blob/main/RF2.ipynb\" target=\"_parent\"><img src=\"https://colab.research.google.com/assets/colab-badge.svg\" alt=\"Open In Colab\"/></a>"
      ]
    },
    {
      "cell_type": "code",
      "source": [
        "# evaluate random forest algorithm for classification\n",
        "from numpy import mean\n",
        "from numpy import std\n",
        "from sklearn.datasets import make_classification\n",
        "from sklearn.model_selection import cross_val_score\n",
        "from sklearn.model_selection import RepeatedStratifiedKFold, KFold\n",
        "from sklearn.ensemble import RandomForestClassifier\n",
        "from sklearn.metrics import accuracy_score"
      ],
      "metadata": {
        "id": "nU5-CO8wiY1x"
      },
      "execution_count": 29,
      "outputs": []
    },
    {
      "cell_type": "code",
      "source": [
        "# define dataset\n",
        "X, y = make_classification(n_samples=15, n_features=5, n_informative=3, n_redundant=2, random_state=3)"
      ],
      "metadata": {
        "id": "mn5zl-6l4JWz"
      },
      "execution_count": 8,
      "outputs": []
    },
    {
      "cell_type": "code",
      "source": [
        "X, y"
      ],
      "metadata": {
        "colab": {
          "base_uri": "https://localhost:8080/"
        },
        "id": "1yoBCaWo4fdt",
        "outputId": "4a8ea486-8b8f-4460-c5e5-3cf80c2655d9"
      },
      "execution_count": 9,
      "outputs": [
        {
          "output_type": "execute_result",
          "data": {
            "text/plain": [
              "(array([[ 1.59856638, -1.9028913 ,  0.61708469,  1.67229209,  0.88637997],\n",
              "        [ 2.04916432, -2.1297731 ,  1.56596581,  2.87905716,  2.23265182],\n",
              "        [-0.84327098,  2.47988915,  1.37281465, -0.27888364,  1.09951426],\n",
              "        [ 0.77409613,  0.70699889,  1.5714014 ,  0.60152771,  1.05616046],\n",
              "        [-0.90093844,  0.65575703, -0.03115067,  0.04450309,  0.51745865],\n",
              "        [ 1.76804898, -0.59915681,  1.37144087,  0.94827574,  0.66614997],\n",
              "        [-2.00582619, -0.47822092,  0.18912706,  2.92461721,  3.656422  ],\n",
              "        [-2.12389185, -2.51077515, -3.46878997,  0.29631857, -0.7547815 ],\n",
              "        [-0.76157432,  0.71856839, -0.0087921 , -0.14448488,  0.2974966 ],\n",
              "        [ 1.02932791,  1.50259571,  1.99078352, -0.05463238,  0.63410717],\n",
              "        [ 1.66679257, -2.35919862,  0.70570966,  2.30831588,  1.43136011],\n",
              "        [ 1.96998565,  1.87726868,  3.85079035,  1.21666934,  2.33427977],\n",
              "        [ 0.70022348, -1.10057139,  0.31689387,  1.13778033,  0.75344025],\n",
              "        [-2.41587473, -0.5139843 , -0.84083895,  1.89059924,  2.37987658],\n",
              "        [ 0.09452107,  1.92731132,  1.39481686, -0.50467743,  0.40558501]]),\n",
              " array([0, 0, 1, 0, 1, 1, 0, 0, 1, 1, 0, 1, 0, 0, 1]))"
            ]
          },
          "metadata": {},
          "execution_count": 9
        }
      ]
    },
    {
      "cell_type": "code",
      "source": [
        "# summarize the dataset\n",
        "print(X.shape, y.shape)"
      ],
      "metadata": {
        "colab": {
          "base_uri": "https://localhost:8080/"
        },
        "id": "SjQ5byvO4VXc",
        "outputId": "7f09b1f0-3358-4779-8578-4c0e8a108bd0"
      },
      "execution_count": 10,
      "outputs": [
        {
          "output_type": "stream",
          "name": "stdout",
          "text": [
            "(15, 5) (15,)\n"
          ]
        }
      ]
    },
    {
      "cell_type": "code",
      "source": [
        "# define the model\n",
        "model = RandomForestClassifier(n_estimators=20)"
      ],
      "metadata": {
        "id": "s6iRlyHZ4jhe"
      },
      "execution_count": 51,
      "outputs": []
    },
    {
      "cell_type": "code",
      "source": [
        "model.get_params()"
      ],
      "metadata": {
        "colab": {
          "base_uri": "https://localhost:8080/"
        },
        "id": "oFUzgwj39oJU",
        "outputId": "32e7dd97-7dbc-4d8c-9cba-517b78c7defe"
      },
      "execution_count": 52,
      "outputs": [
        {
          "output_type": "execute_result",
          "data": {
            "text/plain": [
              "{'bootstrap': True,\n",
              " 'ccp_alpha': 0.0,\n",
              " 'class_weight': None,\n",
              " 'criterion': 'gini',\n",
              " 'max_depth': None,\n",
              " 'max_features': 'auto',\n",
              " 'max_leaf_nodes': None,\n",
              " 'max_samples': None,\n",
              " 'min_impurity_decrease': 0.0,\n",
              " 'min_samples_leaf': 1,\n",
              " 'min_samples_split': 2,\n",
              " 'min_weight_fraction_leaf': 0.0,\n",
              " 'n_estimators': 20,\n",
              " 'n_jobs': None,\n",
              " 'oob_score': False,\n",
              " 'random_state': None,\n",
              " 'verbose': 0,\n",
              " 'warm_start': False}"
            ]
          },
          "metadata": {},
          "execution_count": 52
        }
      ]
    },
    {
      "cell_type": "code",
      "source": [
        "# evaluate the model\n",
        "cv = KFold(n_splits=3, shuffle=False)"
      ],
      "metadata": {
        "id": "H__IKgQc4lwD"
      },
      "execution_count": 53,
      "outputs": []
    },
    {
      "cell_type": "code",
      "source": [
        "for train, test in cv.split(X, y):\n",
        "    print(f\"{train} {test}\")"
      ],
      "metadata": {
        "colab": {
          "base_uri": "https://localhost:8080/"
        },
        "id": "RpFrRyg-6N30",
        "outputId": "6827846d-356c-48fc-8714-89d8ec67169f"
      },
      "execution_count": 54,
      "outputs": [
        {
          "output_type": "stream",
          "name": "stdout",
          "text": [
            "[ 5  6  7  8  9 10 11 12 13 14] [0 1 2 3 4]\n",
            "[ 0  1  2  3  4 10 11 12 13 14] [5 6 7 8 9]\n",
            "[0 1 2 3 4 5 6 7 8 9] [10 11 12 13 14]\n"
          ]
        }
      ]
    },
    {
      "cell_type": "code",
      "source": [
        "# evaluate the model\n",
        "cv = KFold(n_splits=3, shuffle=True, random_state=1)"
      ],
      "metadata": {
        "id": "hKNKFZ_E6dXj"
      },
      "execution_count": 55,
      "outputs": []
    },
    {
      "cell_type": "code",
      "source": [
        "for train, test in cv.split(X, y):\n",
        "    print(f\"{train} {test}\")"
      ],
      "metadata": {
        "colab": {
          "base_uri": "https://localhost:8080/"
        },
        "outputId": "0964626a-d017-4c65-a612-185dd9aa7e69",
        "id": "JChiw_Hq6dXj"
      },
      "execution_count": 56,
      "outputs": [
        {
          "output_type": "stream",
          "name": "stdout",
          "text": [
            "[ 0  1  4  5  8  9 11 12 13 14] [ 2  3  6  7 10]\n",
            "[ 2  3  5  6  7  8  9 10 11 12] [ 0  1  4 13 14]\n",
            "[ 0  1  2  3  4  6  7 10 13 14] [ 5  8  9 11 12]\n"
          ]
        }
      ]
    },
    {
      "cell_type": "code",
      "source": [
        "X[train], y[train]"
      ],
      "metadata": {
        "colab": {
          "base_uri": "https://localhost:8080/"
        },
        "id": "IS9Y8Bjc7O7C",
        "outputId": "65d09a1a-0344-40cd-ef38-a90c9ffd6d9a"
      },
      "execution_count": 57,
      "outputs": [
        {
          "output_type": "execute_result",
          "data": {
            "text/plain": [
              "(array([[ 1.59856638, -1.9028913 ,  0.61708469,  1.67229209,  0.88637997],\n",
              "        [ 2.04916432, -2.1297731 ,  1.56596581,  2.87905716,  2.23265182],\n",
              "        [-0.84327098,  2.47988915,  1.37281465, -0.27888364,  1.09951426],\n",
              "        [ 0.77409613,  0.70699889,  1.5714014 ,  0.60152771,  1.05616046],\n",
              "        [-0.90093844,  0.65575703, -0.03115067,  0.04450309,  0.51745865],\n",
              "        [-2.00582619, -0.47822092,  0.18912706,  2.92461721,  3.656422  ],\n",
              "        [-2.12389185, -2.51077515, -3.46878997,  0.29631857, -0.7547815 ],\n",
              "        [ 1.66679257, -2.35919862,  0.70570966,  2.30831588,  1.43136011],\n",
              "        [-2.41587473, -0.5139843 , -0.84083895,  1.89059924,  2.37987658],\n",
              "        [ 0.09452107,  1.92731132,  1.39481686, -0.50467743,  0.40558501]]),\n",
              " array([0, 0, 1, 0, 1, 0, 0, 0, 0, 1]))"
            ]
          },
          "metadata": {},
          "execution_count": 57
        }
      ]
    },
    {
      "cell_type": "code",
      "source": [
        "scores = []\n",
        "\n",
        "for train, test in cv.split(X, y):\n",
        "    model.fit(X[train], y[train])\n",
        "    yhat = model.predict(X[test])\n",
        "    scores.append(accuracy_score(yhat, y[test]))"
      ],
      "metadata": {
        "id": "ypQMzQJC69tI"
      },
      "execution_count": 58,
      "outputs": []
    },
    {
      "cell_type": "code",
      "source": [
        "scores"
      ],
      "metadata": {
        "colab": {
          "base_uri": "https://localhost:8080/"
        },
        "id": "BrHauR2a7yCD",
        "outputId": "8152b029-8b7f-474b-ad81-7e049e40ad7a"
      },
      "execution_count": 59,
      "outputs": [
        {
          "output_type": "execute_result",
          "data": {
            "text/plain": [
              "[0.6, 1.0, 0.6]"
            ]
          },
          "metadata": {},
          "execution_count": 59
        }
      ]
    },
    {
      "cell_type": "code",
      "source": [
        "print('Accuracy: %.3f (%.3f)' % (mean(scores), std(scores)))"
      ],
      "metadata": {
        "colab": {
          "base_uri": "https://localhost:8080/"
        },
        "id": "oOaPqbu28RBG",
        "outputId": "930caab4-6c24-4b43-ca40-4848c346ef95"
      },
      "execution_count": 60,
      "outputs": [
        {
          "output_type": "stream",
          "name": "stdout",
          "text": [
            "Accuracy: 0.733 (0.189)\n"
          ]
        }
      ]
    },
    {
      "cell_type": "code",
      "source": [
        "n_scores = cross_val_score(model, X, y, scoring='accuracy', cv=cv, n_jobs=-1, error_score='raise')"
      ],
      "metadata": {
        "id": "tUCqFg9M45Uj"
      },
      "execution_count": 61,
      "outputs": []
    },
    {
      "cell_type": "code",
      "source": [
        "# report performance\n",
        "print('Accuracy: %.3f (%.3f)' % (mean(n_scores), std(n_scores)))"
      ],
      "metadata": {
        "colab": {
          "base_uri": "https://localhost:8080/"
        },
        "id": "HC86ELjS62zS",
        "outputId": "ef38e092-d80f-4ae9-e71e-072364843cb7"
      },
      "execution_count": 62,
      "outputs": [
        {
          "output_type": "stream",
          "name": "stdout",
          "text": [
            "Accuracy: 0.733 (0.189)\n"
          ]
        }
      ]
    },
    {
      "cell_type": "code",
      "source": [
        "# fit the model on the whole dataset\n",
        "model.fit(X, y)"
      ],
      "metadata": {
        "colab": {
          "base_uri": "https://localhost:8080/"
        },
        "id": "qpTR4xvf8zW9",
        "outputId": "c0dbb79e-2d7d-48df-ac1f-eabf2d52f613"
      },
      "execution_count": 63,
      "outputs": [
        {
          "output_type": "execute_result",
          "data": {
            "text/plain": [
              "RandomForestClassifier(n_estimators=20)"
            ]
          },
          "metadata": {},
          "execution_count": 63
        }
      ]
    },
    {
      "cell_type": "code",
      "source": [
        "model.predict(X[[0]])"
      ],
      "metadata": {
        "colab": {
          "base_uri": "https://localhost:8080/"
        },
        "outputId": "8ae7ff88-f00c-4af3-90e6-a10a1d3ce3a2",
        "id": "-DmCVvKr-g_o"
      },
      "execution_count": 67,
      "outputs": [
        {
          "output_type": "execute_result",
          "data": {
            "text/plain": [
              "array([0])"
            ]
          },
          "metadata": {},
          "execution_count": 67
        }
      ]
    },
    {
      "cell_type": "code",
      "source": [
        "model.predict_proba(X[[0]])"
      ],
      "metadata": {
        "colab": {
          "base_uri": "https://localhost:8080/"
        },
        "id": "QW2jWFSD9Axu",
        "outputId": "dca7e10b-4d34-45fc-d53d-8ddece00da49"
      },
      "execution_count": 64,
      "outputs": [
        {
          "output_type": "execute_result",
          "data": {
            "text/plain": [
              "array([[0.9, 0.1]])"
            ]
          },
          "metadata": {},
          "execution_count": 64
        }
      ]
    },
    {
      "cell_type": "code",
      "source": [
        "y[0]"
      ],
      "metadata": {
        "colab": {
          "base_uri": "https://localhost:8080/"
        },
        "id": "EQqMIVn19WRg",
        "outputId": "b4f4458d-ae2a-4587-952f-8b5c399b675a"
      },
      "execution_count": 65,
      "outputs": [
        {
          "output_type": "execute_result",
          "data": {
            "text/plain": [
              "0"
            ]
          },
          "metadata": {},
          "execution_count": 65
        }
      ]
    },
    {
      "cell_type": "code",
      "source": [
        "[tree.predict(X[[0]]) for tree in model.estimators_]"
      ],
      "metadata": {
        "colab": {
          "base_uri": "https://localhost:8080/"
        },
        "id": "ISNQMwey9Zyg",
        "outputId": "2dc53092-8f42-4da2-8bdc-5ca224e1871a"
      },
      "execution_count": 66,
      "outputs": [
        {
          "output_type": "execute_result",
          "data": {
            "text/plain": [
              "[array([0.]),\n",
              " array([0.]),\n",
              " array([0.]),\n",
              " array([0.]),\n",
              " array([0.]),\n",
              " array([0.]),\n",
              " array([0.]),\n",
              " array([0.]),\n",
              " array([0.]),\n",
              " array([0.]),\n",
              " array([0.]),\n",
              " array([0.]),\n",
              " array([0.]),\n",
              " array([0.]),\n",
              " array([0.]),\n",
              " array([0.]),\n",
              " array([1.]),\n",
              " array([0.]),\n",
              " array([0.]),\n",
              " array([1.])]"
            ]
          },
          "metadata": {},
          "execution_count": 66
        }
      ]
    }
  ]
}