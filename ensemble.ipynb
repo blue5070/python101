{
  "nbformat": 4,
  "nbformat_minor": 0,
  "metadata": {
    "colab": {
      "name": "python101_Ensemble.ipynb",
      "provenance": [],
      "collapsed_sections": [],
      "authorship_tag": "ABX9TyODcNrJgxeLODzpfMjWaNug",
      "include_colab_link": true
    },
    "kernelspec": {
      "name": "python3",
      "display_name": "Python 3"
    },
    "language_info": {
      "name": "python"
    }
  },
  "cells": [
    {
      "cell_type": "markdown",
      "metadata": {
        "id": "view-in-github",
        "colab_type": "text"
      },
      "source": [
        "<a href=\"https://colab.research.google.com/github/hyunchangyi/python101/blob/main/ensemble.ipynb\" target=\"_parent\"><img src=\"https://colab.research.google.com/assets/colab-badge.svg\" alt=\"Open In Colab\"/></a>"
      ]
    },
    {
      "cell_type": "markdown",
      "source": [
        "# 동전 앞/뒷면 예측 문제\n",
        "\n",
        "문제를 간단히 하기 위해 항상 앞면(숫자 0)이 나오는 것으로 가정\n",
        "\n",
        "각 분류기는 p > 0.5 확률로 0 예측하고 (1-p)확률로 1로 예측\n",
        "\n",
        "## p가 작더라도 분류기가 많아지면 예측력이 높아질까?"
      ],
      "metadata": {
        "id": "fn7d2qN7Obzl"
      }
    },
    {
      "cell_type": "code",
      "source": [
        "# p 정확도인 n 개 분류기의 예측 시뮬레이션\n",
        "classifiers = lambda n, p : (np.random.uniform(low=0, high=1, size=n) < p)"
      ],
      "metadata": {
        "id": "T65HegopNyzS"
      },
      "execution_count": null,
      "outputs": []
    },
    {
      "cell_type": "code",
      "source": [
        "# True는 정확히 맞춘 분류기\n",
        "# 정확도가 높아질수록 정확히 맞춘 분류기 비중이 높아짐\n",
        "classifiers(10, 0.8)"
      ],
      "metadata": {
        "colab": {
          "base_uri": "https://localhost:8080/"
        },
        "id": "J8ufVTgUPAS4",
        "outputId": "115ed12f-0175-45f1-87e9-16571f2987a7"
      },
      "execution_count": null,
      "outputs": [
        {
          "output_type": "execute_result",
          "data": {
            "text/plain": [
              "array([ True,  True, False, False, False,  True,  True,  True,  True,\n",
              "        True])"
            ]
          },
          "metadata": {},
          "execution_count": 33
        }
      ]
    },
    {
      "cell_type": "markdown",
      "source": [
        "정확도가 같은 여러 분류기의 과반투표로 예측한다면..."
      ],
      "metadata": {
        "id": "Z-rnCxkhRdbD"
      }
    },
    {
      "cell_type": "code",
      "source": [
        "n = 10\n",
        "p = 0.8\n",
        "\n",
        "if sum(classifiers(n, p))/n >= 0.5:\n",
        "    print('0')\n",
        "else:\n",
        "    print('1')"
      ],
      "metadata": {
        "colab": {
          "base_uri": "https://localhost:8080/"
        },
        "id": "WEcM-Li0Rnbr",
        "outputId": "73a1aa02-4b06-4757-aac1-700f5007eb11"
      },
      "execution_count": null,
      "outputs": [
        {
          "output_type": "stream",
          "name": "stdout",
          "text": [
            "0\n"
          ]
        }
      ]
    },
    {
      "cell_type": "markdown",
      "source": [
        "같은 방식으로 여러번 예측을 수행했을때 정확도는?"
      ],
      "metadata": {
        "id": "KUjpqUSwSDwl"
      }
    },
    {
      "cell_type": "code",
      "source": [
        "n = 10\n",
        "p = 0.9\n",
        "T = 1000\n",
        "\n",
        "sum([sum(classifiers(n, p))/n >= 0.5 for i in range(T)])/T"
      ],
      "metadata": {
        "colab": {
          "base_uri": "https://localhost:8080/"
        },
        "outputId": "c1820594-3f9c-49a2-a3ba-6aa46f94f651",
        "id": "BPglQPlnR--D"
      },
      "execution_count": null,
      "outputs": [
        {
          "output_type": "execute_result",
          "data": {
            "text/plain": [
              "1.0"
            ]
          },
          "metadata": {},
          "execution_count": 46
        }
      ]
    },
    {
      "cell_type": "markdown",
      "source": [
        "정확도가 낮으면?"
      ],
      "metadata": {
        "id": "7oRbeqMASpKv"
      }
    },
    {
      "cell_type": "code",
      "source": [
        "n = 1000\n",
        "p = 0.51\n",
        "T = 1000\n",
        "\n",
        "sum([sum(classifiers(n, p))/n >= 0.5 for i in range(T)])/T"
      ],
      "metadata": {
        "colab": {
          "base_uri": "https://localhost:8080/"
        },
        "outputId": "cc0e07a1-2fa5-4122-fc5f-fc03bc03c101",
        "id": "j_sIgOciSofx"
      },
      "execution_count": null,
      "outputs": [
        {
          "output_type": "execute_result",
          "data": {
            "text/plain": [
              "0.775"
            ]
          },
          "metadata": {},
          "execution_count": 67
        }
      ]
    }
  ]
}