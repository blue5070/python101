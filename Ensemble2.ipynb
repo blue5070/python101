{
  "nbformat": 4,
  "nbformat_minor": 0,
  "metadata": {
    "colab": {
      "name": "Ensemble2.ipynb",
      "provenance": [],
      "collapsed_sections": [],
      "authorship_tag": "ABX9TyNIwihe0UFEXwobPWEX1Uyy",
      "include_colab_link": true
    },
    "kernelspec": {
      "name": "python3",
      "display_name": "Python 3"
    },
    "language_info": {
      "name": "python"
    }
  },
  "cells": [
    {
      "cell_type": "markdown",
      "metadata": {
        "id": "view-in-github",
        "colab_type": "text"
      },
      "source": [
        "<a href=\"https://colab.research.google.com/github/hyunchangyi/python101/blob/main/Ensemble2.ipynb\" target=\"_parent\"><img src=\"https://colab.research.google.com/assets/colab-badge.svg\" alt=\"Open In Colab\"/></a>"
      ]
    },
    {
      "cell_type": "markdown",
      "source": [
        "# 동전 앞/뒷면 예측 문제\n",
        "\n",
        "문제를 간단히 하기 위해 항상 앞면(숫자 0)이 나오는 것으로 가정\n",
        "\n",
        "각 분류기는 p > 0.5 확률로 0 예측하고 (1-p)확률로 1로 예측\n",
        "\n",
        "## p가 작더라도 분류기가 많아지면 예측력이 높아질까?"
      ],
      "metadata": {
        "id": "fn7d2qN7Obzl"
      }
    },
    {
      "cell_type": "code",
      "source": [
        "import numpy as np"
      ],
      "metadata": {
        "id": "P7G0gXpWwH6d"
      },
      "execution_count": 6,
      "outputs": []
    },
    {
      "cell_type": "markdown",
      "source": [
        "던져진 동전은 0.5 확률로 앞면(1), 0.5확률로 뒷면(0)이 나타남"
      ],
      "metadata": {
        "id": "MoO4fpuJwXeM"
      }
    },
    {
      "cell_type": "code",
      "source": [
        "E = lambda N: np.random.choice([0, 1], size=N, p=[0.5, 0.5])"
      ],
      "metadata": {
        "id": "9sYU_O9twqRo"
      },
      "execution_count": 7,
      "outputs": []
    },
    {
      "cell_type": "code",
      "source": [
        "E(2)"
      ],
      "metadata": {
        "id": "jMc82nQ2yekk",
        "outputId": "39dc0b4b-f6d1-4de2-9099-1a67875911af",
        "colab": {
          "base_uri": "https://localhost:8080/"
        }
      },
      "execution_count": 8,
      "outputs": [
        {
          "output_type": "execute_result",
          "data": {
            "text/plain": [
              "array([1, 1])"
            ]
          },
          "metadata": {},
          "execution_count": 8
        }
      ]
    },
    {
      "cell_type": "markdown",
      "source": [
        "predictor는 prob 확률로 정확한 클래스(e)을 예측, 1-prob 확률로 틀린 클래스(1-e)을 예측"
      ],
      "metadata": {
        "id": "FrdO9-SSyB5S"
      }
    },
    {
      "cell_type": "code",
      "source": [
        "prob = 0.6\n",
        "predictor = lambda e, prob: e if np.random.choice([False, True], p = [1 - prob, prob]) else 1 - e"
      ],
      "metadata": {
        "id": "QnpAXS_Bx3AW"
      },
      "execution_count": 9,
      "outputs": []
    },
    {
      "cell_type": "code",
      "source": [
        "NP = 10 # number of predictors\n",
        "\n",
        "e = E(1)\n",
        "\n",
        "preds = [predictor(e, 0.5) for i in range(NP)]"
      ],
      "metadata": {
        "id": "rQqEHk3n0czU"
      },
      "execution_count": 10,
      "outputs": []
    },
    {
      "cell_type": "markdown",
      "source": [
        "전체 predictors 의 예측 (다수결)"
      ],
      "metadata": {
        "id": "c8bA4kcH280l"
      }
    },
    {
      "cell_type": "code",
      "source": [
        "vote = 1 if sum(preds) >= 0.5 else 0"
      ],
      "metadata": {
        "id": "XkyEAIHp3UQg"
      },
      "execution_count": 14,
      "outputs": []
    },
    {
      "cell_type": "code",
      "source": [
        "vote"
      ],
      "metadata": {
        "colab": {
          "base_uri": "https://localhost:8080/"
        },
        "id": "aNkSTLTK3vd_",
        "outputId": "2e988aa4-4ad5-47e6-9573-ffc5c0bbaa34"
      },
      "execution_count": 15,
      "outputs": [
        {
          "output_type": "execute_result",
          "data": {
            "text/plain": [
              "1"
            ]
          },
          "metadata": {},
          "execution_count": 15
        }
      ]
    },
    {
      "cell_type": "code",
      "source": [
        "vote == e"
      ],
      "metadata": {
        "id": "XZ2UQShA2VZ9",
        "colab": {
          "base_uri": "https://localhost:8080/"
        },
        "outputId": "79fe7d5e-2326-4e4b-e1e1-4f61613063bd"
      },
      "execution_count": 16,
      "outputs": [
        {
          "output_type": "execute_result",
          "data": {
            "text/plain": [
              "array([False])"
            ]
          },
          "metadata": {},
          "execution_count": 16
        }
      ]
    },
    {
      "cell_type": "code",
      "source": [
        "learner = lambda event, p: event if np.random.uniform"
      ],
      "metadata": {
        "id": "lpsEMUy0w2-Z",
        "outputId": "2d03a806-164a-41dc-aee7-a03183299551",
        "colab": {
          "base_uri": "https://localhost:8080/"
        }
      },
      "execution_count": null,
      "outputs": [
        {
          "output_type": "execute_result",
          "data": {
            "text/plain": [
              "array([1, 0, 0, 0, 1, 0, 0, 1, 0, 1])"
            ]
          },
          "metadata": {},
          "execution_count": 12
        }
      ]
    },
    {
      "cell_type": "code",
      "source": [
        "# p 정확도인 n 개 분류기의 예측 시뮬레이션\n",
        "classifiers = lambda n, p : (np.random.uniform(low=0, high=1, size=n) < p)"
      ],
      "metadata": {
        "id": "T65HegopNyzS"
      },
      "execution_count": null,
      "outputs": []
    },
    {
      "cell_type": "code",
      "source": [
        "# True는 정확히 맞춘 분류기\n",
        "# 정확도가 높아질수록 정확히 맞춘 분류기 비중이 높아짐\n",
        "classifiers(10, 0.8)"
      ],
      "metadata": {
        "colab": {
          "base_uri": "https://localhost:8080/"
        },
        "id": "J8ufVTgUPAS4",
        "outputId": "115ed12f-0175-45f1-87e9-16571f2987a7"
      },
      "execution_count": null,
      "outputs": [
        {
          "output_type": "execute_result",
          "data": {
            "text/plain": [
              "array([ True,  True, False, False, False,  True,  True,  True,  True,\n",
              "        True])"
            ]
          },
          "metadata": {},
          "execution_count": 33
        }
      ]
    },
    {
      "cell_type": "markdown",
      "source": [
        "정확도가 같은 여러 분류기의 과반투표로 예측한다면..."
      ],
      "metadata": {
        "id": "Z-rnCxkhRdbD"
      }
    },
    {
      "cell_type": "code",
      "source": [
        "n = 10\n",
        "p = 0.8\n",
        "\n",
        "if sum(classifiers(n, p))/n >= 0.5:\n",
        "    print('0')\n",
        "else:\n",
        "    print('1')"
      ],
      "metadata": {
        "colab": {
          "base_uri": "https://localhost:8080/"
        },
        "id": "WEcM-Li0Rnbr",
        "outputId": "73a1aa02-4b06-4757-aac1-700f5007eb11"
      },
      "execution_count": null,
      "outputs": [
        {
          "output_type": "stream",
          "name": "stdout",
          "text": [
            "0\n"
          ]
        }
      ]
    },
    {
      "cell_type": "markdown",
      "source": [
        "같은 방식으로 여러번 예측을 수행했을때 정확도는?"
      ],
      "metadata": {
        "id": "KUjpqUSwSDwl"
      }
    },
    {
      "cell_type": "code",
      "source": [
        "n = 10\n",
        "p = 0.9\n",
        "T = 1000\n",
        "\n",
        "sum([sum(classifiers(n, p))/n >= 0.5 for i in range(T)])/T"
      ],
      "metadata": {
        "colab": {
          "base_uri": "https://localhost:8080/"
        },
        "outputId": "c1820594-3f9c-49a2-a3ba-6aa46f94f651",
        "id": "BPglQPlnR--D"
      },
      "execution_count": null,
      "outputs": [
        {
          "output_type": "execute_result",
          "data": {
            "text/plain": [
              "1.0"
            ]
          },
          "metadata": {},
          "execution_count": 46
        }
      ]
    },
    {
      "cell_type": "markdown",
      "source": [
        "정확도가 낮으면?"
      ],
      "metadata": {
        "id": "7oRbeqMASpKv"
      }
    },
    {
      "cell_type": "code",
      "source": [
        "n = 1000\n",
        "p = 0.51\n",
        "T = 1000\n",
        "\n",
        "sum([sum(classifiers(n, p))/n >= 0.5 for i in range(T)])/T"
      ],
      "metadata": {
        "colab": {
          "base_uri": "https://localhost:8080/"
        },
        "outputId": "cc0e07a1-2fa5-4122-fc5f-fc03bc03c101",
        "id": "j_sIgOciSofx"
      },
      "execution_count": null,
      "outputs": [
        {
          "output_type": "execute_result",
          "data": {
            "text/plain": [
              "0.775"
            ]
          },
          "metadata": {},
          "execution_count": 67
        }
      ]
    }
  ]
}