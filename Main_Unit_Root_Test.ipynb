{
 "cells": [
  {
   "cell_type": "code",
   "execution_count": 7,
   "metadata": {},
   "outputs": [],
   "source": [
    "# 사용하려는 라이브러리 호출 및 저장\n",
    "import bok_python as bp\n",
    "import numpy as np\n",
    "import pandas as pd\n",
    "import scipy.stats as sp\n",
    "import matplotlib.pyplot as plt\n",
    "import seaborn as sns"
   ]
  },
  {
   "cell_type": "markdown",
   "metadata": {},
   "source": [
    "## 1. 구성함수 (상위함수와 사용되는 하위함수)\n",
    "- `Long_Var`: 장기 분산 추정 (Bartlett 또는 Quadratic Kernel) 사용\n",
    "\n",
    "- `MIC`: 수정된 정보기준 (Modified Information Criteria)를 활용한 최적 시차 추정\n",
    "\n",
    "- `UR_ADF_GLS`: GLS 추세 제거법 (GLS detrending)을 사용한 ADF 계열의 단위근 검정"
   ]
  },
  {
   "cell_type": "markdown",
   "metadata": {},
   "source": [
    "## 2. 데이터 불러오기\n",
    "- 패키지를 적용하기 위해 데이터를 불러오자.\n",
    "\n",
    "데이터는 한국의 전기대비 실질 GDP 성장률, CD91일 금리, 인플레이션율 소비자 가격 지수 (Consumer Price Index, CPI), CD91일 금리로 1999년 4분기부터 2023년 4분끼지의 분기별 자료이다. 해당 데이터는 ECOS (https://ecos.bok.or.kr/#/)에서 다운로드 받았으며 컴퓨터에 \"python_data.xlsx\"라는 이름의 엑셀파일의 \"KORmacro\"라는 시트에 저장되어 있다. 이때, 인플레이션율의 경우 소비자 가격 지수 (Consumer Price Index, CPI)의 전년동기대비 치분 (YoY)을 통해 미리 변환한 것이다."
   ]
  },
  {
   "cell_type": "code",
   "execution_count": 8,
   "metadata": {},
   "outputs": [
    {
     "name": "stdout",
     "output_type": "stream",
     "text": [
      "[[ 2.50825674 -0.3         6.97      ]\n",
      " [ 3.62787647  1.2         5.95      ]\n",
      " [ 4.91977836  1.3         5.78      ]\n",
      " [ 4.15845571  1.4         4.97      ]\n",
      " [ 3.24432712  1.8         4.58      ]\n",
      " [ 2.49312186  2.5         4.66      ]\n",
      " [ 2.65301778  1.8         4.82      ]\n",
      " [ 2.48327342  2.          4.84      ]\n",
      " [ 3.26274729  1.1         4.91      ]\n",
      " [ 3.99447248 -0.7         4.67      ]\n",
      " [ 3.25179791 -0.2         4.43      ]\n",
      " [ 3.11885552  1.9         3.96      ]\n",
      " [ 3.46197014  2.6         4.17      ]\n",
      " [ 3.19518718  1.3         4.09      ]\n",
      " [ 3.35335611  0.8         3.91      ]\n",
      " [ 4.24041364  0.4         3.71      ]\n",
      " [ 3.31458915  0.8         3.44      ]\n",
      " [ 3.19908562  0.9         3.54      ]\n",
      " [ 2.93407558  1.9         3.51      ]\n",
      " [ 2.30935249  1.5         3.57      ]\n",
      " [ 2.43250478  1.          3.98      ]\n",
      " [ 2.06002426  1.6         4.22      ]\n",
      " [ 2.21389642  0.7         4.39      ]\n",
      " [ 2.49257567  1.6         4.65      ]\n",
      " [ 2.10258113  0.8         4.64      ]\n",
      " [ 1.98337999  1.7         4.94      ]\n",
      " [ 2.41944139  1.7         5.01      ]\n",
      " [ 2.27377891  1.2         5.2       ]\n",
      " [ 3.32322415  2.2         5.5       ]\n",
      " [ 3.73121014  0.4         5.45      ]\n",
      " [ 4.73135824  0.5         5.37      ]\n",
      " [ 5.39368634  0.8         5.69      ]\n",
      " [ 4.39733443 -3.3         5.44      ]\n",
      " [ 3.83690078  0.1         2.79      ]\n",
      " [ 2.72780458  1.3         2.41      ]\n",
      " [ 1.96074145  3.          2.51      ]\n",
      " [ 2.37902437  0.7         2.8       ]\n",
      " [ 2.94027161  2.          2.86      ]\n",
      " [ 2.62864812  1.9         2.47      ]\n",
      " [ 2.83339523  1.2         2.62      ]\n",
      " [ 3.18327101  1.2         2.73      ]\n",
      " [ 3.76688697  0.9         3.14      ]\n",
      " [ 3.90441865  0.5         3.46      ]\n",
      " [ 4.2250188   0.5         3.59      ]\n",
      " [ 3.8872065   0.5         3.56      ]\n",
      " [ 2.96770852  0.9         3.54      ]\n",
      " [ 2.40009754  0.6         3.54      ]\n",
      " [ 1.59754287  0.5         3.22      ]\n",
      " [ 1.70140049  0.5         2.89      ]\n",
      " [ 1.54569289  0.9         2.83      ]\n",
      " [ 1.20789082  1.2         2.74      ]\n",
      " [ 1.35696381  0.9         2.67      ]\n",
      " [ 1.06295009  0.9         2.65      ]\n",
      " [ 1.12170715  0.9         2.65      ]\n",
      " [ 1.59522687  0.9         2.65      ]\n",
      " [ 1.3716145   0.3         2.52      ]\n",
      " [ 0.97738915  0.5         2.16      ]\n",
      " [ 0.69473082  0.8         2.06      ]\n",
      " [ 0.56165364  0.5         1.77      ]\n",
      " [ 0.64359113  1.5         1.63      ]\n",
      " [ 0.91633096  0.7         1.61      ]\n",
      " [ 0.85565509  0.3         1.64      ]\n",
      " [ 0.83713261  1.2         1.54      ]\n",
      " [ 0.73243513  0.4         1.35      ]\n",
      " [ 1.44099534  0.6         1.44      ]\n",
      " [ 2.17585796  1.          1.49      ]\n",
      " [ 1.90322093  0.8         1.4       ]\n",
      " [ 2.19425928  1.4         1.39      ]\n",
      " [ 1.43076049 -0.3         1.5       ]\n",
      " [ 1.07093613  1.3         1.65      ]\n",
      " [ 1.48114637  0.7         1.65      ]\n",
      " [ 1.53448438  0.6         1.65      ]\n",
      " [ 1.77119664  0.6         1.76      ]\n",
      " [ 0.54027934 -0.1         1.88      ]\n",
      " [ 0.65008267  1.1         1.84      ]\n",
      " [ 0.04525046  0.4         1.57      ]\n",
      " [ 0.29518094  1.2         1.5       ]\n",
      " [ 0.95901119 -1.3         1.37      ]\n",
      " [ 0.00904109 -3.          0.97      ]\n",
      " [ 0.72223454  2.3         0.7       ]\n",
      " [ 0.45312085  1.3         0.65      ]\n",
      " [ 1.41902654  1.8         0.72      ]\n",
      " [ 2.46068572  0.9         0.69      ]\n",
      " [ 2.5035804   0.1         0.81      ]\n",
      " [ 3.48159705  1.4         1.18      ]\n",
      " [ 3.83714626  0.7         1.47      ]\n",
      " [ 5.23169788  0.8         1.8       ]\n",
      " [ 5.67635578  0.2         2.73      ]\n",
      " [ 5.08305367 -0.3         3.91      ]\n",
      " [ 4.49628499  0.3         3.64      ]\n",
      " [ 3.21264988  0.6         3.63      ]\n",
      " [ 3.07911675  0.6         3.74      ]\n",
      " [ 3.35106117  0.6         3.83      ]]\n"
     ]
    }
   ],
   "source": [
    "dataset = pd.read_excel('./test_data/python_data.xlsx', sheet_name='KORmacro')\n",
    "data = pd.DataFrame(dataset)\n",
    "sample = data.copy() # 2000 Q4 ~ 2023 Q4\n",
    "sample.columns = ['Date', 'rGDP', 'cd91', 'cpi']\n",
    "sample = sample.drop(columns='Date')\n",
    "Y = bp.matrix(sample)\n",
    "y = np.hstack((Y[:,2], Y[:,0], Y[:,1])) # inf, rgdp, cd91\n",
    "print(y)"
   ]
  },
  {
   "cell_type": "markdown",
   "metadata": {},
   "source": [
    "## 3. 장기 분산 추정\n",
    "\n",
    "#### 구문\n",
    "`bp` 패키지 속의 `Long_Var`라는 함수를 사용하면 장기 분산을 추정할 수 있다. 이때, `Long_Var`라는 함수는 다음과 구성되어 있다.\n",
    "\n",
    "> *<p style=\"font-size:20px\">`Jhat = bp.Long_Var(y,window=None)`</p>*\n",
    "> *<p style=\"font-size:15px\">장기 분산 추정</p>*\n",
    "> - **입력**:\n",
    "</br></br>\n",
    "    `y`: 추정하고자하는 변수(들), 단변수 또는 다변수 모두 가능\n",
    "    </br></br>\n",
    "    `window`: 사용하고자하는 윈도우의 종류\n",
    "    </br></br>\n",
    "        `1`: Bartlett Window (Newey-West 추정량)\n",
    "        </br></br>\n",
    "        `2`: AR(1) 과정을 통해 근사한 밴드 넓이 파라미터 (bandwidth parameter)를 사용한 Quadratic Window (default)\n",
    "        </br></br>\n",
    "> - **출력**:\n",
    "</br></br>\n",
    "    `Jhat`: 장기 분산 추정치\n",
    "    </br></br>"
   ]
  },
  {
   "cell_type": "markdown",
   "metadata": {},
   "source": [
    "#### 이론\n",
    "다음과 같은 모형을 고려해보자.\n",
    "$\\begin{equation}\n",
    "    y_{t} = x_{t}^{\\prime}\\beta + u_{t} \\notag\n",
    "\\end{equation}$\n",
    "\n",
    "OLS 기법을 사용한 $\\beta$라는 계수값은 다음과 같은 점근적 분포를 따른다.\n",
    "\\begin{align}\n",
    "    \\sqrt{T}(\\hat{\\beta}-\\beta) & = \\underbrace{\\Bigg(\\frac{1}{T}\\sum_{t=1}^{T}{x_{t}x_{t}^{\\prime}}\\Bigg)^{-1}}_{\\to^{p}B_{\\infty}^{-1}}\\cdot\\underbrace{\\frac{1}{\\sqrt{T}}\\sum_{t=1}^{T}{x_{t}u_{t}}}_{\\to^{d}\\mathcal{N}(0,J_{\\infty})} \\notag \\\\\n",
    "    & \\to^{d} B_{\\infty}^{-1}\\cdot\\mathcal{N}(0,J_{\\infty}) \\notag \\\\\n",
    "    & \\approx^{d}\\mathcal{N}(0,B_{\\infty}^{-1}\\cdot J_{\\infty}\\cdot {B_{\\infty}^{-1}}^{\\prime}) \\notag\n",
    "\\end{align}\n",
    "이때, 점근적 분포의 분산항을 이분산과 자기공분산에 견고한 (Heteroskedasticity and Autocorrelation Consistent, HAC) 분산-공분산 행렬이라고 부른다.\n",
    "\n",
    "한편, HAC 분산-공분산 행렬의 추정에 있어서 $J_{\\infty}=\\sum_{j=-\\infty}^{\\infty}{\\Gamma(j)}$를 추정하는 것이 상당히 중요하며, 이는 스펙트럼 분석 (spectral analysis)로 할 수 있다. 정의에 따라, 다변수 스펙트럼 밀도 함수는 다음과 같다.\n",
    "$\\begin{equation}\n",
    "    h(w) = \\frac{1}{2\\pi}\\sum_{\\tau=-\\infty}^{\\infty}{\\exp{-i\\cdot w\\cdot \\tau}R(\\tau)} \\notag\n",
    "\\end{equation}$\n",
    "이후,\n",
    "\\begin{equation}\n",
    "    \\exp{(-i\\cdot w\\cdot \\tau)} = \\cos{(ws)}\\pm\\sin{(ws)} \\notag\n",
    "\\end{equation}\n",
    "와\n",
    "\\begin{equation}\n",
    "    \\sin{(-x)} = \\sin{(x)} \\notag\n",
    "\\end{equation}\n",
    "라는 관계를 사용하면, 위 스펙트럴 밀도함수는 다음과 같이 변환하여 표현할 수 있다.\n",
    "\\begin{equation}\n",
    "    h(w) = \\frac{1}{2\\pi}\\sum_{\\tau=-\\infty}^{\\infty}{\\cos{(w\\tau)}R(\\tau)} \\tag{1}\n",
    "\\end{equation}\n",
    "\n",
    "더 나아가, $R(\\tau)$를 표본 추정량으로 대체하고, $-\\infty$에서 $\\infty$까지의 무한합을 $-(T-1)$부터 $(T-1)$까지의 유한합으로 대체하면, 식 (1)의 스펙트럴 밀도함수는 다음과 같은 형태로 대체될 수 있다.\n",
    "\\begin{equation}\n",
    "    \\hat{h}_{**}(w) = \\frac{1}{2\\pi}\\sum_{\\tau=-(T-1)}^{T-1}{k\\Bigg(\\frac{\\tau}{s_{T}}\\Bigg)\\cos{(w\\tau)}\\hat{R}(\\tau)} \\notag\n",
    "\\end{equation}\n",
    "이때, 스펙트럴 밀도함수는 $k(\\cdot)$로 표기된 커넬 함수 (kernel function)와 $s_{T}$라는 밴드 넓이 파라미터 (band width parameter)에 따라 달라진다는 특징을 가진다.\n",
    "\n",
    "- 커넬 함수\n",
    "\n",
    "    우선, 다양한 커넬 함수의 후보 중에서 Bartlett 커넬과 Quadratic 커넬이 가장 널리 사용된다.\n",
    "\n",
    "    1. Bartlett 커넬\n",
    "\n",
    "        $\\begin{equation}\n",
    "        k_{BT}(x) = \\begin{cases}\n",
    "            1-|x| & \\text{ for }|x|\\leq 1 \\\\\n",
    "            0 & \\text{ otherwise}\n",
    "        \\end{cases} \\notag\n",
    "    \\end{equation}$\n",
    "\n",
    "    2. Qudratic 커넬\n",
    "\n",
    "        $\\begin{equation}\n",
    "            k_{QS}(x) = \\frac{25}{12\\pi^{2}x^{2}}\\Bigg(\\frac{\\sin{(\\frac{6\\pi x}{5})}}{\\frac{6\\pi x}{5}}-\\cos{\\Bigg(\\frac{6\\pi x}{5}\\Bigg)}\\Bigg) \\notag\n",
    "        \\end{equation}$\n",
    "\n",
    "- 밴드 넓이 파라미터\n",
    "\n",
    "    한편, Andrews (1991)은 다음과 같이 최적 추정량을 통해 각 커넬 함수에 대한 밴드 넓이 파라미터를 제시하였다. 위에서 제시된 커넬 함수에 대한 밴드 넓이 파라미터는 다음과 같은 추정량을 사용한다.\n",
    "\n",
    "    1. Bartlett 커넬: $\\hat{s}_{T}=1.1447(\\hat{\\alpha}(1)\\cdot T)^{1/3}$\n",
    "    2. Qudratic 커넬: $\\hat{s}_{T}=1.3221(\\hat{\\alpha}(2)\\cdot T)^{1/5}$\n",
    "\n",
    "    이때, $\\hat{\\alpha}$는 다음과 같이 AR(1) 모형을 통해 근사하여 도출한다.\n",
    "    $\\begin{equation}\n",
    "        y_{t} = \\rho_{a}y_{t-1} + u_{t}\\text{, }u_{t}\\sim WN(0,\\sigma_{a}^{2}) \\notag\n",
    "    \\end{equation}$\n",
    "    라는 AR(1) 과정은 다음과 같은 계수 및 분산-공분산 추정량을 가진다.\n",
    "    $\\begin{align}\n",
    "        & \\hat{\\rho}_{a} = \\Bigg(\\sum\\hat{V}_{at-1}^{2}\\Bigg)^{-1}\\Bigg(\\sum{\\hat{V}_{at-1}\\hat{V}_{at}}\\Bigg) \\notag \\\\\n",
    "        & \\hat{\\sigma}_{a} = \\frac{1}{T}\\sum{\\Bigg(\\hat{V}_{at}-\\hat{\\rho}_{a}\\hat{V}_{at-1}\\Bigg)^{2}} \\notag\n",
    "    \\end{align}$\n",
    "    이를 사용하면, 다음과 같은 수식을 통해 $\\hat{\\alpha}(1)$과 $\\hat{\\alpha}(2)$를 도출할 수 있다.\n",
    "    $\\begin{align}\n",
    "        & \\hat{\\alpha}(1) = \\Bigg(\\sum_{a=1}^{p}{w_{a}\\frac{4\\hat{\\rho}_{a}^{2}\\hat{\\sigma}_{a}^{4}}{(1-\\hat{\\rho}_{a})^{6}(1+\\hat{\\rho}_{a})^{2}}}\\Bigg) / \\Bigg(\\sum_{a=1}^{p}{w_{a}\\frac{\\hat{\\sigma}_{a}^{4}}{(1-\\hat{\\rho}_{a})^{4}}}\\Bigg) \\notag \\\\\n",
    "        & \\hat{\\alpha}(2) = \\Bigg(\\sum_{a=1}^{p}{w_{a}\\frac{4\\hat{\\rho}_{a}^{2}\\hat{\\sigma}_{a}^{4}}{(1-\\hat{\\rho}_{a})^{8}}}\\Bigg) / \\Bigg(\\sum_{a=1}^{p}{w_{a}\\frac{\\hat{\\sigma}_{a}^{4}}{(1-\\hat{\\rho}_{a})^{4}}}\\Bigg) \\notag\n",
    "    \\end{align}$\n",
    "\n",
    "이때, Bartlett 커넬을 사용하여 추정한 분산-공분산 통계량을 Newey-West HAC 분산-공분산 추정량이라고 부른다. 다만, Andrews (1991)의 경우, 다른 커넬 함수를 사용하는 경우에 비해 수렴의 속도가 빠른 것과 같은 다양한 좋은 성질들에 근거하여 Quadratic 커넬을 사용하는 것을 추천한다."
   ]
  },
  {
   "cell_type": "markdown",
   "metadata": {},
   "source": [
    "#### 예시\n",
    "이전에 `inf`로 저장한 인플레이션의 장기분산을 두 가지 윈도우를 사용하여 추정해보자. 우선 `window`라는 입력값을 사용하지 않을 경우, default 옵션인 AR(1) 과정을 통해 근사한 밴드 넓이 파라미터를 사용한 Quadratic Window를 통한 장기분산 추정치를 얻을 수 있다."
   ]
  },
  {
   "cell_type": "code",
   "execution_count": 9,
   "metadata": {},
   "outputs": [
    {
     "name": "stdout",
     "output_type": "stream",
     "text": [
      "1.1679721285967266\n"
     ]
    }
   ],
   "source": [
    "inf = Y[:,0]\n",
    "Jhat = bp.Long_Var(inf)\n",
    "print(Jhat[0,0])"
   ]
  },
  {
   "cell_type": "markdown",
   "metadata": {},
   "source": [
    "해당 결과를 통해 한국의 전년동기대비 인플레이션이라는 변수는 약 1.17의 분산 추정치를 가진다는 것을 알 수 있다."
   ]
  },
  {
   "cell_type": "markdown",
   "metadata": {},
   "source": [
    "한편, 하나의 변수가 아니라 다변수 사이의 장기 분산-공분산 행렬을 추정할수도 있다. 이 경우, 입력값에 하나의 변수가 아닌 여러개의 변수로 이루어진 행렬을 넣으면 된다. 예를 들어, `y`라는 변수로 저장한 한국의 전년동기대비 인플레이션, 전기대비 실질 GDP 성장률, CD91일 금리의 장기 분산-공분산 행렬은 다음과 같이 추정할 수 있다. 이때, `window`라는 입력값을 사용하지 않거나, `window=2`라는 입력값을 넣을 경우 이전과 같이 Quadratic Window를 사용하여 장기 분산-공분산 행렬을 추정하게 된다."
   ]
  },
  {
   "cell_type": "code",
   "execution_count": 10,
   "metadata": {},
   "outputs": [
    {
     "name": "stdout",
     "output_type": "stream",
     "text": [
      "[[16.87433884  4.39808238 24.91487207]\n",
      " [ 4.39808238  1.73581932  8.56886919]\n",
      " [24.91487207  8.56886919 44.17032799]]\n"
     ]
    }
   ],
   "source": [
    "Jhat = bp.Long_Var(y,window=2)\n",
    "print(Jhat)"
   ]
  },
  {
   "cell_type": "markdown",
   "metadata": {},
   "source": [
    "추정 결과, 한국의 인플레이션, 실질 GDP 성장률, CD91일 금리는 각각 약 16.87, 1.74, 44.17의 장기 분산 추정치를 가지는 것을 알 수 있다. 또한, 인플레이션과 실질 GDP 성장률은 약 4.40, 인플레이션과 CD91일 금리는 약 24.91의 장기 공분산 추청치를 가지는 것으로 나타났다. 마지막으로 실질 GDP 성장률과 CD91일 금리의 경우 약 8.57의 장기 공분산을 가지는 것으로 추정되었다."
   ]
  },
  {
   "cell_type": "markdown",
   "metadata": {},
   "source": [
    "`window=1`이라는 옵션을 통해 Quadratic window가 아닌 Bartlett window를 사용한 장기분산 추정치를 구할 수 있다. 이때, 이전과 마찬가지로 입력하는 데이터의 형태에 따라 단변수인 경우와 다변수인 경우 모두를 추정할 수 있다. 이전과 동일하게 `y`라는 변수로 저장한 한국의 전년동기대비 인플레이션, 전기대비 실질 GDP 성장률, CD91일 금리의 장기 분산-공분산 행렬은 다음과 같이 추정할 수 있다."
   ]
  },
  {
   "cell_type": "code",
   "execution_count": 11,
   "metadata": {},
   "outputs": [
    {
     "name": "stdout",
     "output_type": "stream",
     "text": [
      "[[14.929749    2.92541954 18.7795003 ]\n",
      " [ 2.92541954  1.43478183  6.1541235 ]\n",
      " [18.7795003   6.1541235  32.57784249]]\n"
     ]
    }
   ],
   "source": [
    "Jhat = bp.Long_Var(y,window=1)\n",
    "print(Jhat)"
   ]
  },
  {
   "cell_type": "markdown",
   "metadata": {},
   "source": [
    "이처럼 Bartlett window를 사용하여 추정한 장기분산 값은 Newey-West HAC (Heteroskedasticity and Autocorrelation Consistent) 추정량이라고 부르기도 한다. 추정 결과, Newey-West 통계량의 전체적인 장기분산 및 공분산은 Quadratic window를 사용한 경우보다 과소추정되는 것을 확인할 수 있다. 실제로 몬테카를로 시뮬레이션을 사용해보면 장기분산을 더 정확히 추정하는 것은 default 옵션인 AR(1) 과정을 통해 근사한 밴드 넓이 파라미터를 사용한 Quadratic Window 기법이라는 것을 알 수 있다."
   ]
  },
  {
   "cell_type": "markdown",
   "metadata": {},
   "source": [
    "## 4. 단위근 검정\n",
    "\n",
    "#### 구문\n",
    "\n",
    "`bp`패키지 속 `UR_ADF_GLS`라는 함수를 사용하여 GLS 추세제거 (GLS detrending)를 한 ADF (Adjusted Dicky-Fuller) 단위근 검정을 실시할 수 있다. 이때, `UR_ADF_GLS`라는 함수는 다음과 같이 구성되어 있다.\n",
    "\n",
    "> *<p style=\"font-size:20px\">`test = bp.UR_ADF_GLS(y,m,option=None)`</p>*\n",
    "> *<p style=\"font-size:15px\">GLS 추세 제거를 한 ADF 단위근 검정</p>*\n",
    "> - **입력**:\n",
    "</br></br>\n",
    "    `y`: 추정하고자하는 변수, 단변수만 가능\n",
    "    </br></br>\n",
    "    `m`: 사용하고자하는 모형의 종류\n",
    "    </br></br>\n",
    "          `1`: 상수항만 존재하는 모형\n",
    "        </br></br>\n",
    "          `2`: 상수항과 선형 추세항이 존재하는 모형\n",
    "        </br></br>\n",
    "    `option`: 수정된 정보기준의 종류\n",
    "    </br></br>\n",
    "          `1`: MAIC, penalty = 2\n",
    "        </br></br>\n",
    "          `2`: MBIC, penalty = $\\ln{(T-pmax-1)}$ (default)\n",
    "        </br></br>\n",
    "> - **출력**:\n",
    "</br></br>\n",
    "    `test`: ADF GLS 단위근 검정의 검정 통계량\n",
    "    </br></br>  \n",
    ">\n",
    "> 참고: Ng and Perron (2001), Table I, pp. 1524\n",
    "</br></br>"
   ]
  },
  {
   "cell_type": "markdown",
   "metadata": {},
   "source": [
    "\n",
    "---\n",
    "\n",
    "`UR_ADF_GLS` 함수와 함께 사용되는 함수로는 단위근 검정 시 ADF 모형의 최적 시차를 추정하는 `MIC` 함수가 있다. 이때, `MIC`라는 함수는 다음과 구성되어 있다.\n",
    "\n",
    "> *<p style=\"font-size:20px\">`phat = bp.MIC(y,m,option=None)`</p>*\n",
    "> *<p style=\"font-size:15px\">수정된 정보기준을 통한 최적 시차 추정</p>*\n",
    "> - **입력**:\n",
    "</br></br>\n",
    "    `y`: 추정하고자하는 변수, 단변수만 가능\n",
    "    </br></br>\n",
    "    `m`: 사용하고자하는 모형의 종류\n",
    "    </br></br>\n",
    "          `1`: 상수항만 존재하는 모형\n",
    "        </br></br>\n",
    "          `2`: 상수항과 선형 추세항이 존재하는 모형\n",
    "        </br></br>\n",
    "    `option`: 수정된 정보기준의 종류\n",
    "    </br></br>\n",
    "          `1`: MAIC, penalty = 2\n",
    "        </br></br>\n",
    "          `2`: MBIC, penalty = $\\ln{(T-pmax-1)}$ (default)\n",
    "        </br></br>\n",
    "> - **출력**:\n",
    "</br></br>\n",
    "    `phat`: 추정된 최적 시차\n",
    "    </br></br>"
   ]
  },
  {
   "cell_type": "markdown",
   "metadata": {},
   "source": [
    "#### 이론\n",
    "단위근 검정 시 사용하는 검정 통계량은 가정하고 있는 모형과 실제로 회귀를 통해 추정하는 모형의 형태에 따라 달라진다."
   ]
  },
  {
   "cell_type": "markdown",
   "metadata": {},
   "source": [
    "#### 예시\n",
    "정리하면, 단위근 검정은 다음과 같은 절차를 통해 진행할 수 있다.\n",
    "1. 수정된 정보기준 (MIC)를 사용한 ADF 모형의 최적 시차 추정\n",
    "2. 추정된 최적 시차를 바탕으로 GLS 추세 제거를 한 ADF 검정  \n",
    "\n",
    "이러한 결과에 대해 확인하기 위해 다음과 같이 실제 데이터를 활용하여 ADF-GLS 단위근 검정을 해보자. 우선 데이터의 경우 단위근이 존재하는 것으로 알려져있는 1976년 1분기부터 2023년 4분기까지의 미국 인플레이션 데이터를 사용한다."
   ]
  },
  {
   "cell_type": "code",
   "execution_count": 12,
   "metadata": {},
   "outputs": [
    {
     "name": "stdout",
     "output_type": "stream",
     "text": [
      "MBIC (default) 을 사용하여 추정된 ADF 모형의 최적 AR 시차 =  8\n",
      " \n",
      "Model  2  을 사용한 ADF-GLS 검정 통계량은  -2.2956\n",
      "CV 1% =  -3.42  5% =  -2.91  10% =  -2.62\n",
      " \n",
      "귀무가설 (H0): AR 단위근이 존재한다.\n",
      "|test statistic| > |CV| : 귀무가설을 유의수준 x % 하에서 기각한다.\n",
      "|test statistic| < |CV| : 귀무가설을 유의수준 x % 하에서 기각하지 못한다.\n",
      " \n",
      " ref: Ng and Perron (2001), <Table I>, pp. 1524\n"
     ]
    }
   ],
   "source": [
    "dataset = pd.read_excel('./test_data/python_data.xlsx', sheet_name='UScpi')\n",
    "data = pd.DataFrame(dataset)\n",
    "sample = data.copy()\n",
    "sample.columns = ['Date','cpi']\n",
    "sample = sample.drop(columns='Date')\n",
    "Y = bp.matrix(sample)\n",
    "y = Y.copy() # 1976 Q1 ~ 2023 Q4\n",
    "\n",
    "m = 2\n",
    "\n",
    "# 3. ADF_GLS UR test\n",
    "test_us = bp.UR_ADF_GLS(y,m)"
   ]
  },
  {
   "cell_type": "markdown",
   "metadata": {},
   "source": [
    "결과를 해석하면 수정된 베이지안 정보기준 (BIC)로 추정한 최적 시차 8을 가지는 ADF 모형을 GLS 추세 제거 이후 도출한 단위근 검정 통계량은 -2.2956이다. 이때, 회귀모형은 절편항과 선형 추세항이 모두 고려되었다. 이러한 검정 통계량을 입계값과 비교하면\n",
    "$$|-2.2956| < |CV|$$\n",
    "으로 AR 단위근이 존재한다는 귀무가설을 관용적인 10% 유의수준에서도 기각하지 못하는 것을 알 수 있다. 따라서 미국 인플레이션 데이터의 경우 단위근이 존재한다는 것을 알 수 있다."
   ]
  }
 ],
 "metadata": {
  "kernelspec": {
   "display_name": "Python 3",
   "language": "python",
   "name": "python3"
  },
  "language_info": {
   "codemirror_mode": {
    "name": "ipython",
    "version": 3
   },
   "file_extension": ".py",
   "mimetype": "text/x-python",
   "name": "python",
   "nbconvert_exporter": "python",
   "pygments_lexer": "ipython3",
   "version": "3.12.1"
  }
 },
 "nbformat": 4,
 "nbformat_minor": 2
}
