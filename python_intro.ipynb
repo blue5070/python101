{
  "nbformat": 4,
  "nbformat_minor": 0,
  "metadata": {
    "kernelspec": {
      "display_name": "Python 3",
      "language": "python",
      "name": "python3"
    },
    "language_info": {
      "codemirror_mode": {
        "name": "ipython",
        "version": 3
      },
      "file_extension": ".py",
      "mimetype": "text/x-python",
      "name": "python",
      "nbconvert_exporter": "python",
      "pygments_lexer": "ipython3",
      "version": "3.8.5"
    },
    "colab": {
      "name": "python_intro.ipynb",
      "provenance": [],
      "collapsed_sections": [],
      "toc_visible": true,
      "include_colab_link": true
    }
  },
  "cells": [
    {
      "cell_type": "markdown",
      "metadata": {
        "id": "view-in-github",
        "colab_type": "text"
      },
      "source": [
        "<a href=\"https://colab.research.google.com/github/hyunchangyi/python2021/blob/main/python_intro.ipynb\" target=\"_parent\"><img src=\"https://colab.research.google.com/assets/colab-badge.svg\" alt=\"Open In Colab\"/></a>"
      ]
    },
    {
      "cell_type": "markdown",
      "metadata": {
        "id": "jwMT9xqBplpA"
      },
      "source": [
        "# 주피터노트북\n"
      ]
    },
    {
      "cell_type": "markdown",
      "metadata": {
        "id": "hIN0AWUWuQGu"
      },
      "source": [
        "## 셀 타입\n",
        "\n",
        "- 코드\n",
        "- 마크다운/텍스트"
      ]
    },
    {
      "cell_type": "markdown",
      "metadata": {
        "id": "uUSqwNRIuTLX"
      },
      "source": [
        "## 셀 모드\n",
        "\n",
        "- 편집\n",
        "- 명령"
      ]
    },
    {
      "cell_type": "markdown",
      "metadata": {
        "id": "jBUE4J2GmMec"
      },
      "source": [
        "\n",
        "## 셀 실행\n",
        "\n",
        "- Shift + Enter 현재 셀 실행하고 아래 셀 선택\n",
        "- Ctrl + Enter 현재 셀 실행하고 현재 셀 선택\n",
        "- Alt + Enter (colab) 현재 셀 실행하고 아래에 새로운 코드 셀 생성"
      ]
    },
    {
      "cell_type": "markdown",
      "metadata": {
        "id": "6xAOkXo5plpC"
      },
      "source": [
        "## 단축키\n",
        "- 구글 코랩에서는 노트북 단축키를 사용자가 지정할 수 있으며, 일반적인 주피터노트북과 달리 셀 편집모드에서도 단축키를 통해 셀 잘라내기, 새로운 셀 생성 등 셀 편집이 가능\n",
        "\n",
        "- '메뉴-도구-단축키'에서 설정\n",
        "    - 셀 잘라내기 Ctrl + m, x\n",
        "    - 셀 복사하기 Ctrl + m, c\n",
        "    - 셀 붙이기 Ctrl + v\n",
        "    - 셀 삭제 Ctrl + m, d\n",
        "    - 위에 새로운 셀 삽입하기 Ctrl + m, a\n",
        "    - 아래에 새로운 셀 삽입하기 Ctrl + m, b\n",
        "    - 셀 타입 코드로 변환 Ctrl + m, y\n",
        "    - 셀 타입 마크다운으로 변환 Ctrl + m, m\n",
        "    - 실행 취소 Ctrl + m, z\n",
        "    - 단축키 확인 Ctrl + m, x\n",
        "    - 선택된 여러 셀 병합 Ctrl + Shift + m\n",
        "    - 현재 커서 위치에서 셀 분할 Ctrl + m, -\n",
        "    - 주석 설정/해제 Ctrl + /"
      ]
    },
    {
      "cell_type": "markdown",
      "metadata": {
        "id": "2lDW_v4WplpF"
      },
      "source": [
        "# 기본 자료형"
      ]
    },
    {
      "cell_type": "markdown",
      "metadata": {
        "id": "FUzXR2ySplpG"
      },
      "source": [
        "## 숫자, 참/거짓, 문자열"
      ]
    },
    {
      "cell_type": "code",
      "metadata": {
        "colab": {
          "base_uri": "https://localhost:8080/"
        },
        "id": "ibNHTrl8plpG",
        "outputId": "fa77f422-058e-408f-ae08-b3bb2e271ae1"
      },
      "source": [
        "1"
      ],
      "execution_count": 1,
      "outputs": [
        {
          "output_type": "execute_result",
          "data": {
            "text/plain": [
              "1"
            ]
          },
          "metadata": {},
          "execution_count": 1
        }
      ]
    },
    {
      "cell_type": "code",
      "metadata": {
        "colab": {
          "base_uri": "https://localhost:8080/"
        },
        "id": "pXbt8obKplpG",
        "outputId": "d580ccca-b0d4-42ed-db09-8d4b644a2e7c"
      },
      "source": [
        "type(1)"
      ],
      "execution_count": 3,
      "outputs": [
        {
          "output_type": "execute_result",
          "data": {
            "text/plain": [
              "int"
            ]
          },
          "metadata": {},
          "execution_count": 3
        }
      ]
    },
    {
      "cell_type": "code",
      "metadata": {
        "colab": {
          "base_uri": "https://localhost:8080/"
        },
        "id": "q1E_vIBdplpG",
        "outputId": "9ca8fc35-b3bf-4a2a-cbab-1f9b6321c169"
      },
      "source": [
        "type(1.0)"
      ],
      "execution_count": 5,
      "outputs": [
        {
          "output_type": "execute_result",
          "data": {
            "text/plain": [
              "float"
            ]
          },
          "metadata": {},
          "execution_count": 5
        }
      ]
    },
    {
      "cell_type": "code",
      "metadata": {
        "colab": {
          "base_uri": "https://localhost:8080/"
        },
        "id": "TyKF1DtxplpG",
        "outputId": "827c633d-b0f5-4a95-baa2-dfe31a9a0dd3"
      },
      "source": [
        "False, True"
      ],
      "execution_count": null,
      "outputs": [
        {
          "output_type": "execute_result",
          "data": {
            "text/plain": [
              "(False, True)"
            ]
          },
          "metadata": {},
          "execution_count": 4
        }
      ]
    },
    {
      "cell_type": "code",
      "metadata": {
        "colab": {
          "base_uri": "https://localhost:8080/"
        },
        "id": "0xCcMW83plpH",
        "outputId": "e190cbd7-1a41-46f0-a977-f12ed9834032"
      },
      "source": [
        "type(False)"
      ],
      "execution_count": null,
      "outputs": [
        {
          "output_type": "execute_result",
          "data": {
            "text/plain": [
              "bool"
            ]
          },
          "metadata": {},
          "execution_count": 5
        }
      ]
    },
    {
      "cell_type": "code",
      "metadata": {
        "colab": {
          "base_uri": "https://localhost:8080/"
        },
        "id": "gUOZPQrLplpH",
        "outputId": "4394a1fc-e4b0-40c2-97b5-b93b2e6ea27b"
      },
      "source": [
        "type('python')"
      ],
      "execution_count": null,
      "outputs": [
        {
          "output_type": "execute_result",
          "data": {
            "text/plain": [
              "str"
            ]
          },
          "metadata": {},
          "execution_count": 6
        }
      ]
    },
    {
      "cell_type": "code",
      "metadata": {
        "colab": {
          "base_uri": "https://localhost:8080/"
        },
        "id": "r0oSz78XplpH",
        "outputId": "bbdcb459-0590-4bb3-9a83-23918a0a3190"
      },
      "source": [
        "type(\"python\")"
      ],
      "execution_count": null,
      "outputs": [
        {
          "output_type": "execute_result",
          "data": {
            "text/plain": [
              "str"
            ]
          },
          "metadata": {},
          "execution_count": 7
        }
      ]
    },
    {
      "cell_type": "code",
      "metadata": {
        "colab": {
          "base_uri": "https://localhost:8080/"
        },
        "id": "Mit-TmWuplpH",
        "outputId": "89b035df-681d-47d3-94af-3adb77a4b341"
      },
      "source": [
        "type('a')"
      ],
      "execution_count": null,
      "outputs": [
        {
          "output_type": "execute_result",
          "data": {
            "text/plain": [
              "str"
            ]
          },
          "metadata": {},
          "execution_count": 8
        }
      ]
    },
    {
      "cell_type": "code",
      "metadata": {
        "colab": {
          "base_uri": "https://localhost:8080/"
        },
        "id": "wg7PwJL9plpH",
        "outputId": "446fc8c6-1353-4787-bf8c-81e6d136e42c"
      },
      "source": [
        "type(\"p\")"
      ],
      "execution_count": null,
      "outputs": [
        {
          "output_type": "execute_result",
          "data": {
            "text/plain": [
              "str"
            ]
          },
          "metadata": {},
          "execution_count": 9
        }
      ]
    },
    {
      "cell_type": "code",
      "metadata": {
        "colab": {
          "base_uri": "https://localhost:8080/"
        },
        "id": "IP78CxLmplpI",
        "outputId": "b384c400-f7f7-49ac-d65c-02404efb04a1"
      },
      "source": [
        "type('python'), type(.5)"
      ],
      "execution_count": null,
      "outputs": [
        {
          "output_type": "execute_result",
          "data": {
            "text/plain": [
              "(str, float)"
            ]
          },
          "metadata": {},
          "execution_count": 10
        }
      ]
    },
    {
      "cell_type": "code",
      "metadata": {
        "colab": {
          "base_uri": "https://localhost:8080/"
        },
        "id": "zp7kR8nCplpI",
        "outputId": "242a065f-029a-4a4d-cee2-1315e6732258"
      },
      "source": [
        "a = 5\n",
        "b = (a == 5)\n",
        "c = 'KOR'\n",
        "print(a, b, c)"
      ],
      "execution_count": null,
      "outputs": [
        {
          "output_type": "stream",
          "name": "stdout",
          "text": [
            "5 True KOR\n"
          ]
        }
      ]
    },
    {
      "cell_type": "markdown",
      "metadata": {
        "id": "1RlJvVPPplpI"
      },
      "source": [
        "- 더하기"
      ]
    },
    {
      "cell_type": "code",
      "metadata": {
        "colab": {
          "base_uri": "https://localhost:8080/"
        },
        "id": "bQUcBF6kplpI",
        "outputId": "b7e5e994-d517-40f3-ec6a-b3c8b457fe9e"
      },
      "source": [
        "4 + 5"
      ],
      "execution_count": null,
      "outputs": [
        {
          "output_type": "execute_result",
          "data": {
            "text/plain": [
              "9"
            ]
          },
          "metadata": {},
          "execution_count": 12
        }
      ]
    },
    {
      "cell_type": "code",
      "metadata": {
        "colab": {
          "base_uri": "https://localhost:8080/",
          "height": 35
        },
        "id": "4ZwrU7d-plpI",
        "outputId": "3eb797cd-9bf8-4d87-b016-ac2a5e69219d"
      },
      "source": [
        "'KOR' + '15'"
      ],
      "execution_count": null,
      "outputs": [
        {
          "output_type": "execute_result",
          "data": {
            "application/vnd.google.colaboratory.intrinsic+json": {
              "type": "string"
            },
            "text/plain": [
              "'KOR15'"
            ]
          },
          "metadata": {},
          "execution_count": 13
        }
      ]
    },
    {
      "cell_type": "code",
      "metadata": {
        "colab": {
          "base_uri": "https://localhost:8080/",
          "height": 164
        },
        "id": "wDGp9HLvplpJ",
        "outputId": "bd67183f-12ed-4736-c6d0-5968794deca5"
      },
      "source": [
        "'KOR' + 15"
      ],
      "execution_count": null,
      "outputs": [
        {
          "output_type": "error",
          "ename": "TypeError",
          "evalue": "ignored",
          "traceback": [
            "\u001b[0;31m---------------------------------------------------------------------------\u001b[0m",
            "\u001b[0;31mTypeError\u001b[0m                                 Traceback (most recent call last)",
            "\u001b[0;32m<ipython-input-14-20d4bb33d198>\u001b[0m in \u001b[0;36m<module>\u001b[0;34m()\u001b[0m\n\u001b[0;32m----> 1\u001b[0;31m \u001b[0;34m'KOR'\u001b[0m \u001b[0;34m+\u001b[0m \u001b[0;36m15\u001b[0m\u001b[0;34m\u001b[0m\u001b[0;34m\u001b[0m\u001b[0m\n\u001b[0m",
            "\u001b[0;31mTypeError\u001b[0m: can only concatenate str (not \"int\") to str"
          ]
        }
      ]
    },
    {
      "cell_type": "code",
      "metadata": {
        "colab": {
          "base_uri": "https://localhost:8080/",
          "height": 35
        },
        "id": "fH9LuWoJplpJ",
        "outputId": "e6dda036-2583-47ea-9521-fe08231406d0"
      },
      "source": [
        "'KOR' + str(15)"
      ],
      "execution_count": null,
      "outputs": [
        {
          "output_type": "execute_result",
          "data": {
            "application/vnd.google.colaboratory.intrinsic+json": {
              "type": "string"
            },
            "text/plain": [
              "'KOR15'"
            ]
          },
          "metadata": {},
          "execution_count": 15
        }
      ]
    },
    {
      "cell_type": "code",
      "metadata": {
        "colab": {
          "base_uri": "https://localhost:8080/"
        },
        "id": "b9XEvt9CplpJ",
        "outputId": "486769b3-e02b-46f6-b82d-257e6d8881c8"
      },
      "source": [
        "type(str(15))"
      ],
      "execution_count": null,
      "outputs": [
        {
          "output_type": "execute_result",
          "data": {
            "text/plain": [
              "str"
            ]
          },
          "metadata": {},
          "execution_count": 16
        }
      ]
    },
    {
      "cell_type": "code",
      "metadata": {
        "colab": {
          "base_uri": "https://localhost:8080/"
        },
        "id": "4szQuNbCplpJ",
        "outputId": "5ca74dd6-bb90-47c1-8b68-b7e96b5c2d57"
      },
      "source": [
        "float(str(15))"
      ],
      "execution_count": null,
      "outputs": [
        {
          "output_type": "execute_result",
          "data": {
            "text/plain": [
              "15.0"
            ]
          },
          "metadata": {},
          "execution_count": 17
        }
      ]
    },
    {
      "cell_type": "code",
      "metadata": {
        "colab": {
          "base_uri": "https://localhost:8080/"
        },
        "id": "Ghzo11E0plpJ",
        "outputId": "35ef1890-db36-4910-dbfb-57cfcdee6de9"
      },
      "source": [
        "4 + True"
      ],
      "execution_count": null,
      "outputs": [
        {
          "output_type": "execute_result",
          "data": {
            "text/plain": [
              "5"
            ]
          },
          "metadata": {},
          "execution_count": 18
        }
      ]
    },
    {
      "cell_type": "code",
      "metadata": {
        "colab": {
          "base_uri": "https://localhost:8080/"
        },
        "id": "pdtjUuBLplpJ",
        "outputId": "77fcfe86-b074-42b9-f54f-33decb52357b"
      },
      "source": [
        "4 + False"
      ],
      "execution_count": null,
      "outputs": [
        {
          "output_type": "execute_result",
          "data": {
            "text/plain": [
              "4"
            ]
          },
          "metadata": {},
          "execution_count": 19
        }
      ]
    },
    {
      "cell_type": "code",
      "metadata": {
        "colab": {
          "base_uri": "https://localhost:8080/"
        },
        "id": "Yk2-dgg5plpK",
        "outputId": "6c54ab08-a648-4b2b-80f0-a22722584217"
      },
      "source": [
        "4 * True"
      ],
      "execution_count": null,
      "outputs": [
        {
          "output_type": "execute_result",
          "data": {
            "text/plain": [
              "4"
            ]
          },
          "metadata": {},
          "execution_count": 20
        }
      ]
    },
    {
      "cell_type": "code",
      "metadata": {
        "colab": {
          "base_uri": "https://localhost:8080/"
        },
        "id": "_WO49bD2plpK",
        "outputId": "bb002dda-70ce-46d5-87bb-6c657312fbaa"
      },
      "source": [
        "4 * False"
      ],
      "execution_count": null,
      "outputs": [
        {
          "output_type": "execute_result",
          "data": {
            "text/plain": [
              "0"
            ]
          },
          "metadata": {},
          "execution_count": 21
        }
      ]
    },
    {
      "cell_type": "code",
      "metadata": {
        "colab": {
          "base_uri": "https://localhost:8080/"
        },
        "id": "boRojZFSplpK",
        "outputId": "d90523f0-06b6-412c-ddf2-7a33bae9edda"
      },
      "source": [
        "int(True)"
      ],
      "execution_count": null,
      "outputs": [
        {
          "output_type": "execute_result",
          "data": {
            "text/plain": [
              "1"
            ]
          },
          "metadata": {},
          "execution_count": 22
        }
      ]
    },
    {
      "cell_type": "markdown",
      "metadata": {
        "id": "_DsNzxuXplpK"
      },
      "source": [
        "문자열 포맷 f-string"
      ]
    },
    {
      "cell_type": "code",
      "metadata": {
        "colab": {
          "base_uri": "https://localhost:8080/"
        },
        "id": "fn0Ke_hSplpK",
        "outputId": "c104a047-377d-4122-d015-ffabaf4dfaa2"
      },
      "source": [
        "a = 2\n",
        "b = 'two'\n",
        "print(a, b)"
      ],
      "execution_count": null,
      "outputs": [
        {
          "output_type": "stream",
          "name": "stdout",
          "text": [
            "2 two\n"
          ]
        }
      ]
    },
    {
      "cell_type": "code",
      "metadata": {
        "colab": {
          "base_uri": "https://localhost:8080/"
        },
        "id": "fGvZJKfOplpK",
        "outputId": "ab661e55-9c1f-441f-d1af-1ed1e4debf53"
      },
      "source": [
        "print(f'{a} is {b}')"
      ],
      "execution_count": null,
      "outputs": [
        {
          "output_type": "stream",
          "name": "stdout",
          "text": [
            "2 is two\n"
          ]
        }
      ]
    },
    {
      "cell_type": "code",
      "metadata": {
        "colab": {
          "base_uri": "https://localhost:8080/"
        },
        "id": "Z35sO1nOplpK",
        "outputId": "3d7a825f-fd88-4d8e-ed92-432b7443e6fd"
      },
      "source": [
        "print(f'{a:.2f} is {b:}')"
      ],
      "execution_count": null,
      "outputs": [
        {
          "output_type": "stream",
          "name": "stdout",
          "text": [
            "2.00 is two\n"
          ]
        }
      ]
    },
    {
      "cell_type": "code",
      "metadata": {
        "colab": {
          "base_uri": "https://localhost:8080/"
        },
        "id": "bOWYq_dOplpL",
        "outputId": "721d9302-5f93-4748-b85f-9d10eea68b60"
      },
      "source": [
        "print(f'{b:} is {a:.2f}')"
      ],
      "execution_count": null,
      "outputs": [
        {
          "output_type": "stream",
          "name": "stdout",
          "text": [
            "two is 2.00\n"
          ]
        }
      ]
    },
    {
      "cell_type": "code",
      "metadata": {
        "colab": {
          "base_uri": "https://localhost:8080/"
        },
        "id": "GEpSVxhsplpL",
        "outputId": "86c3bef5-eda2-406a-f616-06e7565a28c7"
      },
      "source": [
        "print(f'{b:} is {10000:,.2f}')"
      ],
      "execution_count": null,
      "outputs": [
        {
          "output_type": "stream",
          "name": "stdout",
          "text": [
            "two is 10,000.00\n"
          ]
        }
      ]
    },
    {
      "cell_type": "markdown",
      "metadata": {
        "id": "3siuC5njplpL"
      },
      "source": [
        "- 문자열에서 공백 없애기"
      ]
    },
    {
      "cell_type": "code",
      "metadata": {
        "colab": {
          "base_uri": "https://localhost:8080/",
          "height": 35
        },
        "id": "6ZukADH3plpL",
        "outputId": "0f100c33-b988-4b86-de10-bcac74010bb7"
      },
      "source": [
        "\" abc \".lstrip()"
      ],
      "execution_count": null,
      "outputs": [
        {
          "output_type": "execute_result",
          "data": {
            "application/vnd.google.colaboratory.intrinsic+json": {
              "type": "string"
            },
            "text/plain": [
              "'abc '"
            ]
          },
          "metadata": {},
          "execution_count": 28
        }
      ]
    },
    {
      "cell_type": "code",
      "metadata": {
        "colab": {
          "base_uri": "https://localhost:8080/",
          "height": 35
        },
        "id": "7hUmNy5tplpL",
        "outputId": "713ec4ba-2686-4adf-c625-46b741d2ad0b"
      },
      "source": [
        "\" abc \".rstrip()"
      ],
      "execution_count": null,
      "outputs": [
        {
          "output_type": "execute_result",
          "data": {
            "application/vnd.google.colaboratory.intrinsic+json": {
              "type": "string"
            },
            "text/plain": [
              "' abc'"
            ]
          },
          "metadata": {},
          "execution_count": 29
        }
      ]
    },
    {
      "cell_type": "code",
      "metadata": {
        "colab": {
          "base_uri": "https://localhost:8080/",
          "height": 35
        },
        "id": "HUdLs-17plpL",
        "outputId": "1c49dc00-6fbd-47eb-e46e-36e3a31fedb2"
      },
      "source": [
        "\" abc \".strip()"
      ],
      "execution_count": null,
      "outputs": [
        {
          "output_type": "execute_result",
          "data": {
            "application/vnd.google.colaboratory.intrinsic+json": {
              "type": "string"
            },
            "text/plain": [
              "'abc'"
            ]
          },
          "metadata": {},
          "execution_count": 30
        }
      ]
    },
    {
      "cell_type": "code",
      "metadata": {
        "colab": {
          "base_uri": "https://localhost:8080/",
          "height": 35
        },
        "id": "FPwUgUqOplpL",
        "outputId": "de22350e-bb28-4dd6-eff5-b076d97d70a0"
      },
      "source": [
        "\"abc\".strip('a')"
      ],
      "execution_count": null,
      "outputs": [
        {
          "output_type": "execute_result",
          "data": {
            "application/vnd.google.colaboratory.intrinsic+json": {
              "type": "string"
            },
            "text/plain": [
              "'bc'"
            ]
          },
          "metadata": {},
          "execution_count": 31
        }
      ]
    },
    {
      "cell_type": "markdown",
      "metadata": {
        "id": "zcHFY5o9plpM"
      },
      "source": [
        "## 리스트"
      ]
    },
    {
      "cell_type": "code",
      "metadata": {
        "id": "QCiLko44plpM"
      },
      "source": [
        "a = [1, 2, 3]\n",
        "b = ['one', 'two', 'three']"
      ],
      "execution_count": null,
      "outputs": []
    },
    {
      "cell_type": "code",
      "metadata": {
        "colab": {
          "base_uri": "https://localhost:8080/"
        },
        "id": "sp7EfIO-plpM",
        "outputId": "4b5837d9-7e2b-4958-a474-a4636bbab545"
      },
      "source": [
        "type(a)"
      ],
      "execution_count": null,
      "outputs": [
        {
          "output_type": "execute_result",
          "data": {
            "text/plain": [
              "list"
            ]
          },
          "metadata": {},
          "execution_count": 33
        }
      ]
    },
    {
      "cell_type": "code",
      "metadata": {
        "colab": {
          "base_uri": "https://localhost:8080/"
        },
        "id": "y49xn6_hplpM",
        "outputId": "c80ce096-d416-4d45-e04b-aa02c614d427"
      },
      "source": [
        "a * 2"
      ],
      "execution_count": null,
      "outputs": [
        {
          "output_type": "execute_result",
          "data": {
            "text/plain": [
              "[1, 2, 3, 1, 2, 3]"
            ]
          },
          "metadata": {},
          "execution_count": 34
        }
      ]
    },
    {
      "cell_type": "code",
      "metadata": {
        "colab": {
          "base_uri": "https://localhost:8080/"
        },
        "id": "2HlEc1C0plpM",
        "outputId": "778af9ac-fc72-4514-d04a-fac74173c146"
      },
      "source": [
        "b * 2"
      ],
      "execution_count": null,
      "outputs": [
        {
          "output_type": "execute_result",
          "data": {
            "text/plain": [
              "['one', 'two', 'three', 'one', 'two', 'three']"
            ]
          },
          "metadata": {},
          "execution_count": 35
        }
      ]
    },
    {
      "cell_type": "code",
      "metadata": {
        "colab": {
          "base_uri": "https://localhost:8080/"
        },
        "id": "zHDMP4G_plpM",
        "outputId": "55900656-0160-4ab0-e5f2-262fa781b3d3"
      },
      "source": [
        "a + b"
      ],
      "execution_count": null,
      "outputs": [
        {
          "output_type": "execute_result",
          "data": {
            "text/plain": [
              "[1, 2, 3, 'one', 'two', 'three']"
            ]
          },
          "metadata": {},
          "execution_count": 36
        }
      ]
    },
    {
      "cell_type": "code",
      "metadata": {
        "colab": {
          "base_uri": "https://localhost:8080/",
          "height": 164
        },
        "id": "53O9ZnIFplpM",
        "outputId": "67d15517-0253-4dac-d297-ecb3f571d802"
      },
      "source": [
        "a + 5"
      ],
      "execution_count": null,
      "outputs": [
        {
          "output_type": "error",
          "ename": "TypeError",
          "evalue": "ignored",
          "traceback": [
            "\u001b[0;31m---------------------------------------------------------------------------\u001b[0m",
            "\u001b[0;31mTypeError\u001b[0m                                 Traceback (most recent call last)",
            "\u001b[0;32m<ipython-input-37-5cd40e0bb6cf>\u001b[0m in \u001b[0;36m<module>\u001b[0;34m()\u001b[0m\n\u001b[0;32m----> 1\u001b[0;31m \u001b[0ma\u001b[0m \u001b[0;34m+\u001b[0m \u001b[0;36m5\u001b[0m\u001b[0;34m\u001b[0m\u001b[0;34m\u001b[0m\u001b[0m\n\u001b[0m",
            "\u001b[0;31mTypeError\u001b[0m: can only concatenate list (not \"int\") to list"
          ]
        }
      ]
    },
    {
      "cell_type": "code",
      "metadata": {
        "colab": {
          "base_uri": "https://localhost:8080/",
          "height": 164
        },
        "id": "3V9pGdYFplpN",
        "outputId": "650102f4-3807-4b92-966d-6a35468dd587"
      },
      "source": [
        "a + 'four'"
      ],
      "execution_count": null,
      "outputs": [
        {
          "output_type": "error",
          "ename": "TypeError",
          "evalue": "ignored",
          "traceback": [
            "\u001b[0;31m---------------------------------------------------------------------------\u001b[0m",
            "\u001b[0;31mTypeError\u001b[0m                                 Traceback (most recent call last)",
            "\u001b[0;32m<ipython-input-38-0303589e4648>\u001b[0m in \u001b[0;36m<module>\u001b[0;34m()\u001b[0m\n\u001b[0;32m----> 1\u001b[0;31m \u001b[0ma\u001b[0m \u001b[0;34m+\u001b[0m \u001b[0;34m'four'\u001b[0m\u001b[0;34m\u001b[0m\u001b[0;34m\u001b[0m\u001b[0m\n\u001b[0m",
            "\u001b[0;31mTypeError\u001b[0m: can only concatenate list (not \"str\") to list"
          ]
        }
      ]
    },
    {
      "cell_type": "markdown",
      "metadata": {
        "id": "3dU-pVatplpN"
      },
      "source": [
        "list에 숫자 또는 문자열을 더하는 연산이 정의되어 있지 않으므로 오류발생"
      ]
    },
    {
      "cell_type": "code",
      "metadata": {
        "colab": {
          "base_uri": "https://localhost:8080/"
        },
        "id": "YwhXBSABplpN",
        "outputId": "60f8e50e-6deb-4b11-df10-4b44adef946f"
      },
      "source": [
        "a + [5]"
      ],
      "execution_count": null,
      "outputs": [
        {
          "output_type": "execute_result",
          "data": {
            "text/plain": [
              "[1, 2, 3, 5]"
            ]
          },
          "metadata": {},
          "execution_count": 39
        }
      ]
    },
    {
      "cell_type": "code",
      "metadata": {
        "colab": {
          "base_uri": "https://localhost:8080/"
        },
        "id": "ics6GYA-plpN",
        "outputId": "95d2625e-6e58-48b5-f2fa-12a42f21b522"
      },
      "source": [
        "b.append('four')\n",
        "print(b)"
      ],
      "execution_count": null,
      "outputs": [
        {
          "output_type": "stream",
          "name": "stdout",
          "text": [
            "['one', 'two', 'three', 'four']\n"
          ]
        }
      ]
    },
    {
      "cell_type": "markdown",
      "metadata": {
        "id": "x1O08-aeplpN"
      },
      "source": [
        "숫자로 이루어진 리스트의 각 항목에 숫자를 더하기 위해서는 list comprehension이나 for-loop 이용"
      ]
    },
    {
      "cell_type": "code",
      "metadata": {
        "id": "yDfDGtlNplpN",
        "colab": {
          "base_uri": "https://localhost:8080/"
        },
        "outputId": "a3b48e09-085c-4556-eb1f-c135043923ba"
      },
      "source": [
        "[i + 1 for i in a]"
      ],
      "execution_count": null,
      "outputs": [
        {
          "output_type": "execute_result",
          "data": {
            "text/plain": [
              "[2, 3, 4]"
            ]
          },
          "metadata": {},
          "execution_count": 41
        }
      ]
    },
    {
      "cell_type": "markdown",
      "metadata": {
        "id": "L0ZQjuC2plpN"
      },
      "source": [
        "뒤에 다룰 넘파이 ndarray 자료형은 숫자형 자료 리스트처럼 생겼으나, 숫자 하나를 더할 수 있음"
      ]
    },
    {
      "cell_type": "code",
      "metadata": {
        "colab": {
          "base_uri": "https://localhost:8080/"
        },
        "id": "iPtgYebIplpN",
        "outputId": "65f517f6-ae8d-4d7e-9965-1ec69680bcab"
      },
      "source": [
        "list(range(10))"
      ],
      "execution_count": null,
      "outputs": [
        {
          "output_type": "execute_result",
          "data": {
            "text/plain": [
              "[0, 1, 2, 3, 4, 5, 6, 7, 8, 9]"
            ]
          },
          "metadata": {},
          "execution_count": 42
        }
      ]
    },
    {
      "cell_type": "markdown",
      "metadata": {
        "id": "9hL8FpZIplpO"
      },
      "source": [
        "리스트에 있는 문자열을 특정 기호로 연결"
      ]
    },
    {
      "cell_type": "code",
      "metadata": {
        "colab": {
          "base_uri": "https://localhost:8080/"
        },
        "id": "weMGGcSnplpO",
        "outputId": "7a8dac43-f3a6-434f-cf21-7fc44b8c38e0"
      },
      "source": [
        "b"
      ],
      "execution_count": null,
      "outputs": [
        {
          "output_type": "execute_result",
          "data": {
            "text/plain": [
              "['one', 'two', 'three', 'four']"
            ]
          },
          "metadata": {},
          "execution_count": 43
        }
      ]
    },
    {
      "cell_type": "code",
      "metadata": {
        "colab": {
          "base_uri": "https://localhost:8080/",
          "height": 35
        },
        "id": "ZCs23hE5plpO",
        "outputId": "55837d4d-be55-430b-df69-4ff75f92c478"
      },
      "source": [
        "':'.join(b)"
      ],
      "execution_count": null,
      "outputs": [
        {
          "output_type": "execute_result",
          "data": {
            "application/vnd.google.colaboratory.intrinsic+json": {
              "type": "string"
            },
            "text/plain": [
              "'one:two:three:four'"
            ]
          },
          "metadata": {},
          "execution_count": 44
        }
      ]
    },
    {
      "cell_type": "markdown",
      "metadata": {
        "id": "VSN0RYpGplpO"
      },
      "source": [
        "파이썬 인덱스는 0부터 시작!! "
      ]
    },
    {
      "cell_type": "code",
      "metadata": {
        "colab": {
          "base_uri": "https://localhost:8080/"
        },
        "id": "K8bDKfI_plpO",
        "outputId": "79ffc5a1-7299-4ae7-9ebf-34994329cc72"
      },
      "source": [
        "a[0]"
      ],
      "execution_count": null,
      "outputs": [
        {
          "output_type": "execute_result",
          "data": {
            "text/plain": [
              "1"
            ]
          },
          "metadata": {},
          "execution_count": 45
        }
      ]
    },
    {
      "cell_type": "code",
      "metadata": {
        "colab": {
          "base_uri": "https://localhost:8080/"
        },
        "id": "gAtXisSjplpO",
        "outputId": "273701e7-e3c2-44c8-85aa-deebf85c6e0a"
      },
      "source": [
        "a[0:2]"
      ],
      "execution_count": null,
      "outputs": [
        {
          "output_type": "execute_result",
          "data": {
            "text/plain": [
              "[1, 2]"
            ]
          },
          "metadata": {},
          "execution_count": 46
        }
      ]
    },
    {
      "cell_type": "markdown",
      "metadata": {
        "id": "vRT8wJ74plpO"
      },
      "source": [
        "list의 마지막 항목의 인덱스는 -1"
      ]
    },
    {
      "cell_type": "code",
      "metadata": {
        "colab": {
          "base_uri": "https://localhost:8080/"
        },
        "id": "Do_mDuYVplpO",
        "outputId": "8840120b-cf62-4b90-c185-2a00d7f0bad4"
      },
      "source": [
        "a[-1]"
      ],
      "execution_count": null,
      "outputs": [
        {
          "output_type": "execute_result",
          "data": {
            "text/plain": [
              "3"
            ]
          },
          "metadata": {},
          "execution_count": 47
        }
      ]
    },
    {
      "cell_type": "code",
      "metadata": {
        "colab": {
          "base_uri": "https://localhost:8080/"
        },
        "id": "I3GTH7SvplpP",
        "outputId": "bb3537fe-ecad-462e-dc3c-88a736f6c0f5"
      },
      "source": [
        "a = ['KOR', 'USA', 'CHN']\n",
        "print(a[0], a[-1], a[:2], a[-2:])"
      ],
      "execution_count": null,
      "outputs": [
        {
          "output_type": "stream",
          "name": "stdout",
          "text": [
            "KOR CHN ['KOR', 'USA'] ['USA', 'CHN']\n"
          ]
        }
      ]
    },
    {
      "cell_type": "markdown",
      "metadata": {
        "id": "fB3a845YplpP"
      },
      "source": [
        "- 주피터노트북에서 긴 리스트는 세로로 표시되지만, %pprint 명령어로 옵션 변경 가능,\n",
        "- print() 명령어를 사용하면, 긴 리스트도 가로로 표시"
      ]
    },
    {
      "cell_type": "code",
      "metadata": {
        "colab": {
          "base_uri": "https://localhost:8080/"
        },
        "id": "J2Byf-aJplpP",
        "outputId": "53c06ccf-a17f-4920-dbae-81ba073afa8d"
      },
      "source": [
        "a * 4"
      ],
      "execution_count": null,
      "outputs": [
        {
          "output_type": "execute_result",
          "data": {
            "text/plain": [
              "['KOR',\n",
              " 'USA',\n",
              " 'CHN',\n",
              " 'KOR',\n",
              " 'USA',\n",
              " 'CHN',\n",
              " 'KOR',\n",
              " 'USA',\n",
              " 'CHN',\n",
              " 'KOR',\n",
              " 'USA',\n",
              " 'CHN']"
            ]
          },
          "metadata": {},
          "execution_count": 49
        }
      ]
    },
    {
      "cell_type": "code",
      "metadata": {
        "colab": {
          "base_uri": "https://localhost:8080/"
        },
        "id": "_oVw6pnWplpP",
        "outputId": "2d97a8cf-1611-49c6-a84c-8a3e1058f7a4"
      },
      "source": [
        "print(a * 4)"
      ],
      "execution_count": null,
      "outputs": [
        {
          "output_type": "stream",
          "name": "stdout",
          "text": [
            "['KOR', 'USA', 'CHN', 'KOR', 'USA', 'CHN', 'KOR', 'USA', 'CHN', 'KOR', 'USA', 'CHN']\n"
          ]
        }
      ]
    },
    {
      "cell_type": "code",
      "metadata": {
        "colab": {
          "base_uri": "https://localhost:8080/"
        },
        "id": "rS7Q-uLrplpP",
        "outputId": "de4f12ce-7222-4d61-aad2-4781f95531f5"
      },
      "source": [
        "%pprint"
      ],
      "execution_count": null,
      "outputs": [
        {
          "output_type": "stream",
          "name": "stdout",
          "text": [
            "Pretty printing has been turned OFF\n"
          ]
        }
      ]
    },
    {
      "cell_type": "code",
      "metadata": {
        "colab": {
          "base_uri": "https://localhost:8080/"
        },
        "id": "XXQht5hSplpP",
        "outputId": "5f4406cb-0450-4187-d6de-d6e5cef82630"
      },
      "source": [
        "a * 4"
      ],
      "execution_count": null,
      "outputs": [
        {
          "output_type": "execute_result",
          "data": {
            "text/plain": [
              "['KOR', 'USA', 'CHN', 'KOR', 'USA', 'CHN', 'KOR', 'USA', 'CHN', 'KOR', 'USA', 'CHN']"
            ]
          },
          "metadata": {},
          "execution_count": 52
        }
      ]
    },
    {
      "cell_type": "markdown",
      "metadata": {
        "id": "XJhS-OzzplpP"
      },
      "source": [
        "- 문자열 리스트의 각 항목을 따옴표 없이 print()하기 위해 리스트이름 앞에 * 입력\n",
        "- print()가 출력하는 각 항목 사이를 구분하기 위해 sep = '기호'를 지정\n",
        "- print()가 마지막에 출력할 내용을 지정하기 위해 end = '기호'를 지정(기본은 '\\n')"
      ]
    },
    {
      "cell_type": "code",
      "metadata": {
        "colab": {
          "base_uri": "https://localhost:8080/"
        },
        "id": "bgMMv7EZplpQ",
        "outputId": "4372ac1c-cf1e-4162-8bb2-83ea9582b269"
      },
      "source": [
        "print(a)"
      ],
      "execution_count": null,
      "outputs": [
        {
          "output_type": "stream",
          "name": "stdout",
          "text": [
            "['KOR', 'USA', 'CHN']\n"
          ]
        }
      ]
    },
    {
      "cell_type": "code",
      "metadata": {
        "colab": {
          "base_uri": "https://localhost:8080/"
        },
        "id": "dsIAYIK_plpQ",
        "outputId": "93d60235-ee25-4d6b-abf3-f7e45a3e4a5e"
      },
      "source": [
        "print(*a)"
      ],
      "execution_count": null,
      "outputs": [
        {
          "output_type": "stream",
          "name": "stdout",
          "text": [
            "KOR USA CHN\n"
          ]
        }
      ]
    },
    {
      "cell_type": "code",
      "metadata": {
        "colab": {
          "base_uri": "https://localhost:8080/"
        },
        "id": "3vSOur9jplpQ",
        "outputId": "0518bdbc-0198-4115-e23f-84ef8a105a76"
      },
      "source": [
        "print(*a, sep = ', ')"
      ],
      "execution_count": null,
      "outputs": [
        {
          "output_type": "stream",
          "name": "stdout",
          "text": [
            "KOR, USA, CHN\n"
          ]
        }
      ]
    },
    {
      "cell_type": "markdown",
      "metadata": {
        "id": "i7-NlpntplpQ"
      },
      "source": [
        "list comprehension"
      ]
    },
    {
      "cell_type": "code",
      "metadata": {
        "colab": {
          "base_uri": "https://localhost:8080/",
          "height": 164
        },
        "id": "VXAg6bIzplpQ",
        "outputId": "41451910-aceb-4832-c700-d80abc3c4e8e"
      },
      "source": [
        "['KOR', 'USA', 'CHN'] - ['CHN', 'AUS']"
      ],
      "execution_count": null,
      "outputs": [
        {
          "output_type": "error",
          "ename": "TypeError",
          "evalue": "ignored",
          "traceback": [
            "\u001b[0;31m---------------------------------------------------------------------------\u001b[0m",
            "\u001b[0;31mTypeError\u001b[0m                                 Traceback (most recent call last)",
            "\u001b[0;32m<ipython-input-56-2a9b0e82d73c>\u001b[0m in \u001b[0;36m<module>\u001b[0;34m()\u001b[0m\n\u001b[0;32m----> 1\u001b[0;31m \u001b[0;34m[\u001b[0m\u001b[0;34m'KOR'\u001b[0m\u001b[0;34m,\u001b[0m \u001b[0;34m'USA'\u001b[0m\u001b[0;34m,\u001b[0m \u001b[0;34m'CHN'\u001b[0m\u001b[0;34m]\u001b[0m \u001b[0;34m-\u001b[0m \u001b[0;34m[\u001b[0m\u001b[0;34m'CHN'\u001b[0m\u001b[0;34m,\u001b[0m \u001b[0;34m'AUS'\u001b[0m\u001b[0;34m]\u001b[0m\u001b[0;34m\u001b[0m\u001b[0;34m\u001b[0m\u001b[0m\n\u001b[0m",
            "\u001b[0;31mTypeError\u001b[0m: unsupported operand type(s) for -: 'list' and 'list'"
          ]
        }
      ]
    },
    {
      "cell_type": "code",
      "metadata": {
        "colab": {
          "base_uri": "https://localhost:8080/"
        },
        "id": "UHvHPbCYplpQ",
        "outputId": "3583a455-5f34-4498-de92-fe025a2f7812"
      },
      "source": [
        "[s for s in ['KOR', 'USA', 'CHN'] if s not in ['CHN', 'AUS']]"
      ],
      "execution_count": null,
      "outputs": [
        {
          "output_type": "execute_result",
          "data": {
            "text/plain": [
              "['KOR', 'USA']"
            ]
          },
          "metadata": {},
          "execution_count": 57
        }
      ]
    },
    {
      "cell_type": "markdown",
      "metadata": {
        "id": "NLbNGd0tplpQ"
      },
      "source": [
        "- set() 이용"
      ]
    },
    {
      "cell_type": "code",
      "metadata": {
        "colab": {
          "base_uri": "https://localhost:8080/"
        },
        "id": "owFzu0rJplpQ",
        "outputId": "24313d4c-be47-4cd5-85ec-66759ff0ffa3"
      },
      "source": [
        "set(['KOR', 'USA', 'CHN']), set(['CHN', 'AUS'])"
      ],
      "execution_count": null,
      "outputs": [
        {
          "output_type": "execute_result",
          "data": {
            "text/plain": [
              "({'USA', 'KOR', 'CHN'}, {'AUS', 'CHN'})"
            ]
          },
          "metadata": {},
          "execution_count": 58
        }
      ]
    },
    {
      "cell_type": "code",
      "metadata": {
        "colab": {
          "base_uri": "https://localhost:8080/"
        },
        "id": "asVHCWFaplpR",
        "outputId": "19995a8e-030c-422b-9b11-039ced5c2774"
      },
      "source": [
        "set(['KOR', 'USA', 'CHN']) - set(['CHN', 'AUS'])"
      ],
      "execution_count": null,
      "outputs": [
        {
          "output_type": "execute_result",
          "data": {
            "text/plain": [
              "{'USA', 'KOR'}"
            ]
          },
          "metadata": {},
          "execution_count": 59
        }
      ]
    },
    {
      "cell_type": "code",
      "metadata": {
        "colab": {
          "base_uri": "https://localhost:8080/"
        },
        "id": "txnO0BJ_plpR",
        "outputId": "e4de3d83-8d6e-43ed-e624-ef277bf3f87c"
      },
      "source": [
        "list(set(['KOR', 'USA', 'CHN']) - set(['CHN', 'AUS']))"
      ],
      "execution_count": null,
      "outputs": [
        {
          "output_type": "execute_result",
          "data": {
            "text/plain": [
              "['USA', 'KOR']"
            ]
          },
          "metadata": {},
          "execution_count": 60
        }
      ]
    },
    {
      "cell_type": "markdown",
      "metadata": {
        "id": "owBOJbKCplpR"
      },
      "source": [
        "문자열 리스트 항목별로 문자열 더하기"
      ]
    },
    {
      "cell_type": "code",
      "metadata": {
        "colab": {
          "base_uri": "https://localhost:8080/"
        },
        "id": "1gsa51RnplpS",
        "outputId": "6a339647-48f8-4659-898f-0df518ed1a02"
      },
      "source": [
        "[s + ':g' for s in ['KOR', 'USA', 'CHN']]"
      ],
      "execution_count": null,
      "outputs": [
        {
          "output_type": "execute_result",
          "data": {
            "text/plain": [
              "['KOR:g', 'USA:g', 'CHN:g']"
            ]
          },
          "metadata": {},
          "execution_count": 61
        }
      ]
    },
    {
      "cell_type": "markdown",
      "metadata": {
        "id": "qNqtBf2rplpS"
      },
      "source": [
        "- 출력셀 값 불러오기"
      ]
    },
    {
      "cell_type": "code",
      "metadata": {
        "colab": {
          "base_uri": "https://localhost:8080/"
        },
        "id": "mF4jrz2ZplpS",
        "outputId": "d2a5f595-08a6-4f59-ec04-af8bb2817d18"
      },
      "source": [
        "_"
      ],
      "execution_count": null,
      "outputs": [
        {
          "output_type": "execute_result",
          "data": {
            "text/plain": [
              "['KOR:g', 'USA:g', 'CHN:g']"
            ]
          },
          "metadata": {},
          "execution_count": 62
        }
      ]
    },
    {
      "cell_type": "code",
      "metadata": {
        "colab": {
          "base_uri": "https://localhost:8080/",
          "height": 164
        },
        "id": "RHOEgdSfplpS",
        "outputId": "522f9d0b-1f2c-430d-eb8c-fd0b947feaeb"
      },
      "source": [
        "Out[72]"
      ],
      "execution_count": null,
      "outputs": [
        {
          "output_type": "error",
          "ename": "KeyError",
          "evalue": "ignored",
          "traceback": [
            "\u001b[0;31m---------------------------------------------------------------------------\u001b[0m",
            "\u001b[0;31mKeyError\u001b[0m                                  Traceback (most recent call last)",
            "\u001b[0;32m<ipython-input-63-e8980d47b705>\u001b[0m in \u001b[0;36m<module>\u001b[0;34m()\u001b[0m\n\u001b[0;32m----> 1\u001b[0;31m \u001b[0mOut\u001b[0m\u001b[0;34m[\u001b[0m\u001b[0;36m72\u001b[0m\u001b[0;34m]\u001b[0m\u001b[0;34m\u001b[0m\u001b[0;34m\u001b[0m\u001b[0m\n\u001b[0m",
            "\u001b[0;31mKeyError\u001b[0m: 72"
          ]
        }
      ]
    },
    {
      "cell_type": "code",
      "metadata": {
        "colab": {
          "base_uri": "https://localhost:8080/",
          "height": 164
        },
        "id": "_tj_PHSpplpT",
        "outputId": "c05824a0-5465-430b-b3cb-9f84659fc837"
      },
      "source": [
        "_69"
      ],
      "execution_count": null,
      "outputs": [
        {
          "output_type": "error",
          "ename": "NameError",
          "evalue": "ignored",
          "traceback": [
            "\u001b[0;31m---------------------------------------------------------------------------\u001b[0m",
            "\u001b[0;31mNameError\u001b[0m                                 Traceback (most recent call last)",
            "\u001b[0;32m<ipython-input-64-bac08ec09c6e>\u001b[0m in \u001b[0;36m<module>\u001b[0;34m()\u001b[0m\n\u001b[0;32m----> 1\u001b[0;31m \u001b[0m_69\u001b[0m\u001b[0;34m\u001b[0m\u001b[0;34m\u001b[0m\u001b[0m\n\u001b[0m",
            "\u001b[0;31mNameError\u001b[0m: name '_69' is not defined"
          ]
        }
      ]
    },
    {
      "cell_type": "markdown",
      "metadata": {
        "id": "N2daLnGRplpT"
      },
      "source": [
        "## 딕셔너리"
      ]
    },
    {
      "cell_type": "code",
      "metadata": {
        "id": "2GZchHtWplpT"
      },
      "source": [
        "iso = {'US':'USA', 'KR':'KOR', 'JP':'JPN', 'CN':'CHN'}"
      ],
      "execution_count": null,
      "outputs": []
    },
    {
      "cell_type": "code",
      "metadata": {
        "id": "mFGzj70NplpT"
      },
      "source": [
        "kr_en = {'서울특별시':'SE', '경기도':'GG', '인청광역시':'IC'}"
      ],
      "execution_count": null,
      "outputs": []
    },
    {
      "cell_type": "code",
      "metadata": {
        "colab": {
          "base_uri": "https://localhost:8080/",
          "height": 35
        },
        "id": "I0pbra5AplpT",
        "outputId": "a266ae2c-8f7f-420d-9f2d-88ceac692040"
      },
      "source": [
        "iso['US']"
      ],
      "execution_count": null,
      "outputs": [
        {
          "output_type": "execute_result",
          "data": {
            "application/vnd.google.colaboratory.intrinsic+json": {
              "type": "string"
            },
            "text/plain": [
              "'USA'"
            ]
          },
          "metadata": {},
          "execution_count": 67
        }
      ]
    },
    {
      "cell_type": "code",
      "metadata": {
        "colab": {
          "base_uri": "https://localhost:8080/",
          "height": 35
        },
        "id": "QKe3n0QxplpU",
        "outputId": "5a9133c8-c777-438f-b73f-817a9b7a7347"
      },
      "source": [
        "iso['KR']"
      ],
      "execution_count": null,
      "outputs": [
        {
          "output_type": "execute_result",
          "data": {
            "application/vnd.google.colaboratory.intrinsic+json": {
              "type": "string"
            },
            "text/plain": [
              "'KOR'"
            ]
          },
          "metadata": {},
          "execution_count": 68
        }
      ]
    },
    {
      "cell_type": "code",
      "metadata": {
        "colab": {
          "base_uri": "https://localhost:8080/"
        },
        "id": "TUOz4mGtplpU",
        "outputId": "4fe8890c-6a64-429e-eb50-e50f7e1735b3"
      },
      "source": [
        "iso.keys()"
      ],
      "execution_count": null,
      "outputs": [
        {
          "output_type": "execute_result",
          "data": {
            "text/plain": [
              "dict_keys(['US', 'KR', 'JP', 'CN'])"
            ]
          },
          "metadata": {},
          "execution_count": 69
        }
      ]
    },
    {
      "cell_type": "code",
      "metadata": {
        "colab": {
          "base_uri": "https://localhost:8080/"
        },
        "id": "UYvYD2tuplpU",
        "outputId": "91c3c32c-ee7e-42cc-ea97-b145bf87e810"
      },
      "source": [
        "iso.values()"
      ],
      "execution_count": null,
      "outputs": [
        {
          "output_type": "execute_result",
          "data": {
            "text/plain": [
              "dict_values(['USA', 'KOR', 'JPN', 'CHN'])"
            ]
          },
          "metadata": {},
          "execution_count": 70
        }
      ]
    },
    {
      "cell_type": "code",
      "metadata": {
        "id": "dVMiiQGhplpU"
      },
      "source": [
        "iso['AU'] = 'AUS'"
      ],
      "execution_count": null,
      "outputs": []
    },
    {
      "cell_type": "code",
      "metadata": {
        "colab": {
          "base_uri": "https://localhost:8080/"
        },
        "id": "mEGXZAq6plpU",
        "outputId": "643f91ab-0dfd-49b0-e6e2-b6b6c6e18acf"
      },
      "source": [
        "iso"
      ],
      "execution_count": null,
      "outputs": [
        {
          "output_type": "execute_result",
          "data": {
            "text/plain": [
              "{'US': 'USA', 'KR': 'KOR', 'JP': 'JPN', 'CN': 'CHN', 'AU': 'AUS'}"
            ]
          },
          "metadata": {},
          "execution_count": 72
        }
      ]
    },
    {
      "cell_type": "markdown",
      "metadata": {
        "id": "ie0bl9duplpU"
      },
      "source": [
        "- dict, zip으로 딕셔너리 만들기"
      ]
    },
    {
      "cell_type": "code",
      "metadata": {
        "colab": {
          "base_uri": "https://localhost:8080/"
        },
        "id": "FhtiG9qLplpU",
        "outputId": "ed70a1a5-9272-4fd6-df73-635de66cf15f"
      },
      "source": [
        "dict(zip(['한국', '미국', '일본'], ['KR', 'US', 'JP']))"
      ],
      "execution_count": null,
      "outputs": [
        {
          "output_type": "execute_result",
          "data": {
            "text/plain": [
              "{'한국': 'KR', '미국': 'US', '일본': 'JP'}"
            ]
          },
          "metadata": {},
          "execution_count": 73
        }
      ]
    },
    {
      "cell_type": "code",
      "metadata": {
        "colab": {
          "base_uri": "https://localhost:8080/"
        },
        "id": "-1Az1sswplpV",
        "outputId": "394354a9-f1e7-4a3e-b253-b9c9521b261f"
      },
      "source": [
        "import pandas as pd\n",
        "countries = pd.Series(['South Korea', 'United States'])\n",
        "print(countries)"
      ],
      "execution_count": null,
      "outputs": [
        {
          "output_type": "stream",
          "name": "stdout",
          "text": [
            "0      South Korea\n",
            "1    United States\n",
            "dtype: object\n"
          ]
        }
      ]
    },
    {
      "cell_type": "code",
      "metadata": {
        "colab": {
          "base_uri": "https://localhost:8080/"
        },
        "id": "lnZxU24BplpV",
        "outputId": "b41724c3-f094-4c59-a1a0-d48d52620c8e"
      },
      "source": [
        "cdict = {'South Korea':'KR', 'United States':'US'}\n",
        "countries.replace(cdict)"
      ],
      "execution_count": null,
      "outputs": [
        {
          "output_type": "execute_result",
          "data": {
            "text/plain": [
              "0    KR\n",
              "1    US\n",
              "dtype: object"
            ]
          },
          "metadata": {},
          "execution_count": 75
        }
      ]
    },
    {
      "cell_type": "markdown",
      "metadata": {
        "id": "LudrxhdBplpV"
      },
      "source": [
        "## 터플"
      ]
    },
    {
      "cell_type": "code",
      "metadata": {
        "id": "R60XB1a3plpV"
      },
      "source": [
        "a, b, c = 5, 10, 15"
      ],
      "execution_count": null,
      "outputs": []
    },
    {
      "cell_type": "code",
      "metadata": {
        "colab": {
          "base_uri": "https://localhost:8080/"
        },
        "id": "pDpSREc1plpW",
        "outputId": "b86212c7-635c-4544-ac33-8081b78e6404"
      },
      "source": [
        "print(a, b, c)"
      ],
      "execution_count": null,
      "outputs": [
        {
          "output_type": "stream",
          "name": "stdout",
          "text": [
            "5 10 15\n"
          ]
        }
      ]
    },
    {
      "cell_type": "code",
      "metadata": {
        "colab": {
          "base_uri": "https://localhost:8080/"
        },
        "id": "YIF8iHoPplpW",
        "outputId": "2f9896c1-4a08-4402-bc03-501a08751805"
      },
      "source": [
        "a, b = b, a\n",
        "print(a, b)"
      ],
      "execution_count": null,
      "outputs": [
        {
          "output_type": "stream",
          "name": "stdout",
          "text": [
            "10 5\n"
          ]
        }
      ]
    },
    {
      "cell_type": "markdown",
      "metadata": {
        "id": "uQznY9FWplpW"
      },
      "source": [
        "## 연습문제\n",
        "\n",
        "- 아래 국가명 리스트와 연도 리스트를 이용하여 국가명_연도 문자열을 생성하라\n",
        "- 아래 리스트와 인덱스를 이용하여 일본과 중국에 대해서만 국가명_연도 문자열을 생성하라\n",
        "- 딕셔너리를 이용하여 countries 리스트의 아시아 국가명을 'ASIA'로 변경하라(힌트: 딕셔너리의 get 함수 이용, dict.get())"
      ]
    },
    {
      "cell_type": "code",
      "metadata": {
        "id": "8kI8vZUNplpW"
      },
      "source": [
        "countries = ['KOR', 'USA', 'JPN', 'CHN', 'AUS', 'MEX']\n",
        "year = [17, 18, 19, 20]"
      ],
      "execution_count": null,
      "outputs": []
    },
    {
      "cell_type": "markdown",
      "metadata": {
        "id": "4IZZ5oviplpW"
      },
      "source": [
        "- 아래 문자열 리스트에서 숫자로 이루어진 문자열만 선택하여 리스트를 생성하라"
      ]
    },
    {
      "cell_type": "code",
      "metadata": {
        "id": "aLU9e6stplpX"
      },
      "source": [
        "list1 = ['KOR', '한국', '15', \"True\", '1000']\n",
        "list2 = ['KOR', '한국', '15', \"True\", '1000', '-5']"
      ],
      "execution_count": null,
      "outputs": []
    },
    {
      "cell_type": "code",
      "metadata": {
        "id": "jTOTu6j8plpX"
      },
      "source": [
        ""
      ],
      "execution_count": null,
      "outputs": []
    },
    {
      "cell_type": "code",
      "metadata": {
        "id": "rH2vScWWplpX"
      },
      "source": [
        ""
      ],
      "execution_count": null,
      "outputs": []
    },
    {
      "cell_type": "code",
      "metadata": {
        "id": "2gCirlZwplpX"
      },
      "source": [
        ""
      ],
      "execution_count": null,
      "outputs": []
    },
    {
      "cell_type": "markdown",
      "metadata": {
        "id": "bD8IrLeNplpX"
      },
      "source": [
        "# 문법\n",
        "\n",
        "- 파이썬에서 for loop, if 구문, 함수 정의시 indentation(스페이스 4개) 이용\n",
        "    - 주피터노트북에서 tab은 스페이스 4개를 입력\n",
        "- 코드작성의 자유도가 낮은 대신, 가독성이 매우 높아짐\n",
        "\n",
        "\n",
        "```\n",
        "<C>\n",
        "if (i=1; i<=n; i++) {\n",
        "  printf(\"%d\\n\", i);\n",
        "}\n",
        "\n",
        "<matlab>\n",
        "for i = 1:n\n",
        "    disp(i)\n",
        "end\n",
        "\n",
        "<python>\n",
        "for i = range(1, n+1)\n",
        "    disp(i)    \n",
        "```"
      ]
    },
    {
      "cell_type": "markdown",
      "metadata": {
        "id": "Na2vfuFH_FLK"
      },
      "source": [
        "## definition"
      ]
    },
    {
      "cell_type": "code",
      "metadata": {
        "id": "fj8mNDvkplpX"
      },
      "source": [
        "def sum_two_numbers(a, b):\n",
        "    return a + b"
      ],
      "execution_count": null,
      "outputs": []
    },
    {
      "cell_type": "code",
      "metadata": {
        "colab": {
          "base_uri": "https://localhost:8080/"
        },
        "id": "ZPVoJCD_plpX",
        "outputId": "032ba927-78db-4b3c-fcf2-7447588f6bf9"
      },
      "source": [
        "sum_two_numbers(1, 2)"
      ],
      "execution_count": null,
      "outputs": [
        {
          "output_type": "execute_result",
          "data": {
            "text/plain": [
              "3"
            ]
          },
          "metadata": {},
          "execution_count": 82
        }
      ]
    },
    {
      "cell_type": "code",
      "metadata": {
        "id": "ZFNz4kDgByOy"
      },
      "source": [
        "def sum_three_numbers(a, b, c=4):\n",
        "    return a + 2*b + c"
      ],
      "execution_count": null,
      "outputs": []
    },
    {
      "cell_type": "code",
      "metadata": {
        "colab": {
          "base_uri": "https://localhost:8080/"
        },
        "id": "jhza4RrBBljK",
        "outputId": "50a0f0f9-0146-4362-c543-527cbe1d8855"
      },
      "source": [
        "sum_three_numbers(1, 2, 0)"
      ],
      "execution_count": null,
      "outputs": [
        {
          "output_type": "execute_result",
          "data": {
            "text/plain": [
              "5"
            ]
          },
          "metadata": {},
          "execution_count": 84
        }
      ]
    },
    {
      "cell_type": "code",
      "metadata": {
        "colab": {
          "base_uri": "https://localhost:8080/"
        },
        "id": "SF4nCPoICDH6",
        "outputId": "c25ef3c2-274a-46a4-e39f-d111a6f5a419"
      },
      "source": [
        "sum_three_numbers(1, 2)"
      ],
      "execution_count": null,
      "outputs": [
        {
          "output_type": "execute_result",
          "data": {
            "text/plain": [
              "9"
            ]
          },
          "metadata": {},
          "execution_count": 85
        }
      ]
    },
    {
      "cell_type": "code",
      "metadata": {
        "colab": {
          "base_uri": "https://localhost:8080/"
        },
        "id": "c0K0qo6RCJ2D",
        "outputId": "415a33f0-3558-4d04-becc-4f5c4ebdccec"
      },
      "source": [
        "sum_three_numbers(b=2, a=1)"
      ],
      "execution_count": null,
      "outputs": [
        {
          "output_type": "execute_result",
          "data": {
            "text/plain": [
              "9"
            ]
          },
          "metadata": {},
          "execution_count": 86
        }
      ]
    },
    {
      "cell_type": "code",
      "metadata": {
        "id": "LTHPsxRE_dVQ"
      },
      "source": [
        "sum_two_numbers2 = lambda x, y: x + y"
      ],
      "execution_count": null,
      "outputs": []
    },
    {
      "cell_type": "code",
      "metadata": {
        "colab": {
          "base_uri": "https://localhost:8080/"
        },
        "id": "TKqDmGAp_kfq",
        "outputId": "2634946c-b1bc-4ee4-f73d-0c82219a2b20"
      },
      "source": [
        "sum_two_numbers2(1, 2)"
      ],
      "execution_count": null,
      "outputs": [
        {
          "output_type": "execute_result",
          "data": {
            "text/plain": [
              "3"
            ]
          },
          "metadata": {},
          "execution_count": 88
        }
      ]
    },
    {
      "cell_type": "markdown",
      "metadata": {
        "id": "AdJnA5Mo_P2g"
      },
      "source": [
        "## for-loop, if-else"
      ]
    },
    {
      "cell_type": "code",
      "metadata": {
        "colab": {
          "base_uri": "https://localhost:8080/"
        },
        "id": "bBBlUm3MplpX",
        "outputId": "2dd5d417-6ce0-42a2-a111-9481f1e0ad1a"
      },
      "source": [
        "countries = ['KOR', 'USA', 'CHN']\n",
        "for c in countries:\n",
        "    if c == 'KOR':\n",
        "        print(c, 'is my country.')\n",
        "    else:\n",
        "        print(c)"
      ],
      "execution_count": null,
      "outputs": [
        {
          "output_type": "stream",
          "name": "stdout",
          "text": [
            "KOR is my country.\n",
            "USA\n",
            "CHN\n"
          ]
        }
      ]
    },
    {
      "cell_type": "markdown",
      "metadata": {
        "id": "kRUJF1Tb-2H8"
      },
      "source": [
        "## continue, break, pass"
      ]
    },
    {
      "cell_type": "code",
      "metadata": {
        "colab": {
          "base_uri": "https://localhost:8080/"
        },
        "id": "qqdt6yCm-_sw",
        "outputId": "6c355a89-1950-411f-86ee-b7060451d0eb"
      },
      "source": [
        "for i in range(4):    # [0, 1, 2, 3]\n",
        "    if i==2:\n",
        "        continue\n",
        "    else:\n",
        "        print(f'{i} is not 2')\n"
      ],
      "execution_count": null,
      "outputs": [
        {
          "output_type": "stream",
          "name": "stdout",
          "text": [
            "0 is not 2\n",
            "1 is not 2\n",
            "3 is not 2\n"
          ]
        }
      ]
    },
    {
      "cell_type": "code",
      "metadata": {
        "colab": {
          "base_uri": "https://localhost:8080/"
        },
        "id": "fAbT9lG9DIZD",
        "outputId": "63d88198-1f83-4aeb-d3ff-dc698f4b892d"
      },
      "source": [
        "for i in range(4):    # [0, 1, 2, 3]\n",
        "    if i==2:\n",
        "        break\n",
        "    else:\n",
        "        print(f'{i} is not 2')\n"
      ],
      "execution_count": null,
      "outputs": [
        {
          "output_type": "stream",
          "name": "stdout",
          "text": [
            "0 is not 2\n",
            "1 is not 2\n"
          ]
        }
      ]
    },
    {
      "cell_type": "code",
      "metadata": {
        "colab": {
          "base_uri": "https://localhost:8080/",
          "height": 130
        },
        "id": "LZa_Fq9dEi8c",
        "outputId": "056e80bf-6c50-499d-af2a-9b83f60509ab"
      },
      "source": [
        "if True:\n",
        "else:\n",
        "    print('False')"
      ],
      "execution_count": null,
      "outputs": [
        {
          "output_type": "error",
          "ename": "IndentationError",
          "evalue": "ignored",
          "traceback": [
            "\u001b[0;36m  File \u001b[0;32m\"<ipython-input-92-bbb973b1c60b>\"\u001b[0;36m, line \u001b[0;32m2\u001b[0m\n\u001b[0;31m    else:\u001b[0m\n\u001b[0m       ^\u001b[0m\n\u001b[0;31mIndentationError\u001b[0m\u001b[0;31m:\u001b[0m expected an indented block\n"
          ]
        }
      ]
    },
    {
      "cell_type": "code",
      "metadata": {
        "id": "5E02yd7EEpMt"
      },
      "source": [
        "if True:\n",
        "    pass\n",
        "else:\n",
        "    print('False')"
      ],
      "execution_count": null,
      "outputs": []
    },
    {
      "cell_type": "markdown",
      "metadata": {
        "id": "2Vt4L_TYplpX"
      },
      "source": [
        "## list comprehension v. for-loop"
      ]
    },
    {
      "cell_type": "code",
      "metadata": {
        "colab": {
          "base_uri": "https://localhost:8080/"
        },
        "id": "0VU-Q557plpY",
        "outputId": "431df108-7ce0-46fe-e767-3ab6d23e4668"
      },
      "source": [
        "[s for s in ['KOR', 'USA', 'CHN'] if s not in ['CHN','AUS']]"
      ],
      "execution_count": null,
      "outputs": [
        {
          "output_type": "execute_result",
          "data": {
            "text/plain": [
              "['KOR', 'USA']"
            ]
          },
          "metadata": {},
          "execution_count": 94
        }
      ]
    },
    {
      "cell_type": "code",
      "metadata": {
        "colab": {
          "base_uri": "https://localhost:8080/"
        },
        "id": "HLSa-L3JplpY",
        "outputId": "c8f46810-9a4f-42b1-95be-c050a3f51f2c"
      },
      "source": [
        "clist = []\n",
        "for c in ['KOR', 'USA', 'CHN']:\n",
        "    if c not in ['CHN', 'AUS']:\n",
        "        clist = clist + [c] # clist.append(c)\n",
        "clist"
      ],
      "execution_count": null,
      "outputs": [
        {
          "output_type": "execute_result",
          "data": {
            "text/plain": [
              "['KOR', 'USA']"
            ]
          },
          "metadata": {},
          "execution_count": 95
        }
      ]
    },
    {
      "cell_type": "markdown",
      "metadata": {
        "id": "fXiJb2-vplpY"
      },
      "source": [
        "# 라이브러리: numpy\n",
        "- ndarray는 행(row)과 열(column) 보다 첫번째 차원, 두번째 차원, 세번째 차원 등으로 정의\n",
        "- 필요한 경우 matrix 자료형을 사용할 수 있으나 활용도가 낮음\n",
        "- ndarray자료형을 이용하여 일반적인 matrix연산을 모두 할 수 있음\n",
        "- 2-dim ndarray에서 행(row)처럼 보이는 것은 첫번째 차원임"
      ]
    },
    {
      "cell_type": "code",
      "metadata": {
        "colab": {
          "base_uri": "https://localhost:8080/"
        },
        "id": "k2Jgfc1WplpY",
        "outputId": "7603fd9b-1091-4935-c602-aa66526f99c6"
      },
      "source": [
        "import numpy\n",
        "import numpy as np\n",
        "print(numpy.sin(0), np.sin(0))"
      ],
      "execution_count": null,
      "outputs": [
        {
          "output_type": "stream",
          "name": "stdout",
          "text": [
            "0.0 0.0\n"
          ]
        }
      ]
    },
    {
      "cell_type": "code",
      "metadata": {
        "colab": {
          "base_uri": "https://localhost:8080/",
          "height": 164
        },
        "id": "0vLWer7XplpY",
        "outputId": "e3ccc8bb-3f56-447e-c616-6ad0efd449f3"
      },
      "source": [
        "print(sin(0))"
      ],
      "execution_count": null,
      "outputs": [
        {
          "output_type": "error",
          "ename": "NameError",
          "evalue": "ignored",
          "traceback": [
            "\u001b[0;31m---------------------------------------------------------------------------\u001b[0m",
            "\u001b[0;31mNameError\u001b[0m                                 Traceback (most recent call last)",
            "\u001b[0;32m<ipython-input-97-6da8cd5a692f>\u001b[0m in \u001b[0;36m<module>\u001b[0;34m()\u001b[0m\n\u001b[0;32m----> 1\u001b[0;31m \u001b[0mprint\u001b[0m\u001b[0;34m(\u001b[0m\u001b[0msin\u001b[0m\u001b[0;34m(\u001b[0m\u001b[0;36m0\u001b[0m\u001b[0;34m)\u001b[0m\u001b[0;34m)\u001b[0m\u001b[0;34m\u001b[0m\u001b[0;34m\u001b[0m\u001b[0m\n\u001b[0m",
            "\u001b[0;31mNameError\u001b[0m: name 'sin' is not defined"
          ]
        }
      ]
    },
    {
      "cell_type": "code",
      "metadata": {
        "colab": {
          "base_uri": "https://localhost:8080/"
        },
        "id": "O-q0Z7iWplpY",
        "outputId": "e79bfb50-c330-446c-889e-2f5d8b29dd70"
      },
      "source": [
        "print(np.pi)"
      ],
      "execution_count": null,
      "outputs": [
        {
          "output_type": "stream",
          "name": "stdout",
          "text": [
            "3.141592653589793\n"
          ]
        }
      ]
    },
    {
      "cell_type": "markdown",
      "metadata": {
        "id": "e4zvp4p4plpY"
      },
      "source": [
        "## 인덱스\n",
        "\n",
        "- 특정 열(두번째 차원)에 접근하기 위해서는 콜론(:)을 첫번째 인덱스 자리에 입력"
      ]
    },
    {
      "cell_type": "code",
      "metadata": {
        "id": "-fDyxqeNplpZ"
      },
      "source": [
        "a1 = np.array([[1,2 ,3], [2, 3, 4]])"
      ],
      "execution_count": null,
      "outputs": []
    },
    {
      "cell_type": "code",
      "metadata": {
        "colab": {
          "base_uri": "https://localhost:8080/"
        },
        "id": "AvyCmZbZplpZ",
        "outputId": "f0c5c005-5ebe-4c54-f0c2-2a477bc5c244"
      },
      "source": [
        "a1[:, 0]"
      ],
      "execution_count": null,
      "outputs": [
        {
          "output_type": "execute_result",
          "data": {
            "text/plain": [
              "array([1, 2])"
            ]
          },
          "metadata": {},
          "execution_count": 100
        }
      ]
    },
    {
      "cell_type": "code",
      "metadata": {
        "colab": {
          "base_uri": "https://localhost:8080/"
        },
        "id": "RABxBORuplpZ",
        "outputId": "f3ecf5ba-f887-45de-cb01-44305c6a7982"
      },
      "source": [
        "a1[0, :]"
      ],
      "execution_count": null,
      "outputs": [
        {
          "output_type": "execute_result",
          "data": {
            "text/plain": [
              "array([1, 2, 3])"
            ]
          },
          "metadata": {},
          "execution_count": 101
        }
      ]
    },
    {
      "cell_type": "markdown",
      "metadata": {
        "id": "q9pQBuHXplpZ"
      },
      "source": [
        "## 통계량 및 연산"
      ]
    },
    {
      "cell_type": "code",
      "metadata": {
        "colab": {
          "base_uri": "https://localhost:8080/"
        },
        "id": "CfwCsepxplpZ",
        "outputId": "b68ce6b9-7f6e-44b7-e16e-231e58b7d817"
      },
      "source": [
        "v = np.array([1, 2, 3])\n",
        "print(v)"
      ],
      "execution_count": null,
      "outputs": [
        {
          "output_type": "stream",
          "name": "stdout",
          "text": [
            "[1 2 3]\n"
          ]
        }
      ]
    },
    {
      "cell_type": "code",
      "metadata": {
        "colab": {
          "base_uri": "https://localhost:8080/"
        },
        "id": "jtEkHINYplpZ",
        "outputId": "7d2b1698-a31c-4811-b62e-d63fae0cedf3"
      },
      "source": [
        "type(v)"
      ],
      "execution_count": null,
      "outputs": [
        {
          "output_type": "execute_result",
          "data": {
            "text/plain": [
              "<class 'numpy.ndarray'>"
            ]
          },
          "metadata": {},
          "execution_count": 103
        }
      ]
    },
    {
      "cell_type": "code",
      "metadata": {
        "colab": {
          "base_uri": "https://localhost:8080/"
        },
        "id": "3JUrDSosplpZ",
        "outputId": "267695c0-3d87-4e9a-ef4d-c3e1ec2e73f9"
      },
      "source": [
        "m = np.array([[1, 2], [3, 4]])\n",
        "m"
      ],
      "execution_count": null,
      "outputs": [
        {
          "output_type": "execute_result",
          "data": {
            "text/plain": [
              "array([[1, 2],\n",
              "       [3, 4]])"
            ]
          },
          "metadata": {},
          "execution_count": 104
        }
      ]
    },
    {
      "cell_type": "code",
      "metadata": {
        "colab": {
          "base_uri": "https://localhost:8080/"
        },
        "id": "Gg7BvYmnplpZ",
        "outputId": "083e05a1-a533-4d84-f551-f617c74404cc"
      },
      "source": [
        "print(v.mean(), v.std(), v.max())"
      ],
      "execution_count": null,
      "outputs": [
        {
          "output_type": "stream",
          "name": "stdout",
          "text": [
            "2.0 0.816496580927726 3\n"
          ]
        }
      ]
    },
    {
      "cell_type": "code",
      "metadata": {
        "colab": {
          "base_uri": "https://localhost:8080/"
        },
        "id": "1lkhx8TOplpa",
        "outputId": "e05f9a3f-7090-4e28-c3d2-ac51f3a153bd"
      },
      "source": [
        "np.sin([0, np.pi / 2, np.pi])"
      ],
      "execution_count": null,
      "outputs": [
        {
          "output_type": "execute_result",
          "data": {
            "text/plain": [
              "array([0.0000000e+00, 1.0000000e+00, 1.2246468e-16])"
            ]
          },
          "metadata": {},
          "execution_count": 106
        }
      ]
    },
    {
      "cell_type": "code",
      "metadata": {
        "id": "Y241PhSJplpa"
      },
      "source": [
        "a = np.array([[1, 2], [3, 4]])"
      ],
      "execution_count": null,
      "outputs": []
    },
    {
      "cell_type": "code",
      "metadata": {
        "colab": {
          "base_uri": "https://localhost:8080/"
        },
        "id": "VqX0Ckl7plpa",
        "outputId": "7dc26526-1317-45c2-ec56-b397386ba3b5"
      },
      "source": [
        "a"
      ],
      "execution_count": null,
      "outputs": [
        {
          "output_type": "execute_result",
          "data": {
            "text/plain": [
              "array([[1, 2],\n",
              "       [3, 4]])"
            ]
          },
          "metadata": {},
          "execution_count": 108
        }
      ]
    },
    {
      "cell_type": "code",
      "metadata": {
        "id": "e69wHXbSplpa"
      },
      "source": [
        "a[0,0] = -1"
      ],
      "execution_count": null,
      "outputs": []
    },
    {
      "cell_type": "code",
      "metadata": {
        "colab": {
          "base_uri": "https://localhost:8080/"
        },
        "id": "n38BC583plpa",
        "outputId": "80acbee5-1246-4013-e24c-f809194b240c"
      },
      "source": [
        "a"
      ],
      "execution_count": null,
      "outputs": [
        {
          "output_type": "execute_result",
          "data": {
            "text/plain": [
              "array([[-1,  2],\n",
              "       [ 3,  4]])"
            ]
          },
          "metadata": {},
          "execution_count": 110
        }
      ]
    },
    {
      "cell_type": "code",
      "metadata": {
        "colab": {
          "base_uri": "https://localhost:8080/"
        },
        "id": "lIxD74iyplpb",
        "outputId": "7ffd68f2-3d5e-48fc-c7ed-39de4315417f"
      },
      "source": [
        "a[0] = 0\n",
        "a"
      ],
      "execution_count": null,
      "outputs": [
        {
          "output_type": "execute_result",
          "data": {
            "text/plain": [
              "array([[0, 0],\n",
              "       [3, 4]])"
            ]
          },
          "metadata": {},
          "execution_count": 111
        }
      ]
    },
    {
      "cell_type": "code",
      "metadata": {
        "colab": {
          "base_uri": "https://localhost:8080/"
        },
        "id": "jKkteEbqplpb",
        "outputId": "386d4099-f018-4711-b66b-3260b1ed70c4"
      },
      "source": [
        "a[:, 1] = [5, 6]\n",
        "print(a)"
      ],
      "execution_count": null,
      "outputs": [
        {
          "output_type": "stream",
          "name": "stdout",
          "text": [
            "[[0 5]\n",
            " [3 6]]\n"
          ]
        }
      ]
    },
    {
      "cell_type": "code",
      "metadata": {
        "id": "-qi7NmUYplpb"
      },
      "source": [
        "v1 = np.array([1, 2, 3])\n",
        "v2 = np.array([-1, 0, 1])"
      ],
      "execution_count": null,
      "outputs": []
    },
    {
      "cell_type": "code",
      "metadata": {
        "colab": {
          "base_uri": "https://localhost:8080/"
        },
        "id": "V1BMn7YUplpb",
        "outputId": "d75f432f-84d7-47ef-9389-49a3ff8fff9b"
      },
      "source": [
        "v1 + 1"
      ],
      "execution_count": null,
      "outputs": [
        {
          "output_type": "execute_result",
          "data": {
            "text/plain": [
              "array([2, 3, 4])"
            ]
          },
          "metadata": {},
          "execution_count": 114
        }
      ]
    },
    {
      "cell_type": "code",
      "metadata": {
        "colab": {
          "base_uri": "https://localhost:8080/"
        },
        "id": "Tfp-_yqoplpb",
        "outputId": "f758da06-6811-4044-8948-8be6e6376249"
      },
      "source": [
        "v1 * 2"
      ],
      "execution_count": null,
      "outputs": [
        {
          "output_type": "execute_result",
          "data": {
            "text/plain": [
              "array([2, 4, 6])"
            ]
          },
          "metadata": {},
          "execution_count": 115
        }
      ]
    },
    {
      "cell_type": "code",
      "metadata": {
        "colab": {
          "base_uri": "https://localhost:8080/"
        },
        "id": "DR44aJT4plpb",
        "outputId": "94200065-fe2c-41c2-9650-5a9d119f7a34"
      },
      "source": [
        "v1 ** 2"
      ],
      "execution_count": null,
      "outputs": [
        {
          "output_type": "execute_result",
          "data": {
            "text/plain": [
              "array([1, 4, 9])"
            ]
          },
          "metadata": {},
          "execution_count": 116
        }
      ]
    },
    {
      "cell_type": "code",
      "metadata": {
        "colab": {
          "base_uri": "https://localhost:8080/"
        },
        "id": "mNQfAJ0Uplpc",
        "outputId": "35cbca5b-7441-4c98-d1eb-340ca3235af4"
      },
      "source": [
        "np.log(v1)"
      ],
      "execution_count": null,
      "outputs": [
        {
          "output_type": "execute_result",
          "data": {
            "text/plain": [
              "array([0.        , 0.69314718, 1.09861229])"
            ]
          },
          "metadata": {},
          "execution_count": 117
        }
      ]
    },
    {
      "cell_type": "code",
      "metadata": {
        "colab": {
          "base_uri": "https://localhost:8080/"
        },
        "id": "_uk6B2JUplpc",
        "outputId": "1b0f1e34-1cb2-4dd6-a077-2592a6827dd0"
      },
      "source": [
        "np.exp(v1)"
      ],
      "execution_count": null,
      "outputs": [
        {
          "output_type": "execute_result",
          "data": {
            "text/plain": [
              "array([ 2.71828183,  7.3890561 , 20.08553692])"
            ]
          },
          "metadata": {},
          "execution_count": 118
        }
      ]
    },
    {
      "cell_type": "markdown",
      "metadata": {
        "id": "EG0e3bHCplpc"
      },
      "source": [
        "## dimension\n",
        "- ndarray 간의 +, -, *, / 등 사칙연산은 elementwise이므로 모양이 서로 같아야함 "
      ]
    },
    {
      "cell_type": "code",
      "metadata": {
        "colab": {
          "base_uri": "https://localhost:8080/"
        },
        "id": "qVmNzEDVplpc",
        "outputId": "c6a7fdab-359d-4b4b-b7fc-d2d80703b81d"
      },
      "source": [
        "v1.shape"
      ],
      "execution_count": null,
      "outputs": [
        {
          "output_type": "execute_result",
          "data": {
            "text/plain": [
              "(3,)"
            ]
          },
          "metadata": {},
          "execution_count": 119
        }
      ]
    },
    {
      "cell_type": "code",
      "metadata": {
        "id": "O4uQS0VZplpc"
      },
      "source": [
        "a2 = np.array([[1, 2], [1, 3], [1, 4]])"
      ],
      "execution_count": null,
      "outputs": []
    },
    {
      "cell_type": "code",
      "metadata": {
        "colab": {
          "base_uri": "https://localhost:8080/"
        },
        "id": "QOSlE45fplpc",
        "outputId": "bd0d9804-2da9-4c4e-c975-eb3a95d05cce"
      },
      "source": [
        "a2"
      ],
      "execution_count": null,
      "outputs": [
        {
          "output_type": "execute_result",
          "data": {
            "text/plain": [
              "array([[1, 2],\n",
              "       [1, 3],\n",
              "       [1, 4]])"
            ]
          },
          "metadata": {},
          "execution_count": 121
        }
      ]
    },
    {
      "cell_type": "code",
      "metadata": {
        "colab": {
          "base_uri": "https://localhost:8080/"
        },
        "id": "26B9L5yeplpc",
        "outputId": "87a671e4-1bb0-494b-b67b-2a9b66dfe728"
      },
      "source": [
        "a2.shape"
      ],
      "execution_count": null,
      "outputs": [
        {
          "output_type": "execute_result",
          "data": {
            "text/plain": [
              "(3, 2)"
            ]
          },
          "metadata": {},
          "execution_count": 122
        }
      ]
    },
    {
      "cell_type": "code",
      "metadata": {
        "colab": {
          "base_uri": "https://localhost:8080/"
        },
        "id": "9g-TQ463plpd",
        "outputId": "fd660ece-4a63-41ff-eee5-dcd25adcc600"
      },
      "source": [
        "a1"
      ],
      "execution_count": null,
      "outputs": [
        {
          "output_type": "execute_result",
          "data": {
            "text/plain": [
              "array([[1, 2, 3],\n",
              "       [2, 3, 4]])"
            ]
          },
          "metadata": {},
          "execution_count": 123
        }
      ]
    },
    {
      "cell_type": "code",
      "metadata": {
        "colab": {
          "base_uri": "https://localhost:8080/",
          "height": 164
        },
        "id": "_-MSeqXBplpd",
        "outputId": "c5a100ca-09c1-4ad3-d53c-12744d993085"
      },
      "source": [
        "a1 * a2"
      ],
      "execution_count": null,
      "outputs": [
        {
          "output_type": "error",
          "ename": "ValueError",
          "evalue": "ignored",
          "traceback": [
            "\u001b[0;31m---------------------------------------------------------------------------\u001b[0m",
            "\u001b[0;31mValueError\u001b[0m                                Traceback (most recent call last)",
            "\u001b[0;32m<ipython-input-124-ea9ba2b73904>\u001b[0m in \u001b[0;36m<module>\u001b[0;34m()\u001b[0m\n\u001b[0;32m----> 1\u001b[0;31m \u001b[0ma1\u001b[0m \u001b[0;34m*\u001b[0m \u001b[0ma2\u001b[0m\u001b[0;34m\u001b[0m\u001b[0;34m\u001b[0m\u001b[0m\n\u001b[0m",
            "\u001b[0;31mValueError\u001b[0m: operands could not be broadcast together with shapes (2,3) (3,2) "
          ]
        }
      ]
    },
    {
      "cell_type": "code",
      "metadata": {
        "colab": {
          "base_uri": "https://localhost:8080/"
        },
        "id": "xc37umndplpe",
        "outputId": "eba3cd54-b4d7-41ee-871e-f143d7affb42"
      },
      "source": [
        "v1.shape, v2.shape"
      ],
      "execution_count": null,
      "outputs": [
        {
          "output_type": "execute_result",
          "data": {
            "text/plain": [
              "((3,), (3,))"
            ]
          },
          "metadata": {},
          "execution_count": 125
        }
      ]
    },
    {
      "cell_type": "code",
      "metadata": {
        "colab": {
          "base_uri": "https://localhost:8080/"
        },
        "id": "DhFPmRpLplpe",
        "outputId": "1f32ad72-1cce-4397-f7b3-f0077cf006df"
      },
      "source": [
        "v1 + v2"
      ],
      "execution_count": null,
      "outputs": [
        {
          "output_type": "execute_result",
          "data": {
            "text/plain": [
              "array([0, 2, 4])"
            ]
          },
          "metadata": {},
          "execution_count": 126
        }
      ]
    },
    {
      "cell_type": "code",
      "metadata": {
        "colab": {
          "base_uri": "https://localhost:8080/"
        },
        "id": "BHn6BPDJplpe",
        "outputId": "1fbcd784-c424-4541-9314-18924eb1184c"
      },
      "source": [
        "v1 * v2"
      ],
      "execution_count": null,
      "outputs": [
        {
          "output_type": "execute_result",
          "data": {
            "text/plain": [
              "array([-1,  0,  3])"
            ]
          },
          "metadata": {},
          "execution_count": 127
        }
      ]
    },
    {
      "cell_type": "code",
      "metadata": {
        "colab": {
          "base_uri": "https://localhost:8080/"
        },
        "id": "EIXLQgrIplpe",
        "outputId": "192cde75-d753-45e2-8c91-34d57600ed34"
      },
      "source": [
        "v1.dot(v2)"
      ],
      "execution_count": null,
      "outputs": [
        {
          "output_type": "execute_result",
          "data": {
            "text/plain": [
              "2"
            ]
          },
          "metadata": {},
          "execution_count": 128
        }
      ]
    },
    {
      "cell_type": "code",
      "metadata": {
        "colab": {
          "base_uri": "https://localhost:8080/"
        },
        "id": "S4L3nGSyplpe",
        "outputId": "4cc020e6-89ee-496f-bd37-78f8c8833012"
      },
      "source": [
        "m"
      ],
      "execution_count": null,
      "outputs": [
        {
          "output_type": "execute_result",
          "data": {
            "text/plain": [
              "array([[1, 2],\n",
              "       [3, 4]])"
            ]
          },
          "metadata": {},
          "execution_count": 129
        }
      ]
    },
    {
      "cell_type": "code",
      "metadata": {
        "colab": {
          "base_uri": "https://localhost:8080/"
        },
        "id": "j962-BMWplpe",
        "outputId": "fc743078-842e-47d0-9dab-81fc41c4ee8e"
      },
      "source": [
        "m.T"
      ],
      "execution_count": null,
      "outputs": [
        {
          "output_type": "execute_result",
          "data": {
            "text/plain": [
              "array([[1, 3],\n",
              "       [2, 4]])"
            ]
          },
          "metadata": {},
          "execution_count": 130
        }
      ]
    },
    {
      "cell_type": "code",
      "metadata": {
        "colab": {
          "base_uri": "https://localhost:8080/"
        },
        "id": "VSARCbGpplpf",
        "outputId": "6c614b3d-3b12-41db-bdfd-baaf0788b36f"
      },
      "source": [
        "v = np.array([1, 0])\n",
        "m.dot(v)"
      ],
      "execution_count": null,
      "outputs": [
        {
          "output_type": "execute_result",
          "data": {
            "text/plain": [
              "array([1, 3])"
            ]
          },
          "metadata": {},
          "execution_count": 131
        }
      ]
    },
    {
      "cell_type": "code",
      "metadata": {
        "colab": {
          "base_uri": "https://localhost:8080/"
        },
        "id": "QqAthjUYplpf",
        "outputId": "5aae54b3-d094-45d7-df07-583a6c4be85f"
      },
      "source": [
        "v.dot(m)"
      ],
      "execution_count": null,
      "outputs": [
        {
          "output_type": "execute_result",
          "data": {
            "text/plain": [
              "array([1, 2])"
            ]
          },
          "metadata": {},
          "execution_count": 132
        }
      ]
    },
    {
      "cell_type": "code",
      "metadata": {
        "colab": {
          "base_uri": "https://localhost:8080/"
        },
        "id": "07pqskOtplpf",
        "outputId": "a09f39a5-a81f-424e-f458-c51ef1518778"
      },
      "source": [
        "print('{} \\n\\n {}'.format(a1, a2.T))"
      ],
      "execution_count": null,
      "outputs": [
        {
          "output_type": "stream",
          "name": "stdout",
          "text": [
            "[[1 2 3]\n",
            " [2 3 4]] \n",
            "\n",
            " [[1 1 1]\n",
            " [2 3 4]]\n"
          ]
        }
      ]
    },
    {
      "cell_type": "code",
      "metadata": {
        "colab": {
          "base_uri": "https://localhost:8080/"
        },
        "id": "v98poYU5plpf",
        "outputId": "70906e8c-4170-4df4-8e52-0f44b17ec960"
      },
      "source": [
        "print(a1 * a2.T)"
      ],
      "execution_count": null,
      "outputs": [
        {
          "output_type": "stream",
          "name": "stdout",
          "text": [
            "[[ 1  2  3]\n",
            " [ 4  9 16]]\n"
          ]
        }
      ]
    },
    {
      "cell_type": "markdown",
      "metadata": {
        "id": "cohxp_OHplpf"
      },
      "source": [
        "## matrix operation\n",
        "\n",
        "- numpy array로 생성된 객체는 ndarray 클래스의 메소드와 속성을 가짐\n",
        "- transpose, dot product 등"
      ]
    },
    {
      "cell_type": "code",
      "metadata": {
        "colab": {
          "base_uri": "https://localhost:8080/"
        },
        "id": "zNba342Iplpf",
        "outputId": "3c6d1b5c-66bb-46f3-9acc-3db27ec2a744"
      },
      "source": [
        "a1.dot(a2)"
      ],
      "execution_count": null,
      "outputs": [
        {
          "output_type": "execute_result",
          "data": {
            "text/plain": [
              "array([[ 6, 20],\n",
              "       [ 9, 29]])"
            ]
          },
          "metadata": {},
          "execution_count": 150
        }
      ]
    },
    {
      "cell_type": "code",
      "metadata": {
        "colab": {
          "base_uri": "https://localhost:8080/"
        },
        "id": "ooSu1GLoplpf",
        "outputId": "5c9a4637-f807-4725-e8ac-6c7de2024220"
      },
      "source": [
        "np.dot(a1, a2)"
      ],
      "execution_count": null,
      "outputs": [
        {
          "output_type": "execute_result",
          "data": {
            "text/plain": [
              "array([[ 6, 20],\n",
              "       [ 9, 29]])"
            ]
          },
          "metadata": {},
          "execution_count": 151
        }
      ]
    },
    {
      "cell_type": "code",
      "metadata": {
        "colab": {
          "base_uri": "https://localhost:8080/"
        },
        "id": "tcGxp3t6plpg",
        "outputId": "1fbfa1b9-e43d-4de9-f9db-e3b6ab7220ad"
      },
      "source": [
        "A = np.dot(a1, a2)\n",
        "print(A)"
      ],
      "execution_count": null,
      "outputs": [
        {
          "output_type": "stream",
          "name": "stdout",
          "text": [
            "[[ 6 20]\n",
            " [ 9 29]]\n"
          ]
        }
      ]
    },
    {
      "cell_type": "markdown",
      "metadata": {
        "id": "iGQgM-Syplpg"
      },
      "source": [
        "역행렬: numpy.linalg.inv() 함수 이용"
      ]
    },
    {
      "cell_type": "code",
      "metadata": {
        "colab": {
          "base_uri": "https://localhost:8080/"
        },
        "id": "RarslNr_plpg",
        "outputId": "123f11f7-4902-4813-a64f-73a962b0d832"
      },
      "source": [
        "print(np.linalg.inv(a1.dot(a2)))"
      ],
      "execution_count": null,
      "outputs": [
        {
          "output_type": "stream",
          "name": "stdout",
          "text": [
            "[[-4.83333333  3.33333333]\n",
            " [ 1.5        -1.        ]]\n"
          ]
        }
      ]
    },
    {
      "cell_type": "code",
      "metadata": {
        "id": "3fIn7w6mplpg"
      },
      "source": [
        "from numpy.linalg import inv"
      ],
      "execution_count": null,
      "outputs": []
    },
    {
      "cell_type": "code",
      "metadata": {
        "colab": {
          "base_uri": "https://localhost:8080/"
        },
        "id": "p_d7boJWplpg",
        "outputId": "08fe58a4-9d8b-4ea8-c65e-5497ee1b8f86"
      },
      "source": [
        "inv(a1.dot(a2))"
      ],
      "execution_count": null,
      "outputs": [
        {
          "output_type": "execute_result",
          "data": {
            "text/plain": [
              "array([[-4.83333333,  3.33333333],\n",
              "       [ 1.5       , -1.        ]])"
            ]
          },
          "metadata": {},
          "execution_count": 159
        }
      ]
    },
    {
      "cell_type": "code",
      "metadata": {
        "colab": {
          "base_uri": "https://localhost:8080/"
        },
        "id": "eRjBWaDuplpg",
        "outputId": "e5134962-c100-44f1-acf5-5a4460873b7b"
      },
      "source": [
        "np.identity(a1.shape[0])"
      ],
      "execution_count": null,
      "outputs": [
        {
          "output_type": "execute_result",
          "data": {
            "text/plain": [
              "array([[1., 0.],\n",
              "       [0., 1.]])"
            ]
          },
          "metadata": {},
          "execution_count": 160
        }
      ]
    },
    {
      "cell_type": "markdown",
      "metadata": {
        "id": "Yjn6RimLplpg"
      },
      "source": [
        "- 레온티에프 역행렬"
      ]
    },
    {
      "cell_type": "code",
      "metadata": {
        "colab": {
          "base_uri": "https://localhost:8080/"
        },
        "id": "-OOn4dz2plpg",
        "outputId": "b309c2a0-da55-42a2-d0eb-7d031bab1233"
      },
      "source": [
        "np.linalg.inv(np.identity(A.shape[0]) - A)"
      ],
      "execution_count": null,
      "outputs": [
        {
          "output_type": "execute_result",
          "data": {
            "text/plain": [
              "array([[ 0.7  , -0.5  ],\n",
              "       [-0.225,  0.125]])"
            ]
          },
          "metadata": {},
          "execution_count": 161
        }
      ]
    },
    {
      "cell_type": "markdown",
      "metadata": {
        "id": "cjmOkx7Pplpg"
      },
      "source": [
        "## random sample"
      ]
    },
    {
      "cell_type": "code",
      "metadata": {
        "id": "n6JZFInlplph"
      },
      "source": [
        "import numpy as np"
      ],
      "execution_count": null,
      "outputs": []
    },
    {
      "cell_type": "code",
      "metadata": {
        "id": "ynO-7MZDplph"
      },
      "source": [
        "rsn = np.random.randn(10)"
      ],
      "execution_count": null,
      "outputs": []
    },
    {
      "cell_type": "code",
      "metadata": {
        "colab": {
          "base_uri": "https://localhost:8080/"
        },
        "id": "9cR-_Y9yplph",
        "outputId": "272badd3-9650-4e9d-efea-054aff3cb53f"
      },
      "source": [
        "rsn"
      ],
      "execution_count": null,
      "outputs": [
        {
          "output_type": "execute_result",
          "data": {
            "text/plain": [
              "array([ 0.03088669, -0.45636308, -0.31140751,  0.8450926 , -0.56868183,\n",
              "       -1.18705913,  0.40729332, -0.30936771,  1.0185973 ,  0.85858053])"
            ]
          },
          "metadata": {},
          "execution_count": 145
        }
      ]
    },
    {
      "cell_type": "code",
      "metadata": {
        "id": "p5CuBcneplph"
      },
      "source": [
        "rsi = np.random.randint(1, 10, 10)"
      ],
      "execution_count": null,
      "outputs": []
    },
    {
      "cell_type": "code",
      "metadata": {
        "colab": {
          "base_uri": "https://localhost:8080/"
        },
        "id": "YyHZQdbZplph",
        "outputId": "8052eb3a-1888-441a-84e8-dbe5660cd9d7"
      },
      "source": [
        "rsi"
      ],
      "execution_count": null,
      "outputs": [
        {
          "output_type": "execute_result",
          "data": {
            "text/plain": [
              "array([7, 5, 9, 1, 1, 4, 2, 9, 1, 2])"
            ]
          },
          "metadata": {},
          "execution_count": 147
        }
      ]
    },
    {
      "cell_type": "code",
      "metadata": {
        "id": "XDkjtSKPplph"
      },
      "source": [
        "rsu = np.random.uniform(-1, 1, 10)"
      ],
      "execution_count": null,
      "outputs": []
    },
    {
      "cell_type": "code",
      "metadata": {
        "colab": {
          "base_uri": "https://localhost:8080/"
        },
        "id": "YyvBnSEHplph",
        "outputId": "08228f42-8259-4d90-b6f3-7f0321f01aae"
      },
      "source": [
        "rsu"
      ],
      "execution_count": null,
      "outputs": [
        {
          "output_type": "execute_result",
          "data": {
            "text/plain": [
              "array([-0.98713163, -0.55338148,  0.30992131,  0.56754009, -0.86299484,\n",
              "       -0.35273837,  0.82555949, -0.00455355, -0.46949006,  0.22048699])"
            ]
          },
          "metadata": {},
          "execution_count": 149
        }
      ]
    },
    {
      "cell_type": "markdown",
      "metadata": {
        "id": "DJvy49Uqplph"
      },
      "source": [
        "# 연습문제\n",
        "\n",
        "- 아래 두 문제 가운데 한 문제를 선택"
      ]
    },
    {
      "cell_type": "markdown",
      "metadata": {
        "id": "WrWI4Erl-khS"
      },
      "source": [
        "\n",
        "\n",
        "1.   아래 식을 참고하여 선형회귀 계수 추정량을 계산하는 함수를 작성하고, 선형회귀모형을 추정하시오\n",
        "\n",
        "\n",
        "$y = X \\beta + u$ with $u \\sim norm(0, 1) / 2$\n",
        "\n",
        "$y$는 $n \\times 1$ 종속변수 벡터, $X$는 $n \\times p$ 설명변수 매트릭스, $\\beta$는 $p \\times 1$ 계수 벡터, $u$는 $\\times 1$ 비관측 요인 벡터\n",
        "$x_{1,t}=1$,\n",
        "\n",
        "\n",
        "$x_{2,t}=0.5 \\times x_{2,t-1} + \\varepsilon_2$ with $x_{2,0} = 1$ and $\\varepsilon_2 \\sim norm(0,1)$\n",
        "\n",
        "\n",
        "$x_{3,t}=0.2 \\times x_{3,t-1} + 2\\varepsilon_3$ with $x_{3,0} = 2$ and $\\varepsilon_3 \\sim norm(0,1)$\n",
        "\n",
        "$\\beta = [1, 2, 3]$\n"
      ]
    },
    {
      "cell_type": "markdown",
      "metadata": {
        "id": "5P70a0rF-iAW"
      },
      "source": [
        "\n",
        "\n",
        "2.   랜덤표본을 이용하여 원주율(np.pi) 근사값을 구하시오 (힌트: 가로, 세로 길이가 2인 정사각형에 내접한 원의 면적은 np.pi)"
      ]
    },
    {
      "cell_type": "code",
      "metadata": {
        "id": "QDaZVQ4tiUBW"
      },
      "source": [
        ""
      ],
      "execution_count": null,
      "outputs": []
    }
  ]
}