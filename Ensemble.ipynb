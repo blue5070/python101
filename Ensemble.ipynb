{
  "nbformat": 4,
  "nbformat_minor": 0,
  "metadata": {
    "colab": {
      "name": "Ensemble.ipynb",
      "provenance": [],
      "collapsed_sections": [],
      "authorship_tag": "ABX9TyPILWXAG9HuFSwRVlPv2mq/",
      "include_colab_link": true
    },
    "kernelspec": {
      "name": "python3",
      "display_name": "Python 3"
    },
    "language_info": {
      "name": "python"
    }
  },
  "cells": [
    {
      "cell_type": "markdown",
      "metadata": {
        "id": "view-in-github",
        "colab_type": "text"
      },
      "source": [
        "<a href=\"https://colab.research.google.com/github/hyunchangyi/python101/blob/main/Ensemble.ipynb\" target=\"_parent\"><img src=\"https://colab.research.google.com/assets/colab-badge.svg\" alt=\"Open In Colab\"/></a>"
      ]
    },
    {
      "cell_type": "markdown",
      "source": [
        "# 동전 앞/뒷면 예측 문제\n",
        "\n",
        "## 정확도가 낮은 분류기라도 분류기의 수가 늘어나면 예측력을 높일 수 있을까?"
      ],
      "metadata": {
        "id": "fn7d2qN7Obzl"
      }
    },
    {
      "cell_type": "code",
      "source": [
        "import numpy as np"
      ],
      "metadata": {
        "id": "P7G0gXpWwH6d"
      },
      "execution_count": 1,
      "outputs": []
    },
    {
      "cell_type": "markdown",
      "source": [
        "던져진 동전은 0.5 확률로 앞면(1), 0.5확률로 뒷면(0)이 나타남"
      ],
      "metadata": {
        "id": "MoO4fpuJwXeM"
      }
    },
    {
      "cell_type": "code",
      "source": [
        "def HT():\n",
        "    return int(np.random.choice([0, 1], size=1, p=[0.5, 0.5]))"
      ],
      "metadata": {
        "id": "9sYU_O9twqRo"
      },
      "execution_count": 21,
      "outputs": []
    },
    {
      "cell_type": "markdown",
      "source": [
        "voter 는 prob 확률로 정확한 실제 나타난 동전 던지기 결과를 정확하게 예측"
      ],
      "metadata": {
        "id": "FrdO9-SSyB5S"
      }
    },
    {
      "cell_type": "code",
      "source": [
        "prob = 0.6\n",
        "\n",
        "def voter(e, prob):\n",
        "    if np.random.choice([False, True], p = [1 - prob, prob]):\n",
        "        return e\n",
        "    else:\n",
        "        return 1 - e"
      ],
      "metadata": {
        "id": "QnpAXS_Bx3AW"
      },
      "execution_count": 6,
      "outputs": []
    },
    {
      "cell_type": "markdown",
      "source": [
        "N개의 voter가 동전을 관찰하고 각각 정확도 prob로 앞면(0) 또는 뒷면(1)을 예측, 절반 이상의 표를 얻은 예측을 최종 예측값으로 결정"
      ],
      "metadata": {
        "id": "0CoVfHJXISvP"
      }
    },
    {
      "cell_type": "code",
      "source": [
        "def prediction_of_voters(e, N, prob, display=False):\n",
        "    vote = sum([voter(e, prob) for i in range(N)])\n",
        "    if vote > N * 0.5:\n",
        "        v = 1\n",
        "    else:\n",
        "        v = 0\n",
        "\n",
        "    result = (e == v)\n",
        "    result_statement = '맞음' if result else '틀림'\n",
        "    \n",
        "    if display:\n",
        "        print(f'실제 결과는 {e}이고, 투표 결과는 {v}이므로 투표에 의한 예측이 {result_statement}.')\n",
        "\n",
        "    return result"
      ],
      "metadata": {
        "id": "rQqEHk3n0czU"
      },
      "execution_count": 36,
      "outputs": []
    },
    {
      "cell_type": "code",
      "source": [
        "result = prediction_of_voters(HT(), 10, 0.9, True)"
      ],
      "metadata": {
        "colab": {
          "base_uri": "https://localhost:8080/"
        },
        "id": "UaYBKHz-HlRa",
        "outputId": "a9b4dbf2-c177-4e28-fda6-185fec35404b"
      },
      "execution_count": 37,
      "outputs": [
        {
          "output_type": "stream",
          "name": "stdout",
          "text": [
            "실제 결과는 1이고, 투표 결과는 1이므로 투표에 의한 예측이 맞음.\n"
          ]
        }
      ]
    },
    {
      "cell_type": "markdown",
      "source": [
        "동전 던지기와 N voter에 의한 예측을 10번 시행한 경우"
      ],
      "metadata": {
        "id": "CePNjfUmLbhQ"
      }
    },
    {
      "cell_type": "code",
      "source": [
        "[prediction_of_voters(HT(), 10, 0.9) for i in range(10)]"
      ],
      "metadata": {
        "colab": {
          "base_uri": "https://localhost:8080/"
        },
        "id": "awhh11gfKvi6",
        "outputId": "f1c83d71-24e8-43bd-cda1-444e1c5b45c8"
      },
      "execution_count": 43,
      "outputs": [
        {
          "output_type": "execute_result",
          "data": {
            "text/plain": [
              "[True, True, True, True, True, True, True, True, True, True]"
            ]
          },
          "metadata": {},
          "execution_count": 43
        }
      ]
    },
    {
      "cell_type": "markdown",
      "source": [
        "동전 던지기와 N voter에 의한 예측을 T번 시행하였을때 예측이 정확한 빈도"
      ],
      "metadata": {
        "id": "geQ7INozKk1_"
      }
    },
    {
      "cell_type": "code",
      "source": [
        "T = 100\n",
        "\n",
        "sum([prediction_of_voters(HT(), 1000, 0.51) for i in range(T)])/T"
      ],
      "metadata": {
        "colab": {
          "base_uri": "https://localhost:8080/"
        },
        "id": "4xHM-5gSLGhC",
        "outputId": "8b4460b7-40c8-4ff7-936e-837fc1e00b5a"
      },
      "execution_count": 48,
      "outputs": [
        {
          "output_type": "execute_result",
          "data": {
            "text/plain": [
              "0.72"
            ]
          },
          "metadata": {},
          "execution_count": 48
        }
      ]
    },
    {
      "cell_type": "code",
      "source": [
        ""
      ],
      "metadata": {
        "id": "H9EuEC7kLuDv"
      },
      "execution_count": null,
      "outputs": []
    }
  ]
}