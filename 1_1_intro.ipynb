{
  "nbformat": 4,
  "nbformat_minor": 0,
  "metadata": {
    "kernelspec": {
      "display_name": "Python 3",
      "language": "python",
      "name": "python3"
    },
    "language_info": {
      "codemirror_mode": {
        "name": "ipython",
        "version": 3
      },
      "file_extension": ".py",
      "mimetype": "text/x-python",
      "name": "python",
      "nbconvert_exporter": "python",
      "pygments_lexer": "ipython3",
      "version": "3.8.5"
    },
    "colab": {
      "name": "intro.ipynb",
      "provenance": [],
      "toc_visible": true,
      "include_colab_link": true
    }
  },
  "cells": [
    {
      "cell_type": "markdown",
      "metadata": {
        "id": "view-in-github",
        "colab_type": "text"
      },
      "source": [
        "<a href=\"https://colab.research.google.com/github/changhoon0807/python101/blob/main/1_1_intro.ipynb\" target=\"_parent\"><img src=\"https://colab.research.google.com/assets/colab-badge.svg\" alt=\"Open In Colab\"/></a>"
      ]
    },
    {
      "cell_type": "markdown",
      "metadata": {
        "id": "jwMT9xqBplpA"
      },
      "source": [
        "# 주피터 노트북"
      ]
    },
    {
      "cell_type": "markdown",
      "metadata": {
        "id": "hIN0AWUWuQGu"
      },
      "source": [
        "## 셀 타입\n",
        "\n",
        "- 코드\n",
        "- 마크다운/텍스트\n",
        "- Ctrl + m, m (코드셀 -> 마크다운셀)\n",
        "- Ctrl + m, y (마크다운셀 -> 코드셀)\n",
        "- Ctrl + m, d (셀삭제)"
      ]
    },
    {
      "cell_type": "markdown",
      "metadata": {
        "id": "uUSqwNRIuTLX"
      },
      "source": [
        "## 셀 모드\n",
        "\n",
        "- 편집(edit mode)\n",
        "- 명령(command mode)"
      ]
    },
    {
      "cell_type": "markdown",
      "metadata": {
        "id": "jBUE4J2GmMec"
      },
      "source": [
        "\n",
        "## 셀 실행\n",
        "\n",
        "- Shift + Enter 현재 셀 실행하고 아래 셀 선택\n",
        "- Ctrl + Enter 현재 셀 실행하고 현재 셀 선택\n",
        "- Alt + Enter (colab) 현재 셀 실행하고 아래에 새로운 코드 셀 생성"
      ]
    },
    {
      "cell_type": "markdown",
      "metadata": {
        "id": "6xAOkXo5plpC"
      },
      "source": [
        "## 단축키\n",
        "- 구글 코랩에서는 노트북 단축키를 사용자가 지정할 수 있으며, 일반적인 주피터노트북과 달리 셀 편집모드에서도 단축키를 통해 셀 잘라내기, 새로운 셀 생성 등 셀 편집이 가능\n",
        "\n",
        "- '메뉴-도구-단축키'에서 설정\n",
        "    - 셀 잘라내기 Ctrl + m, x\n",
        "    - 셀 복사하기 Ctrl + m, c\n",
        "    - 셀 붙이기 Ctrl + v\n",
        "    - 셀 삭제 Ctrl + m, d\n",
        "    - 위에 새로운 셀 삽입하기 Ctrl + m, a\n",
        "    - 아래에 새로운 셀 삽입하기 Ctrl + m, b\n",
        "    - 셀 타입 코드로 변환 Ctrl + m, y\n",
        "    - 셀 타입 마크다운으로 변환 Ctrl + m, m\n",
        "    - 실행 취소 Ctrl + m, z\n",
        "    - 단축키 확인 Ctrl + m, x\n",
        "    - 선택된 여러 셀 병합 Ctrl + Shift + m\n",
        "    - 현재 커서 위치에서 셀 분할 Ctrl + m, -\n",
        "    - 주석 설정/해제 Ctrl + /"
      ]
    },
    {
      "cell_type": "markdown",
      "metadata": {
        "id": "2lDW_v4WplpF"
      },
      "source": [
        "# 기본 자료형"
      ]
    },
    {
      "cell_type": "markdown",
      "metadata": {
        "id": "FUzXR2ySplpG"
      },
      "source": [
        "## 기본 자료형에는 숫자형(정수(int), 실수(float)), 참/거짓(bool), 문자열(str) 등이 있음"
      ]
    },
    {
      "cell_type": "code",
      "metadata": {
        "id": "ibNHTrl8plpG",
        "outputId": "281283a7-7cf0-4ea0-f939-e3ec35de5b53",
        "colab": {
          "base_uri": "https://localhost:8080/"
        }
      },
      "source": [
        "1"
      ],
      "execution_count": null,
      "outputs": [
        {
          "output_type": "execute_result",
          "data": {
            "text/plain": [
              "1"
            ]
          },
          "metadata": {},
          "execution_count": 13
        }
      ]
    },
    {
      "cell_type": "code",
      "metadata": {
        "id": "pXbt8obKplpG",
        "outputId": "2f9db577-2f16-4d8c-b860-b648dd7f306e",
        "colab": {
          "base_uri": "https://localhost:8080/"
        }
      },
      "source": [
        "type(1)"
      ],
      "execution_count": null,
      "outputs": [
        {
          "output_type": "execute_result",
          "data": {
            "text/plain": [
              "int"
            ]
          },
          "metadata": {},
          "execution_count": 14
        }
      ]
    },
    {
      "cell_type": "code",
      "metadata": {
        "id": "q1E_vIBdplpG",
        "outputId": "ac8acd2d-77e5-458d-e9d5-fb8250ddc9bc",
        "colab": {
          "base_uri": "https://localhost:8080/"
        }
      },
      "source": [
        "type(1.0)"
      ],
      "execution_count": null,
      "outputs": [
        {
          "output_type": "execute_result",
          "data": {
            "text/plain": [
              "float"
            ]
          },
          "metadata": {},
          "execution_count": 16
        }
      ]
    },
    {
      "cell_type": "markdown",
      "source": [
        "### 자료형은 변환 가능: int(), float()"
      ],
      "metadata": {
        "id": "IuJ8TiRbyu0l"
      }
    },
    {
      "cell_type": "code",
      "source": [
        "a = 1.5\n",
        "b = int(a)\n",
        "type(b)"
      ],
      "metadata": {
        "colab": {
          "base_uri": "https://localhost:8080/"
        },
        "id": "G1QN7rDTyYfN",
        "outputId": "e3b70ebb-e9ee-47aa-bab2-bf70baddd529"
      },
      "execution_count": 10,
      "outputs": [
        {
          "output_type": "execute_result",
          "data": {
            "text/plain": [
              "int"
            ]
          },
          "metadata": {},
          "execution_count": 10
        }
      ]
    },
    {
      "cell_type": "code",
      "metadata": {
        "id": "TyKF1DtxplpG",
        "outputId": "0e1903bc-dc7a-4c5e-a841-4f199052ed4f",
        "colab": {
          "base_uri": "https://localhost:8080/"
        }
      },
      "source": [
        "False, True # 불리언 자료형"
      ],
      "execution_count": null,
      "outputs": [
        {
          "output_type": "execute_result",
          "data": {
            "text/plain": [
              "(False, True)"
            ]
          },
          "metadata": {},
          "execution_count": 12
        }
      ]
    },
    {
      "cell_type": "code",
      "metadata": {
        "id": "0xCcMW83plpH",
        "outputId": "19ed751b-5f63-45a2-865d-812a7e3eea1a",
        "colab": {
          "base_uri": "https://localhost:8080/"
        }
      },
      "source": [
        "type(False)"
      ],
      "execution_count": null,
      "outputs": [
        {
          "output_type": "execute_result",
          "data": {
            "text/plain": [
              "bool"
            ]
          },
          "metadata": {},
          "execution_count": 17
        }
      ]
    },
    {
      "cell_type": "code",
      "metadata": {
        "id": "gUOZPQrLplpH",
        "outputId": "a67a96c7-f341-4cc8-caf9-755b7b74f2f0",
        "colab": {
          "base_uri": "https://localhost:8080/"
        }
      },
      "source": [
        "type('python') # 작은 따옴표"
      ],
      "execution_count": null,
      "outputs": [
        {
          "output_type": "execute_result",
          "data": {
            "text/plain": [
              "str"
            ]
          },
          "metadata": {},
          "execution_count": 18
        }
      ]
    },
    {
      "cell_type": "code",
      "metadata": {
        "id": "r0oSz78XplpH",
        "outputId": "f8fb1281-7423-4756-90f5-7e9d2401bdfa",
        "colab": {
          "base_uri": "https://localhost:8080/"
        }
      },
      "source": [
        "type(\"python\") # 큰 따옴표"
      ],
      "execution_count": null,
      "outputs": [
        {
          "output_type": "execute_result",
          "data": {
            "text/plain": [
              "str"
            ]
          },
          "metadata": {},
          "execution_count": 19
        }
      ]
    },
    {
      "cell_type": "code",
      "metadata": {
        "id": "IP78CxLmplpI",
        "outputId": "f7df4b1b-ce18-4e46-b879-a00200734e4d",
        "colab": {
          "base_uri": "https://localhost:8080/"
        }
      },
      "source": [
        "type('python'), type(.5)"
      ],
      "execution_count": null,
      "outputs": [
        {
          "output_type": "execute_result",
          "data": {
            "text/plain": [
              "(str, float)"
            ]
          },
          "metadata": {},
          "execution_count": 20
        }
      ]
    },
    {
      "cell_type": "code",
      "source": [
        "a = 5\n",
        "b = (a == 5) # equality operator\n",
        "print(b)"
      ],
      "metadata": {
        "id": "doz1UTLjv2SW",
        "outputId": "14965adc-4ee5-4284-bd6a-0a1e19c35857",
        "colab": {
          "base_uri": "https://localhost:8080/"
        }
      },
      "execution_count": null,
      "outputs": [
        {
          "output_type": "stream",
          "name": "stdout",
          "text": [
            "True\n"
          ]
        }
      ]
    },
    {
      "cell_type": "code",
      "metadata": {
        "id": "zp7kR8nCplpI",
        "outputId": "b1d9e612-ab20-489f-ce50-d3014d76b634",
        "colab": {
          "base_uri": "https://localhost:8080/"
        }
      },
      "source": [
        "a = 5\n",
        "b = (a == 3)\n",
        "c = 'KOR'\n",
        "print(a, b, c)"
      ],
      "execution_count": 12,
      "outputs": [
        {
          "output_type": "stream",
          "name": "stdout",
          "text": [
            "5 False KOR\n"
          ]
        }
      ]
    },
    {
      "cell_type": "markdown",
      "metadata": {
        "id": "1RlJvVPPplpI"
      },
      "source": [
        "- 더하기"
      ]
    },
    {
      "cell_type": "code",
      "metadata": {
        "id": "bQUcBF6kplpI",
        "outputId": "d211d48a-1285-497e-be5f-616673da674a",
        "colab": {
          "base_uri": "https://localhost:8080/"
        }
      },
      "source": [
        "4 + 5"
      ],
      "execution_count": null,
      "outputs": [
        {
          "output_type": "execute_result",
          "data": {
            "text/plain": [
              "9"
            ]
          },
          "metadata": {},
          "execution_count": 23
        }
      ]
    },
    {
      "cell_type": "code",
      "metadata": {
        "id": "4ZwrU7d-plpI",
        "outputId": "d2cba040-63bf-4e85-cf32-e3cdbacbaa97",
        "colab": {
          "base_uri": "https://localhost:8080/",
          "height": 35
        }
      },
      "source": [
        "'KOR' + '15' # 문자열 더하기"
      ],
      "execution_count": null,
      "outputs": [
        {
          "output_type": "execute_result",
          "data": {
            "text/plain": [
              "'KOR15'"
            ],
            "application/vnd.google.colaboratory.intrinsic+json": {
              "type": "string"
            }
          },
          "metadata": {},
          "execution_count": 24
        }
      ]
    },
    {
      "cell_type": "code",
      "metadata": {
        "id": "wDGp9HLvplpJ",
        "outputId": "0999f6ff-201f-481e-d564-ccf85c7a8124",
        "colab": {
          "base_uri": "https://localhost:8080/",
          "height": 184
        }
      },
      "source": [
        "'KOR' + 15"
      ],
      "execution_count": null,
      "outputs": [
        {
          "output_type": "error",
          "ename": "TypeError",
          "evalue": "ignored",
          "traceback": [
            "\u001b[0;31m---------------------------------------------------------------------------\u001b[0m",
            "\u001b[0;31mTypeError\u001b[0m                                 Traceback (most recent call last)",
            "\u001b[0;32m<ipython-input-25-20d4bb33d198>\u001b[0m in \u001b[0;36m<cell line: 1>\u001b[0;34m()\u001b[0m\n\u001b[0;32m----> 1\u001b[0;31m \u001b[0;34m'KOR'\u001b[0m \u001b[0;34m+\u001b[0m \u001b[0;36m15\u001b[0m\u001b[0;34m\u001b[0m\u001b[0;34m\u001b[0m\u001b[0m\n\u001b[0m",
            "\u001b[0;31mTypeError\u001b[0m: can only concatenate str (not \"int\") to str"
          ]
        }
      ]
    },
    {
      "cell_type": "code",
      "source": [
        "'KOR' * 3"
      ],
      "metadata": {
        "colab": {
          "base_uri": "https://localhost:8080/",
          "height": 35
        },
        "id": "41SVMWOU0jo0",
        "outputId": "6cd2ec64-1999-4129-efc4-cdea28580ddf"
      },
      "execution_count": 20,
      "outputs": [
        {
          "output_type": "execute_result",
          "data": {
            "text/plain": [
              "'KORKORKOR'"
            ],
            "application/vnd.google.colaboratory.intrinsic+json": {
              "type": "string"
            }
          },
          "metadata": {},
          "execution_count": 20
        }
      ]
    },
    {
      "cell_type": "markdown",
      "metadata": {
        "id": "CXSLZvllRNPB"
      },
      "source": [
        "- 수는 수끼리, 문자열은 문자열끼리 더할 수 있음\n",
        "- 자료형 변경은 str(), float(), int() 등을 이용"
      ]
    },
    {
      "cell_type": "code",
      "metadata": {
        "id": "fH9LuWoJplpJ",
        "outputId": "838ea2ab-1cf7-4c0a-b981-fcf5daa01a13",
        "colab": {
          "base_uri": "https://localhost:8080/",
          "height": 35
        }
      },
      "source": [
        "'KOR' + str(15)"
      ],
      "execution_count": null,
      "outputs": [
        {
          "output_type": "execute_result",
          "data": {
            "text/plain": [
              "'KOR15'"
            ],
            "application/vnd.google.colaboratory.intrinsic+json": {
              "type": "string"
            }
          },
          "metadata": {},
          "execution_count": 26
        }
      ]
    },
    {
      "cell_type": "code",
      "metadata": {
        "id": "b9XEvt9CplpJ",
        "outputId": "5913e7a0-32db-4341-bbf1-6e17d6459026",
        "colab": {
          "base_uri": "https://localhost:8080/"
        }
      },
      "source": [
        "type(str(15))"
      ],
      "execution_count": null,
      "outputs": [
        {
          "output_type": "execute_result",
          "data": {
            "text/plain": [
              "str"
            ]
          },
          "metadata": {},
          "execution_count": 27
        }
      ]
    },
    {
      "cell_type": "code",
      "metadata": {
        "id": "4szQuNbCplpJ",
        "outputId": "ba109742-6770-441c-bbb6-449984dcaba0",
        "colab": {
          "base_uri": "https://localhost:8080/"
        }
      },
      "source": [
        "float(str(15))"
      ],
      "execution_count": null,
      "outputs": [
        {
          "output_type": "execute_result",
          "data": {
            "text/plain": [
              "15.0"
            ]
          },
          "metadata": {},
          "execution_count": 28
        }
      ]
    },
    {
      "cell_type": "markdown",
      "metadata": {
        "id": "7g8KeLtmRulV"
      },
      "source": [
        "- bool 자료형에 사칙연산을 적용할 경우 False는 0, True는 1의 값을 갖는 것으로 처리됨"
      ]
    },
    {
      "cell_type": "code",
      "metadata": {
        "id": "Ghzo11E0plpJ",
        "outputId": "f1f7d8d9-badf-47c7-b2b7-2c810cb16912",
        "colab": {
          "base_uri": "https://localhost:8080/"
        }
      },
      "source": [
        "4 + True"
      ],
      "execution_count": null,
      "outputs": [
        {
          "output_type": "execute_result",
          "data": {
            "text/plain": [
              "5"
            ]
          },
          "metadata": {},
          "execution_count": 29
        }
      ]
    },
    {
      "cell_type": "code",
      "metadata": {
        "id": "pdtjUuBLplpJ",
        "outputId": "164a947b-33fb-4811-bfaa-3f17ccd07f06",
        "colab": {
          "base_uri": "https://localhost:8080/"
        }
      },
      "source": [
        "4 + False"
      ],
      "execution_count": null,
      "outputs": [
        {
          "output_type": "execute_result",
          "data": {
            "text/plain": [
              "4"
            ]
          },
          "metadata": {},
          "execution_count": 30
        }
      ]
    },
    {
      "cell_type": "code",
      "metadata": {
        "id": "Yk2-dgg5plpK",
        "outputId": "11a8cc96-4109-4449-a6f8-1af16fb933dd",
        "colab": {
          "base_uri": "https://localhost:8080/"
        }
      },
      "source": [
        "4 * True"
      ],
      "execution_count": null,
      "outputs": [
        {
          "output_type": "execute_result",
          "data": {
            "text/plain": [
              "4"
            ]
          },
          "metadata": {},
          "execution_count": 31
        }
      ]
    },
    {
      "cell_type": "code",
      "metadata": {
        "id": "_WO49bD2plpK",
        "outputId": "653220a2-fceb-4622-b400-b4b52020c0e0",
        "colab": {
          "base_uri": "https://localhost:8080/"
        }
      },
      "source": [
        "4 * False"
      ],
      "execution_count": null,
      "outputs": [
        {
          "output_type": "execute_result",
          "data": {
            "text/plain": [
              "0"
            ]
          },
          "metadata": {},
          "execution_count": 32
        }
      ]
    },
    {
      "cell_type": "code",
      "metadata": {
        "id": "boRojZFSplpK",
        "outputId": "f67a83a6-d248-4cc1-9870-ee541a171343",
        "colab": {
          "base_uri": "https://localhost:8080/"
        }
      },
      "source": [
        "int(True), float(True)"
      ],
      "execution_count": 21,
      "outputs": [
        {
          "output_type": "execute_result",
          "data": {
            "text/plain": [
              "(1, 1.0)"
            ]
          },
          "metadata": {},
          "execution_count": 21
        }
      ]
    },
    {
      "cell_type": "markdown",
      "metadata": {
        "id": "_DsNzxuXplpK"
      },
      "source": [
        "- 문자열 포맷: f-string, print(): 결과값 표시"
      ]
    },
    {
      "cell_type": "code",
      "metadata": {
        "id": "fn0Ke_hSplpK",
        "outputId": "2463c901-02d0-48c5-cd8c-48510103cf68",
        "colab": {
          "base_uri": "https://localhost:8080/"
        }
      },
      "source": [
        "a = 2\n",
        "b = 'two'\n",
        "print(a, b)"
      ],
      "execution_count": 26,
      "outputs": [
        {
          "output_type": "stream",
          "name": "stdout",
          "text": [
            "2 two\n"
          ]
        }
      ]
    },
    {
      "cell_type": "code",
      "source": [
        "a\n",
        "b"
      ],
      "metadata": {
        "colab": {
          "base_uri": "https://localhost:8080/",
          "height": 35
        },
        "id": "6ByNbNSc3MAP",
        "outputId": "b04259fb-541b-4c90-cea5-71382f219f43"
      },
      "execution_count": 36,
      "outputs": [
        {
          "output_type": "execute_result",
          "data": {
            "text/plain": [
              "'two'"
            ],
            "application/vnd.google.colaboratory.intrinsic+json": {
              "type": "string"
            }
          },
          "metadata": {},
          "execution_count": 36
        }
      ]
    },
    {
      "cell_type": "code",
      "source": [
        "print(a)\n",
        "print(b)"
      ],
      "metadata": {
        "colab": {
          "base_uri": "https://localhost:8080/"
        },
        "id": "OS62f2Yq3F_F",
        "outputId": "51f5225a-3fa0-4292-d0d6-767f503c8803"
      },
      "execution_count": 34,
      "outputs": [
        {
          "output_type": "stream",
          "name": "stdout",
          "text": [
            "1.123445560498\n",
            "two\n"
          ]
        }
      ]
    },
    {
      "cell_type": "code",
      "source": [
        "print(f'{a} is {b}')"
      ],
      "metadata": {
        "id": "cGFUKHjmw_rr",
        "outputId": "84ffdefa-419c-4c2d-a710-50fdfdb8046d",
        "colab": {
          "base_uri": "https://localhost:8080/"
        }
      },
      "execution_count": 27,
      "outputs": [
        {
          "output_type": "stream",
          "name": "stdout",
          "text": [
            "2 is two\n"
          ]
        }
      ]
    },
    {
      "cell_type": "code",
      "source": [
        "a = 1.123445560498"
      ],
      "metadata": {
        "id": "geoLb0k_1k-r"
      },
      "execution_count": 28,
      "outputs": []
    },
    {
      "cell_type": "code",
      "source": [
        "print(f'{a:.5f} is {b}')"
      ],
      "metadata": {
        "id": "R4GTBtVRxLrI",
        "outputId": "255819b3-fc34-4825-eab6-fa321c0545ee",
        "colab": {
          "base_uri": "https://localhost:8080/"
        }
      },
      "execution_count": 30,
      "outputs": [
        {
          "output_type": "stream",
          "name": "stdout",
          "text": [
            "1.12345 is two\n"
          ]
        }
      ]
    },
    {
      "cell_type": "code",
      "metadata": {
        "id": "Z35sO1nOplpK",
        "colab": {
          "base_uri": "https://localhost:8080/"
        },
        "outputId": "7777fa66-a1e9-4211-fe85-53f383430ce6"
      },
      "source": [
        "print(f'{a:.2f} is {b:}')"
      ],
      "execution_count": 31,
      "outputs": [
        {
          "output_type": "stream",
          "name": "stdout",
          "text": [
            "1.12 is two\n"
          ]
        }
      ]
    },
    {
      "cell_type": "code",
      "metadata": {
        "id": "bOWYq_dOplpL"
      },
      "source": [
        "print(f'{b} is {a:.2f}')"
      ],
      "execution_count": null,
      "outputs": []
    },
    {
      "cell_type": "code",
      "metadata": {
        "id": "GEpSVxhsplpL",
        "colab": {
          "base_uri": "https://localhost:8080/"
        },
        "outputId": "e524484e-5d8a-4036-810e-9573de929926"
      },
      "source": [
        "print(f'{b} is not {10000:,}') # 천단위로 , 찍기"
      ],
      "execution_count": 38,
      "outputs": [
        {
          "output_type": "stream",
          "name": "stdout",
          "text": [
            "two is not 10,000\n"
          ]
        }
      ]
    },
    {
      "cell_type": "code",
      "source": [
        "print(f'{b} is not {10000:,.2f}')"
      ],
      "metadata": {
        "id": "etUc4FphxaZu",
        "outputId": "22589993-5c4d-4bd8-e2aa-3b5b19fd82fd",
        "colab": {
          "base_uri": "https://localhost:8080/"
        }
      },
      "execution_count": 40,
      "outputs": [
        {
          "output_type": "stream",
          "name": "stdout",
          "text": [
            "two is not 10,000.00\n"
          ]
        }
      ]
    },
    {
      "cell_type": "code",
      "source": [
        "print(f'1000000:,.2f')"
      ],
      "metadata": {
        "id": "cg2UlNGROM0z",
        "colab": {
          "base_uri": "https://localhost:8080/"
        },
        "outputId": "6654e3f6-5b87-4d67-e4f1-ffb3af8b1573"
      },
      "execution_count": 39,
      "outputs": [
        {
          "output_type": "stream",
          "name": "stdout",
          "text": [
            "1000000:,.2f\n"
          ]
        }
      ]
    },
    {
      "cell_type": "markdown",
      "metadata": {
        "id": "3siuC5njplpL"
      },
      "source": [
        "- 문자열에서 공백 없애기: strip(), lstrip(), rstrip()"
      ]
    },
    {
      "cell_type": "code",
      "source": [
        "\" abc  \""
      ],
      "metadata": {
        "id": "ujRBYr3mxlPg",
        "outputId": "bd6290f7-3ff2-4897-87cd-d3851339cd9f",
        "colab": {
          "base_uri": "https://localhost:8080/",
          "height": 35
        }
      },
      "execution_count": 41,
      "outputs": [
        {
          "output_type": "execute_result",
          "data": {
            "text/plain": [
              "' abc  '"
            ],
            "application/vnd.google.colaboratory.intrinsic+json": {
              "type": "string"
            }
          },
          "metadata": {},
          "execution_count": 41
        }
      ]
    },
    {
      "cell_type": "code",
      "metadata": {
        "id": "6ZukADH3plpL",
        "outputId": "2a0f3464-aafd-49bf-8c78-561e0dc24e73",
        "colab": {
          "base_uri": "https://localhost:8080/",
          "height": 35
        }
      },
      "source": [
        "\" abc \".lstrip()"
      ],
      "execution_count": 49,
      "outputs": [
        {
          "output_type": "execute_result",
          "data": {
            "text/plain": [
              "'abc '"
            ],
            "application/vnd.google.colaboratory.intrinsic+json": {
              "type": "string"
            }
          },
          "metadata": {},
          "execution_count": 49
        }
      ]
    },
    {
      "cell_type": "code",
      "metadata": {
        "id": "7hUmNy5tplpL",
        "outputId": "2e03aef9-2558-4421-c168-2075d0a80c3b",
        "colab": {
          "base_uri": "https://localhost:8080/",
          "height": 35
        }
      },
      "source": [
        "\" abc \".rstrip()"
      ],
      "execution_count": 50,
      "outputs": [
        {
          "output_type": "execute_result",
          "data": {
            "text/plain": [
              "' abc'"
            ],
            "application/vnd.google.colaboratory.intrinsic+json": {
              "type": "string"
            }
          },
          "metadata": {},
          "execution_count": 50
        }
      ]
    },
    {
      "cell_type": "code",
      "metadata": {
        "id": "HUdLs-17plpL",
        "outputId": "ca1a9cc8-2594-4dab-8ecc-71de2a87de29",
        "colab": {
          "base_uri": "https://localhost:8080/",
          "height": 35
        }
      },
      "source": [
        "\" abc \".strip()"
      ],
      "execution_count": 51,
      "outputs": [
        {
          "output_type": "execute_result",
          "data": {
            "text/plain": [
              "'abc'"
            ],
            "application/vnd.google.colaboratory.intrinsic+json": {
              "type": "string"
            }
          },
          "metadata": {},
          "execution_count": 51
        }
      ]
    },
    {
      "cell_type": "code",
      "source": [
        "'abc'.strip()"
      ],
      "metadata": {
        "colab": {
          "base_uri": "https://localhost:8080/",
          "height": 35
        },
        "id": "ho3Xvfj84xfo",
        "outputId": "fb5e323f-aa67-4c49-e273-6cd27838cf97"
      },
      "execution_count": 56,
      "outputs": [
        {
          "output_type": "execute_result",
          "data": {
            "text/plain": [
              "'abc'"
            ],
            "application/vnd.google.colaboratory.intrinsic+json": {
              "type": "string"
            }
          },
          "metadata": {},
          "execution_count": 56
        }
      ]
    },
    {
      "cell_type": "code",
      "metadata": {
        "id": "FPwUgUqOplpL",
        "outputId": "0d30cf46-9431-4b85-9bf6-560eb090515c",
        "colab": {
          "base_uri": "https://localhost:8080/",
          "height": 35
        }
      },
      "source": [
        "\"abc\".strip('bc')"
      ],
      "execution_count": 58,
      "outputs": [
        {
          "output_type": "execute_result",
          "data": {
            "text/plain": [
              "'a'"
            ],
            "application/vnd.google.colaboratory.intrinsic+json": {
              "type": "string"
            }
          },
          "metadata": {},
          "execution_count": 58
        }
      ]
    },
    {
      "cell_type": "code",
      "source": [
        "\"abc\".strip('cd')"
      ],
      "metadata": {
        "colab": {
          "base_uri": "https://localhost:8080/",
          "height": 35
        },
        "id": "SKyOVqwL5Erz",
        "outputId": "b98e7be2-0040-4fb2-c027-fa66cfca4534"
      },
      "execution_count": 59,
      "outputs": [
        {
          "output_type": "execute_result",
          "data": {
            "text/plain": [
              "'ab'"
            ],
            "application/vnd.google.colaboratory.intrinsic+json": {
              "type": "string"
            }
          },
          "metadata": {},
          "execution_count": 59
        }
      ]
    },
    {
      "cell_type": "markdown",
      "metadata": {
        "id": "zcHFY5o9plpM"
      },
      "source": [
        "# 기본 자료형 외 자주 사용되는 자료형: 리스트(list), 딕셔너리(dict), 튜플(tuple)\n",
        "## 리스트\n",
        "- 대괄호 [ ]로 표현하며 시퀀스 형태로 입력"
      ]
    },
    {
      "cell_type": "code",
      "metadata": {
        "id": "QCiLko44plpM",
        "outputId": "52cee7c8-bd9a-4070-c773-b5df2e2c9d48",
        "colab": {
          "base_uri": "https://localhost:8080/"
        }
      },
      "source": [
        "a = [1, 2, 3]\n",
        "b = ['one', 'two', 'three']\n",
        "c = [1, 'one', True]\n",
        "c"
      ],
      "execution_count": 64,
      "outputs": [
        {
          "output_type": "execute_result",
          "data": {
            "text/plain": [
              "[1, 'one', True]"
            ]
          },
          "metadata": {},
          "execution_count": 64
        }
      ]
    },
    {
      "cell_type": "code",
      "metadata": {
        "id": "sp7EfIO-plpM",
        "outputId": "d2a485cc-9ae3-4b65-f3f6-9d6fcf5982dc",
        "colab": {
          "base_uri": "https://localhost:8080/"
        }
      },
      "source": [
        "type(a), type(b)"
      ],
      "execution_count": 65,
      "outputs": [
        {
          "output_type": "execute_result",
          "data": {
            "text/plain": [
              "(list, list)"
            ]
          },
          "metadata": {},
          "execution_count": 65
        }
      ]
    },
    {
      "cell_type": "code",
      "source": [
        "# 인덱싱: a[], 0부터 시작, 마지막은 n-1 또는 -1, 여러 항목은 a[0:2] 또는 a[:2]\n"
      ],
      "metadata": {
        "id": "4hNIx2RA67RY"
      },
      "execution_count": 75,
      "outputs": []
    },
    {
      "cell_type": "code",
      "metadata": {
        "id": "y49xn6_hplpM",
        "outputId": "adbff4af-0a03-425a-db2d-6b76d4937093",
        "colab": {
          "base_uri": "https://localhost:8080/"
        }
      },
      "source": [
        "a * 2 # matlab과 같은 결과를 얻으려면 list comprehension 또는 numpy 라이브러리 필요"
      ],
      "execution_count": null,
      "outputs": [
        {
          "output_type": "execute_result",
          "data": {
            "text/plain": [
              "[1, 2, 3, 1, 2, 3]"
            ]
          },
          "metadata": {},
          "execution_count": 51
        }
      ]
    },
    {
      "cell_type": "code",
      "source": [
        "import numpy as np\n",
        "a = np.array([1, 2, 3])\n",
        "a * 2"
      ],
      "metadata": {
        "id": "D14kiWuOyqQW",
        "outputId": "13198a69-faf0-4751-bdc7-855239330969",
        "colab": {
          "base_uri": "https://localhost:8080/"
        }
      },
      "execution_count": null,
      "outputs": [
        {
          "output_type": "execute_result",
          "data": {
            "text/plain": [
              "array([2, 4, 6])"
            ]
          },
          "metadata": {},
          "execution_count": 59
        }
      ]
    },
    {
      "cell_type": "code",
      "metadata": {
        "id": "2HlEc1C0plpM",
        "outputId": "833be305-6ac8-4262-ed74-1862f2670151",
        "colab": {
          "base_uri": "https://localhost:8080/"
        }
      },
      "source": [
        "b * 3"
      ],
      "execution_count": null,
      "outputs": [
        {
          "output_type": "execute_result",
          "data": {
            "text/plain": [
              "['one', 'two', 'three', 'one', 'two', 'three', 'one', 'two', 'three']"
            ]
          },
          "metadata": {},
          "execution_count": 62
        }
      ]
    },
    {
      "cell_type": "code",
      "metadata": {
        "id": "zHDMP4G_plpM",
        "outputId": "78061f65-eb37-45de-d530-5814525ed03e",
        "colab": {
          "base_uri": "https://localhost:8080/"
        }
      },
      "source": [
        "a + b"
      ],
      "execution_count": null,
      "outputs": [
        {
          "output_type": "execute_result",
          "data": {
            "text/plain": [
              "[1, 2, 3, 'one', 'two', 'three']"
            ]
          },
          "metadata": {},
          "execution_count": 63
        }
      ]
    },
    {
      "cell_type": "code",
      "metadata": {
        "id": "53O9ZnIFplpM",
        "outputId": "fa486d0d-7181-4009-cf78-a275ccb6ce2f",
        "colab": {
          "base_uri": "https://localhost:8080/",
          "height": 184
        }
      },
      "source": [
        "a + 5"
      ],
      "execution_count": null,
      "outputs": [
        {
          "output_type": "error",
          "ename": "TypeError",
          "evalue": "ignored",
          "traceback": [
            "\u001b[0;31m---------------------------------------------------------------------------\u001b[0m",
            "\u001b[0;31mTypeError\u001b[0m                                 Traceback (most recent call last)",
            "\u001b[0;32m<ipython-input-64-5cd40e0bb6cf>\u001b[0m in \u001b[0;36m<cell line: 1>\u001b[0;34m()\u001b[0m\n\u001b[0;32m----> 1\u001b[0;31m \u001b[0ma\u001b[0m \u001b[0;34m+\u001b[0m \u001b[0;36m5\u001b[0m\u001b[0;34m\u001b[0m\u001b[0;34m\u001b[0m\u001b[0m\n\u001b[0m",
            "\u001b[0;31mTypeError\u001b[0m: can only concatenate list (not \"int\") to list"
          ]
        }
      ]
    },
    {
      "cell_type": "code",
      "metadata": {
        "id": "3V9pGdYFplpN",
        "outputId": "324d3da2-73b2-452f-9fb1-2d7a1d7bc49f",
        "colab": {
          "base_uri": "https://localhost:8080/",
          "height": 184
        }
      },
      "source": [
        "a + 'four'"
      ],
      "execution_count": null,
      "outputs": [
        {
          "output_type": "error",
          "ename": "TypeError",
          "evalue": "ignored",
          "traceback": [
            "\u001b[0;31m---------------------------------------------------------------------------\u001b[0m",
            "\u001b[0;31mTypeError\u001b[0m                                 Traceback (most recent call last)",
            "\u001b[0;32m<ipython-input-65-0303589e4648>\u001b[0m in \u001b[0;36m<cell line: 1>\u001b[0;34m()\u001b[0m\n\u001b[0;32m----> 1\u001b[0;31m \u001b[0ma\u001b[0m \u001b[0;34m+\u001b[0m \u001b[0;34m'four'\u001b[0m\u001b[0;34m\u001b[0m\u001b[0;34m\u001b[0m\u001b[0m\n\u001b[0m",
            "\u001b[0;31mTypeError\u001b[0m: can only concatenate list (not \"str\") to list"
          ]
        }
      ]
    },
    {
      "cell_type": "markdown",
      "metadata": {
        "id": "3dU-pVatplpN"
      },
      "source": [
        "- list에 숫자 또는 문자열을 더하는 연산이 정의되어 있지 않으므로 오류발생"
      ]
    },
    {
      "cell_type": "code",
      "metadata": {
        "colab": {
          "base_uri": "https://localhost:8080/"
        },
        "id": "YwhXBSABplpN",
        "outputId": "38956481-832c-4340-a81a-a2115b19ca14"
      },
      "source": [
        "a + [5]"
      ],
      "execution_count": null,
      "outputs": [
        {
          "output_type": "execute_result",
          "data": {
            "text/plain": [
              "[1, 2, 3, 5]"
            ]
          },
          "metadata": {},
          "execution_count": 66
        }
      ]
    },
    {
      "cell_type": "code",
      "source": [
        "b + ['four']"
      ],
      "metadata": {
        "id": "MpmVjroMTXYw",
        "outputId": "56160b97-437b-4dbb-cb69-ded660b7b0e7",
        "colab": {
          "base_uri": "https://localhost:8080/"
        }
      },
      "execution_count": null,
      "outputs": [
        {
          "output_type": "execute_result",
          "data": {
            "text/plain": [
              "['one', 'two', 'three', 'four']"
            ]
          },
          "metadata": {},
          "execution_count": 67
        }
      ]
    },
    {
      "cell_type": "code",
      "metadata": {
        "id": "ics6GYA-plpN",
        "outputId": "89698bb4-1676-43be-9a68-5c2ab60dc0b4",
        "colab": {
          "base_uri": "https://localhost:8080/"
        }
      },
      "source": [
        "b.append('four')\n",
        "print(b)"
      ],
      "execution_count": null,
      "outputs": [
        {
          "output_type": "stream",
          "name": "stdout",
          "text": [
            "['one', 'two', 'three', 'four']\n"
          ]
        }
      ]
    },
    {
      "cell_type": "markdown",
      "metadata": {
        "id": "x1O08-aeplpN"
      },
      "source": [
        "- list comprehension: 각 항목에 어떤 연산을 해서 새로운 리스트 생성"
      ]
    },
    {
      "cell_type": "code",
      "source": [
        "[i + 2 for i in a]"
      ],
      "metadata": {
        "id": "mL7IfSfY0Aq7",
        "outputId": "b4f26027-7fb4-4eed-bae8-8d51e598d321",
        "colab": {
          "base_uri": "https://localhost:8080/"
        }
      },
      "execution_count": null,
      "outputs": [
        {
          "output_type": "execute_result",
          "data": {
            "text/plain": [
              "[3, 4, 5]"
            ]
          },
          "metadata": {},
          "execution_count": 73
        }
      ]
    },
    {
      "cell_type": "code",
      "source": [
        "# for loop\n",
        "d = []\n",
        "for i in a:\n",
        "  d.append(i + 2)\n",
        "d"
      ],
      "metadata": {
        "colab": {
          "base_uri": "https://localhost:8080/"
        },
        "id": "cUsE3GCN-oQE",
        "outputId": "bfa08954-0ce2-49ba-ac2f-ee4fcf1229d6"
      },
      "execution_count": 88,
      "outputs": [
        {
          "output_type": "execute_result",
          "data": {
            "text/plain": [
              "[3, 4, 5]"
            ]
          },
          "metadata": {},
          "execution_count": 88
        }
      ]
    },
    {
      "cell_type": "code",
      "source": [
        "# numpy\n",
        "import numpy as np\n",
        "aa = np.array(a)\n",
        "list(aa + 2)"
      ],
      "metadata": {
        "colab": {
          "base_uri": "https://localhost:8080/"
        },
        "id": "Et2QyJ3V-R23",
        "outputId": "9018731e-b32e-4cb4-fcaa-c89893c71457"
      },
      "execution_count": 95,
      "outputs": [
        {
          "output_type": "execute_result",
          "data": {
            "text/plain": [
              "[3, 4, 5]"
            ]
          },
          "metadata": {},
          "execution_count": 95
        }
      ]
    },
    {
      "cell_type": "markdown",
      "metadata": {
        "id": "9hL8FpZIplpO"
      },
      "source": [
        "- 리스트에 있는 문자열을 특정 기호로 연결"
      ]
    },
    {
      "cell_type": "code",
      "metadata": {
        "id": "weMGGcSnplpO",
        "outputId": "67f1a6b4-1101-4b92-eefa-75a10f562b92",
        "colab": {
          "base_uri": "https://localhost:8080/"
        }
      },
      "source": [
        "b"
      ],
      "execution_count": 96,
      "outputs": [
        {
          "output_type": "execute_result",
          "data": {
            "text/plain": [
              "['one', 'two', 'three']"
            ]
          },
          "metadata": {},
          "execution_count": 96
        }
      ]
    },
    {
      "cell_type": "code",
      "source": [
        "':'.join(b)"
      ],
      "metadata": {
        "id": "Py_8GDFe04RI",
        "outputId": "bed112d2-18f5-47a0-fecb-56db7f2721da",
        "colab": {
          "base_uri": "https://localhost:8080/",
          "height": 35
        }
      },
      "execution_count": 97,
      "outputs": [
        {
          "output_type": "execute_result",
          "data": {
            "text/plain": [
              "'one:two:three'"
            ],
            "application/vnd.google.colaboratory.intrinsic+json": {
              "type": "string"
            }
          },
          "metadata": {},
          "execution_count": 97
        }
      ]
    },
    {
      "cell_type": "markdown",
      "metadata": {
        "id": "VSN0RYpGplpO"
      },
      "source": [
        "- 파이썬 인덱스는 0부터 시작하는 것에 유의"
      ]
    },
    {
      "cell_type": "code",
      "source": [
        "a"
      ],
      "metadata": {
        "id": "-l4cX6zU1C1t",
        "outputId": "6c0771a9-ac0e-40b6-cd21-a109f62c53f0",
        "colab": {
          "base_uri": "https://localhost:8080/"
        }
      },
      "execution_count": 99,
      "outputs": [
        {
          "output_type": "execute_result",
          "data": {
            "text/plain": [
              "[1, 2, 3]"
            ]
          },
          "metadata": {},
          "execution_count": 99
        }
      ]
    },
    {
      "cell_type": "code",
      "metadata": {
        "id": "K8bDKfI_plpO",
        "outputId": "f6b4f1ec-8a0a-4ef6-fdf9-01a2c9f92f91",
        "colab": {
          "base_uri": "https://localhost:8080/"
        }
      },
      "source": [
        "a[0:2] # [포함:미포함]"
      ],
      "execution_count": 100,
      "outputs": [
        {
          "output_type": "execute_result",
          "data": {
            "text/plain": [
              "[1, 2]"
            ]
          },
          "metadata": {},
          "execution_count": 100
        }
      ]
    },
    {
      "cell_type": "code",
      "metadata": {
        "id": "gAtXisSjplpO",
        "outputId": "44a01749-2766-48c2-ea9f-232b870d82f4",
        "colab": {
          "base_uri": "https://localhost:8080/"
        }
      },
      "source": [
        "a[0:3] # 첫번째 인덱스는 포함, 두번째 인덱스는 미포함"
      ],
      "execution_count": 101,
      "outputs": [
        {
          "output_type": "execute_result",
          "data": {
            "text/plain": [
              "[1, 2, 3]"
            ]
          },
          "metadata": {},
          "execution_count": 101
        }
      ]
    },
    {
      "cell_type": "markdown",
      "metadata": {
        "id": "vRT8wJ74plpO"
      },
      "source": [
        "- list의 마지막 항목의 인덱스는 -1"
      ]
    },
    {
      "cell_type": "code",
      "source": [
        "a[-1]"
      ],
      "metadata": {
        "id": "czfiJFv81dVd",
        "outputId": "5851a47b-4a96-4054-8116-c9e23ee1a02c",
        "colab": {
          "base_uri": "https://localhost:8080/"
        }
      },
      "execution_count": null,
      "outputs": [
        {
          "output_type": "execute_result",
          "data": {
            "text/plain": [
              "3"
            ]
          },
          "metadata": {},
          "execution_count": 87
        }
      ]
    },
    {
      "cell_type": "code",
      "metadata": {
        "id": "I3GTH7SvplpP",
        "outputId": "739b5d62-18e4-42b0-f15f-6a5f8d1edf38",
        "colab": {
          "base_uri": "https://localhost:8080/"
        }
      },
      "source": [
        "a = ['KOR', 'USA', 'CHN']\n",
        "print(a[0])\n",
        "print(a[-1])\n",
        "print(a[0:2])\n",
        "print(a[-2:])\n",
        "#print(a[0], a[-1], a[:2], a[-2:])"
      ],
      "execution_count": 103,
      "outputs": [
        {
          "output_type": "stream",
          "name": "stdout",
          "text": [
            "KOR\n",
            "CHN\n",
            "['KOR', 'USA']\n",
            "['USA', 'CHN']\n"
          ]
        }
      ]
    },
    {
      "cell_type": "markdown",
      "metadata": {
        "id": "fB3a845YplpP"
      },
      "source": [
        "- 주피터노트북에서 긴 리스트는 세로로 표시되지만, %pprint 명령어로 옵션 변경 가능,\n",
        "- print() 명령어를 사용하면, 긴 리스트도 가로로 표시"
      ]
    },
    {
      "cell_type": "code",
      "metadata": {
        "id": "J2Byf-aJplpP",
        "outputId": "6d074c76-2573-4a9a-8a38-05c3e8b2b225",
        "colab": {
          "base_uri": "https://localhost:8080/"
        }
      },
      "source": [
        "a"
      ],
      "execution_count": 104,
      "outputs": [
        {
          "output_type": "execute_result",
          "data": {
            "text/plain": [
              "['KOR', 'USA', 'CHN']"
            ]
          },
          "metadata": {},
          "execution_count": 104
        }
      ]
    },
    {
      "cell_type": "code",
      "source": [
        "a * 4"
      ],
      "metadata": {
        "colab": {
          "base_uri": "https://localhost:8080/"
        },
        "id": "P3lKMRY4Gy6k",
        "outputId": "6acb94bf-9339-49c7-ec93-0eeb566e0b76"
      },
      "execution_count": 105,
      "outputs": [
        {
          "output_type": "execute_result",
          "data": {
            "text/plain": [
              "['KOR',\n",
              " 'USA',\n",
              " 'CHN',\n",
              " 'KOR',\n",
              " 'USA',\n",
              " 'CHN',\n",
              " 'KOR',\n",
              " 'USA',\n",
              " 'CHN',\n",
              " 'KOR',\n",
              " 'USA',\n",
              " 'CHN']"
            ]
          },
          "metadata": {},
          "execution_count": 105
        }
      ]
    },
    {
      "cell_type": "code",
      "metadata": {
        "id": "_oVw6pnWplpP",
        "outputId": "055ab754-0f2b-42f7-cb26-bdd2ecfe75c4",
        "colab": {
          "base_uri": "https://localhost:8080/"
        }
      },
      "source": [
        "print(a * 4)"
      ],
      "execution_count": 106,
      "outputs": [
        {
          "output_type": "stream",
          "name": "stdout",
          "text": [
            "['KOR', 'USA', 'CHN', 'KOR', 'USA', 'CHN', 'KOR', 'USA', 'CHN', 'KOR', 'USA', 'CHN']\n"
          ]
        }
      ]
    },
    {
      "cell_type": "code",
      "source": [
        "from pprint import pprint"
      ],
      "metadata": {
        "id": "9lZ23JIcl-HT"
      },
      "execution_count": 107,
      "outputs": []
    },
    {
      "cell_type": "code",
      "metadata": {
        "id": "rS7Q-uLrplpP",
        "outputId": "ca24409a-a1a9-452c-9251-3ed5fa98a94d",
        "colab": {
          "base_uri": "https://localhost:8080/"
        }
      },
      "source": [
        "%pprint # % 매직명령어"
      ],
      "execution_count": 108,
      "outputs": [
        {
          "output_type": "stream",
          "name": "stdout",
          "text": [
            "Pretty printing has been turned OFF\n"
          ]
        }
      ]
    },
    {
      "cell_type": "code",
      "metadata": {
        "id": "XXQht5hSplpP",
        "outputId": "d95147cf-5b10-4b47-cbad-757a7b861af5",
        "colab": {
          "base_uri": "https://localhost:8080/"
        }
      },
      "source": [
        "a * 4"
      ],
      "execution_count": 109,
      "outputs": [
        {
          "output_type": "execute_result",
          "data": {
            "text/plain": [
              "['KOR', 'USA', 'CHN', 'KOR', 'USA', 'CHN', 'KOR', 'USA', 'CHN', 'KOR', 'USA', 'CHN']"
            ]
          },
          "metadata": {},
          "execution_count": 109
        }
      ]
    },
    {
      "cell_type": "markdown",
      "metadata": {
        "id": "XJhS-OzzplpP"
      },
      "source": [
        "- 문자열 리스트의 각 항목을 따옴표 없이 print()하기 위해 리스트이름 앞에 * 입력\n",
        "- print()가 출력하는 각 항목 사이를 구분하기 위해 sep = '기호'를 지정\n",
        "- print()가 마지막에 출력할 내용을 지정하기 위해 end = '기호'를 지정(기본은 '\\n')"
      ]
    },
    {
      "cell_type": "code",
      "metadata": {
        "id": "bgMMv7EZplpQ",
        "outputId": "dde967dc-2c72-42b4-d7ee-d9f1b71dd047",
        "colab": {
          "base_uri": "https://localhost:8080/"
        }
      },
      "source": [
        "print(a)"
      ],
      "execution_count": 112,
      "outputs": [
        {
          "output_type": "stream",
          "name": "stdout",
          "text": [
            "['KOR', 'USA', 'CHN']\n"
          ]
        }
      ]
    },
    {
      "cell_type": "code",
      "metadata": {
        "id": "dsIAYIK_plpQ",
        "outputId": "75b01c53-8e0d-4449-8d65-d2c04f9aa946",
        "colab": {
          "base_uri": "https://localhost:8080/"
        }
      },
      "source": [
        "print(*a)"
      ],
      "execution_count": 113,
      "outputs": [
        {
          "output_type": "stream",
          "name": "stdout",
          "text": [
            "KOR USA CHN\n"
          ]
        }
      ]
    },
    {
      "cell_type": "code",
      "source": [
        "print(*a, sep = ', ')"
      ],
      "metadata": {
        "id": "bFv7yS0r2pTr",
        "outputId": "56a38529-007f-432e-9f06-02df8a95be4b",
        "colab": {
          "base_uri": "https://localhost:8080/"
        }
      },
      "execution_count": 114,
      "outputs": [
        {
          "output_type": "stream",
          "name": "stdout",
          "text": [
            "KOR, USA, CHN\n"
          ]
        }
      ]
    },
    {
      "cell_type": "code",
      "metadata": {
        "id": "3vSOur9jplpQ",
        "colab": {
          "base_uri": "https://localhost:8080/"
        },
        "outputId": "48e2ac7e-57bc-448a-88e4-9ccd6220866f"
      },
      "source": [
        "print(*a, sep = ',')"
      ],
      "execution_count": 115,
      "outputs": [
        {
          "output_type": "stream",
          "name": "stdout",
          "text": [
            "KOR,USA,CHN\n"
          ]
        }
      ]
    },
    {
      "cell_type": "code",
      "source": [
        "print(*a, sep = ', ', end = '.')"
      ],
      "metadata": {
        "colab": {
          "base_uri": "https://localhost:8080/"
        },
        "id": "-TnAe7e8IeBf",
        "outputId": "1c02168e-895b-403a-e760-baa478577464"
      },
      "execution_count": 117,
      "outputs": [
        {
          "output_type": "stream",
          "name": "stdout",
          "text": [
            "KOR, USA, CHN."
          ]
        }
      ]
    },
    {
      "cell_type": "markdown",
      "metadata": {
        "id": "i7-NlpntplpQ"
      },
      "source": [
        "- list comprehension: for-loop 구문 한줄로 간단하게 표현하는 방법"
      ]
    },
    {
      "cell_type": "code",
      "metadata": {
        "id": "VXAg6bIzplpQ",
        "outputId": "2a11b312-0482-42ec-cadd-56b3731e474d",
        "colab": {
          "base_uri": "https://localhost:8080/",
          "height": 141
        }
      },
      "source": [
        "['KOR', 'USA', 'CHN'] - ['CHN', 'AUS'] # output이 KOR, USA가 되도록"
      ],
      "execution_count": 118,
      "outputs": [
        {
          "output_type": "error",
          "ename": "TypeError",
          "evalue": "unsupported operand type(s) for -: 'list' and 'list'",
          "traceback": [
            "\u001b[0;31m---------------------------------------------------------------------------\u001b[0m",
            "\u001b[0;31mTypeError\u001b[0m                                 Traceback (most recent call last)",
            "\u001b[0;32m<ipython-input-118-b6c8466fe5e5>\u001b[0m in \u001b[0;36m<cell line: 1>\u001b[0;34m()\u001b[0m\n\u001b[0;32m----> 1\u001b[0;31m \u001b[0;34m[\u001b[0m\u001b[0;34m'KOR'\u001b[0m\u001b[0;34m,\u001b[0m \u001b[0;34m'USA'\u001b[0m\u001b[0;34m,\u001b[0m \u001b[0;34m'CHN'\u001b[0m\u001b[0;34m]\u001b[0m \u001b[0;34m-\u001b[0m \u001b[0;34m[\u001b[0m\u001b[0;34m'CHN'\u001b[0m\u001b[0;34m,\u001b[0m \u001b[0;34m'AUS'\u001b[0m\u001b[0;34m]\u001b[0m \u001b[0;31m# output이 KOR, USA가 되도록\u001b[0m\u001b[0;34m\u001b[0m\u001b[0;34m\u001b[0m\u001b[0m\n\u001b[0m",
            "\u001b[0;31mTypeError\u001b[0m: unsupported operand type(s) for -: 'list' and 'list'"
          ]
        }
      ]
    },
    {
      "cell_type": "code",
      "source": [
        "[s for s in ['KOR', 'USA', 'CHN'] if s not in ['CHN', 'AUS']]"
      ],
      "metadata": {
        "colab": {
          "base_uri": "https://localhost:8080/"
        },
        "id": "ThoO2j-oJQ_J",
        "outputId": "cc81b911-5b6c-4364-e0bb-a88fd041526e"
      },
      "execution_count": 119,
      "outputs": [
        {
          "output_type": "execute_result",
          "data": {
            "text/plain": [
              "['KOR', 'USA']"
            ]
          },
          "metadata": {},
          "execution_count": 119
        }
      ]
    },
    {
      "cell_type": "markdown",
      "metadata": {
        "id": "NLbNGd0tplpQ"
      },
      "source": [
        "- set() 이용"
      ]
    },
    {
      "cell_type": "code",
      "metadata": {
        "id": "owFzu0rJplpQ",
        "outputId": "9ef1f36c-17a9-47b9-dd6c-fed32bf02a23",
        "colab": {
          "base_uri": "https://localhost:8080/"
        }
      },
      "source": [
        "set(['KOR', 'USA', 'CHN']), set(['CHN', 'AUS'])"
      ],
      "execution_count": 120,
      "outputs": [
        {
          "output_type": "execute_result",
          "data": {
            "text/plain": [
              "({'KOR', 'USA', 'CHN'}, {'AUS', 'CHN'})"
            ]
          },
          "metadata": {},
          "execution_count": 120
        }
      ]
    },
    {
      "cell_type": "code",
      "metadata": {
        "id": "asVHCWFaplpR",
        "outputId": "388625fb-89b5-485b-d8fc-2f1a1c5f446a",
        "colab": {
          "base_uri": "https://localhost:8080/"
        }
      },
      "source": [
        "list(set(['KOR', 'USA', 'CHN']) - set(['CHN', 'AUS']))"
      ],
      "execution_count": 121,
      "outputs": [
        {
          "output_type": "execute_result",
          "data": {
            "text/plain": [
              "['KOR', 'USA']"
            ]
          },
          "metadata": {},
          "execution_count": 121
        }
      ]
    },
    {
      "cell_type": "markdown",
      "metadata": {
        "id": "owBOJbKCplpR"
      },
      "source": [
        "- 문자열 리스트 항목별로 문자열 더하기"
      ]
    },
    {
      "cell_type": "code",
      "metadata": {
        "id": "1gsa51RnplpS",
        "outputId": "36712563-02bd-4cf0-e8ab-d0c41ccca556",
        "colab": {
          "base_uri": "https://localhost:8080/"
        }
      },
      "source": [
        "[s + ':g' for s in ['KOR', 'USA', 'CHN']]"
      ],
      "execution_count": 123,
      "outputs": [
        {
          "output_type": "execute_result",
          "data": {
            "text/plain": [
              "['KOR:g', 'USA:g', 'CHN:g']"
            ]
          },
          "metadata": {},
          "execution_count": 123
        }
      ]
    },
    {
      "cell_type": "code",
      "source": [
        "# 리스트 컴프리헨션으로 ['KO', 'US', 'CH']로 출력되게\n"
      ],
      "metadata": {
        "id": "iD9knke3J1TF"
      },
      "execution_count": 127,
      "outputs": []
    },
    {
      "cell_type": "code",
      "source": [
        "# 리스트 컴프리헨션으로 ['KO', 'USA', 'CHN']으로 출력되게\n"
      ],
      "metadata": {
        "id": "9_b8IFTkKV_s"
      },
      "execution_count": 128,
      "outputs": []
    },
    {
      "cell_type": "markdown",
      "metadata": {
        "id": "L09r0gyUSmN-"
      },
      "source": [
        "- 문자열은 각 캐릭터(123.../abc.../가나다... 등)로 구성된 리스트로 취급"
      ]
    },
    {
      "cell_type": "code",
      "metadata": {
        "id": "AGpghLedSyFV",
        "outputId": "4b35ad88-65e8-4b9a-e4fd-28dfb52cc619",
        "colab": {
          "base_uri": "https://localhost:8080/",
          "height": 35
        }
      },
      "source": [
        "a = 'abcde'\n",
        "a"
      ],
      "execution_count": 133,
      "outputs": [
        {
          "output_type": "execute_result",
          "data": {
            "text/plain": [
              "'abcde'"
            ],
            "application/vnd.google.colaboratory.intrinsic+json": {
              "type": "string"
            }
          },
          "metadata": {},
          "execution_count": 133
        }
      ]
    },
    {
      "cell_type": "code",
      "metadata": {
        "id": "DA-2XROBS2nN",
        "colab": {
          "base_uri": "https://localhost:8080/",
          "height": 35
        },
        "outputId": "9cdba5d4-3ba8-4984-c194-bb38fdac2412"
      },
      "source": [
        "a[:3]"
      ],
      "execution_count": 134,
      "outputs": [
        {
          "output_type": "execute_result",
          "data": {
            "text/plain": [
              "'abc'"
            ],
            "application/vnd.google.colaboratory.intrinsic+json": {
              "type": "string"
            }
          },
          "metadata": {},
          "execution_count": 134
        }
      ]
    },
    {
      "cell_type": "code",
      "metadata": {
        "id": "Fz3MQds_S4Na",
        "colab": {
          "base_uri": "https://localhost:8080/",
          "height": 35
        },
        "outputId": "d0a7f994-b2ba-45b1-cc86-0a031db1bf54"
      },
      "source": [
        "a[-2:]"
      ],
      "execution_count": 135,
      "outputs": [
        {
          "output_type": "execute_result",
          "data": {
            "text/plain": [
              "'de'"
            ],
            "application/vnd.google.colaboratory.intrinsic+json": {
              "type": "string"
            }
          },
          "metadata": {},
          "execution_count": 135
        }
      ]
    },
    {
      "cell_type": "code",
      "metadata": {
        "id": "ln_uyVyuS6sV",
        "colab": {
          "base_uri": "https://localhost:8080/",
          "height": 35
        },
        "outputId": "7886eebe-eb90-44da-8842-00d084d7aeb0"
      },
      "source": [
        "\"가나다라마\"[0:2]"
      ],
      "execution_count": 137,
      "outputs": [
        {
          "output_type": "execute_result",
          "data": {
            "text/plain": [
              "'가나'"
            ],
            "application/vnd.google.colaboratory.intrinsic+json": {
              "type": "string"
            }
          },
          "metadata": {},
          "execution_count": 137
        }
      ]
    },
    {
      "cell_type": "markdown",
      "metadata": {
        "id": "qNqtBf2rplpS"
      },
      "source": [
        "- 이전 실행한 출력셀의 값 불러오기"
      ]
    },
    {
      "cell_type": "code",
      "metadata": {
        "id": "mF4jrz2ZplpS",
        "outputId": "2c6835a1-2a8f-4305-8eec-c143b7831cee",
        "colab": {
          "base_uri": "https://localhost:8080/",
          "height": 35
        }
      },
      "source": [
        "_"
      ],
      "execution_count": 138,
      "outputs": [
        {
          "output_type": "execute_result",
          "data": {
            "text/plain": [
              "'가나'"
            ],
            "application/vnd.google.colaboratory.intrinsic+json": {
              "type": "string"
            }
          },
          "metadata": {},
          "execution_count": 138
        }
      ]
    },
    {
      "cell_type": "code",
      "metadata": {
        "id": "RHOEgdSfplpS",
        "outputId": "6951ec0a-f687-47b7-a274-e309ee4104a9",
        "colab": {
          "base_uri": "https://localhost:8080/",
          "height": 35
        }
      },
      "source": [
        "Out[135]"
      ],
      "execution_count": 139,
      "outputs": [
        {
          "output_type": "execute_result",
          "data": {
            "text/plain": [
              "'de'"
            ],
            "application/vnd.google.colaboratory.intrinsic+json": {
              "type": "string"
            }
          },
          "metadata": {},
          "execution_count": 139
        }
      ]
    },
    {
      "cell_type": "code",
      "metadata": {
        "id": "_tj_PHSpplpT",
        "outputId": "fcfa0815-9504-49e6-fabb-cc180d49d0fb",
        "colab": {
          "base_uri": "https://localhost:8080/",
          "height": 35
        }
      },
      "source": [
        "_"
      ],
      "execution_count": 140,
      "outputs": [
        {
          "output_type": "execute_result",
          "data": {
            "text/plain": [
              "'de'"
            ],
            "application/vnd.google.colaboratory.intrinsic+json": {
              "type": "string"
            }
          },
          "metadata": {},
          "execution_count": 140
        }
      ]
    },
    {
      "cell_type": "markdown",
      "metadata": {
        "id": "AcYPI1Ecjo0w"
      },
      "source": [
        "- range()로 수 리스트 만들기\n",
        "    - range(s, e, i): 처음 위치(생략시 0), 마지막 위치(리스트에 포함 안됨), 수 간격(생략시 1)\n",
        "    - for-loop 등에서 주로 이용하며, 순서대로 해당하는 값만 필요하므로 실제 리스트를 생성하지 않음\n",
        "        - 리스트 생성시 메모리 공간을 크게 차지할 수 있으므로 비효율적임\n",
        "    - 리스트를 생성하기 위해서는 list() 함수 실행"
      ]
    },
    {
      "cell_type": "code",
      "source": [
        "list(range(1, 10, 1))"
      ],
      "metadata": {
        "id": "hRJnRGOo4WXv",
        "outputId": "2fbbfa39-534b-4cd0-f4c0-ccaa9563ca30",
        "colab": {
          "base_uri": "https://localhost:8080/"
        }
      },
      "execution_count": 143,
      "outputs": [
        {
          "output_type": "execute_result",
          "data": {
            "text/plain": [
              "[1, 2, 3, 4, 5, 6, 7, 8, 9]"
            ]
          },
          "metadata": {},
          "execution_count": 143
        }
      ]
    },
    {
      "cell_type": "code",
      "metadata": {
        "id": "6wAlslqNk9c8",
        "colab": {
          "base_uri": "https://localhost:8080/"
        },
        "outputId": "c3b0e8db-30c7-4d12-f076-2ff450dee70f"
      },
      "source": [
        "for i in range(5):  # range(0, 5, 1)와 동일\n",
        "    print(i)"
      ],
      "execution_count": 146,
      "outputs": [
        {
          "output_type": "stream",
          "name": "stdout",
          "text": [
            "0\n",
            "1\n",
            "2\n",
            "3\n",
            "4\n"
          ]
        }
      ]
    },
    {
      "cell_type": "code",
      "metadata": {
        "id": "kYJlQKcylL00",
        "outputId": "ca6266c6-ed0e-45ef-bfd8-c50749820154",
        "colab": {
          "base_uri": "https://localhost:8080/"
        }
      },
      "source": [
        "for i in range(5, 0, -2):\n",
        "    print(i)"
      ],
      "execution_count": 147,
      "outputs": [
        {
          "output_type": "stream",
          "name": "stdout",
          "text": [
            "5\n",
            "3\n",
            "1\n"
          ]
        }
      ]
    },
    {
      "cell_type": "code",
      "metadata": {
        "id": "6k6c6VFSj1P2",
        "colab": {
          "base_uri": "https://localhost:8080/"
        },
        "outputId": "24d38d39-d0ce-4657-b0ac-e19e4e1a0775"
      },
      "source": [
        "list(range(10))"
      ],
      "execution_count": 148,
      "outputs": [
        {
          "output_type": "execute_result",
          "data": {
            "text/plain": [
              "[0, 1, 2, 3, 4, 5, 6, 7, 8, 9]"
            ]
          },
          "metadata": {},
          "execution_count": 148
        }
      ]
    },
    {
      "cell_type": "markdown",
      "metadata": {
        "id": "N2daLnGRplpT"
      },
      "source": [
        "## 딕셔너리 자료형: key와 value로 구성된 집합, { }로 표현"
      ]
    },
    {
      "cell_type": "code",
      "source": [
        "[1, 2, 3]"
      ],
      "metadata": {
        "id": "DA7CfYm17yqG",
        "outputId": "0ee7fbb9-07b6-4abf-f617-c07da4c6890c",
        "colab": {
          "base_uri": "https://localhost:8080/"
        }
      },
      "execution_count": null,
      "outputs": [
        {
          "output_type": "execute_result",
          "data": {
            "text/plain": [
              "[1, 2, 3]"
            ]
          },
          "metadata": {},
          "execution_count": 130
        }
      ]
    },
    {
      "cell_type": "code",
      "source": [
        "dic = {'a': 1, 'b': 2}"
      ],
      "metadata": {
        "id": "iz6UnWnf72DD"
      },
      "execution_count": 149,
      "outputs": []
    },
    {
      "cell_type": "code",
      "metadata": {
        "id": "2GZchHtWplpT"
      },
      "source": [
        "iso = {'US':'USA', 'KR':'KOR', 'JP':'JPN', 'CN':'CHN'}"
      ],
      "execution_count": 160,
      "outputs": []
    },
    {
      "cell_type": "code",
      "source": [
        "iso['US']"
      ],
      "metadata": {
        "colab": {
          "base_uri": "https://localhost:8080/",
          "height": 35
        },
        "id": "RZgOvypZSakC",
        "outputId": "290a7680-787f-4684-8ceb-ee5806904ccc"
      },
      "execution_count": 161,
      "outputs": [
        {
          "output_type": "execute_result",
          "data": {
            "text/plain": [
              "'USA'"
            ],
            "application/vnd.google.colaboratory.intrinsic+json": {
              "type": "string"
            }
          },
          "metadata": {},
          "execution_count": 161
        }
      ]
    },
    {
      "cell_type": "code",
      "metadata": {
        "id": "I0pbra5AplpT",
        "outputId": "57ca301b-a1e0-4f32-a164-ec7facc89be6",
        "colab": {
          "base_uri": "https://localhost:8080/",
          "height": 35
        }
      },
      "source": [
        "iso['KR']"
      ],
      "execution_count": 167,
      "outputs": [
        {
          "output_type": "execute_result",
          "data": {
            "text/plain": [
              "'KOR'"
            ],
            "application/vnd.google.colaboratory.intrinsic+json": {
              "type": "string"
            }
          },
          "metadata": {},
          "execution_count": 167
        }
      ]
    },
    {
      "cell_type": "code",
      "metadata": {
        "id": "TUOz4mGtplpU",
        "outputId": "f6639e4c-8f25-442a-c59e-23507614888b",
        "colab": {
          "base_uri": "https://localhost:8080/"
        }
      },
      "source": [
        "iso.keys() # 키값 출력"
      ],
      "execution_count": 169,
      "outputs": [
        {
          "output_type": "execute_result",
          "data": {
            "text/plain": [
              "dict_keys(['US', 'KR', 'JP', 'CN'])"
            ]
          },
          "metadata": {},
          "execution_count": 169
        }
      ]
    },
    {
      "cell_type": "code",
      "metadata": {
        "id": "UYvYD2tuplpU",
        "outputId": "c63095b5-13ce-4237-be50-0adb8774a1e4",
        "colab": {
          "base_uri": "https://localhost:8080/"
        }
      },
      "source": [
        "iso.values()"
      ],
      "execution_count": 170,
      "outputs": [
        {
          "output_type": "execute_result",
          "data": {
            "text/plain": [
              "dict_values(['USA', 'KOR', 'JPN', 'CHN'])"
            ]
          },
          "metadata": {},
          "execution_count": 170
        }
      ]
    },
    {
      "cell_type": "code",
      "metadata": {
        "id": "dVMiiQGhplpU"
      },
      "source": [
        "iso['AU'] = 'AUS' # 딕셔너리에 추가"
      ],
      "execution_count": 171,
      "outputs": []
    },
    {
      "cell_type": "code",
      "metadata": {
        "id": "mEGXZAq6plpU",
        "outputId": "d7968ca4-142d-485e-b96c-7d580175986d",
        "colab": {
          "base_uri": "https://localhost:8080/"
        }
      },
      "source": [
        "iso"
      ],
      "execution_count": 172,
      "outputs": [
        {
          "output_type": "execute_result",
          "data": {
            "text/plain": [
              "{'US': 'USA', 'KR': 'KOR', 'JP': 'JPN', 'CN': 'CHN', 'AU': 'AUS'}"
            ]
          },
          "metadata": {},
          "execution_count": 172
        }
      ]
    },
    {
      "cell_type": "markdown",
      "metadata": {
        "id": "ie0bl9duplpU"
      },
      "source": [
        "- dict, zip으로 딕셔너리 만들기"
      ]
    },
    {
      "cell_type": "code",
      "source": [
        "zip([1, 2, 3], [a, b, c])"
      ],
      "metadata": {
        "id": "HXWatjWx8bU4",
        "colab": {
          "base_uri": "https://localhost:8080/"
        },
        "outputId": "c3557845-3f76-4081-f65c-f1a79e687c6e"
      },
      "execution_count": 175,
      "outputs": [
        {
          "output_type": "stream",
          "name": "stdout",
          "text": [
            "<zip object at 0x7e817fba7840>\n"
          ]
        }
      ]
    },
    {
      "cell_type": "code",
      "metadata": {
        "id": "FhtiG9qLplpU",
        "outputId": "2f1acf1f-17f8-480a-8f56-a0abbdff552f",
        "colab": {
          "base_uri": "https://localhost:8080/"
        }
      },
      "source": [
        "dict(zip(['한국', '미국', '일본'], ['KR', 'US', 'JP']))"
      ],
      "execution_count": 176,
      "outputs": [
        {
          "output_type": "execute_result",
          "data": {
            "text/plain": [
              "{'한국': 'KR', '미국': 'US', '일본': 'JP'}"
            ]
          },
          "metadata": {},
          "execution_count": 176
        }
      ]
    },
    {
      "cell_type": "markdown",
      "source": [
        "- key 이름 바꾸기: 딕셔너리 컴프리헨션"
      ],
      "metadata": {
        "id": "aJaQCbesjGDc"
      }
    },
    {
      "cell_type": "code",
      "source": [
        "{f'new_{key}':x for key, x in dict(zip(['한국', '미국', '일본'], ['KR', 'US', 'JP'])).items()}"
      ],
      "metadata": {
        "id": "PvAsqW-IjMOL",
        "outputId": "835cc768-f774-4790-fe6d-ffd9f8f0de45",
        "colab": {
          "base_uri": "https://localhost:8080/"
        }
      },
      "execution_count": 177,
      "outputs": [
        {
          "output_type": "execute_result",
          "data": {
            "text/plain": [
              "{'new_한국': 'KR', 'new_미국': 'US', 'new_일본': 'JP'}"
            ]
          },
          "metadata": {},
          "execution_count": 177
        }
      ]
    },
    {
      "cell_type": "code",
      "metadata": {
        "id": "-1Az1sswplpV",
        "outputId": "5e1f0fe4-8b99-4d5b-cfaf-89372873b45f",
        "colab": {
          "base_uri": "https://localhost:8080/"
        }
      },
      "source": [
        "import pandas as pd\n",
        "countries = pd.DataFrame(['South Korea', 'United States', 'North Korea'])\n",
        "print(countries)"
      ],
      "execution_count": 178,
      "outputs": [
        {
          "output_type": "stream",
          "name": "stdout",
          "text": [
            "               0\n",
            "0    South Korea\n",
            "1  United States\n",
            "2    North Korea\n"
          ]
        }
      ]
    },
    {
      "cell_type": "code",
      "metadata": {
        "id": "lnZxU24BplpV",
        "outputId": "2af42036-6fe3-456f-dc6c-a27b97de5bb0",
        "colab": {
          "base_uri": "https://localhost:8080/",
          "height": 143
        }
      },
      "source": [
        "cdict = {'South Korea':'KR', 'United States':'US', 'Japan':'JP'}\n",
        "countries.replace(cdict)"
      ],
      "execution_count": 179,
      "outputs": [
        {
          "output_type": "execute_result",
          "data": {
            "text/plain": [
              "             0\n",
              "0           KR\n",
              "1           US\n",
              "2  North Korea"
            ],
            "text/html": [
              "\n",
              "  <div id=\"df-890c6b82-a3a8-41c2-9e1e-a0f5dd07f5b5\" class=\"colab-df-container\">\n",
              "    <div>\n",
              "<style scoped>\n",
              "    .dataframe tbody tr th:only-of-type {\n",
              "        vertical-align: middle;\n",
              "    }\n",
              "\n",
              "    .dataframe tbody tr th {\n",
              "        vertical-align: top;\n",
              "    }\n",
              "\n",
              "    .dataframe thead th {\n",
              "        text-align: right;\n",
              "    }\n",
              "</style>\n",
              "<table border=\"1\" class=\"dataframe\">\n",
              "  <thead>\n",
              "    <tr style=\"text-align: right;\">\n",
              "      <th></th>\n",
              "      <th>0</th>\n",
              "    </tr>\n",
              "  </thead>\n",
              "  <tbody>\n",
              "    <tr>\n",
              "      <th>0</th>\n",
              "      <td>KR</td>\n",
              "    </tr>\n",
              "    <tr>\n",
              "      <th>1</th>\n",
              "      <td>US</td>\n",
              "    </tr>\n",
              "    <tr>\n",
              "      <th>2</th>\n",
              "      <td>North Korea</td>\n",
              "    </tr>\n",
              "  </tbody>\n",
              "</table>\n",
              "</div>\n",
              "    <div class=\"colab-df-buttons\">\n",
              "\n",
              "  <div class=\"colab-df-container\">\n",
              "    <button class=\"colab-df-convert\" onclick=\"convertToInteractive('df-890c6b82-a3a8-41c2-9e1e-a0f5dd07f5b5')\"\n",
              "            title=\"Convert this dataframe to an interactive table.\"\n",
              "            style=\"display:none;\">\n",
              "\n",
              "  <svg xmlns=\"http://www.w3.org/2000/svg\" height=\"24px\" viewBox=\"0 -960 960 960\">\n",
              "    <path d=\"M120-120v-720h720v720H120Zm60-500h600v-160H180v160Zm220 220h160v-160H400v160Zm0 220h160v-160H400v160ZM180-400h160v-160H180v160Zm440 0h160v-160H620v160ZM180-180h160v-160H180v160Zm440 0h160v-160H620v160Z\"/>\n",
              "  </svg>\n",
              "    </button>\n",
              "\n",
              "  <style>\n",
              "    .colab-df-container {\n",
              "      display:flex;\n",
              "      gap: 12px;\n",
              "    }\n",
              "\n",
              "    .colab-df-convert {\n",
              "      background-color: #E8F0FE;\n",
              "      border: none;\n",
              "      border-radius: 50%;\n",
              "      cursor: pointer;\n",
              "      display: none;\n",
              "      fill: #1967D2;\n",
              "      height: 32px;\n",
              "      padding: 0 0 0 0;\n",
              "      width: 32px;\n",
              "    }\n",
              "\n",
              "    .colab-df-convert:hover {\n",
              "      background-color: #E2EBFA;\n",
              "      box-shadow: 0px 1px 2px rgba(60, 64, 67, 0.3), 0px 1px 3px 1px rgba(60, 64, 67, 0.15);\n",
              "      fill: #174EA6;\n",
              "    }\n",
              "\n",
              "    .colab-df-buttons div {\n",
              "      margin-bottom: 4px;\n",
              "    }\n",
              "\n",
              "    [theme=dark] .colab-df-convert {\n",
              "      background-color: #3B4455;\n",
              "      fill: #D2E3FC;\n",
              "    }\n",
              "\n",
              "    [theme=dark] .colab-df-convert:hover {\n",
              "      background-color: #434B5C;\n",
              "      box-shadow: 0px 1px 3px 1px rgba(0, 0, 0, 0.15);\n",
              "      filter: drop-shadow(0px 1px 2px rgba(0, 0, 0, 0.3));\n",
              "      fill: #FFFFFF;\n",
              "    }\n",
              "  </style>\n",
              "\n",
              "    <script>\n",
              "      const buttonEl =\n",
              "        document.querySelector('#df-890c6b82-a3a8-41c2-9e1e-a0f5dd07f5b5 button.colab-df-convert');\n",
              "      buttonEl.style.display =\n",
              "        google.colab.kernel.accessAllowed ? 'block' : 'none';\n",
              "\n",
              "      async function convertToInteractive(key) {\n",
              "        const element = document.querySelector('#df-890c6b82-a3a8-41c2-9e1e-a0f5dd07f5b5');\n",
              "        const dataTable =\n",
              "          await google.colab.kernel.invokeFunction('convertToInteractive',\n",
              "                                                    [key], {});\n",
              "        if (!dataTable) return;\n",
              "\n",
              "        const docLinkHtml = 'Like what you see? Visit the ' +\n",
              "          '<a target=\"_blank\" href=https://colab.research.google.com/notebooks/data_table.ipynb>data table notebook</a>'\n",
              "          + ' to learn more about interactive tables.';\n",
              "        element.innerHTML = '';\n",
              "        dataTable['output_type'] = 'display_data';\n",
              "        await google.colab.output.renderOutput(dataTable, element);\n",
              "        const docLink = document.createElement('div');\n",
              "        docLink.innerHTML = docLinkHtml;\n",
              "        element.appendChild(docLink);\n",
              "      }\n",
              "    </script>\n",
              "  </div>\n",
              "\n",
              "\n",
              "<div id=\"df-f245be77-4aa7-4814-9174-4f6ded1a31a5\">\n",
              "  <button class=\"colab-df-quickchart\" onclick=\"quickchart('df-f245be77-4aa7-4814-9174-4f6ded1a31a5')\"\n",
              "            title=\"Suggest charts\"\n",
              "            style=\"display:none;\">\n",
              "\n",
              "<svg xmlns=\"http://www.w3.org/2000/svg\" height=\"24px\"viewBox=\"0 0 24 24\"\n",
              "     width=\"24px\">\n",
              "    <g>\n",
              "        <path d=\"M19 3H5c-1.1 0-2 .9-2 2v14c0 1.1.9 2 2 2h14c1.1 0 2-.9 2-2V5c0-1.1-.9-2-2-2zM9 17H7v-7h2v7zm4 0h-2V7h2v10zm4 0h-2v-4h2v4z\"/>\n",
              "    </g>\n",
              "</svg>\n",
              "  </button>\n",
              "\n",
              "<style>\n",
              "  .colab-df-quickchart {\n",
              "      --bg-color: #E8F0FE;\n",
              "      --fill-color: #1967D2;\n",
              "      --hover-bg-color: #E2EBFA;\n",
              "      --hover-fill-color: #174EA6;\n",
              "      --disabled-fill-color: #AAA;\n",
              "      --disabled-bg-color: #DDD;\n",
              "  }\n",
              "\n",
              "  [theme=dark] .colab-df-quickchart {\n",
              "      --bg-color: #3B4455;\n",
              "      --fill-color: #D2E3FC;\n",
              "      --hover-bg-color: #434B5C;\n",
              "      --hover-fill-color: #FFFFFF;\n",
              "      --disabled-bg-color: #3B4455;\n",
              "      --disabled-fill-color: #666;\n",
              "  }\n",
              "\n",
              "  .colab-df-quickchart {\n",
              "    background-color: var(--bg-color);\n",
              "    border: none;\n",
              "    border-radius: 50%;\n",
              "    cursor: pointer;\n",
              "    display: none;\n",
              "    fill: var(--fill-color);\n",
              "    height: 32px;\n",
              "    padding: 0;\n",
              "    width: 32px;\n",
              "  }\n",
              "\n",
              "  .colab-df-quickchart:hover {\n",
              "    background-color: var(--hover-bg-color);\n",
              "    box-shadow: 0 1px 2px rgba(60, 64, 67, 0.3), 0 1px 3px 1px rgba(60, 64, 67, 0.15);\n",
              "    fill: var(--button-hover-fill-color);\n",
              "  }\n",
              "\n",
              "  .colab-df-quickchart-complete:disabled,\n",
              "  .colab-df-quickchart-complete:disabled:hover {\n",
              "    background-color: var(--disabled-bg-color);\n",
              "    fill: var(--disabled-fill-color);\n",
              "    box-shadow: none;\n",
              "  }\n",
              "\n",
              "  .colab-df-spinner {\n",
              "    border: 2px solid var(--fill-color);\n",
              "    border-color: transparent;\n",
              "    border-bottom-color: var(--fill-color);\n",
              "    animation:\n",
              "      spin 1s steps(1) infinite;\n",
              "  }\n",
              "\n",
              "  @keyframes spin {\n",
              "    0% {\n",
              "      border-color: transparent;\n",
              "      border-bottom-color: var(--fill-color);\n",
              "      border-left-color: var(--fill-color);\n",
              "    }\n",
              "    20% {\n",
              "      border-color: transparent;\n",
              "      border-left-color: var(--fill-color);\n",
              "      border-top-color: var(--fill-color);\n",
              "    }\n",
              "    30% {\n",
              "      border-color: transparent;\n",
              "      border-left-color: var(--fill-color);\n",
              "      border-top-color: var(--fill-color);\n",
              "      border-right-color: var(--fill-color);\n",
              "    }\n",
              "    40% {\n",
              "      border-color: transparent;\n",
              "      border-right-color: var(--fill-color);\n",
              "      border-top-color: var(--fill-color);\n",
              "    }\n",
              "    60% {\n",
              "      border-color: transparent;\n",
              "      border-right-color: var(--fill-color);\n",
              "    }\n",
              "    80% {\n",
              "      border-color: transparent;\n",
              "      border-right-color: var(--fill-color);\n",
              "      border-bottom-color: var(--fill-color);\n",
              "    }\n",
              "    90% {\n",
              "      border-color: transparent;\n",
              "      border-bottom-color: var(--fill-color);\n",
              "    }\n",
              "  }\n",
              "</style>\n",
              "\n",
              "  <script>\n",
              "    async function quickchart(key) {\n",
              "      const quickchartButtonEl =\n",
              "        document.querySelector('#' + key + ' button');\n",
              "      quickchartButtonEl.disabled = true;  // To prevent multiple clicks.\n",
              "      quickchartButtonEl.classList.add('colab-df-spinner');\n",
              "      try {\n",
              "        const charts = await google.colab.kernel.invokeFunction(\n",
              "            'suggestCharts', [key], {});\n",
              "      } catch (error) {\n",
              "        console.error('Error during call to suggestCharts:', error);\n",
              "      }\n",
              "      quickchartButtonEl.classList.remove('colab-df-spinner');\n",
              "      quickchartButtonEl.classList.add('colab-df-quickchart-complete');\n",
              "    }\n",
              "    (() => {\n",
              "      let quickchartButtonEl =\n",
              "        document.querySelector('#df-f245be77-4aa7-4814-9174-4f6ded1a31a5 button');\n",
              "      quickchartButtonEl.style.display =\n",
              "        google.colab.kernel.accessAllowed ? 'block' : 'none';\n",
              "    })();\n",
              "  </script>\n",
              "</div>\n",
              "\n",
              "    </div>\n",
              "  </div>\n"
            ],
            "application/vnd.google.colaboratory.intrinsic+json": {
              "type": "dataframe",
              "summary": "{\n  \"name\": \"countries\",\n  \"rows\": 3,\n  \"fields\": [\n    {\n      \"column\": 0,\n      \"properties\": {\n        \"dtype\": \"string\",\n        \"num_unique_values\": 3,\n        \"samples\": [\n          \"KR\",\n          \"US\",\n          \"North Korea\"\n        ],\n        \"semantic_type\": \"\",\n        \"description\": \"\"\n      }\n    }\n  ]\n}"
            }
          },
          "metadata": {},
          "execution_count": 179
        }
      ]
    },
    {
      "cell_type": "markdown",
      "metadata": {
        "id": "LudrxhdBplpV"
      },
      "source": [
        "### 튜플: 리스트와 유사하나 값이 불변하는 특성을 가짐, ( )로 표현"
      ]
    },
    {
      "cell_type": "code",
      "source": [
        "a = (1, 2, 3)"
      ],
      "metadata": {
        "id": "a25Igb5O9QS9"
      },
      "execution_count": null,
      "outputs": []
    },
    {
      "cell_type": "code",
      "source": [
        "my_tuple = (1, 2, 'hello', [1, 2, 3])\n",
        "print(my_tuple[0])\n",
        "my_tuple[0] = 3"
      ],
      "metadata": {
        "id": "4gs74LtCkpd7",
        "outputId": "6e99536f-59fb-4c3f-9b8d-45d7a6926135",
        "colab": {
          "base_uri": "https://localhost:8080/",
          "height": 193
        }
      },
      "execution_count": 181,
      "outputs": [
        {
          "output_type": "stream",
          "name": "stdout",
          "text": [
            "1\n"
          ]
        },
        {
          "output_type": "error",
          "ename": "TypeError",
          "evalue": "'tuple' object does not support item assignment",
          "traceback": [
            "\u001b[0;31m---------------------------------------------------------------------------\u001b[0m",
            "\u001b[0;31mTypeError\u001b[0m                                 Traceback (most recent call last)",
            "\u001b[0;32m<ipython-input-181-c8b0a4e26710>\u001b[0m in \u001b[0;36m<cell line: 3>\u001b[0;34m()\u001b[0m\n\u001b[1;32m      1\u001b[0m \u001b[0mmy_tuple\u001b[0m \u001b[0;34m=\u001b[0m \u001b[0;34m(\u001b[0m\u001b[0;36m1\u001b[0m\u001b[0;34m,\u001b[0m \u001b[0;36m2\u001b[0m\u001b[0;34m,\u001b[0m \u001b[0;34m'hello'\u001b[0m\u001b[0;34m,\u001b[0m \u001b[0;34m[\u001b[0m\u001b[0;36m1\u001b[0m\u001b[0;34m,\u001b[0m \u001b[0;36m2\u001b[0m\u001b[0;34m,\u001b[0m \u001b[0;36m3\u001b[0m\u001b[0;34m]\u001b[0m\u001b[0;34m)\u001b[0m\u001b[0;34m\u001b[0m\u001b[0;34m\u001b[0m\u001b[0m\n\u001b[1;32m      2\u001b[0m \u001b[0mprint\u001b[0m\u001b[0;34m(\u001b[0m\u001b[0mmy_tuple\u001b[0m\u001b[0;34m[\u001b[0m\u001b[0;36m0\u001b[0m\u001b[0;34m]\u001b[0m\u001b[0;34m)\u001b[0m\u001b[0;34m\u001b[0m\u001b[0;34m\u001b[0m\u001b[0m\n\u001b[0;32m----> 3\u001b[0;31m \u001b[0mmy_tuple\u001b[0m\u001b[0;34m[\u001b[0m\u001b[0;36m0\u001b[0m\u001b[0;34m]\u001b[0m \u001b[0;34m=\u001b[0m \u001b[0;36m3\u001b[0m\u001b[0;34m\u001b[0m\u001b[0;34m\u001b[0m\u001b[0m\n\u001b[0m",
            "\u001b[0;31mTypeError\u001b[0m: 'tuple' object does not support item assignment"
          ]
        }
      ]
    },
    {
      "cell_type": "code",
      "source": [
        "my_list = [1 ,2 ,3 ,4, 5]\n",
        "my_list[0] = 2\n",
        "my_list"
      ],
      "metadata": {
        "id": "VTwPj9g3lCQ1",
        "outputId": "7c9188e3-53d2-4a2c-d99f-9c3df1ef18f3",
        "colab": {
          "base_uri": "https://localhost:8080/"
        }
      },
      "execution_count": 182,
      "outputs": [
        {
          "output_type": "execute_result",
          "data": {
            "text/plain": [
              "[2, 2, 3, 4, 5]"
            ]
          },
          "metadata": {},
          "execution_count": 182
        }
      ]
    },
    {
      "cell_type": "code",
      "source": [
        "a = 5, 10"
      ],
      "metadata": {
        "id": "L529XHbk9kJb"
      },
      "execution_count": 188,
      "outputs": []
    },
    {
      "cell_type": "code",
      "source": [
        "type(a)"
      ],
      "metadata": {
        "id": "154SY9_O9moW",
        "outputId": "1a555a2b-6f01-4cd6-8b1a-86018ee55088",
        "colab": {
          "base_uri": "https://localhost:8080/"
        }
      },
      "execution_count": 189,
      "outputs": [
        {
          "output_type": "execute_result",
          "data": {
            "text/plain": [
              "<class 'tuple'>"
            ]
          },
          "metadata": {},
          "execution_count": 189
        }
      ]
    },
    {
      "cell_type": "code",
      "source": [
        "print(a)"
      ],
      "metadata": {
        "colab": {
          "base_uri": "https://localhost:8080/"
        },
        "id": "oZkyyikLVpJ7",
        "outputId": "6c924f8d-c99f-4410-9b08-3e036952a465"
      },
      "execution_count": 190,
      "outputs": [
        {
          "output_type": "stream",
          "name": "stdout",
          "text": [
            "(5, 10)\n"
          ]
        }
      ]
    },
    {
      "cell_type": "code",
      "metadata": {
        "id": "R60XB1a3plpV",
        "colab": {
          "base_uri": "https://localhost:8080/"
        },
        "outputId": "2154b6ca-3c9a-49d3-df4e-5591155f2b5f"
      },
      "source": [
        "a, b, c = 5, 10, 15\n",
        "print(a, b, c)"
      ],
      "execution_count": 193,
      "outputs": [
        {
          "output_type": "stream",
          "name": "stdout",
          "text": [
            "5 10 15\n"
          ]
        }
      ]
    },
    {
      "cell_type": "code",
      "metadata": {
        "colab": {
          "base_uri": "https://localhost:8080/"
        },
        "id": "YIF8iHoPplpW",
        "outputId": "8e3a1436-d39d-4f8a-c1da-7c330533c891"
      },
      "source": [
        "a, b = b, a\n",
        "print(a, b)"
      ],
      "execution_count": 194,
      "outputs": [
        {
          "output_type": "stream",
          "name": "stdout",
          "text": [
            "10 5\n"
          ]
        }
      ]
    },
    {
      "cell_type": "code",
      "source": [
        "c = 1, 2, 3\n",
        "print(type(c))"
      ],
      "metadata": {
        "colab": {
          "base_uri": "https://localhost:8080/"
        },
        "id": "iyg3x88QsM5s",
        "outputId": "579e7ae5-d73e-4352-ec43-8189e9b90703"
      },
      "execution_count": null,
      "outputs": [
        {
          "output_type": "stream",
          "name": "stdout",
          "text": [
            "<class 'tuple'>\n"
          ]
        }
      ]
    },
    {
      "cell_type": "code",
      "source": [
        "c"
      ],
      "metadata": {
        "colab": {
          "base_uri": "https://localhost:8080/"
        },
        "id": "hnGZwWzPlZ3V",
        "outputId": "ca47c64e-9e2c-4d33-d399-e6888dacb345"
      },
      "execution_count": null,
      "outputs": [
        {
          "output_type": "execute_result",
          "data": {
            "text/plain": [
              "(1, 2, 3)"
            ]
          },
          "metadata": {},
          "execution_count": 126
        }
      ]
    },
    {
      "cell_type": "code",
      "source": [
        "np.array([1,2,3])"
      ],
      "metadata": {
        "id": "3Pn9seQx-VqF",
        "outputId": "02243d8f-c305-4126-f690-8915e5b22fc4",
        "colab": {
          "base_uri": "https://localhost:8080/"
        }
      },
      "execution_count": null,
      "outputs": [
        {
          "output_type": "execute_result",
          "data": {
            "text/plain": [
              "array([1, 2, 3])"
            ]
          },
          "metadata": {},
          "execution_count": 165
        }
      ]
    },
    {
      "cell_type": "code",
      "source": [
        "import numpy as np\n",
        "from numpy import array\n",
        "\n",
        "array([1,2,3])"
      ],
      "metadata": {
        "id": "E5HPo6s--eUk",
        "outputId": "ba8a58ad-2f69-4b50-f13a-dfc4b5980225",
        "colab": {
          "base_uri": "https://localhost:8080/"
        }
      },
      "execution_count": null,
      "outputs": [
        {
          "output_type": "execute_result",
          "data": {
            "text/plain": [
              "array([1, 2, 3])"
            ]
          },
          "metadata": {},
          "execution_count": 167
        }
      ]
    },
    {
      "cell_type": "markdown",
      "source": [
        "### method"
      ],
      "metadata": {
        "id": "hcQ-AdbxvFsT"
      }
    },
    {
      "cell_type": "code",
      "source": [
        "a = ['123', '2ab', '3']"
      ],
      "metadata": {
        "id": "5u-9s6iZXH0R"
      },
      "execution_count": 202,
      "outputs": []
    },
    {
      "cell_type": "code",
      "source": [
        "dir(a[0])"
      ],
      "metadata": {
        "colab": {
          "base_uri": "https://localhost:8080/"
        },
        "id": "P-x0YcO9Xwdr",
        "outputId": "5cb084ef-5615-4abd-f1b8-3793d50d4472"
      },
      "execution_count": 208,
      "outputs": [
        {
          "output_type": "execute_result",
          "data": {
            "text/plain": [
              "['__add__', '__class__', '__contains__', '__delattr__', '__dir__', '__doc__', '__eq__', '__format__', '__ge__', '__getattribute__', '__getitem__', '__getnewargs__', '__gt__', '__hash__', '__init__', '__init_subclass__', '__iter__', '__le__', '__len__', '__lt__', '__mod__', '__mul__', '__ne__', '__new__', '__reduce__', '__reduce_ex__', '__repr__', '__rmod__', '__rmul__', '__setattr__', '__sizeof__', '__str__', '__subclasshook__', 'capitalize', 'casefold', 'center', 'count', 'encode', 'endswith', 'expandtabs', 'find', 'format', 'format_map', 'index', 'isalnum', 'isalpha', 'isascii', 'isdecimal', 'isdigit', 'isidentifier', 'islower', 'isnumeric', 'isprintable', 'isspace', 'istitle', 'isupper', 'join', 'ljust', 'lower', 'lstrip', 'maketrans', 'partition', 'removeprefix', 'removesuffix', 'replace', 'rfind', 'rindex', 'rjust', 'rpartition', 'rsplit', 'rstrip', 'split', 'splitlines', 'startswith', 'strip', 'swapcase', 'title', 'translate', 'upper', 'zfill']"
            ]
          },
          "metadata": {},
          "execution_count": 208
        }
      ]
    },
    {
      "cell_type": "code",
      "source": [
        "a[0].isnumeric()"
      ],
      "metadata": {
        "id": "sQ3tZ9d7vI45",
        "outputId": "85736df6-a28d-485c-f382-abdfb3d010cd",
        "colab": {
          "base_uri": "https://localhost:8080/"
        }
      },
      "execution_count": 209,
      "outputs": [
        {
          "output_type": "execute_result",
          "data": {
            "text/plain": [
              "True"
            ]
          },
          "metadata": {},
          "execution_count": 209
        }
      ]
    },
    {
      "cell_type": "code",
      "source": [
        "a[1].isnumeric()"
      ],
      "metadata": {
        "colab": {
          "base_uri": "https://localhost:8080/"
        },
        "id": "qxYChbl9W4dj",
        "outputId": "4ff79f68-62a0-45a2-f2d7-549ad2bb63f6"
      },
      "execution_count": 210,
      "outputs": [
        {
          "output_type": "execute_result",
          "data": {
            "text/plain": [
              "False"
            ]
          },
          "metadata": {},
          "execution_count": 210
        }
      ]
    },
    {
      "cell_type": "code",
      "source": [
        "a[0].replace(a[0], '4')"
      ],
      "metadata": {
        "id": "kkLm_i8Pv5wS",
        "outputId": "85f52c6e-395a-405e-88bc-4c18fd5c5bca",
        "colab": {
          "base_uri": "https://localhost:8080/",
          "height": 35
        }
      },
      "execution_count": 211,
      "outputs": [
        {
          "output_type": "execute_result",
          "data": {
            "text/plain": [
              "'4'"
            ],
            "application/vnd.google.colaboratory.intrinsic+json": {
              "type": "string"
            }
          },
          "metadata": {},
          "execution_count": 211
        }
      ]
    },
    {
      "cell_type": "markdown",
      "metadata": {
        "id": "uQznY9FWplpW"
      },
      "source": [
        "## 연습문제\n",
        "\n",
        "- 아래 국가명 리스트와 연도 리스트를 이용하여 국가명_연도 문자열로 구성된 리스트를 생성 (힌트: 리스트 컴프리헨션, f-string)\n",
        "- 아래 리스트와 인덱스를 이용하여 일본과 중국을 제외한 국가에 대해서만 국가명_연도 문자열 리스트를 생성"
      ]
    },
    {
      "cell_type": "code",
      "metadata": {
        "id": "8kI8vZUNplpW"
      },
      "source": [
        "countries = ['KOR', 'USA', 'JPN', 'CHN', 'AUS', 'MEX']\n",
        "year = [17, 18, 19, 20]"
      ],
      "execution_count": 212,
      "outputs": []
    },
    {
      "cell_type": "markdown",
      "metadata": {
        "id": "4IZZ5oviplpW"
      },
      "source": [
        "- 아래 문자열 리스트에서 숫자를 나타내는 문자열만 선택하여 리스트를 생성하라(힌트, isnumeric() 또는 isdigit(), strip() method 이용)"
      ]
    },
    {
      "cell_type": "code",
      "metadata": {
        "id": "aLU9e6stplpX"
      },
      "source": [
        "strings = ['KOR', '한국', ' 15', \"True\", '1000']"
      ],
      "execution_count": 223,
      "outputs": []
    },
    {
      "cell_type": "markdown",
      "metadata": {
        "id": "bD8IrLeNplpX"
      },
      "source": [
        "# 문법\n",
        "\n",
        "- 파이썬에서 for loop, if 구문, 함수 정의시 indentation(스페이스 4개) 이용\n",
        "    - 주피터노트북에서 tab은 스페이스 4개를 입력\n",
        "- 코드작성의 자유도가 낮은 대신, 가독성이 매우 높아짐\n",
        "\n",
        "\n",
        "```\n",
        "<C>\n",
        "if (i=1; i<=n; i++) {\n",
        "  printf(\"%d\\n\", i);\n",
        "}\n",
        "\n",
        "<matlab>\n",
        "for i = 1:n\n",
        "    disp(i)\n",
        "end\n",
        "\n",
        "<python>\n",
        "for i = range(1, n+1):\n",
        "    disp(i)\n",
        "```"
      ]
    },
    {
      "cell_type": "markdown",
      "metadata": {
        "id": "Na2vfuFH_FLK"
      },
      "source": [
        "## definition: 함수"
      ]
    },
    {
      "cell_type": "code",
      "metadata": {
        "id": "fj8mNDvkplpX"
      },
      "source": [
        "def sum_two_numbers(a, b):\n",
        "    return a + b"
      ],
      "execution_count": null,
      "outputs": []
    },
    {
      "cell_type": "code",
      "metadata": {
        "id": "ZPVoJCD_plpX",
        "outputId": "b453408c-3f66-4c3c-cb1d-3ff9990b3845",
        "colab": {
          "base_uri": "https://localhost:8080/"
        }
      },
      "source": [
        "sum_two_numbers(1, 2)"
      ],
      "execution_count": null,
      "outputs": [
        {
          "output_type": "execute_result",
          "data": {
            "text/plain": [
              "3"
            ]
          },
          "metadata": {},
          "execution_count": 179
        }
      ]
    },
    {
      "cell_type": "code",
      "metadata": {
        "id": "ZFNz4kDgByOy"
      },
      "source": [
        "def sum_three_numbers(a, b, c=4):\n",
        "    return a + 2*b + c"
      ],
      "execution_count": null,
      "outputs": []
    },
    {
      "cell_type": "code",
      "metadata": {
        "id": "jhza4RrBBljK",
        "outputId": "4ce83c55-5793-4e60-9952-f6696ac85ca4",
        "colab": {
          "base_uri": "https://localhost:8080/"
        }
      },
      "source": [
        "sum_three_numbers(1, 2, 0)"
      ],
      "execution_count": null,
      "outputs": [
        {
          "output_type": "execute_result",
          "data": {
            "text/plain": [
              "5"
            ]
          },
          "metadata": {},
          "execution_count": 181
        }
      ]
    },
    {
      "cell_type": "code",
      "metadata": {
        "id": "SF4nCPoICDH6",
        "outputId": "6f8d0970-9a5b-410c-874c-9a20ad7d5d6f",
        "colab": {
          "base_uri": "https://localhost:8080/"
        }
      },
      "source": [
        "sum_three_numbers(1, 2)"
      ],
      "execution_count": null,
      "outputs": [
        {
          "output_type": "execute_result",
          "data": {
            "text/plain": [
              "9"
            ]
          },
          "metadata": {},
          "execution_count": 182
        }
      ]
    },
    {
      "cell_type": "code",
      "metadata": {
        "id": "c0K0qo6RCJ2D",
        "outputId": "5e885d5c-3618-476c-cb06-616fe5c282a8",
        "colab": {
          "base_uri": "https://localhost:8080/"
        }
      },
      "source": [
        "sum_three_numbers(b=1, a=4)"
      ],
      "execution_count": null,
      "outputs": [
        {
          "output_type": "execute_result",
          "data": {
            "text/plain": [
              "10"
            ]
          },
          "metadata": {},
          "execution_count": 183
        }
      ]
    },
    {
      "cell_type": "code",
      "source": [
        "labmda x: 표현식"
      ],
      "metadata": {
        "id": "MWdUe5-PCkk_"
      },
      "execution_count": null,
      "outputs": []
    },
    {
      "cell_type": "code",
      "metadata": {
        "id": "LTHPsxRE_dVQ"
      },
      "source": [
        "sum_two_numbers2 = lambda x, y: x + y # lambda 함수: 간단한 한줄짜리 함수"
      ],
      "execution_count": null,
      "outputs": []
    },
    {
      "cell_type": "code",
      "metadata": {
        "id": "TKqDmGAp_kfq",
        "outputId": "459aa392-1639-4aca-c1a2-a6563db0ed8e",
        "colab": {
          "base_uri": "https://localhost:8080/"
        }
      },
      "source": [
        "sum_two_numbers2(1, 2)"
      ],
      "execution_count": null,
      "outputs": [
        {
          "output_type": "execute_result",
          "data": {
            "text/plain": [
              "3"
            ]
          },
          "metadata": {},
          "execution_count": 185
        }
      ]
    },
    {
      "cell_type": "markdown",
      "metadata": {
        "id": "AdJnA5Mo_P2g"
      },
      "source": [
        "## for-loop, if-else"
      ]
    },
    {
      "cell_type": "code",
      "metadata": {
        "id": "bBBlUm3MplpX",
        "outputId": "ebb26752-73d7-493e-9702-b528b4eb9944",
        "colab": {
          "base_uri": "https://localhost:8080/"
        }
      },
      "source": [
        "countries = ['KOR', 'USA', 'CHN']\n",
        "for c in countries:\n",
        "    if c == 'KOR':\n",
        "        print(c, 'is my country.')\n",
        "    else:\n",
        "        print(c)"
      ],
      "execution_count": null,
      "outputs": [
        {
          "output_type": "stream",
          "name": "stdout",
          "text": [
            "KOR is my country.\n",
            "USA\n",
            "CHN\n"
          ]
        }
      ]
    },
    {
      "cell_type": "markdown",
      "source": [
        "## enumerate: 반복 가능한 하나의 객체의 인덱스와 값 추출"
      ],
      "metadata": {
        "id": "eJeS8ShWxMMv"
      }
    },
    {
      "cell_type": "code",
      "source": [
        "for index, c in enumerate(countries):\n",
        "    print(index, c)"
      ],
      "metadata": {
        "id": "ua90CB40xTTh",
        "outputId": "ddb33892-5100-462f-be79-24e04386bc3b",
        "colab": {
          "base_uri": "https://localhost:8080/"
        }
      },
      "execution_count": null,
      "outputs": [
        {
          "output_type": "stream",
          "name": "stdout",
          "text": [
            "0 KOR\n",
            "1 USA\n",
            "2 CHN\n"
          ]
        }
      ]
    },
    {
      "cell_type": "markdown",
      "source": [
        "## zip: 반복가능한 객체가 2개 이상인 경우, 각 객체의 요소를 순서대로 추출"
      ],
      "metadata": {
        "id": "f_e2gr81xob-"
      }
    },
    {
      "cell_type": "code",
      "source": [
        "for i, c in zip(countries, ['한국', '미국', '중국']):\n",
        "    print(i, c)"
      ],
      "metadata": {
        "id": "jxjqKmPYxyc4",
        "outputId": "2ef7f90d-35f4-46af-95c3-eb9cb4515a83",
        "colab": {
          "base_uri": "https://localhost:8080/"
        }
      },
      "execution_count": null,
      "outputs": [
        {
          "output_type": "stream",
          "name": "stdout",
          "text": [
            "KOR 한국\n",
            "USA 미국\n",
            "CHN 중국\n"
          ]
        }
      ]
    },
    {
      "cell_type": "markdown",
      "metadata": {
        "id": "kRUJF1Tb-2H8"
      },
      "source": [
        "## continue, break, pass"
      ]
    },
    {
      "cell_type": "code",
      "metadata": {
        "id": "qqdt6yCm-_sw",
        "outputId": "c11b44d5-47fd-4184-c8f0-aa5251208434",
        "colab": {
          "base_uri": "https://localhost:8080/"
        }
      },
      "source": [
        "for i in range(4):    # [0, 1, 2, 3]\n",
        "    if i==2:\n",
        "        continue\n",
        "    else:\n",
        "        print(f'{i} is not 2')\n"
      ],
      "execution_count": null,
      "outputs": [
        {
          "output_type": "stream",
          "name": "stdout",
          "text": [
            "0 is not 2\n",
            "1 is not 2\n",
            "3 is not 2\n"
          ]
        }
      ]
    },
    {
      "cell_type": "code",
      "metadata": {
        "id": "fAbT9lG9DIZD",
        "outputId": "7d0f5db8-2fef-4fef-af07-a3764782a6a6",
        "colab": {
          "base_uri": "https://localhost:8080/"
        }
      },
      "source": [
        "for i in range(4):    # [0, 1, 2, 3]\n",
        "    if i==2:\n",
        "        break\n",
        "    else:\n",
        "        print(f'{i} is not 2')\n"
      ],
      "execution_count": null,
      "outputs": [
        {
          "output_type": "stream",
          "name": "stdout",
          "text": [
            "0 is not 2\n",
            "1 is not 2\n"
          ]
        }
      ]
    },
    {
      "cell_type": "code",
      "metadata": {
        "id": "LZa_Fq9dEi8c",
        "outputId": "8046687a-f95d-4cbc-d667-f8d6590b3b4b",
        "colab": {
          "base_uri": "https://localhost:8080/"
        }
      },
      "source": [
        "A = True\n",
        "\n",
        "if A:\n",
        "    print('True')\n",
        "else:\n",
        "    print('False')"
      ],
      "execution_count": null,
      "outputs": [
        {
          "output_type": "stream",
          "name": "stdout",
          "text": [
            "True\n"
          ]
        }
      ]
    },
    {
      "cell_type": "code",
      "metadata": {
        "id": "5E02yd7EEpMt"
      },
      "source": [
        "if A:\n",
        "    pass\n",
        "else:\n",
        "    print('False')"
      ],
      "execution_count": null,
      "outputs": []
    },
    {
      "cell_type": "markdown",
      "metadata": {
        "id": "2Vt4L_TYplpX"
      },
      "source": [
        "## list comprehension v. for-loop\n",
        "- 앞 리스트에서 뒤 리스트에 속한 항목 제외하기"
      ]
    },
    {
      "cell_type": "code",
      "metadata": {
        "id": "0VU-Q557plpY",
        "outputId": "27a87d8c-4252-41ac-d5d7-35ad0e61cc37",
        "colab": {
          "base_uri": "https://localhost:8080/"
        }
      },
      "source": [
        "[s for s in ['KOR', 'USA', 'CHN'] if s not in ['CHN','AUS']]"
      ],
      "execution_count": null,
      "outputs": [
        {
          "output_type": "execute_result",
          "data": {
            "text/plain": [
              "['KOR', 'USA']"
            ]
          },
          "metadata": {},
          "execution_count": 196
        }
      ]
    },
    {
      "cell_type": "code",
      "metadata": {
        "id": "HLSa-L3JplpY",
        "outputId": "55df2d08-51f7-4420-c5ad-9b3d4162a625",
        "colab": {
          "base_uri": "https://localhost:8080/"
        }
      },
      "source": [
        "clist = []\n",
        "for c in ['KOR', 'USA', 'CHN']:\n",
        "    if c not in ['CHN', 'AUS']:\n",
        "        clist = clist + [c] # clist.append(c)\n",
        "clist"
      ],
      "execution_count": null,
      "outputs": [
        {
          "output_type": "execute_result",
          "data": {
            "text/plain": [
              "['KOR', 'USA']"
            ]
          },
          "metadata": {},
          "execution_count": 198
        }
      ]
    },
    {
      "cell_type": "code",
      "source": [
        "import numpy as np\n",
        "import pandas as pd\n",
        "\n"
      ],
      "metadata": {
        "id": "KqtRzBjIEDsK"
      },
      "execution_count": null,
      "outputs": []
    },
    {
      "cell_type": "markdown",
      "source": [
        "# 라이브러리\n",
        "- Numpy: 매틀랩 대체, 과학적 연산\n",
        "- Pandas: 데이터 분석\n",
        "- Matplotlib: 데이터 시각화, 그래프\n",
        "- os, pickle: 운영체제, 시스템과 상호작용\n",
        "- Statsmodels: 통계분석\n",
        "- Scikit-learn, TensorFlow: 머신러닝, AI"
      ],
      "metadata": {
        "id": "XKQQxI14zODV"
      }
    },
    {
      "cell_type": "markdown",
      "metadata": {
        "id": "fXiJb2-vplpY"
      },
      "source": [
        "## numpy\n",
        "- ndarray는 행(row)과 열(column) 보다 첫번째 차원, 두번째 차원, 세번째 차원 등으로 정의\n",
        "- 필요한 경우 matrix 자료형을 사용할 수 있으나 활용도가 낮음\n",
        "- ndarray자료형을 이용하여 일반적인 matrix연산을 모두 할 수 있음\n",
        "- 2-dim ndarray에서 행(row)처럼 보이는 것은 첫번째 차원임"
      ]
    },
    {
      "cell_type": "code",
      "metadata": {
        "id": "k2Jgfc1WplpY",
        "outputId": "80c3b96e-3041-41cf-b74c-11c9a95f9c95",
        "colab": {
          "base_uri": "https://localhost:8080/"
        }
      },
      "source": [
        "import numpy # numpy 라이브러리 함수를 사용하려면 numpy. 으로 표현\n",
        "import numpy as np # numpy. 에서 np. 으로 대체\n",
        "print(numpy.sin(0), np.sin(0))"
      ],
      "execution_count": null,
      "outputs": [
        {
          "output_type": "stream",
          "name": "stdout",
          "text": [
            "0.0 0.0\n"
          ]
        }
      ]
    },
    {
      "cell_type": "code",
      "metadata": {
        "id": "0vLWer7XplpY",
        "outputId": "25a2c5f8-ce56-42ae-cc92-ee7381213879",
        "colab": {
          "base_uri": "https://localhost:8080/",
          "height": 184
        }
      },
      "source": [
        "print(sin(0)) # np. 로 시작하지 않기 때문에 오류"
      ],
      "execution_count": null,
      "outputs": [
        {
          "output_type": "error",
          "ename": "NameError",
          "evalue": "ignored",
          "traceback": [
            "\u001b[0;31m---------------------------------------------------------------------------\u001b[0m",
            "\u001b[0;31mNameError\u001b[0m                                 Traceback (most recent call last)",
            "\u001b[0;32m<ipython-input-202-560f55af1aff>\u001b[0m in \u001b[0;36m<cell line: 1>\u001b[0;34m()\u001b[0m\n\u001b[0;32m----> 1\u001b[0;31m \u001b[0mprint\u001b[0m\u001b[0;34m(\u001b[0m\u001b[0msin\u001b[0m\u001b[0;34m(\u001b[0m\u001b[0;36m0\u001b[0m\u001b[0;34m)\u001b[0m\u001b[0;34m)\u001b[0m \u001b[0;31m# np. 로 시작하지 않기 때문에 오류\u001b[0m\u001b[0;34m\u001b[0m\u001b[0;34m\u001b[0m\u001b[0m\n\u001b[0m",
            "\u001b[0;31mNameError\u001b[0m: name 'sin' is not defined"
          ]
        }
      ]
    },
    {
      "cell_type": "code",
      "metadata": {
        "id": "O-q0Z7iWplpY",
        "outputId": "bc5aeafd-2682-459c-dc28-942f1c4fde1d",
        "colab": {
          "base_uri": "https://localhost:8080/"
        }
      },
      "source": [
        "print(np.pi)"
      ],
      "execution_count": null,
      "outputs": [
        {
          "output_type": "stream",
          "name": "stdout",
          "text": [
            "3.141592653589793\n"
          ]
        }
      ]
    },
    {
      "cell_type": "markdown",
      "metadata": {
        "id": "e4zvp4p4plpY"
      },
      "source": [
        "## 인덱스\n",
        "\n",
        "- 특정 열(두번째 차원)에 접근하기 위해서는 콜론(:)을 첫번째 인덱스 자리에 입력"
      ]
    },
    {
      "cell_type": "code",
      "metadata": {
        "id": "-fDyxqeNplpZ"
      },
      "source": [
        "a1 = np.array([[1, 2 ,3], [2, 3, 4]])"
      ],
      "execution_count": null,
      "outputs": []
    },
    {
      "cell_type": "code",
      "source": [
        "type(a1)"
      ],
      "metadata": {
        "id": "bLAoqhM2FSO5",
        "outputId": "001665be-ff56-4fc6-a5ec-1b6e084e4bf2",
        "colab": {
          "base_uri": "https://localhost:8080/"
        }
      },
      "execution_count": null,
      "outputs": [
        {
          "output_type": "execute_result",
          "data": {
            "text/plain": [
              "<class 'numpy.ndarray'>"
            ]
          },
          "metadata": {},
          "execution_count": 205
        }
      ]
    },
    {
      "cell_type": "code",
      "source": [
        "a1"
      ],
      "metadata": {
        "id": "oDQT6EJHFc8S",
        "outputId": "00e37230-7a00-4110-8d19-09d89bf40916",
        "colab": {
          "base_uri": "https://localhost:8080/"
        }
      },
      "execution_count": null,
      "outputs": [
        {
          "output_type": "execute_result",
          "data": {
            "text/plain": [
              "array([[1, 2, 3],\n",
              "       [2, 3, 4]])"
            ]
          },
          "metadata": {},
          "execution_count": 208
        }
      ]
    },
    {
      "cell_type": "code",
      "source": [
        "a1[:2, :2]"
      ],
      "metadata": {
        "id": "klTuSGw0FWCr",
        "outputId": "c4be8586-45a6-4f7e-b1a9-f20a18dc8b73",
        "colab": {
          "base_uri": "https://localhost:8080/"
        }
      },
      "execution_count": null,
      "outputs": [
        {
          "output_type": "execute_result",
          "data": {
            "text/plain": [
              "array([[1, 2],\n",
              "       [2, 3]])"
            ]
          },
          "metadata": {},
          "execution_count": 211
        }
      ]
    },
    {
      "cell_type": "code",
      "metadata": {
        "id": "AvyCmZbZplpZ",
        "outputId": "0c48f2cf-9ccd-49ee-b09b-2e69ab925e15",
        "colab": {
          "base_uri": "https://localhost:8080/"
        }
      },
      "source": [
        "a1[:, 0] # 전체 차원의 첫번째 원소"
      ],
      "execution_count": null,
      "outputs": [
        {
          "output_type": "execute_result",
          "data": {
            "text/plain": [
              "array([1, 2])"
            ]
          },
          "metadata": {},
          "execution_count": 209
        }
      ]
    },
    {
      "cell_type": "code",
      "metadata": {
        "id": "RABxBORuplpZ",
        "outputId": "18a73d5c-1e78-4b70-e255-28deec44e1be",
        "colab": {
          "base_uri": "https://localhost:8080/"
        }
      },
      "source": [
        "a1[0, :] # 첫번째 차원의 모든 원소"
      ],
      "execution_count": null,
      "outputs": [
        {
          "output_type": "execute_result",
          "data": {
            "text/plain": [
              "array([1, 2, 3])"
            ]
          },
          "metadata": {},
          "execution_count": 210
        }
      ]
    },
    {
      "cell_type": "markdown",
      "metadata": {
        "id": "q9pQBuHXplpZ"
      },
      "source": [
        "## 통계량 및 연산"
      ]
    },
    {
      "cell_type": "code",
      "metadata": {
        "id": "CfwCsepxplpZ",
        "outputId": "902b028d-4798-4278-f8ff-85f82e602543",
        "colab": {
          "base_uri": "https://localhost:8080/"
        }
      },
      "source": [
        "v = np.array([1, 2, 3])\n",
        "print(v)"
      ],
      "execution_count": null,
      "outputs": [
        {
          "output_type": "stream",
          "name": "stdout",
          "text": [
            "[1 2 3]\n"
          ]
        }
      ]
    },
    {
      "cell_type": "code",
      "metadata": {
        "id": "jtEkHINYplpZ",
        "outputId": "6c63c719-ec00-4caf-fe70-3c2aa10a2fcb",
        "colab": {
          "base_uri": "https://localhost:8080/"
        }
      },
      "source": [
        "type(v)"
      ],
      "execution_count": null,
      "outputs": [
        {
          "output_type": "execute_result",
          "data": {
            "text/plain": [
              "<class 'numpy.ndarray'>"
            ]
          },
          "metadata": {},
          "execution_count": 213
        }
      ]
    },
    {
      "cell_type": "code",
      "metadata": {
        "id": "3JUrDSosplpZ",
        "outputId": "09ca2798-c04c-49fc-f0dc-4d7a8995034b",
        "colab": {
          "base_uri": "https://localhost:8080/"
        }
      },
      "source": [
        "m = np.array([[1, 2], [3, 4]])\n",
        "m"
      ],
      "execution_count": null,
      "outputs": [
        {
          "output_type": "execute_result",
          "data": {
            "text/plain": [
              "array([[1, 2],\n",
              "       [3, 4]])"
            ]
          },
          "metadata": {},
          "execution_count": 214
        }
      ]
    },
    {
      "cell_type": "code",
      "source": [
        "v.mean()"
      ],
      "metadata": {
        "id": "YO1Ip07UFxqi",
        "outputId": "d009e3db-d306-4f82-b35c-461fb810b1cd",
        "colab": {
          "base_uri": "https://localhost:8080/"
        }
      },
      "execution_count": null,
      "outputs": [
        {
          "output_type": "execute_result",
          "data": {
            "text/plain": [
              "2.0"
            ]
          },
          "metadata": {},
          "execution_count": 217
        }
      ]
    },
    {
      "cell_type": "code",
      "source": [
        "v.std()"
      ],
      "metadata": {
        "id": "1vqkhs7VF0_b",
        "outputId": "51e73734-46b4-46e5-cabb-ba606f0e80d9",
        "colab": {
          "base_uri": "https://localhost:8080/"
        }
      },
      "execution_count": null,
      "outputs": [
        {
          "output_type": "execute_result",
          "data": {
            "text/plain": [
              "0.816496580927726"
            ]
          },
          "metadata": {},
          "execution_count": 219
        }
      ]
    },
    {
      "cell_type": "code",
      "source": [
        "v.min()"
      ],
      "metadata": {
        "id": "hEjvCAKBF35E",
        "outputId": "92d3be14-e023-4b7a-be6d-66bbeeee0d5c",
        "colab": {
          "base_uri": "https://localhost:8080/"
        }
      },
      "execution_count": null,
      "outputs": [
        {
          "output_type": "execute_result",
          "data": {
            "text/plain": [
              "1"
            ]
          },
          "metadata": {},
          "execution_count": 220
        }
      ]
    },
    {
      "cell_type": "code",
      "source": [],
      "metadata": {
        "id": "Q1Fwc2CrF5Y8"
      },
      "execution_count": null,
      "outputs": []
    },
    {
      "cell_type": "code",
      "source": [
        "v."
      ],
      "metadata": {
        "id": "KkmrBbiSF2eT"
      },
      "execution_count": null,
      "outputs": []
    },
    {
      "cell_type": "code",
      "metadata": {
        "id": "Gg7BvYmnplpZ"
      },
      "source": [
        "print(v.mean(), v.std(), v.max())"
      ],
      "execution_count": null,
      "outputs": []
    },
    {
      "cell_type": "code",
      "metadata": {
        "id": "1lkhx8TOplpa"
      },
      "source": [
        "np.sin([0, np.pi / 2, np.pi])"
      ],
      "execution_count": null,
      "outputs": []
    },
    {
      "cell_type": "code",
      "metadata": {
        "id": "Y241PhSJplpa"
      },
      "source": [
        "a = np.array([[1, 2], [3, 4]])"
      ],
      "execution_count": null,
      "outputs": []
    },
    {
      "cell_type": "code",
      "metadata": {
        "colab": {
          "base_uri": "https://localhost:8080/"
        },
        "id": "VqX0Ckl7plpa",
        "outputId": "47aee25e-93b7-4c79-c792-c839a5ded533"
      },
      "source": [
        "a"
      ],
      "execution_count": null,
      "outputs": [
        {
          "output_type": "execute_result",
          "data": {
            "text/plain": [
              "array([[1, 2],\n",
              "       [3, 4]])"
            ]
          },
          "metadata": {},
          "execution_count": 222
        }
      ]
    },
    {
      "cell_type": "code",
      "metadata": {
        "id": "e69wHXbSplpa"
      },
      "source": [
        "a[0,0] = -1"
      ],
      "execution_count": null,
      "outputs": []
    },
    {
      "cell_type": "code",
      "metadata": {
        "id": "n38BC583plpa",
        "outputId": "6de637e5-fd7b-4ca8-e7b3-6495aa30a8a9",
        "colab": {
          "base_uri": "https://localhost:8080/"
        }
      },
      "source": [
        "a"
      ],
      "execution_count": null,
      "outputs": [
        {
          "output_type": "execute_result",
          "data": {
            "text/plain": [
              "array([[-1,  2],\n",
              "       [ 3,  4]])"
            ]
          },
          "metadata": {},
          "execution_count": 225
        }
      ]
    },
    {
      "cell_type": "code",
      "metadata": {
        "id": "lIxD74iyplpb",
        "outputId": "526b402b-1fab-4abd-9647-e775bd74bb5c",
        "colab": {
          "base_uri": "https://localhost:8080/"
        }
      },
      "source": [
        "a[0] = 0\n",
        "a"
      ],
      "execution_count": null,
      "outputs": [
        {
          "output_type": "execute_result",
          "data": {
            "text/plain": [
              "array([[0, 0],\n",
              "       [3, 4]])"
            ]
          },
          "metadata": {},
          "execution_count": 227
        }
      ]
    },
    {
      "cell_type": "code",
      "metadata": {
        "id": "jKkteEbqplpb",
        "outputId": "2de12ac9-2f03-4e55-fa1c-bb47e95539fd",
        "colab": {
          "base_uri": "https://localhost:8080/"
        }
      },
      "source": [
        "a[:, 1] = [5, 6]\n",
        "print(a)"
      ],
      "execution_count": null,
      "outputs": [
        {
          "output_type": "stream",
          "name": "stdout",
          "text": [
            "[[0 5]\n",
            " [3 6]]\n"
          ]
        }
      ]
    },
    {
      "cell_type": "code",
      "metadata": {
        "id": "-qi7NmUYplpb"
      },
      "source": [
        "v1 = np.array([1, 2, 3])\n",
        "v2 = np.array([-1, 0, 1])"
      ],
      "execution_count": null,
      "outputs": []
    },
    {
      "cell_type": "code",
      "metadata": {
        "id": "V1BMn7YUplpb",
        "outputId": "25352f38-8d60-4493-a1fd-fb43241f4ef3",
        "colab": {
          "base_uri": "https://localhost:8080/"
        }
      },
      "source": [
        "v1 + 1"
      ],
      "execution_count": null,
      "outputs": [
        {
          "output_type": "execute_result",
          "data": {
            "text/plain": [
              "array([2, 3, 4])"
            ]
          },
          "metadata": {},
          "execution_count": 231
        }
      ]
    },
    {
      "cell_type": "code",
      "metadata": {
        "id": "Tfp-_yqoplpb",
        "outputId": "1ccf61a7-50ca-427f-f8ee-08dfa4a29309",
        "colab": {
          "base_uri": "https://localhost:8080/"
        }
      },
      "source": [
        "v1 * 2"
      ],
      "execution_count": null,
      "outputs": [
        {
          "output_type": "execute_result",
          "data": {
            "text/plain": [
              "array([2, 4, 6])"
            ]
          },
          "metadata": {},
          "execution_count": 232
        }
      ]
    },
    {
      "cell_type": "code",
      "metadata": {
        "id": "DR44aJT4plpb",
        "outputId": "1152861c-e1ef-41a9-f68a-8b0dfda791ec",
        "colab": {
          "base_uri": "https://localhost:8080/"
        }
      },
      "source": [
        "v1 ** 2 #제곱"
      ],
      "execution_count": null,
      "outputs": [
        {
          "output_type": "execute_result",
          "data": {
            "text/plain": [
              "array([1, 4, 9])"
            ]
          },
          "metadata": {},
          "execution_count": 233
        }
      ]
    },
    {
      "cell_type": "code",
      "source": [
        "v1 + v2"
      ],
      "metadata": {
        "id": "kqxyHwIY3sP9",
        "outputId": "e4e767ef-f623-4820-d36b-66daf5f1455d",
        "colab": {
          "base_uri": "https://localhost:8080/"
        }
      },
      "execution_count": null,
      "outputs": [
        {
          "output_type": "execute_result",
          "data": {
            "text/plain": [
              "array([0, 2, 4])"
            ]
          },
          "metadata": {},
          "execution_count": 234
        }
      ]
    },
    {
      "cell_type": "code",
      "metadata": {
        "id": "mNQfAJ0Uplpc",
        "outputId": "dfbadc0d-4ca3-4714-c052-d2ebb1da2108",
        "colab": {
          "base_uri": "https://localhost:8080/"
        }
      },
      "source": [
        "np.log(v1)"
      ],
      "execution_count": null,
      "outputs": [
        {
          "output_type": "execute_result",
          "data": {
            "text/plain": [
              "array([0.        , 0.69314718, 1.09861229])"
            ]
          },
          "metadata": {},
          "execution_count": 235
        }
      ]
    },
    {
      "cell_type": "code",
      "metadata": {
        "id": "_uk6B2JUplpc",
        "outputId": "e432e3dd-cb07-41c0-951b-95be088f1108",
        "colab": {
          "base_uri": "https://localhost:8080/"
        }
      },
      "source": [
        "np.exp(v1)"
      ],
      "execution_count": null,
      "outputs": [
        {
          "output_type": "execute_result",
          "data": {
            "text/plain": [
              "array([ 2.71828183,  7.3890561 , 20.08553692])"
            ]
          },
          "metadata": {},
          "execution_count": 236
        }
      ]
    },
    {
      "cell_type": "markdown",
      "metadata": {
        "id": "cohxp_OHplpf"
      },
      "source": [
        "## matrix operation\n",
        "\n",
        "- numpy array로 생성된 객체는 ndarray 클래스의 메소드와 속성을 가짐\n",
        "- transpose, dot product 등"
      ]
    },
    {
      "cell_type": "code",
      "source": [
        "a2 = np.array([[1, 2], [3, 4], [5, 6]])\n",
        "a3 = np.array([[1, 2], [3, 4], [5, 6]])"
      ],
      "metadata": {
        "id": "gPhh2C6u3zYN"
      },
      "execution_count": null,
      "outputs": []
    },
    {
      "cell_type": "code",
      "source": [
        "a2.shape"
      ],
      "metadata": {
        "id": "mRarnGzudh2m",
        "outputId": "d76fad2e-dcd0-4e67-9bfb-d9ad245dfafc",
        "colab": {
          "base_uri": "https://localhost:8080/"
        }
      },
      "execution_count": null,
      "outputs": [
        {
          "output_type": "execute_result",
          "data": {
            "text/plain": [
              "(3, 2)"
            ]
          },
          "metadata": {},
          "execution_count": 261
        }
      ]
    },
    {
      "cell_type": "code",
      "source": [
        "a1.shape"
      ],
      "metadata": {
        "id": "zHRfX5R4gMkG",
        "outputId": "91130d70-8b5e-48e7-bc37-d620d0d06e63",
        "colab": {
          "base_uri": "https://localhost:8080/"
        }
      },
      "execution_count": null,
      "outputs": [
        {
          "output_type": "execute_result",
          "data": {
            "text/plain": [
              "(2, 3)"
            ]
          },
          "metadata": {},
          "execution_count": 264
        }
      ]
    },
    {
      "cell_type": "code",
      "source": [
        "a1 * a2"
      ],
      "metadata": {
        "id": "RZkpxcjreLbc",
        "outputId": "f678b314-267a-4ee0-fc90-1ff7de93acbb",
        "colab": {
          "base_uri": "https://localhost:8080/",
          "height": 184
        }
      },
      "execution_count": null,
      "outputs": [
        {
          "output_type": "error",
          "ename": "ValueError",
          "evalue": "ignored",
          "traceback": [
            "\u001b[0;31m---------------------------------------------------------------------------\u001b[0m",
            "\u001b[0;31mValueError\u001b[0m                                Traceback (most recent call last)",
            "\u001b[0;32m<ipython-input-265-ea9ba2b73904>\u001b[0m in \u001b[0;36m<cell line: 1>\u001b[0;34m()\u001b[0m\n\u001b[0;32m----> 1\u001b[0;31m \u001b[0ma1\u001b[0m \u001b[0;34m*\u001b[0m \u001b[0ma2\u001b[0m\u001b[0;34m\u001b[0m\u001b[0;34m\u001b[0m\u001b[0m\n\u001b[0m",
            "\u001b[0;31mValueError\u001b[0m: operands could not be broadcast together with shapes (2,3) (3,2) "
          ]
        }
      ]
    },
    {
      "cell_type": "code",
      "source": [
        "a2 * a3"
      ],
      "metadata": {
        "id": "rJDuZe0N3_a2",
        "outputId": "4934f068-5207-45b2-fcc1-cf96b71cc6d7",
        "colab": {
          "base_uri": "https://localhost:8080/"
        }
      },
      "execution_count": null,
      "outputs": [
        {
          "output_type": "execute_result",
          "data": {
            "text/plain": [
              "array([[ 1,  4],\n",
              "       [ 9, 16],\n",
              "       [25, 36]])"
            ]
          },
          "metadata": {},
          "execution_count": 266
        }
      ]
    },
    {
      "cell_type": "code",
      "metadata": {
        "id": "zNba342Iplpf",
        "outputId": "6da97dfe-e17e-4c9c-8c62-e595cd3e1534",
        "colab": {
          "base_uri": "https://localhost:8080/"
        }
      },
      "source": [
        "a1.dot(a2)"
      ],
      "execution_count": null,
      "outputs": [
        {
          "output_type": "execute_result",
          "data": {
            "text/plain": [
              "array([[22, 28],\n",
              "       [31, 40]])"
            ]
          },
          "metadata": {},
          "execution_count": 267
        }
      ]
    },
    {
      "cell_type": "code",
      "metadata": {
        "id": "ooSu1GLoplpf",
        "outputId": "2b0d2d2f-930a-42b7-e6a2-95e4b60e2cf9",
        "colab": {
          "base_uri": "https://localhost:8080/"
        }
      },
      "source": [
        "np.dot(a1, a2)"
      ],
      "execution_count": null,
      "outputs": [
        {
          "output_type": "execute_result",
          "data": {
            "text/plain": [
              "array([[22, 28],\n",
              "       [31, 40]])"
            ]
          },
          "metadata": {},
          "execution_count": 268
        }
      ]
    },
    {
      "cell_type": "code",
      "source": [
        "a1 @ a2 # 파이썬 3.5"
      ],
      "metadata": {
        "id": "zRUVLtcoe1ee",
        "outputId": "a064a744-10f5-46b7-d6a6-f2e46ca90891",
        "colab": {
          "base_uri": "https://localhost:8080/"
        }
      },
      "execution_count": null,
      "outputs": [
        {
          "output_type": "execute_result",
          "data": {
            "text/plain": [
              "array([[22, 28],\n",
              "       [31, 40]])"
            ]
          },
          "metadata": {},
          "execution_count": 269
        }
      ]
    },
    {
      "cell_type": "code",
      "metadata": {
        "colab": {
          "base_uri": "https://localhost:8080/"
        },
        "id": "tcGxp3t6plpg",
        "outputId": "f64972e1-c1a7-4e0b-a220-7a724b6f9f94"
      },
      "source": [
        "A = np.dot(a1, a2)\n",
        "print(A)"
      ],
      "execution_count": null,
      "outputs": [
        {
          "output_type": "stream",
          "name": "stdout",
          "text": [
            "[[22 28]\n",
            " [31 40]]\n"
          ]
        }
      ]
    },
    {
      "cell_type": "markdown",
      "metadata": {
        "id": "iGQgM-Syplpg"
      },
      "source": [
        "- 역행렬: numpy.linalg.inv() 함수 이용"
      ]
    },
    {
      "cell_type": "code",
      "source": [
        "np.linalg.inv(a1.dot(a2))"
      ],
      "metadata": {
        "id": "lLrujMZ7gxJo",
        "outputId": "af2777bc-3a3a-4429-e54c-5c1dc992c335",
        "colab": {
          "base_uri": "https://localhost:8080/"
        }
      },
      "execution_count": null,
      "outputs": [
        {
          "output_type": "execute_result",
          "data": {
            "text/plain": [
              "array([[ 3.33333333, -2.33333333],\n",
              "       [-2.58333333,  1.83333333]])"
            ]
          },
          "metadata": {},
          "execution_count": 272
        }
      ]
    },
    {
      "cell_type": "code",
      "metadata": {
        "id": "RarslNr_plpg"
      },
      "source": [
        "print(np.linalg.inv(a1.dot(a2)))"
      ],
      "execution_count": null,
      "outputs": []
    },
    {
      "cell_type": "code",
      "metadata": {
        "id": "3fIn7w6mplpg"
      },
      "source": [
        "from numpy.linalg import inv"
      ],
      "execution_count": null,
      "outputs": []
    },
    {
      "cell_type": "code",
      "metadata": {
        "id": "p_d7boJWplpg",
        "outputId": "b11b2f72-2c52-4a1f-b82b-3844957130ea",
        "colab": {
          "base_uri": "https://localhost:8080/"
        }
      },
      "source": [
        "inv(a1.dot(a2))"
      ],
      "execution_count": null,
      "outputs": [
        {
          "output_type": "execute_result",
          "data": {
            "text/plain": [
              "array([[ 3.33333333, -2.33333333],\n",
              "       [-2.58333333,  1.83333333]])"
            ]
          },
          "metadata": {},
          "execution_count": 275
        }
      ]
    },
    {
      "cell_type": "code",
      "source": [
        "inv(a1 @ a2)"
      ],
      "metadata": {
        "id": "E92ycmu1hEmA",
        "outputId": "4150ebc3-f7a0-4ae1-fcbc-ddd1002ec9df",
        "colab": {
          "base_uri": "https://localhost:8080/"
        }
      },
      "execution_count": null,
      "outputs": [
        {
          "output_type": "execute_result",
          "data": {
            "text/plain": [
              "array([[ 3.33333333, -2.33333333],\n",
              "       [-2.58333333,  1.83333333]])"
            ]
          },
          "metadata": {},
          "execution_count": 276
        }
      ]
    },
    {
      "cell_type": "code",
      "source": [
        "a1.shape[0]"
      ],
      "metadata": {
        "id": "_F8OQgg1hN9K",
        "outputId": "62cf2692-84b3-4790-8793-f8dc1749245b",
        "colab": {
          "base_uri": "https://localhost:8080/"
        }
      },
      "execution_count": null,
      "outputs": [
        {
          "output_type": "execute_result",
          "data": {
            "text/plain": [
              "2"
            ]
          },
          "metadata": {},
          "execution_count": 277
        }
      ]
    },
    {
      "cell_type": "code",
      "metadata": {
        "id": "eRjBWaDuplpg",
        "outputId": "fe00474e-6337-4ce2-8502-204666b55777",
        "colab": {
          "base_uri": "https://localhost:8080/"
        }
      },
      "source": [
        "np.identity(a1.shape[0])"
      ],
      "execution_count": null,
      "outputs": [
        {
          "output_type": "execute_result",
          "data": {
            "text/plain": [
              "array([[1., 0.],\n",
              "       [0., 1.]])"
            ]
          },
          "metadata": {},
          "execution_count": 278
        }
      ]
    },
    {
      "cell_type": "code",
      "source": [
        "from numpy import identity as eye #eye()"
      ],
      "metadata": {
        "id": "qHh020iE41D4"
      },
      "execution_count": null,
      "outputs": []
    },
    {
      "cell_type": "code",
      "source": [
        "eye(a1.shape[0])"
      ],
      "metadata": {
        "id": "KqwMj_pz47w-",
        "outputId": "d7d1f54b-902c-47a2-b24f-de6473287e29",
        "colab": {
          "base_uri": "https://localhost:8080/"
        }
      },
      "execution_count": null,
      "outputs": [
        {
          "output_type": "execute_result",
          "data": {
            "text/plain": [
              "array([[1., 0.],\n",
              "       [0., 1.]])"
            ]
          },
          "metadata": {},
          "execution_count": 280
        }
      ]
    },
    {
      "cell_type": "markdown",
      "metadata": {
        "id": "Yjn6RimLplpg"
      },
      "source": [
        "- 레온티에프 역행렬: $(I - A)^{-1}$"
      ]
    },
    {
      "cell_type": "code",
      "metadata": {
        "id": "-OOn4dz2plpg",
        "outputId": "ff9f1661-410c-4acc-b4f7-af112d014f4f",
        "colab": {
          "base_uri": "https://localhost:8080/"
        }
      },
      "source": [
        "np.linalg.inv(np.identity(A.shape[0]) - A)"
      ],
      "execution_count": null,
      "outputs": [
        {
          "output_type": "execute_result",
          "data": {
            "text/plain": [
              "array([[ 0.79591837, -0.57142857],\n",
              "       [-0.63265306,  0.42857143]])"
            ]
          },
          "metadata": {},
          "execution_count": 281
        }
      ]
    },
    {
      "cell_type": "code",
      "source": [
        "inv(eye(A.shape[0]) - A)"
      ],
      "metadata": {
        "id": "x8_8gXAW5pG_",
        "outputId": "78ec0b98-7f78-415b-9cee-7fce48d335b5",
        "colab": {
          "base_uri": "https://localhost:8080/"
        }
      },
      "execution_count": null,
      "outputs": [
        {
          "output_type": "execute_result",
          "data": {
            "text/plain": [
              "array([[ 0.79591837, -0.57142857],\n",
              "       [-0.63265306,  0.42857143]])"
            ]
          },
          "metadata": {},
          "execution_count": 282
        }
      ]
    },
    {
      "cell_type": "markdown",
      "metadata": {
        "id": "cjmOkx7Pplpg"
      },
      "source": [
        "## random sample\n",
        "\n",
        "- 동일한 랜덤표본을 얻기 위해서는 numpy.random.seed(n) (예: n=1) 실행\n",
        "    - seed()를 지정하지 않는 경우 파이썬은 현재 날짜-시간을 이용하여 seed() 지정"
      ]
    },
    {
      "cell_type": "code",
      "source": [
        "# np.random.randn(n)"
      ],
      "metadata": {
        "id": "Uf5tB--lhkkQ"
      },
      "execution_count": null,
      "outputs": []
    },
    {
      "cell_type": "code",
      "metadata": {
        "id": "n6JZFInlplph"
      },
      "source": [
        "import numpy as np"
      ],
      "execution_count": null,
      "outputs": []
    },
    {
      "cell_type": "code",
      "source": [
        "numpy.random.seed(1)"
      ],
      "metadata": {
        "id": "4COnz2OSh2bd"
      },
      "execution_count": null,
      "outputs": []
    },
    {
      "cell_type": "code",
      "metadata": {
        "id": "ynO-7MZDplph",
        "outputId": "7343f253-9ea6-4bcf-a037-e03e09a03edf",
        "colab": {
          "base_uri": "https://localhost:8080/"
        }
      },
      "source": [
        "numpy.random.seed(1)\n",
        "rsn = np.random.randn(10) # 표준정규분포에서 샘플링\n",
        "print(rsn)"
      ],
      "execution_count": null,
      "outputs": [
        {
          "output_type": "stream",
          "name": "stdout",
          "text": [
            "[ 1.62434536 -0.61175641 -0.52817175 -1.07296862  0.86540763 -2.3015387\n",
            "  1.74481176 -0.7612069   0.3190391  -0.24937038]\n"
          ]
        }
      ]
    },
    {
      "cell_type": "code",
      "source": [
        "numpy.random.seed(1)\n",
        "rsn1 = np.random.normal(2, 5, 10)\n",
        "print(rsn1)"
      ],
      "metadata": {
        "id": "Da1zP0o4huNa",
        "outputId": "620ab1b9-df9c-4c5b-fc92-e9b1fd78645f",
        "colab": {
          "base_uri": "https://localhost:8080/"
        }
      },
      "execution_count": null,
      "outputs": [
        {
          "output_type": "stream",
          "name": "stdout",
          "text": [
            "[10.12172682 -1.05878207 -0.64085876 -3.36484311  6.32703815 -9.50769348\n",
            " 10.72405882 -1.8060345   3.59519548  0.75314812]\n"
          ]
        }
      ]
    },
    {
      "cell_type": "code",
      "metadata": {
        "colab": {
          "base_uri": "https://localhost:8080/"
        },
        "id": "9cR-_Y9yplph",
        "outputId": "ed14f97e-3258-49c8-931c-22c3ea847f29"
      },
      "source": [
        "rsn"
      ],
      "execution_count": null,
      "outputs": [
        {
          "output_type": "execute_result",
          "data": {
            "text/plain": [
              "array([-1.18997876, -0.11208947, -0.62463444,  1.37361405,  0.12405343,\n",
              "        0.18767963, -1.04043274,  0.22354029,  0.16219621, -1.75278601])"
            ]
          },
          "metadata": {},
          "execution_count": 240
        }
      ]
    },
    {
      "cell_type": "code",
      "metadata": {
        "id": "p5CuBcneplph"
      },
      "source": [
        "rsi = np.random.randint(1, 10, 10) # 1과 9사이에서 10개 샘플링"
      ],
      "execution_count": null,
      "outputs": []
    },
    {
      "cell_type": "code",
      "metadata": {
        "colab": {
          "base_uri": "https://localhost:8080/"
        },
        "id": "YyHZQdbZplph",
        "outputId": "a584b7a4-7610-435d-9f22-01256ef2ae2b"
      },
      "source": [
        "rsi"
      ],
      "execution_count": null,
      "outputs": [
        {
          "output_type": "execute_result",
          "data": {
            "text/plain": [
              "array([2, 1, 2, 9, 9, 4, 9, 8, 4, 7])"
            ]
          },
          "metadata": {},
          "execution_count": 296
        }
      ]
    },
    {
      "cell_type": "code",
      "metadata": {
        "id": "XDkjtSKPplph"
      },
      "source": [
        "rsu = np.random.uniform(-1, 1, 10)"
      ],
      "execution_count": null,
      "outputs": []
    },
    {
      "cell_type": "code",
      "metadata": {
        "colab": {
          "base_uri": "https://localhost:8080/"
        },
        "id": "YyvBnSEHplph",
        "outputId": "3c467ddb-15e1-48b2-9f87-53115622795e"
      },
      "source": [
        "rsu"
      ],
      "execution_count": null,
      "outputs": [
        {
          "output_type": "execute_result",
          "data": {
            "text/plain": [
              "array([ 0.91577906,  0.06633057,  0.38375423, -0.36896874,  0.37300186,\n",
              "        0.66925134, -0.96342345,  0.50028863,  0.97772218,  0.49633131])"
            ]
          },
          "metadata": {},
          "execution_count": 298
        }
      ]
    },
    {
      "cell_type": "code",
      "metadata": {
        "id": "S0NbAswioKVL",
        "outputId": "7a15e91a-598d-4ccb-d812-0f5acd6a62cb",
        "colab": {
          "base_uri": "https://localhost:8080/"
        }
      },
      "source": [
        "np.random.seed(1)\n",
        "np.random.randn(3)"
      ],
      "execution_count": null,
      "outputs": [
        {
          "output_type": "execute_result",
          "data": {
            "text/plain": [
              "array([ 1.62434536, -0.61175641, -0.52817175])"
            ]
          },
          "metadata": {},
          "execution_count": 299
        }
      ]
    },
    {
      "cell_type": "code",
      "metadata": {
        "id": "m3vjB6esoQ4F",
        "outputId": "2c7e96c0-d6b1-45f6-e77f-dfc006f596e6",
        "colab": {
          "base_uri": "https://localhost:8080/"
        }
      },
      "source": [
        "np.random.seed(1)\n",
        "np.random.randn(3)"
      ],
      "execution_count": null,
      "outputs": [
        {
          "output_type": "execute_result",
          "data": {
            "text/plain": [
              "array([ 1.62434536, -0.61175641, -0.52817175])"
            ]
          },
          "metadata": {},
          "execution_count": 302
        }
      ]
    },
    {
      "cell_type": "code",
      "metadata": {
        "id": "DnUQd3e8oUo9",
        "outputId": "d8e31119-8788-4191-f8cd-29b3b81aaba8",
        "colab": {
          "base_uri": "https://localhost:8080/"
        }
      },
      "source": [
        "np.random.seed(1)\n",
        "np.random.randn(3)"
      ],
      "execution_count": null,
      "outputs": [
        {
          "output_type": "execute_result",
          "data": {
            "text/plain": [
              "array([ 1.62434536, -0.61175641, -0.52817175])"
            ]
          },
          "metadata": {},
          "execution_count": 303
        }
      ]
    },
    {
      "cell_type": "markdown",
      "source": [
        "# 연습문제\n",
        "1. $x + y + x*y + x ** 2$ 계산해서 return하는 함수 생성 (def)"
      ],
      "metadata": {
        "id": "4-yQTXSa6wEB"
      }
    },
    {
      "cell_type": "code",
      "source": [
        "def func_test(x=0, y=1):\n",
        "    return x + y + x*y + x**2\n",
        "\n",
        "func_test(x=2, y=2)"
      ],
      "metadata": {
        "id": "7QhqBJd9iZph",
        "outputId": "62f332cd-159b-4f90-ebd5-287751a91f56",
        "colab": {
          "base_uri": "https://localhost:8080/"
        }
      },
      "execution_count": null,
      "outputs": [
        {
          "output_type": "execute_result",
          "data": {
            "text/plain": [
              "12"
            ]
          },
          "metadata": {},
          "execution_count": 310
        }
      ]
    },
    {
      "cell_type": "markdown",
      "source": [
        "2. 아래 a1, a2 리스트를 이용해서 a1의 요소가 key이고, a2의 요소가 value인 딕셔너리 생성( dict(), zip() )"
      ],
      "metadata": {
        "id": "pRHmCp4H7PJF"
      }
    },
    {
      "cell_type": "code",
      "source": [
        "a1 = ['a', 'b', 'c', 'd', 'e']\n",
        "a2 = list(range(5))\n",
        "\n",
        "a3 = dict(zip(a1, a2))"
      ],
      "metadata": {
        "id": "NWgRnverMVoy"
      },
      "execution_count": null,
      "outputs": []
    },
    {
      "cell_type": "code",
      "source": [
        "a3['a']"
      ],
      "metadata": {
        "id": "mhWFK7C4jLfK",
        "outputId": "e931d303-a2a4-49b2-d446-ebb16a7424b8",
        "colab": {
          "base_uri": "https://localhost:8080/"
        }
      },
      "execution_count": null,
      "outputs": [
        {
          "output_type": "execute_result",
          "data": {
            "text/plain": [
              "0"
            ]
          },
          "metadata": {},
          "execution_count": 313
        }
      ]
    },
    {
      "cell_type": "markdown",
      "source": [
        "3. 리스트 컴프리헨션을 이용해서 아래 a 리스트의 각 요소를 제곱한 리스트 생성"
      ],
      "metadata": {
        "id": "VM8j8MKQ7urh"
      }
    },
    {
      "cell_type": "code",
      "source": [
        "a = list(range(2, 10))"
      ],
      "metadata": {
        "id": "B8TM-c_DMhU6"
      },
      "execution_count": null,
      "outputs": []
    },
    {
      "cell_type": "code",
      "source": [
        "[x**2 for x in a]"
      ],
      "metadata": {
        "id": "FHyygM5ZjUhv",
        "outputId": "3743b31b-fbc9-4a12-86e6-7ae45d1b2143",
        "colab": {
          "base_uri": "https://localhost:8080/"
        }
      },
      "execution_count": null,
      "outputs": [
        {
          "output_type": "execute_result",
          "data": {
            "text/plain": [
              "[4, 9, 16, 25, 36, 49, 64, 81]"
            ]
          },
          "metadata": {},
          "execution_count": 316
        }
      ]
    },
    {
      "cell_type": "markdown",
      "source": [
        "4. 위의 a 리스트를 ndarray 자료형으로 변환하고 제곱하시오"
      ],
      "metadata": {
        "id": "p33n_Z5g8i12"
      }
    },
    {
      "cell_type": "code",
      "source": [
        "list(np.array(list(range(2, 10))) ** 2)"
      ],
      "metadata": {
        "id": "is30eJ9-bfFb",
        "outputId": "062226d3-3c9c-498a-c5da-a5add09e982d",
        "colab": {
          "base_uri": "https://localhost:8080/"
        }
      },
      "execution_count": null,
      "outputs": [
        {
          "output_type": "execute_result",
          "data": {
            "text/plain": [
              "[4, 9, 16, 25, 36, 49, 64, 81]"
            ]
          },
          "metadata": {},
          "execution_count": 318
        }
      ]
    },
    {
      "cell_type": "markdown",
      "source": [
        "5. 2의 a1 리스트의 인덱스와 요소를 반복구문을 통해 print하시오 ( enumerate() )"
      ],
      "metadata": {
        "id": "oCnJd2aP83yD"
      }
    },
    {
      "cell_type": "code",
      "source": [
        "for ind, x in enumerate(a1):\n",
        "    print(ind, x)"
      ],
      "metadata": {
        "id": "B5nb07__H--W",
        "outputId": "989cade7-9eb2-4add-aba4-13af15540e56",
        "colab": {
          "base_uri": "https://localhost:8080/"
        }
      },
      "execution_count": null,
      "outputs": [
        {
          "output_type": "stream",
          "name": "stdout",
          "text": [
            "0 a\n",
            "1 b\n",
            "2 c\n",
            "3 d\n",
            "4 e\n"
          ]
        }
      ]
    }
  ]
}