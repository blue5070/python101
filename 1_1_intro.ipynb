{
  "nbformat": 4,
  "nbformat_minor": 0,
  "metadata": {
    "kernelspec": {
      "display_name": "Python 3",
      "language": "python",
      "name": "python3"
    },
    "language_info": {
      "codemirror_mode": {
        "name": "ipython",
        "version": 3
      },
      "file_extension": ".py",
      "mimetype": "text/x-python",
      "name": "python",
      "nbconvert_exporter": "python",
      "pygments_lexer": "ipython3",
      "version": "3.8.5"
    },
    "colab": {
      "name": "intro.ipynb",
      "provenance": [],
      "toc_visible": true,
      "include_colab_link": true
    }
  },
  "cells": [
    {
      "cell_type": "markdown",
      "metadata": {
        "id": "view-in-github",
        "colab_type": "text"
      },
      "source": [
        "<a href=\"https://colab.research.google.com/github/changhoon0807/python101/blob/main/1_1_intro.ipynb\" target=\"_parent\"><img src=\"https://colab.research.google.com/assets/colab-badge.svg\" alt=\"Open In Colab\"/></a>"
      ]
    },
    {
      "cell_type": "markdown",
      "metadata": {
        "id": "jwMT9xqBplpA"
      },
      "source": [
        "# 주피터노트북\n"
      ]
    },
    {
      "cell_type": "markdown",
      "metadata": {
        "id": "hIN0AWUWuQGu"
      },
      "source": [
        "## 셀 타입\n",
        "\n",
        "- 코드\n",
        "- 마크다운/텍스트"
      ]
    },
    {
      "cell_type": "markdown",
      "metadata": {
        "id": "uUSqwNRIuTLX"
      },
      "source": [
        "## 셀 모드\n",
        "\n",
        "- 편집\n",
        "- 명령"
      ]
    },
    {
      "cell_type": "markdown",
      "metadata": {
        "id": "jBUE4J2GmMec"
      },
      "source": [
        "\n",
        "## 셀 실행\n",
        "\n",
        "- Shift + Enter 현재 셀 실행하고 아래 셀 선택\n",
        "- Ctrl + Enter 현재 셀 실행하고 현재 셀 선택\n",
        "- Alt + Enter (colab) 현재 셀 실행하고 아래에 새로운 코드 셀 생성"
      ]
    },
    {
      "cell_type": "markdown",
      "metadata": {
        "id": "6xAOkXo5plpC"
      },
      "source": [
        "## 단축키\n",
        "- 구글 코랩에서는 노트북 단축키를 사용자가 지정할 수 있으며, 일반적인 주피터노트북과 달리 셀 편집모드에서도 단축키를 통해 셀 잘라내기, 새로운 셀 생성 등 셀 편집이 가능\n",
        "\n",
        "- '메뉴-도구-단축키'에서 설정\n",
        "    - 셀 잘라내기 Ctrl + m, x\n",
        "    - 셀 복사하기 Ctrl + m, c\n",
        "    - 셀 붙이기 Ctrl + v\n",
        "    - 셀 삭제 Ctrl + m, d\n",
        "    - 위에 새로운 셀 삽입하기 Ctrl + m, a\n",
        "    - 아래에 새로운 셀 삽입하기 Ctrl + m, b\n",
        "    - 셀 타입 코드로 변환 Ctrl + m, y\n",
        "    - 셀 타입 마크다운으로 변환 Ctrl + m, m\n",
        "    - 실행 취소 Ctrl + m, z\n",
        "    - 단축키 확인 Ctrl + m, x\n",
        "    - 선택된 여러 셀 병합 Ctrl + Shift + m\n",
        "    - 현재 커서 위치에서 셀 분할 Ctrl + m, -\n",
        "    - 주석 설정/해제 Ctrl + /"
      ]
    },
    {
      "cell_type": "markdown",
      "metadata": {
        "id": "2lDW_v4WplpF"
      },
      "source": [
        "# 기본 자료형"
      ]
    },
    {
      "cell_type": "markdown",
      "metadata": {
        "id": "FUzXR2ySplpG"
      },
      "source": [
        "## 기본 자료형에는 숫자형(정수형(int), 부동소수점형(float)), 참/거짓(bool), 문자열(str) 등이 있음"
      ]
    },
    {
      "cell_type": "code",
      "source": [],
      "metadata": {
        "id": "K2Ap9KAv9p1s"
      },
      "execution_count": null,
      "outputs": []
    },
    {
      "cell_type": "code",
      "metadata": {
        "id": "ibNHTrl8plpG"
      },
      "source": [
        "1"
      ],
      "execution_count": null,
      "outputs": []
    },
    {
      "cell_type": "code",
      "metadata": {
        "id": "pXbt8obKplpG"
      },
      "source": [
        "type(1)"
      ],
      "execution_count": null,
      "outputs": []
    },
    {
      "cell_type": "code",
      "metadata": {
        "id": "q1E_vIBdplpG"
      },
      "source": [
        "type(1.0)"
      ],
      "execution_count": null,
      "outputs": []
    },
    {
      "cell_type": "code",
      "metadata": {
        "id": "TyKF1DtxplpG"
      },
      "source": [
        "False, True # 불리언 자료형"
      ],
      "execution_count": null,
      "outputs": []
    },
    {
      "cell_type": "code",
      "metadata": {
        "id": "0xCcMW83plpH"
      },
      "source": [
        "type(False)"
      ],
      "execution_count": null,
      "outputs": []
    },
    {
      "cell_type": "code",
      "metadata": {
        "id": "gUOZPQrLplpH"
      },
      "source": [
        "type('python') # 작은 따옴표"
      ],
      "execution_count": null,
      "outputs": []
    },
    {
      "cell_type": "code",
      "metadata": {
        "id": "r0oSz78XplpH"
      },
      "source": [
        "type(\"python\") # 큰 따옴표"
      ],
      "execution_count": null,
      "outputs": []
    },
    {
      "cell_type": "code",
      "metadata": {
        "id": "Mit-TmWuplpH"
      },
      "source": [
        "type('a')"
      ],
      "execution_count": null,
      "outputs": []
    },
    {
      "cell_type": "code",
      "metadata": {
        "id": "wg7PwJL9plpH"
      },
      "source": [
        "type(\"p\")"
      ],
      "execution_count": null,
      "outputs": []
    },
    {
      "cell_type": "code",
      "metadata": {
        "id": "IP78CxLmplpI"
      },
      "source": [
        "type('python'), type(.5)"
      ],
      "execution_count": null,
      "outputs": []
    },
    {
      "cell_type": "code",
      "metadata": {
        "id": "zp7kR8nCplpI"
      },
      "source": [
        "a = 5\n",
        "b = (a == 3) # equality operator\n",
        "c = 'KOR'\n",
        "print(a, b, c)"
      ],
      "execution_count": null,
      "outputs": []
    },
    {
      "cell_type": "markdown",
      "metadata": {
        "id": "1RlJvVPPplpI"
      },
      "source": [
        "- 더하기"
      ]
    },
    {
      "cell_type": "code",
      "metadata": {
        "id": "bQUcBF6kplpI"
      },
      "source": [
        "4 + 5"
      ],
      "execution_count": null,
      "outputs": []
    },
    {
      "cell_type": "code",
      "metadata": {
        "id": "4ZwrU7d-plpI"
      },
      "source": [
        "'KOR' + '15' # 문자열 더하기"
      ],
      "execution_count": null,
      "outputs": []
    },
    {
      "cell_type": "code",
      "metadata": {
        "id": "wDGp9HLvplpJ"
      },
      "source": [
        "'KOR' + 15"
      ],
      "execution_count": null,
      "outputs": []
    },
    {
      "cell_type": "markdown",
      "metadata": {
        "id": "CXSLZvllRNPB"
      },
      "source": [
        "- 수는 수끼리, 문자열은 문자열끼리 더할 수 있음\n",
        "- 자료형 변경은 str(), float(), int() 등을 이용"
      ]
    },
    {
      "cell_type": "code",
      "metadata": {
        "id": "fH9LuWoJplpJ"
      },
      "source": [
        "'KOR' + str(15)"
      ],
      "execution_count": null,
      "outputs": []
    },
    {
      "cell_type": "code",
      "metadata": {
        "id": "b9XEvt9CplpJ"
      },
      "source": [
        "type(str(15))"
      ],
      "execution_count": null,
      "outputs": []
    },
    {
      "cell_type": "code",
      "metadata": {
        "id": "4szQuNbCplpJ"
      },
      "source": [
        "float(str(15))"
      ],
      "execution_count": null,
      "outputs": []
    },
    {
      "cell_type": "markdown",
      "metadata": {
        "id": "7g8KeLtmRulV"
      },
      "source": [
        "- bool 자료형에 사칙연산을 적용할 경우 False는 0, True는 1의 값을 갖는 것으로 처리됨"
      ]
    },
    {
      "cell_type": "code",
      "metadata": {
        "id": "Ghzo11E0plpJ"
      },
      "source": [
        "4 + True"
      ],
      "execution_count": null,
      "outputs": []
    },
    {
      "cell_type": "code",
      "metadata": {
        "id": "pdtjUuBLplpJ"
      },
      "source": [
        "4 + False"
      ],
      "execution_count": null,
      "outputs": []
    },
    {
      "cell_type": "code",
      "metadata": {
        "id": "Yk2-dgg5plpK"
      },
      "source": [
        "4 * True"
      ],
      "execution_count": null,
      "outputs": []
    },
    {
      "cell_type": "code",
      "metadata": {
        "id": "_WO49bD2plpK"
      },
      "source": [
        "4 * False"
      ],
      "execution_count": null,
      "outputs": []
    },
    {
      "cell_type": "code",
      "metadata": {
        "id": "boRojZFSplpK"
      },
      "source": [
        "int(True)"
      ],
      "execution_count": null,
      "outputs": []
    },
    {
      "cell_type": "markdown",
      "metadata": {
        "id": "_DsNzxuXplpK"
      },
      "source": [
        "- 문자열 포맷 f-string"
      ]
    },
    {
      "cell_type": "code",
      "metadata": {
        "id": "fn0Ke_hSplpK"
      },
      "source": [
        "a = 2\n",
        "b = 'two'\n",
        "print(a, b)"
      ],
      "execution_count": null,
      "outputs": []
    },
    {
      "cell_type": "code",
      "metadata": {
        "id": "fGvZJKfOplpK"
      },
      "source": [
        "print(f'{a} is {b}')"
      ],
      "execution_count": null,
      "outputs": []
    },
    {
      "cell_type": "code",
      "metadata": {
        "id": "Z35sO1nOplpK"
      },
      "source": [
        "print(f'{a:.2f} is {b:}')"
      ],
      "execution_count": null,
      "outputs": []
    },
    {
      "cell_type": "code",
      "metadata": {
        "id": "bOWYq_dOplpL"
      },
      "source": [
        "print(f'{b} is {a:.2f}')"
      ],
      "execution_count": null,
      "outputs": []
    },
    {
      "cell_type": "code",
      "metadata": {
        "id": "GEpSVxhsplpL"
      },
      "source": [
        "print(f'{b} is not {10000:,.2f}') # 천단위로 , 찍기"
      ],
      "execution_count": null,
      "outputs": []
    },
    {
      "cell_type": "code",
      "source": [
        "print(f'1000000:,.2f')"
      ],
      "metadata": {
        "id": "cg2UlNGROM0z"
      },
      "execution_count": null,
      "outputs": []
    },
    {
      "cell_type": "markdown",
      "metadata": {
        "id": "3siuC5njplpL"
      },
      "source": [
        "- 문자열에서 공백 없애기: strip(), lstrip(), rstrip()"
      ]
    },
    {
      "cell_type": "code",
      "metadata": {
        "id": "6ZukADH3plpL"
      },
      "source": [
        "\" abc \".lstrip()"
      ],
      "execution_count": null,
      "outputs": []
    },
    {
      "cell_type": "code",
      "metadata": {
        "id": "7hUmNy5tplpL"
      },
      "source": [
        "\" abc \".rstrip()"
      ],
      "execution_count": null,
      "outputs": []
    },
    {
      "cell_type": "code",
      "metadata": {
        "id": "HUdLs-17plpL"
      },
      "source": [
        "\" abc \".strip()"
      ],
      "execution_count": null,
      "outputs": []
    },
    {
      "cell_type": "code",
      "metadata": {
        "id": "FPwUgUqOplpL"
      },
      "source": [
        "\"abc\".strip('a')"
      ],
      "execution_count": null,
      "outputs": []
    },
    {
      "cell_type": "markdown",
      "metadata": {
        "id": "zcHFY5o9plpM"
      },
      "source": [
        "# 기본 자료형 외 자주 사용되는 자료형: 리스트(list), 딕셔너리(dict), 튜플(tuple)\n",
        "## 리스트\n",
        "- 대괄호 [ ]로 표현하며 시퀀스 형태로 입력"
      ]
    },
    {
      "cell_type": "code",
      "metadata": {
        "id": "QCiLko44plpM"
      },
      "source": [
        "a = [1, 2, 3]\n",
        "b = ['one', 'two', 'three']"
      ],
      "execution_count": 47,
      "outputs": []
    },
    {
      "cell_type": "code",
      "metadata": {
        "id": "sp7EfIO-plpM"
      },
      "source": [
        "type(a), type(b)"
      ],
      "execution_count": null,
      "outputs": []
    },
    {
      "cell_type": "code",
      "metadata": {
        "id": "y49xn6_hplpM"
      },
      "source": [
        "a * 2 # matlab과 같은 결과를 얻으려면 list comprehension 또는 numpy 라이브러리 필요"
      ],
      "execution_count": null,
      "outputs": []
    },
    {
      "cell_type": "code",
      "metadata": {
        "id": "2HlEc1C0plpM"
      },
      "source": [
        "b * 2"
      ],
      "execution_count": null,
      "outputs": []
    },
    {
      "cell_type": "code",
      "metadata": {
        "id": "zHDMP4G_plpM"
      },
      "source": [
        "a + b"
      ],
      "execution_count": null,
      "outputs": []
    },
    {
      "cell_type": "code",
      "metadata": {
        "id": "53O9ZnIFplpM"
      },
      "source": [
        "a + 5"
      ],
      "execution_count": null,
      "outputs": []
    },
    {
      "cell_type": "code",
      "metadata": {
        "id": "3V9pGdYFplpN"
      },
      "source": [
        "a + 'four'"
      ],
      "execution_count": null,
      "outputs": []
    },
    {
      "cell_type": "markdown",
      "metadata": {
        "id": "3dU-pVatplpN"
      },
      "source": [
        "- list에 숫자 또는 문자열을 더하는 연산이 정의되어 있지 않으므로 오류발생"
      ]
    },
    {
      "cell_type": "code",
      "metadata": {
        "colab": {
          "base_uri": "https://localhost:8080/"
        },
        "id": "YwhXBSABplpN",
        "outputId": "5c9d0264-e83a-430e-c7b6-e6b034c3f94f"
      },
      "source": [
        "a + [5]"
      ],
      "execution_count": null,
      "outputs": [
        {
          "output_type": "execute_result",
          "data": {
            "text/plain": [
              "[1, 2, 3, 5]"
            ]
          },
          "metadata": {},
          "execution_count": 40
        }
      ]
    },
    {
      "cell_type": "code",
      "source": [
        "b + ['four']"
      ],
      "metadata": {
        "id": "MpmVjroMTXYw"
      },
      "execution_count": null,
      "outputs": []
    },
    {
      "cell_type": "code",
      "metadata": {
        "id": "ics6GYA-plpN"
      },
      "source": [
        "b.append('four')\n",
        "print(b)"
      ],
      "execution_count": null,
      "outputs": []
    },
    {
      "cell_type": "markdown",
      "metadata": {
        "id": "x1O08-aeplpN"
      },
      "source": [
        "- 숫자로 이루어진 리스트의 각 항목에 숫자를 더하기 위해서는 list comprehension이나 for-loop 이용"
      ]
    },
    {
      "cell_type": "code",
      "metadata": {
        "id": "yDfDGtlNplpN"
      },
      "source": [
        "[i + 1 for i in a]"
      ],
      "execution_count": null,
      "outputs": []
    },
    {
      "cell_type": "markdown",
      "metadata": {
        "id": "L0ZQjuC2plpN"
      },
      "source": [
        "- 뒤에 다룰 넘파이 ndarray 자료형은 숫자형 자료 리스트처럼 생겼으나, 숫자 하나를 더할 수 있음"
      ]
    },
    {
      "cell_type": "code",
      "metadata": {
        "id": "iPtgYebIplpN"
      },
      "source": [
        "list(range(10))"
      ],
      "execution_count": null,
      "outputs": []
    },
    {
      "cell_type": "markdown",
      "metadata": {
        "id": "9hL8FpZIplpO"
      },
      "source": [
        "- 리스트에 있는 문자열을 특정 기호로 연결"
      ]
    },
    {
      "cell_type": "code",
      "metadata": {
        "id": "weMGGcSnplpO"
      },
      "source": [
        "b"
      ],
      "execution_count": null,
      "outputs": []
    },
    {
      "cell_type": "code",
      "metadata": {
        "id": "ZCs23hE5plpO"
      },
      "source": [
        "':'.join(b)"
      ],
      "execution_count": null,
      "outputs": []
    },
    {
      "cell_type": "markdown",
      "metadata": {
        "id": "VSN0RYpGplpO"
      },
      "source": [
        "- 파이썬 인덱스는 0부터 시작하는 것에 유의"
      ]
    },
    {
      "cell_type": "code",
      "metadata": {
        "id": "K8bDKfI_plpO"
      },
      "source": [
        "a[0]"
      ],
      "execution_count": null,
      "outputs": []
    },
    {
      "cell_type": "code",
      "metadata": {
        "id": "gAtXisSjplpO"
      },
      "source": [
        "a[0:2] # 첫번째 인덱스는 포함, 두번째 인덱스는 미포함"
      ],
      "execution_count": null,
      "outputs": []
    },
    {
      "cell_type": "markdown",
      "metadata": {
        "id": "vRT8wJ74plpO"
      },
      "source": [
        "- list의 마지막 항목의 인덱스는 -1"
      ]
    },
    {
      "cell_type": "code",
      "metadata": {
        "id": "Do_mDuYVplpO"
      },
      "source": [
        "a[-1]"
      ],
      "execution_count": null,
      "outputs": []
    },
    {
      "cell_type": "code",
      "metadata": {
        "id": "I3GTH7SvplpP"
      },
      "source": [
        "a = ['KOR', 'USA', 'CHN']\n",
        "print(a[0], a[-1], a[:2], a[-2:])"
      ],
      "execution_count": null,
      "outputs": []
    },
    {
      "cell_type": "markdown",
      "metadata": {
        "id": "fB3a845YplpP"
      },
      "source": [
        "- 주피터노트북에서 긴 리스트는 세로로 표시되지만, %pprint 명령어로 옵션 변경 가능,\n",
        "- print() 명령어를 사용하면, 긴 리스트도 가로로 표시"
      ]
    },
    {
      "cell_type": "code",
      "metadata": {
        "id": "J2Byf-aJplpP"
      },
      "source": [
        "a * 4"
      ],
      "execution_count": null,
      "outputs": []
    },
    {
      "cell_type": "code",
      "metadata": {
        "id": "_oVw6pnWplpP"
      },
      "source": [
        "print(a * 4)"
      ],
      "execution_count": null,
      "outputs": []
    },
    {
      "cell_type": "code",
      "source": [
        "from pprint import pprint"
      ],
      "metadata": {
        "id": "9lZ23JIcl-HT"
      },
      "execution_count": 82,
      "outputs": []
    },
    {
      "cell_type": "code",
      "metadata": {
        "id": "rS7Q-uLrplpP"
      },
      "source": [
        "%pprint"
      ],
      "execution_count": null,
      "outputs": []
    },
    {
      "cell_type": "code",
      "metadata": {
        "id": "XXQht5hSplpP"
      },
      "source": [
        "a * 4"
      ],
      "execution_count": null,
      "outputs": []
    },
    {
      "cell_type": "markdown",
      "metadata": {
        "id": "XJhS-OzzplpP"
      },
      "source": [
        "- 문자열 리스트의 각 항목을 따옴표 없이 print()하기 위해 리스트이름 앞에 * 입력\n",
        "- print()가 출력하는 각 항목 사이를 구분하기 위해 sep = '기호'를 지정\n",
        "- print()가 마지막에 출력할 내용을 지정하기 위해 end = '기호'를 지정(기본은 '\\n')"
      ]
    },
    {
      "cell_type": "code",
      "metadata": {
        "id": "bgMMv7EZplpQ"
      },
      "source": [
        "print(a)"
      ],
      "execution_count": null,
      "outputs": []
    },
    {
      "cell_type": "code",
      "metadata": {
        "id": "dsIAYIK_plpQ"
      },
      "source": [
        "print(*a)"
      ],
      "execution_count": null,
      "outputs": []
    },
    {
      "cell_type": "code",
      "metadata": {
        "id": "3vSOur9jplpQ"
      },
      "source": [
        "print(*a, sep = ', ')"
      ],
      "execution_count": null,
      "outputs": []
    },
    {
      "cell_type": "markdown",
      "metadata": {
        "id": "i7-NlpntplpQ"
      },
      "source": [
        "- list comprehension"
      ]
    },
    {
      "cell_type": "code",
      "metadata": {
        "id": "VXAg6bIzplpQ"
      },
      "source": [
        "['KOR', 'USA', 'CHN'] - ['CHN', 'AUS'] # output이 KOR, USA가 되도록"
      ],
      "execution_count": null,
      "outputs": []
    },
    {
      "cell_type": "code",
      "metadata": {
        "id": "UHvHPbCYplpQ"
      },
      "source": [
        "[s for s in ['KOR', 'USA', 'CHN'] if s not in ['CHN', 'AUS']]"
      ],
      "execution_count": null,
      "outputs": []
    },
    {
      "cell_type": "markdown",
      "metadata": {
        "id": "NLbNGd0tplpQ"
      },
      "source": [
        "- set() 이용"
      ]
    },
    {
      "cell_type": "code",
      "metadata": {
        "id": "owFzu0rJplpQ"
      },
      "source": [
        "set(['KOR', 'USA', 'CHN']), set(['CHN', 'AUS'])"
      ],
      "execution_count": null,
      "outputs": []
    },
    {
      "cell_type": "code",
      "metadata": {
        "id": "asVHCWFaplpR"
      },
      "source": [
        "set(['KOR', 'USA', 'CHN']) - set(['CHN', 'AUS'])"
      ],
      "execution_count": null,
      "outputs": []
    },
    {
      "cell_type": "code",
      "metadata": {
        "id": "txnO0BJ_plpR"
      },
      "source": [
        "list(set(['KOR', 'USA', 'CHN']) - set(['CHN', 'AUS']))"
      ],
      "execution_count": null,
      "outputs": []
    },
    {
      "cell_type": "markdown",
      "metadata": {
        "id": "owBOJbKCplpR"
      },
      "source": [
        "- 문자열 리스트 항목별로 문자열 더하기"
      ]
    },
    {
      "cell_type": "code",
      "metadata": {
        "id": "1gsa51RnplpS"
      },
      "source": [
        "[s + ':g' for s in ['KOR', 'USA', 'CHN']]"
      ],
      "execution_count": null,
      "outputs": []
    },
    {
      "cell_type": "markdown",
      "metadata": {
        "id": "L09r0gyUSmN-"
      },
      "source": [
        "- 문자열은 각 캐릭터(123.../abc.../가나다... 등)로 구성된 리스트로 취급"
      ]
    },
    {
      "cell_type": "code",
      "metadata": {
        "id": "AGpghLedSyFV"
      },
      "source": [
        "a = 'abcde'"
      ],
      "execution_count": 91,
      "outputs": []
    },
    {
      "cell_type": "code",
      "metadata": {
        "id": "DA-2XROBS2nN",
        "colab": {
          "base_uri": "https://localhost:8080/",
          "height": 36
        },
        "outputId": "7fedc6f5-6d34-4ccc-e162-682775b4f592"
      },
      "source": [
        "a[:3]"
      ],
      "execution_count": 92,
      "outputs": [
        {
          "output_type": "execute_result",
          "data": {
            "text/plain": [
              "'abc'"
            ],
            "application/vnd.google.colaboratory.intrinsic+json": {
              "type": "string"
            }
          },
          "metadata": {},
          "execution_count": 92
        }
      ]
    },
    {
      "cell_type": "code",
      "metadata": {
        "id": "Fz3MQds_S4Na",
        "colab": {
          "base_uri": "https://localhost:8080/",
          "height": 36
        },
        "outputId": "07dce8e6-4011-4208-b867-fe81388c7ff0"
      },
      "source": [
        "a[-2:]"
      ],
      "execution_count": 93,
      "outputs": [
        {
          "output_type": "execute_result",
          "data": {
            "text/plain": [
              "'de'"
            ],
            "application/vnd.google.colaboratory.intrinsic+json": {
              "type": "string"
            }
          },
          "metadata": {},
          "execution_count": 93
        }
      ]
    },
    {
      "cell_type": "code",
      "metadata": {
        "id": "ln_uyVyuS6sV",
        "colab": {
          "base_uri": "https://localhost:8080/",
          "height": 35
        },
        "outputId": "7da02430-3424-4518-f8c8-db2caaf07d2a"
      },
      "source": [
        "\"가나다라마\"[:2]"
      ],
      "execution_count": null,
      "outputs": [
        {
          "output_type": "execute_result",
          "data": {
            "text/plain": [
              "'가나'"
            ],
            "application/vnd.google.colaboratory.intrinsic+json": {
              "type": "string"
            }
          },
          "metadata": {},
          "execution_count": 67
        }
      ]
    },
    {
      "cell_type": "markdown",
      "metadata": {
        "id": "qNqtBf2rplpS"
      },
      "source": [
        "- 이전 실행한 출력셀의 값 불러오기"
      ]
    },
    {
      "cell_type": "code",
      "metadata": {
        "id": "mF4jrz2ZplpS"
      },
      "source": [
        "_"
      ],
      "execution_count": null,
      "outputs": []
    },
    {
      "cell_type": "code",
      "metadata": {
        "id": "RHOEgdSfplpS"
      },
      "source": [
        "Out[68]"
      ],
      "execution_count": null,
      "outputs": []
    },
    {
      "cell_type": "code",
      "metadata": {
        "id": "_tj_PHSpplpT"
      },
      "source": [
        "_68"
      ],
      "execution_count": null,
      "outputs": []
    },
    {
      "cell_type": "markdown",
      "metadata": {
        "id": "AcYPI1Ecjo0w"
      },
      "source": [
        "- range()로 수 리스트 만들기\n",
        "    - range(s, e, i): 처음 위치(생략시 0), 마지막 위치(리스트에 포함 안됨), 수 간격(생략시 1)\n",
        "    - for-loop 등에서 주로 이용하며, 순서대로 해당하는 값만 필요하므로 실제 리스트를 생성하지 않음\n",
        "        - 리스트 생성시 메모리 공간을 크게 차지할 수 있으므로 비효율적임\n",
        "    - 리스트를 생성하기 위해서는 list() 함수 실행"
      ]
    },
    {
      "cell_type": "code",
      "metadata": {
        "id": "6wAlslqNk9c8"
      },
      "source": [
        "for i in range(5):  # range(0, 5, 1)\n",
        "    print(i)"
      ],
      "execution_count": null,
      "outputs": []
    },
    {
      "cell_type": "code",
      "metadata": {
        "id": "kYJlQKcylL00"
      },
      "source": [
        "for i in range(5, 0, -2):\n",
        "    print(i)"
      ],
      "execution_count": null,
      "outputs": []
    },
    {
      "cell_type": "code",
      "metadata": {
        "id": "6k6c6VFSj1P2"
      },
      "source": [
        "list(range(10))"
      ],
      "execution_count": null,
      "outputs": []
    },
    {
      "cell_type": "markdown",
      "metadata": {
        "id": "N2daLnGRplpT"
      },
      "source": [
        "## 딕셔너리: key와 value로 구성되며, { }로 표현"
      ]
    },
    {
      "cell_type": "code",
      "metadata": {
        "id": "2GZchHtWplpT"
      },
      "source": [
        "iso = {'US':'USA', 'KR':'KOR', 'JP':'JPN', 'CN':'CHN'}"
      ],
      "execution_count": 103,
      "outputs": []
    },
    {
      "cell_type": "code",
      "metadata": {
        "id": "mFGzj70NplpT"
      },
      "source": [
        "kr_en = {'서울특별시':'SE', '경기도':'GG', '인천광역시':'IC'}"
      ],
      "execution_count": 102,
      "outputs": []
    },
    {
      "cell_type": "code",
      "metadata": {
        "id": "I0pbra5AplpT"
      },
      "source": [
        "iso['US']"
      ],
      "execution_count": null,
      "outputs": []
    },
    {
      "cell_type": "code",
      "metadata": {
        "id": "QKe3n0QxplpU"
      },
      "source": [
        "iso['KR']"
      ],
      "execution_count": null,
      "outputs": []
    },
    {
      "cell_type": "code",
      "metadata": {
        "id": "TUOz4mGtplpU"
      },
      "source": [
        "iso.keys()"
      ],
      "execution_count": null,
      "outputs": []
    },
    {
      "cell_type": "code",
      "metadata": {
        "id": "UYvYD2tuplpU"
      },
      "source": [
        "iso.values()"
      ],
      "execution_count": null,
      "outputs": []
    },
    {
      "cell_type": "code",
      "metadata": {
        "id": "dVMiiQGhplpU"
      },
      "source": [
        "iso['AU'] = 'AUS' # 딕셔너리에 추가"
      ],
      "execution_count": null,
      "outputs": []
    },
    {
      "cell_type": "code",
      "metadata": {
        "id": "mEGXZAq6plpU"
      },
      "source": [
        "iso"
      ],
      "execution_count": null,
      "outputs": []
    },
    {
      "cell_type": "markdown",
      "metadata": {
        "id": "ie0bl9duplpU"
      },
      "source": [
        "- dict, zip으로 딕셔너리 만들기"
      ]
    },
    {
      "cell_type": "code",
      "metadata": {
        "id": "FhtiG9qLplpU"
      },
      "source": [
        "dict(zip(['한국', '미국', '일본'], ['KR', 'US', 'JP']))"
      ],
      "execution_count": null,
      "outputs": []
    },
    {
      "cell_type": "markdown",
      "source": [
        "- key 이름 바꾸기: 딕셔너리 컴프리헨션"
      ],
      "metadata": {
        "id": "aJaQCbesjGDc"
      }
    },
    {
      "cell_type": "code",
      "source": [
        "{f'new_{key}':x for key, x in dict(zip(['한국', '미국', '일본'], ['KR', 'US', 'JP'])).items()}"
      ],
      "metadata": {
        "id": "PvAsqW-IjMOL"
      },
      "execution_count": null,
      "outputs": []
    },
    {
      "cell_type": "code",
      "metadata": {
        "id": "-1Az1sswplpV"
      },
      "source": [
        "import pandas as pd\n",
        "countries = pd.Series(['South Korea', 'United States', 'North Korea'])\n",
        "print(countries)"
      ],
      "execution_count": null,
      "outputs": []
    },
    {
      "cell_type": "code",
      "metadata": {
        "id": "lnZxU24BplpV"
      },
      "source": [
        "cdict = {'South Korea':'KR', 'United States':'US', 'Japan':'JP'}\n",
        "countries.replace(cdict)"
      ],
      "execution_count": null,
      "outputs": []
    },
    {
      "cell_type": "markdown",
      "metadata": {
        "id": "LudrxhdBplpV"
      },
      "source": [
        "### 튜플: 리스트와 유사하나 값이 불변하는 특성 ( )로 표현"
      ]
    },
    {
      "cell_type": "code",
      "source": [
        "my_tuple = (1, 2, 'hello', [1, 2, 3])\n",
        "my_tuple[0] = 3"
      ],
      "metadata": {
        "id": "4gs74LtCkpd7"
      },
      "execution_count": null,
      "outputs": []
    },
    {
      "cell_type": "code",
      "source": [
        "my_list = [1 ,2 ,3 ,4, 5]\n",
        "my_list[0] = 2\n",
        "my_list"
      ],
      "metadata": {
        "id": "VTwPj9g3lCQ1"
      },
      "execution_count": null,
      "outputs": []
    },
    {
      "cell_type": "code",
      "metadata": {
        "id": "R60XB1a3plpV"
      },
      "source": [
        "a, b, c = 5, 10, 15"
      ],
      "execution_count": 120,
      "outputs": []
    },
    {
      "cell_type": "code",
      "metadata": {
        "id": "pDpSREc1plpW"
      },
      "source": [
        "print(a, b, c)"
      ],
      "execution_count": null,
      "outputs": []
    },
    {
      "cell_type": "code",
      "metadata": {
        "colab": {
          "base_uri": "https://localhost:8080/"
        },
        "id": "YIF8iHoPplpW",
        "outputId": "5b9aa2b4-18a0-4370-d395-9558e6353640"
      },
      "source": [
        "a, b = b, a\n",
        "print(a, b)"
      ],
      "execution_count": null,
      "outputs": [
        {
          "output_type": "stream",
          "name": "stdout",
          "text": [
            "10 5\n"
          ]
        }
      ]
    },
    {
      "cell_type": "code",
      "source": [
        "c = 1, 2, 3\n",
        "print(type(c))"
      ],
      "metadata": {
        "colab": {
          "base_uri": "https://localhost:8080/"
        },
        "id": "iyg3x88QsM5s",
        "outputId": "579e7ae5-d73e-4352-ec43-8189e9b90703"
      },
      "execution_count": 125,
      "outputs": [
        {
          "output_type": "stream",
          "name": "stdout",
          "text": [
            "<class 'tuple'>\n"
          ]
        }
      ]
    },
    {
      "cell_type": "code",
      "source": [
        "c"
      ],
      "metadata": {
        "colab": {
          "base_uri": "https://localhost:8080/"
        },
        "id": "hnGZwWzPlZ3V",
        "outputId": "ca47c64e-9e2c-4d33-d399-e6888dacb345"
      },
      "execution_count": 126,
      "outputs": [
        {
          "output_type": "execute_result",
          "data": {
            "text/plain": [
              "(1, 2, 3)"
            ]
          },
          "metadata": {},
          "execution_count": 126
        }
      ]
    },
    {
      "cell_type": "markdown",
      "source": [
        "### method"
      ],
      "metadata": {
        "id": "hcQ-AdbxvFsT"
      }
    },
    {
      "cell_type": "code",
      "source": [
        "a = ['1', '2', '3']"
      ],
      "metadata": {
        "id": "sQ3tZ9d7vI45"
      },
      "execution_count": 158,
      "outputs": []
    },
    {
      "cell_type": "code",
      "source": [
        "dir(a[0])"
      ],
      "metadata": {
        "id": "pPOuFtUUvNw6",
        "outputId": "3233e18a-0eaf-4bf0-93fb-e6c0cfd3a0ac",
        "colab": {
          "base_uri": "https://localhost:8080/"
        }
      },
      "execution_count": 160,
      "outputs": [
        {
          "output_type": "execute_result",
          "data": {
            "text/plain": [
              "['__add__', '__class__', '__contains__', '__delattr__', '__dir__', '__doc__', '__eq__', '__format__', '__ge__', '__getattribute__', '__getitem__', '__getnewargs__', '__gt__', '__hash__', '__init__', '__init_subclass__', '__iter__', '__le__', '__len__', '__lt__', '__mod__', '__mul__', '__ne__', '__new__', '__reduce__', '__reduce_ex__', '__repr__', '__rmod__', '__rmul__', '__setattr__', '__sizeof__', '__str__', '__subclasshook__', 'capitalize', 'casefold', 'center', 'count', 'encode', 'endswith', 'expandtabs', 'find', 'format', 'format_map', 'index', 'isalnum', 'isalpha', 'isascii', 'isdecimal', 'isdigit', 'isidentifier', 'islower', 'isnumeric', 'isprintable', 'isspace', 'istitle', 'isupper', 'join', 'ljust', 'lower', 'lstrip', 'maketrans', 'partition', 'removeprefix', 'removesuffix', 'replace', 'rfind', 'rindex', 'rjust', 'rpartition', 'rsplit', 'rstrip', 'split', 'splitlines', 'startswith', 'strip', 'swapcase', 'title', 'translate', 'upper', 'zfill']"
            ]
          },
          "metadata": {},
          "execution_count": 160
        }
      ]
    },
    {
      "cell_type": "code",
      "source": [
        "a[0].isnumeric()"
      ],
      "metadata": {
        "id": "kkLm_i8Pv5wS",
        "outputId": "fba85a66-1d84-4a1b-fae2-24f354f9c1d8",
        "colab": {
          "base_uri": "https://localhost:8080/"
        }
      },
      "execution_count": 161,
      "outputs": [
        {
          "output_type": "execute_result",
          "data": {
            "text/plain": [
              "True"
            ]
          },
          "metadata": {},
          "execution_count": 161
        }
      ]
    },
    {
      "cell_type": "markdown",
      "metadata": {
        "id": "uQznY9FWplpW"
      },
      "source": [
        "## 연습문제\n",
        "\n",
        "- 아래 국가명 리스트와 연도 리스트를 이용하여 국가명_연도 문자열로 구성된 리스트를 생성 (힌트, 리스트 컴프리헨션, f-string)\n",
        "- 아래 리스트와 인덱스를 이용하여 일본과 중국을 제외한 국가에 대해서만 국가명_연도 문자열 리스트를 생성하라"
      ]
    },
    {
      "cell_type": "code",
      "metadata": {
        "id": "8kI8vZUNplpW"
      },
      "source": [
        "countries = ['KOR', 'USA', 'JPN', 'CHN', 'AUS', 'MEX']\n",
        "year = [17, 18, 19, 20]"
      ],
      "execution_count": 131,
      "outputs": []
    },
    {
      "cell_type": "markdown",
      "metadata": {
        "id": "4IZZ5oviplpW"
      },
      "source": [
        "- 아래 문자열 리스트에서 숫자를 나타내는 문자열만 선택하여 리스트를 생성하라(힌트, isnumeric() 또는 isdigit(), strip() method 이용)"
      ]
    },
    {
      "cell_type": "code",
      "metadata": {
        "id": "aLU9e6stplpX"
      },
      "source": [
        "strings = ['KOR', '한국', ' 15', \"True\", '1000']"
      ],
      "execution_count": 150,
      "outputs": []
    },
    {
      "cell_type": "markdown",
      "metadata": {
        "id": "bD8IrLeNplpX"
      },
      "source": [
        "# 문법\n",
        "\n",
        "- 파이썬에서 for loop, if 구문, 함수 정의시 indentation(스페이스 4개) 이용\n",
        "    - 주피터노트북에서 tab은 스페이스 4개를 입력\n",
        "- 코드작성의 자유도가 낮은 대신, 가독성이 매우 높아짐\n",
        "\n",
        "\n",
        "```\n",
        "<C>\n",
        "if (i=1; i<=n; i++) {\n",
        "  printf(\"%d\\n\", i);\n",
        "}\n",
        "\n",
        "<matlab>\n",
        "for i = 1:n\n",
        "    disp(i)\n",
        "end\n",
        "\n",
        "<python>\n",
        "for i = range(1, n+1):\n",
        "    disp(i)\n",
        "```"
      ]
    },
    {
      "cell_type": "markdown",
      "metadata": {
        "id": "Na2vfuFH_FLK"
      },
      "source": [
        "## definition: 함수"
      ]
    },
    {
      "cell_type": "code",
      "metadata": {
        "id": "fj8mNDvkplpX"
      },
      "source": [
        "def sum_two_numbers(a, b):\n",
        "    return a + b"
      ],
      "execution_count": null,
      "outputs": []
    },
    {
      "cell_type": "code",
      "metadata": {
        "id": "ZPVoJCD_plpX"
      },
      "source": [
        "sum_two_numbers(1, 2)"
      ],
      "execution_count": null,
      "outputs": []
    },
    {
      "cell_type": "code",
      "metadata": {
        "id": "ZFNz4kDgByOy"
      },
      "source": [
        "def sum_three_numbers(a, b, c=4):\n",
        "    return a + 2*b + c"
      ],
      "execution_count": null,
      "outputs": []
    },
    {
      "cell_type": "code",
      "metadata": {
        "id": "jhza4RrBBljK"
      },
      "source": [
        "sum_three_numbers(1, 2, 0)"
      ],
      "execution_count": null,
      "outputs": []
    },
    {
      "cell_type": "code",
      "metadata": {
        "id": "SF4nCPoICDH6"
      },
      "source": [
        "sum_three_numbers(1, 2)"
      ],
      "execution_count": null,
      "outputs": []
    },
    {
      "cell_type": "code",
      "metadata": {
        "id": "c0K0qo6RCJ2D"
      },
      "source": [
        "sum_three_numbers(b=2, a=1)"
      ],
      "execution_count": null,
      "outputs": []
    },
    {
      "cell_type": "code",
      "metadata": {
        "id": "LTHPsxRE_dVQ"
      },
      "source": [
        "sum_two_numbers2 = lambda x, y: x + y # lambda 함수: 간단한 한줄짜리 함수"
      ],
      "execution_count": 163,
      "outputs": []
    },
    {
      "cell_type": "code",
      "metadata": {
        "id": "TKqDmGAp_kfq"
      },
      "source": [
        "sum_two_numbers2(1, 2)"
      ],
      "execution_count": null,
      "outputs": []
    },
    {
      "cell_type": "markdown",
      "metadata": {
        "id": "AdJnA5Mo_P2g"
      },
      "source": [
        "## for-loop, if-else"
      ]
    },
    {
      "cell_type": "code",
      "metadata": {
        "id": "bBBlUm3MplpX"
      },
      "source": [
        "countries = ['KOR', 'USA', 'CHN']\n",
        "for c in countries:\n",
        "    if c == 'KOR':\n",
        "        print(c, 'is my country.')\n",
        "    else:\n",
        "        print(c)"
      ],
      "execution_count": null,
      "outputs": []
    },
    {
      "cell_type": "markdown",
      "source": [
        "## enumerate: 반복 가능한 하나의 객체의 인덱스와 값 추출"
      ],
      "metadata": {
        "id": "eJeS8ShWxMMv"
      }
    },
    {
      "cell_type": "code",
      "source": [
        "for i, c in enumerate(countries):\n",
        "    print(i, c)"
      ],
      "metadata": {
        "id": "ua90CB40xTTh"
      },
      "execution_count": null,
      "outputs": []
    },
    {
      "cell_type": "markdown",
      "source": [
        "## zip: 반복가능한 객체가 2개 이상인 경우, 각 객체의 요소를 순서대로 추출"
      ],
      "metadata": {
        "id": "f_e2gr81xob-"
      }
    },
    {
      "cell_type": "code",
      "source": [
        "for i, c in zip(countries, ['한국', '미국', '중국']):\n",
        "    print(i, c)"
      ],
      "metadata": {
        "id": "jxjqKmPYxyc4"
      },
      "execution_count": null,
      "outputs": []
    },
    {
      "cell_type": "markdown",
      "metadata": {
        "id": "kRUJF1Tb-2H8"
      },
      "source": [
        "## continue, break, pass"
      ]
    },
    {
      "cell_type": "code",
      "metadata": {
        "id": "qqdt6yCm-_sw"
      },
      "source": [
        "for i in range(4):    # [0, 1, 2, 3]\n",
        "    if i==2:\n",
        "        continue\n",
        "    else:\n",
        "        print(f'{i} is not 2')\n"
      ],
      "execution_count": null,
      "outputs": []
    },
    {
      "cell_type": "code",
      "metadata": {
        "id": "fAbT9lG9DIZD"
      },
      "source": [
        "for i in range(4):    # [0, 1, 2, 3]\n",
        "    if i==2:\n",
        "        break\n",
        "    else:\n",
        "        print(f'{i} is not 2')\n"
      ],
      "execution_count": null,
      "outputs": []
    },
    {
      "cell_type": "code",
      "metadata": {
        "id": "LZa_Fq9dEi8c"
      },
      "source": [
        "A = False\n",
        "\n",
        "if A:\n",
        "    print('True')\n",
        "else:\n",
        "    print('False')"
      ],
      "execution_count": null,
      "outputs": []
    },
    {
      "cell_type": "code",
      "metadata": {
        "id": "5E02yd7EEpMt"
      },
      "source": [
        "if A:\n",
        "    pass\n",
        "else:\n",
        "    print('False')"
      ],
      "execution_count": null,
      "outputs": []
    },
    {
      "cell_type": "markdown",
      "metadata": {
        "id": "2Vt4L_TYplpX"
      },
      "source": [
        "## list comprehension v. for-loop\n",
        "- 앞 리스트에서 뒤 리스트에 속한 항목 제외하기"
      ]
    },
    {
      "cell_type": "code",
      "metadata": {
        "id": "0VU-Q557plpY"
      },
      "source": [
        "[s for s in ['KOR', 'USA', 'CHN'] if s not in ['CHN','AUS']]"
      ],
      "execution_count": null,
      "outputs": []
    },
    {
      "cell_type": "code",
      "metadata": {
        "id": "HLSa-L3JplpY"
      },
      "source": [
        "clist = []\n",
        "for c in ['KOR', 'USA', 'CHN']:\n",
        "    if c not in ['CHN', 'AUS']:\n",
        "        clist = clist + [c] # clist.append(c)\n",
        "clist"
      ],
      "execution_count": null,
      "outputs": []
    },
    {
      "cell_type": "markdown",
      "source": [
        "# 라이브러리\n",
        "- Numpy: 매틀랩 대체, 과학적 연산\n",
        "- Pandas: 데이터 분석\n",
        "- Matplotlib: 데이터 시각화, 그래프\n",
        "- os, pickle: 운영체제, 시스템과 상호작용\n",
        "- Statsmodels: 통계분석\n",
        "- Scikit-learn, TensorFlow: 머신러닝, AI"
      ],
      "metadata": {
        "id": "XKQQxI14zODV"
      }
    },
    {
      "cell_type": "markdown",
      "metadata": {
        "id": "fXiJb2-vplpY"
      },
      "source": [
        "## numpy\n",
        "- ndarray는 행(row)과 열(column) 보다 첫번째 차원, 두번째 차원, 세번째 차원 등으로 정의\n",
        "- 필요한 경우 matrix 자료형을 사용할 수 있으나 활용도가 낮음\n",
        "- ndarray자료형을 이용하여 일반적인 matrix연산을 모두 할 수 있음\n",
        "- 2-dim ndarray에서 행(row)처럼 보이는 것은 첫번째 차원임"
      ]
    },
    {
      "cell_type": "code",
      "metadata": {
        "id": "k2Jgfc1WplpY"
      },
      "source": [
        "import numpy # numpy 라이브러리 함수를 사용하려면 numpy. 으로 표현\n",
        "import numpy as np # numpy. 에서 np. 으로 대체\n",
        "print(numpy.sin(0), np.sin(0))"
      ],
      "execution_count": null,
      "outputs": []
    },
    {
      "cell_type": "code",
      "metadata": {
        "id": "0vLWer7XplpY"
      },
      "source": [
        "print(sin(0)) # np. 로 시작하지 않기 때문에 오류"
      ],
      "execution_count": null,
      "outputs": []
    },
    {
      "cell_type": "code",
      "metadata": {
        "id": "O-q0Z7iWplpY"
      },
      "source": [
        "print(np.pi)"
      ],
      "execution_count": null,
      "outputs": []
    },
    {
      "cell_type": "markdown",
      "metadata": {
        "id": "e4zvp4p4plpY"
      },
      "source": [
        "## 인덱스\n",
        "\n",
        "- 특정 열(두번째 차원)에 접근하기 위해서는 콜론(:)을 첫번째 인덱스 자리에 입력"
      ]
    },
    {
      "cell_type": "code",
      "metadata": {
        "id": "-fDyxqeNplpZ"
      },
      "source": [
        "a1 = np.array([[1, 2 ,3], [2, 3, 4]])"
      ],
      "execution_count": 185,
      "outputs": []
    },
    {
      "cell_type": "code",
      "metadata": {
        "id": "AvyCmZbZplpZ"
      },
      "source": [
        "a1[:, 0] # 전체 차원의 첫번째 원소"
      ],
      "execution_count": null,
      "outputs": []
    },
    {
      "cell_type": "code",
      "metadata": {
        "id": "RABxBORuplpZ"
      },
      "source": [
        "a1[0, :] # 첫번째 차원의 모든 원소"
      ],
      "execution_count": null,
      "outputs": []
    },
    {
      "cell_type": "markdown",
      "metadata": {
        "id": "q9pQBuHXplpZ"
      },
      "source": [
        "## 통계량 및 연산"
      ]
    },
    {
      "cell_type": "code",
      "metadata": {
        "id": "CfwCsepxplpZ"
      },
      "source": [
        "v = np.array([1, 2, 3])\n",
        "print(v)"
      ],
      "execution_count": null,
      "outputs": []
    },
    {
      "cell_type": "code",
      "metadata": {
        "id": "jtEkHINYplpZ"
      },
      "source": [
        "type(v)"
      ],
      "execution_count": null,
      "outputs": []
    },
    {
      "cell_type": "code",
      "metadata": {
        "id": "3JUrDSosplpZ"
      },
      "source": [
        "m = np.array([[1, 2], [3, 4]])\n",
        "m"
      ],
      "execution_count": null,
      "outputs": []
    },
    {
      "cell_type": "code",
      "metadata": {
        "id": "Gg7BvYmnplpZ"
      },
      "source": [
        "print(v.mean(), v.std(), v.max())"
      ],
      "execution_count": null,
      "outputs": []
    },
    {
      "cell_type": "code",
      "metadata": {
        "id": "1lkhx8TOplpa"
      },
      "source": [
        "np.sin([0, np.pi / 2, np.pi])"
      ],
      "execution_count": null,
      "outputs": []
    },
    {
      "cell_type": "code",
      "metadata": {
        "id": "Y241PhSJplpa"
      },
      "source": [
        "a = np.array([[1, 2], [3, 4]])"
      ],
      "execution_count": null,
      "outputs": []
    },
    {
      "cell_type": "code",
      "metadata": {
        "colab": {
          "base_uri": "https://localhost:8080/"
        },
        "id": "VqX0Ckl7plpa",
        "outputId": "d96a6ff4-43d0-42c1-f346-dd157aaa6dd0"
      },
      "source": [
        "a"
      ],
      "execution_count": null,
      "outputs": [
        {
          "output_type": "execute_result",
          "data": {
            "text/plain": [
              "array([[1, 2],\n",
              "       [3, 4]])"
            ]
          },
          "metadata": {},
          "execution_count": 121
        }
      ]
    },
    {
      "cell_type": "code",
      "metadata": {
        "id": "e69wHXbSplpa"
      },
      "source": [
        "a[0,0] = -1"
      ],
      "execution_count": null,
      "outputs": []
    },
    {
      "cell_type": "code",
      "metadata": {
        "id": "n38BC583plpa"
      },
      "source": [
        "a"
      ],
      "execution_count": null,
      "outputs": []
    },
    {
      "cell_type": "code",
      "metadata": {
        "id": "lIxD74iyplpb"
      },
      "source": [
        "a[0] = 0\n",
        "a"
      ],
      "execution_count": null,
      "outputs": []
    },
    {
      "cell_type": "code",
      "metadata": {
        "id": "jKkteEbqplpb"
      },
      "source": [
        "a[:, 1] = [5, 6]\n",
        "print(a)"
      ],
      "execution_count": null,
      "outputs": []
    },
    {
      "cell_type": "code",
      "metadata": {
        "id": "-qi7NmUYplpb"
      },
      "source": [
        "v1 = np.array([1, 2, 3])\n",
        "v2 = np.array([-1, 0, 1])"
      ],
      "execution_count": 203,
      "outputs": []
    },
    {
      "cell_type": "code",
      "metadata": {
        "id": "V1BMn7YUplpb"
      },
      "source": [
        "v1 + 1"
      ],
      "execution_count": null,
      "outputs": []
    },
    {
      "cell_type": "code",
      "metadata": {
        "id": "Tfp-_yqoplpb"
      },
      "source": [
        "v1 * 2"
      ],
      "execution_count": null,
      "outputs": []
    },
    {
      "cell_type": "code",
      "metadata": {
        "id": "DR44aJT4plpb"
      },
      "source": [
        "v1 ** 2"
      ],
      "execution_count": null,
      "outputs": []
    },
    {
      "cell_type": "code",
      "source": [
        "v1 + v2"
      ],
      "metadata": {
        "id": "kqxyHwIY3sP9"
      },
      "execution_count": null,
      "outputs": []
    },
    {
      "cell_type": "code",
      "metadata": {
        "id": "mNQfAJ0Uplpc"
      },
      "source": [
        "np.log(v1)"
      ],
      "execution_count": null,
      "outputs": []
    },
    {
      "cell_type": "code",
      "metadata": {
        "id": "_uk6B2JUplpc"
      },
      "source": [
        "np.exp(v1)"
      ],
      "execution_count": null,
      "outputs": []
    },
    {
      "cell_type": "markdown",
      "metadata": {
        "id": "cohxp_OHplpf"
      },
      "source": [
        "## matrix operation\n",
        "\n",
        "- numpy array로 생성된 객체는 ndarray 클래스의 메소드와 속성을 가짐\n",
        "- transpose, dot product 등"
      ]
    },
    {
      "cell_type": "code",
      "source": [
        "a2 = np.array([[1, 2], [3, 4], [5, 6]])"
      ],
      "metadata": {
        "id": "gPhh2C6u3zYN"
      },
      "execution_count": 223,
      "outputs": []
    },
    {
      "cell_type": "code",
      "source": [
        "a1 * a2"
      ],
      "metadata": {
        "id": "rJDuZe0N3_a2",
        "outputId": "03721d96-1d6b-4beb-c309-da1a91ca198a",
        "colab": {
          "base_uri": "https://localhost:8080/",
          "height": 186
        }
      },
      "execution_count": 226,
      "outputs": [
        {
          "output_type": "error",
          "ename": "ValueError",
          "evalue": "ignored",
          "traceback": [
            "\u001b[0;31m---------------------------------------------------------------------------\u001b[0m",
            "\u001b[0;31mValueError\u001b[0m                                Traceback (most recent call last)",
            "\u001b[0;32m<ipython-input-226-ea9ba2b73904>\u001b[0m in \u001b[0;36m<cell line: 1>\u001b[0;34m()\u001b[0m\n\u001b[0;32m----> 1\u001b[0;31m \u001b[0ma1\u001b[0m \u001b[0;34m*\u001b[0m \u001b[0ma2\u001b[0m\u001b[0;34m\u001b[0m\u001b[0;34m\u001b[0m\u001b[0m\n\u001b[0m",
            "\u001b[0;31mValueError\u001b[0m: operands could not be broadcast together with shapes (2,3) (3,2) "
          ]
        }
      ]
    },
    {
      "cell_type": "code",
      "metadata": {
        "id": "zNba342Iplpf"
      },
      "source": [
        "a1.dot(a2)"
      ],
      "execution_count": null,
      "outputs": []
    },
    {
      "cell_type": "code",
      "metadata": {
        "id": "ooSu1GLoplpf"
      },
      "source": [
        "np.dot(a1, a2)"
      ],
      "execution_count": null,
      "outputs": []
    },
    {
      "cell_type": "code",
      "metadata": {
        "colab": {
          "base_uri": "https://localhost:8080/"
        },
        "id": "tcGxp3t6plpg",
        "outputId": "a6c55dc1-427d-4779-8c8f-29bc38a56756"
      },
      "source": [
        "A = np.dot(a1, a2)\n",
        "print(A)"
      ],
      "execution_count": 233,
      "outputs": [
        {
          "output_type": "stream",
          "name": "stdout",
          "text": [
            "[[22 28]\n",
            " [31 40]]\n"
          ]
        }
      ]
    },
    {
      "cell_type": "markdown",
      "metadata": {
        "id": "iGQgM-Syplpg"
      },
      "source": [
        "- 역행렬: numpy.linalg.inv() 함수 이용"
      ]
    },
    {
      "cell_type": "code",
      "metadata": {
        "id": "RarslNr_plpg"
      },
      "source": [
        "print(np.linalg.inv(a1.dot(a2)))"
      ],
      "execution_count": null,
      "outputs": []
    },
    {
      "cell_type": "code",
      "metadata": {
        "id": "3fIn7w6mplpg"
      },
      "source": [
        "from numpy.linalg import inv"
      ],
      "execution_count": 236,
      "outputs": []
    },
    {
      "cell_type": "code",
      "metadata": {
        "id": "p_d7boJWplpg"
      },
      "source": [
        "inv(a1.dot(a2))"
      ],
      "execution_count": null,
      "outputs": []
    },
    {
      "cell_type": "code",
      "metadata": {
        "id": "eRjBWaDuplpg"
      },
      "source": [
        "np.identity(a1.shape[0])"
      ],
      "execution_count": null,
      "outputs": []
    },
    {
      "cell_type": "code",
      "source": [
        "from numpy import identity as eye"
      ],
      "metadata": {
        "id": "qHh020iE41D4"
      },
      "execution_count": 230,
      "outputs": []
    },
    {
      "cell_type": "code",
      "source": [
        "eye(a1.shape[0])"
      ],
      "metadata": {
        "id": "KqwMj_pz47w-"
      },
      "execution_count": null,
      "outputs": []
    },
    {
      "cell_type": "markdown",
      "metadata": {
        "id": "Yjn6RimLplpg"
      },
      "source": [
        "- 레온티에프 역행렬: $(I - A)^{-1}$"
      ]
    },
    {
      "cell_type": "code",
      "metadata": {
        "id": "-OOn4dz2plpg"
      },
      "source": [
        "np.linalg.inv(np.identity(A.shape[0]) - A)"
      ],
      "execution_count": null,
      "outputs": []
    },
    {
      "cell_type": "code",
      "source": [
        "inv(eye(A.shape[0]) - A)"
      ],
      "metadata": {
        "id": "x8_8gXAW5pG_"
      },
      "execution_count": null,
      "outputs": []
    },
    {
      "cell_type": "markdown",
      "metadata": {
        "id": "cjmOkx7Pplpg"
      },
      "source": [
        "## random sample\n",
        "\n",
        "- 동일한 랜덤표본을 얻기 위해서는 numpy.random.seed(n) (예: n=1) 실행\n",
        "    - seed()를 지정하지 않는 경우 파이썬은 현재 날짜-시간을 이용하여 seed() 지정"
      ]
    },
    {
      "cell_type": "code",
      "metadata": {
        "id": "n6JZFInlplph"
      },
      "source": [
        "import numpy as np"
      ],
      "execution_count": 238,
      "outputs": []
    },
    {
      "cell_type": "code",
      "metadata": {
        "id": "ynO-7MZDplph"
      },
      "source": [
        "rsn = np.random.randn(10) # 표준정규분포에서 샘플링"
      ],
      "execution_count": 239,
      "outputs": []
    },
    {
      "cell_type": "code",
      "metadata": {
        "colab": {
          "base_uri": "https://localhost:8080/"
        },
        "id": "9cR-_Y9yplph",
        "outputId": "ed14f97e-3258-49c8-931c-22c3ea847f29"
      },
      "source": [
        "rsn"
      ],
      "execution_count": 240,
      "outputs": [
        {
          "output_type": "execute_result",
          "data": {
            "text/plain": [
              "array([-1.18997876, -0.11208947, -0.62463444,  1.37361405,  0.12405343,\n",
              "        0.18767963, -1.04043274,  0.22354029,  0.16219621, -1.75278601])"
            ]
          },
          "metadata": {},
          "execution_count": 240
        }
      ]
    },
    {
      "cell_type": "code",
      "metadata": {
        "id": "p5CuBcneplph"
      },
      "source": [
        "rsi = np.random.randint(1, 10, 10) # 1과 9사이에서 10개 샘플링"
      ],
      "execution_count": 245,
      "outputs": []
    },
    {
      "cell_type": "code",
      "metadata": {
        "colab": {
          "base_uri": "https://localhost:8080/"
        },
        "id": "YyHZQdbZplph",
        "outputId": "b879f88a-1c3f-4cfe-d095-2b623765cbce"
      },
      "source": [
        "rsi"
      ],
      "execution_count": 246,
      "outputs": [
        {
          "output_type": "execute_result",
          "data": {
            "text/plain": [
              "array([4, 2, 5, 3, 7, 1, 4, 8, 6, 4])"
            ]
          },
          "metadata": {},
          "execution_count": 246
        }
      ]
    },
    {
      "cell_type": "code",
      "metadata": {
        "id": "XDkjtSKPplph"
      },
      "source": [
        "rsu = np.random.uniform(-1, 1, 10)"
      ],
      "execution_count": 250,
      "outputs": []
    },
    {
      "cell_type": "code",
      "metadata": {
        "colab": {
          "base_uri": "https://localhost:8080/"
        },
        "id": "YyvBnSEHplph",
        "outputId": "ef79d8bf-d43c-488b-8b09-b25cd07c706b"
      },
      "source": [
        "rsu"
      ],
      "execution_count": 251,
      "outputs": [
        {
          "output_type": "execute_result",
          "data": {
            "text/plain": [
              "array([-0.29819086,  0.77404705,  0.8905813 , -0.91681308, -0.68549699,\n",
              "        0.37716905,  0.4830619 ,  0.71218543, -0.77572403, -0.33535897])"
            ]
          },
          "metadata": {},
          "execution_count": 251
        }
      ]
    },
    {
      "cell_type": "code",
      "metadata": {
        "id": "S0NbAswioKVL"
      },
      "source": [
        "np.random.seed(1)\n",
        "np.random.randn(3)"
      ],
      "execution_count": null,
      "outputs": []
    },
    {
      "cell_type": "code",
      "metadata": {
        "id": "m3vjB6esoQ4F"
      },
      "source": [
        "np.random.seed(2)\n",
        "np.random.randn(3)"
      ],
      "execution_count": null,
      "outputs": []
    },
    {
      "cell_type": "code",
      "metadata": {
        "id": "DnUQd3e8oUo9"
      },
      "source": [
        "np.random.seed(1)\n",
        "np.random.randn(3)"
      ],
      "execution_count": null,
      "outputs": []
    },
    {
      "cell_type": "markdown",
      "source": [
        "# 연습문제\n",
        "1. $x + y + x*y + x ** 2$ 계산해서 return하는 함수 생성 (def)"
      ],
      "metadata": {
        "id": "4-yQTXSa6wEB"
      }
    },
    {
      "cell_type": "markdown",
      "source": [
        "2. 아래 a1, a2 리스트를 이용해서 a1의 요소가 key이고, a2의 요소가 value인 딕셔너리 생성( dict(), zip() )"
      ],
      "metadata": {
        "id": "pRHmCp4H7PJF"
      }
    },
    {
      "cell_type": "code",
      "source": [
        "a1 = ['a', 'b', 'c', 'd', 'e']\n",
        "a2 = list(range(5))"
      ],
      "metadata": {
        "id": "NWgRnverMVoy"
      },
      "execution_count": 255,
      "outputs": []
    },
    {
      "cell_type": "markdown",
      "source": [
        "3. 리스트 컴프리헨션을 이용해서 아래 a 리스트의 각 요소를 제곱한 리스트 생성"
      ],
      "metadata": {
        "id": "VM8j8MKQ7urh"
      }
    },
    {
      "cell_type": "code",
      "source": [
        "a = list(range(2, 10))"
      ],
      "metadata": {
        "id": "B8TM-c_DMhU6"
      },
      "execution_count": 258,
      "outputs": []
    },
    {
      "cell_type": "markdown",
      "source": [
        "4. 위의 a 리스트를 ndarray 자료형으로 변환하고 제곱하시오"
      ],
      "metadata": {
        "id": "p33n_Z5g8i12"
      }
    },
    {
      "cell_type": "markdown",
      "source": [
        "5. 2의 a1 리스트의 인덱스와 요소를 반복구문을 통해 print하시오 ( enumerate() )"
      ],
      "metadata": {
        "id": "oCnJd2aP83yD"
      }
    }
  ]
}