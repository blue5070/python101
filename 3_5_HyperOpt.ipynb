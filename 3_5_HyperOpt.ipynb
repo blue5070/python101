{
  "cells": [
    {
      "cell_type": "markdown",
      "metadata": {
        "id": "view-in-github",
        "colab_type": "text"
      },
      "source": [
        "<a href=\"https://colab.research.google.com/github/minyoung347/python101/blob/main/3_5_HyperOpt.ipynb\" target=\"_parent\"><img src=\"https://colab.research.google.com/assets/colab-badge.svg\" alt=\"Open In Colab\"/></a>"
      ]
    },
    {
      "cell_type": "code",
      "execution_count": 1,
      "id": "2d57320f",
      "metadata": {
        "id": "2d57320f"
      },
      "outputs": [],
      "source": [
        "#pip install hyperopt"
      ]
    },
    {
      "cell_type": "code",
      "execution_count": 2,
      "id": "6ff2c890",
      "metadata": {
        "id": "6ff2c890",
        "outputId": "43c4d0ca-6b3f-4dee-8b82-03a131ed35aa",
        "colab": {
          "base_uri": "https://localhost:8080/"
        }
      },
      "outputs": [
        {
          "output_type": "stream",
          "name": "stdout",
          "text": [
            "0.2.7\n"
          ]
        }
      ],
      "source": [
        "import hyperopt\n",
        "\n",
        "print(hyperopt.__version__)"
      ]
    },
    {
      "cell_type": "code",
      "execution_count": 3,
      "id": "59720ff7",
      "metadata": {
        "id": "59720ff7"
      },
      "outputs": [],
      "source": [
        "from hyperopt import hp\n",
        "\n",
        "# -10 ~ 10까지 1간격을 가지는 입력 변수 x와 -15 ~ 15까지 1간격으로 입력 변수 y 설정.\n",
        "search_space = {'x': hp.quniform('x', -10, 10, 1), 'y': hp.quniform('y', -15, 15, 1) }"
      ]
    },
    {
      "cell_type": "code",
      "execution_count": 4,
      "id": "53ecdd65",
      "metadata": {
        "id": "53ecdd65"
      },
      "outputs": [],
      "source": [
        "from hyperopt import STATUS_OK\n",
        "\n",
        "# 목적 함수를 생성. 변숫값과 변수 검색 공간을 가지는 딕셔너리를 인자로 받고, 특정 값을 반환\n",
        "def objective_func(search_space):\n",
        "    x = search_space['x']\n",
        "    y = search_space['y']\n",
        "    retval = x**2 - 20*y\n",
        "\n",
        "    return retval"
      ]
    },
    {
      "cell_type": "code",
      "execution_count": 5,
      "id": "0022844b",
      "metadata": {
        "id": "0022844b",
        "outputId": "9de5566a-efee-434a-d335-8ed27f06bac4",
        "colab": {
          "base_uri": "https://localhost:8080/"
        }
      },
      "outputs": [
        {
          "output_type": "stream",
          "name": "stdout",
          "text": [
            "100%|██████████| 5/5 [00:00<00:00, 639.80trial/s, best loss: -224.0]\n",
            "best: {'x': -4.0, 'y': 12.0}\n"
          ]
        }
      ],
      "source": [
        "from hyperopt import fmin, tpe, Trials\n",
        "import numpy as np\n",
        "\n",
        "# 입력 결괏값을 저장한 Trials 객체값 생성.\n",
        "trial_val = Trials()\n",
        "\n",
        "# 목적 함수의 최솟값을 반환하는 최적 입력 변숫값을 5번의 입력값 시도(max_evals=5)로 찾아냄.\n",
        "best_01 = fmin(fn=objective_func, space=search_space, algo=tpe.suggest, max_evals=5\n",
        "               , trials=trial_val, rstate=np.random.default_rng(seed=0))\n",
        "print('best:', best_01)"
      ]
    },
    {
      "cell_type": "code",
      "execution_count": 6,
      "id": "b29e3a4d",
      "metadata": {
        "id": "b29e3a4d",
        "outputId": "7899247f-e673-46a7-ba64-88f17f6d5c9d",
        "colab": {
          "base_uri": "https://localhost:8080/"
        }
      },
      "outputs": [
        {
          "output_type": "stream",
          "name": "stdout",
          "text": [
            "100%|██████████| 20/20 [00:00<00:00, 993.82trial/s, best loss: -296.0]\n",
            "best: {'x': 2.0, 'y': 15.0}\n"
          ]
        }
      ],
      "source": [
        "trial_val = Trials()\n",
        "\n",
        "# max_evals를 20회로 늘려서 재테스트\n",
        "best_02 = fmin(fn=objective_func, space=search_space, algo=tpe.suggest, max_evals=20\n",
        "               , trials=trial_val, rstate=np.random.default_rng(seed=0))\n",
        "print('best:', best_02)"
      ]
    },
    {
      "cell_type": "code",
      "execution_count": 7,
      "id": "69910b83",
      "metadata": {
        "id": "69910b83",
        "outputId": "7aeb60c3-7742-4a1c-bd61-b858714062f8",
        "colab": {
          "base_uri": "https://localhost:8080/"
        }
      },
      "outputs": [
        {
          "output_type": "stream",
          "name": "stdout",
          "text": [
            "[{'loss': -64.0, 'status': 'ok'}, {'loss': -184.0, 'status': 'ok'}, {'loss': 56.0, 'status': 'ok'}, {'loss': -224.0, 'status': 'ok'}, {'loss': 61.0, 'status': 'ok'}, {'loss': -296.0, 'status': 'ok'}, {'loss': -40.0, 'status': 'ok'}, {'loss': 281.0, 'status': 'ok'}, {'loss': 64.0, 'status': 'ok'}, {'loss': 100.0, 'status': 'ok'}, {'loss': 60.0, 'status': 'ok'}, {'loss': -39.0, 'status': 'ok'}, {'loss': 1.0, 'status': 'ok'}, {'loss': -164.0, 'status': 'ok'}, {'loss': 21.0, 'status': 'ok'}, {'loss': -56.0, 'status': 'ok'}, {'loss': 284.0, 'status': 'ok'}, {'loss': 176.0, 'status': 'ok'}, {'loss': -171.0, 'status': 'ok'}, {'loss': 0.0, 'status': 'ok'}]\n"
          ]
        }
      ],
      "source": [
        "# fmin( )에 인자로 들어가는 Trials 객체의 result 속성에 파이썬 리스트로 목적 함수 반환값들이 저장됨\n",
        "# 리스트 내부의 개별 원소는 {'loss':함수 반환값, 'status':반환 상태값} 와 같은 딕셔너리임.\n",
        "print(trial_val.results)"
      ]
    },
    {
      "cell_type": "code",
      "execution_count": 8,
      "id": "4f52a94f",
      "metadata": {
        "id": "4f52a94f",
        "outputId": "9e4d89e1-2ef5-4dac-a8cc-99b305097419",
        "colab": {
          "base_uri": "https://localhost:8080/"
        }
      },
      "outputs": [
        {
          "output_type": "stream",
          "name": "stdout",
          "text": [
            "{'x': [-6.0, -4.0, 4.0, -4.0, 9.0, 2.0, 10.0, -9.0, -8.0, -0.0, -0.0, 1.0, 9.0, 6.0, 9.0, 2.0, -2.0, -4.0, 7.0, -0.0], 'y': [5.0, 10.0, -2.0, 12.0, 1.0, 15.0, 7.0, -10.0, 0.0, -5.0, -3.0, 2.0, 4.0, 10.0, 3.0, 3.0, -14.0, -8.0, 11.0, -0.0]}\n"
          ]
        }
      ],
      "source": [
        "# Trials 객체의 vals 속성에 {'입력변수명':개별 수행 시마다 입력된 값 리스트} 형태로 저장됨.\n",
        "print(trial_val.vals)"
      ]
    },
    {
      "cell_type": "code",
      "execution_count": 9,
      "id": "3596f8c2",
      "metadata": {
        "id": "3596f8c2",
        "outputId": "ff596f35-8d9b-4f1a-b2d8-e3ede95abb96",
        "colab": {
          "base_uri": "https://localhost:8080/",
          "height": 676
        }
      },
      "outputs": [
        {
          "output_type": "execute_result",
          "data": {
            "text/plain": [
              "       x     y  losses\n",
              "0   -6.0   5.0   -64.0\n",
              "1   -4.0  10.0  -184.0\n",
              "2    4.0  -2.0    56.0\n",
              "3   -4.0  12.0  -224.0\n",
              "4    9.0   1.0    61.0\n",
              "5    2.0  15.0  -296.0\n",
              "6   10.0   7.0   -40.0\n",
              "7   -9.0 -10.0   281.0\n",
              "8   -8.0   0.0    64.0\n",
              "9   -0.0  -5.0   100.0\n",
              "10  -0.0  -3.0    60.0\n",
              "11   1.0   2.0   -39.0\n",
              "12   9.0   4.0     1.0\n",
              "13   6.0  10.0  -164.0\n",
              "14   9.0   3.0    21.0\n",
              "15   2.0   3.0   -56.0\n",
              "16  -2.0 -14.0   284.0\n",
              "17  -4.0  -8.0   176.0\n",
              "18   7.0  11.0  -171.0\n",
              "19  -0.0  -0.0     0.0"
            ],
            "text/html": [
              "\n",
              "  <div id=\"df-665a24c9-00de-4e1b-a322-c78fd94d0f6e\">\n",
              "    <div class=\"colab-df-container\">\n",
              "      <div>\n",
              "<style scoped>\n",
              "    .dataframe tbody tr th:only-of-type {\n",
              "        vertical-align: middle;\n",
              "    }\n",
              "\n",
              "    .dataframe tbody tr th {\n",
              "        vertical-align: top;\n",
              "    }\n",
              "\n",
              "    .dataframe thead th {\n",
              "        text-align: right;\n",
              "    }\n",
              "</style>\n",
              "<table border=\"1\" class=\"dataframe\">\n",
              "  <thead>\n",
              "    <tr style=\"text-align: right;\">\n",
              "      <th></th>\n",
              "      <th>x</th>\n",
              "      <th>y</th>\n",
              "      <th>losses</th>\n",
              "    </tr>\n",
              "  </thead>\n",
              "  <tbody>\n",
              "    <tr>\n",
              "      <th>0</th>\n",
              "      <td>-6.0</td>\n",
              "      <td>5.0</td>\n",
              "      <td>-64.0</td>\n",
              "    </tr>\n",
              "    <tr>\n",
              "      <th>1</th>\n",
              "      <td>-4.0</td>\n",
              "      <td>10.0</td>\n",
              "      <td>-184.0</td>\n",
              "    </tr>\n",
              "    <tr>\n",
              "      <th>2</th>\n",
              "      <td>4.0</td>\n",
              "      <td>-2.0</td>\n",
              "      <td>56.0</td>\n",
              "    </tr>\n",
              "    <tr>\n",
              "      <th>3</th>\n",
              "      <td>-4.0</td>\n",
              "      <td>12.0</td>\n",
              "      <td>-224.0</td>\n",
              "    </tr>\n",
              "    <tr>\n",
              "      <th>4</th>\n",
              "      <td>9.0</td>\n",
              "      <td>1.0</td>\n",
              "      <td>61.0</td>\n",
              "    </tr>\n",
              "    <tr>\n",
              "      <th>5</th>\n",
              "      <td>2.0</td>\n",
              "      <td>15.0</td>\n",
              "      <td>-296.0</td>\n",
              "    </tr>\n",
              "    <tr>\n",
              "      <th>6</th>\n",
              "      <td>10.0</td>\n",
              "      <td>7.0</td>\n",
              "      <td>-40.0</td>\n",
              "    </tr>\n",
              "    <tr>\n",
              "      <th>7</th>\n",
              "      <td>-9.0</td>\n",
              "      <td>-10.0</td>\n",
              "      <td>281.0</td>\n",
              "    </tr>\n",
              "    <tr>\n",
              "      <th>8</th>\n",
              "      <td>-8.0</td>\n",
              "      <td>0.0</td>\n",
              "      <td>64.0</td>\n",
              "    </tr>\n",
              "    <tr>\n",
              "      <th>9</th>\n",
              "      <td>-0.0</td>\n",
              "      <td>-5.0</td>\n",
              "      <td>100.0</td>\n",
              "    </tr>\n",
              "    <tr>\n",
              "      <th>10</th>\n",
              "      <td>-0.0</td>\n",
              "      <td>-3.0</td>\n",
              "      <td>60.0</td>\n",
              "    </tr>\n",
              "    <tr>\n",
              "      <th>11</th>\n",
              "      <td>1.0</td>\n",
              "      <td>2.0</td>\n",
              "      <td>-39.0</td>\n",
              "    </tr>\n",
              "    <tr>\n",
              "      <th>12</th>\n",
              "      <td>9.0</td>\n",
              "      <td>4.0</td>\n",
              "      <td>1.0</td>\n",
              "    </tr>\n",
              "    <tr>\n",
              "      <th>13</th>\n",
              "      <td>6.0</td>\n",
              "      <td>10.0</td>\n",
              "      <td>-164.0</td>\n",
              "    </tr>\n",
              "    <tr>\n",
              "      <th>14</th>\n",
              "      <td>9.0</td>\n",
              "      <td>3.0</td>\n",
              "      <td>21.0</td>\n",
              "    </tr>\n",
              "    <tr>\n",
              "      <th>15</th>\n",
              "      <td>2.0</td>\n",
              "      <td>3.0</td>\n",
              "      <td>-56.0</td>\n",
              "    </tr>\n",
              "    <tr>\n",
              "      <th>16</th>\n",
              "      <td>-2.0</td>\n",
              "      <td>-14.0</td>\n",
              "      <td>284.0</td>\n",
              "    </tr>\n",
              "    <tr>\n",
              "      <th>17</th>\n",
              "      <td>-4.0</td>\n",
              "      <td>-8.0</td>\n",
              "      <td>176.0</td>\n",
              "    </tr>\n",
              "    <tr>\n",
              "      <th>18</th>\n",
              "      <td>7.0</td>\n",
              "      <td>11.0</td>\n",
              "      <td>-171.0</td>\n",
              "    </tr>\n",
              "    <tr>\n",
              "      <th>19</th>\n",
              "      <td>-0.0</td>\n",
              "      <td>-0.0</td>\n",
              "      <td>0.0</td>\n",
              "    </tr>\n",
              "  </tbody>\n",
              "</table>\n",
              "</div>\n",
              "      <button class=\"colab-df-convert\" onclick=\"convertToInteractive('df-665a24c9-00de-4e1b-a322-c78fd94d0f6e')\"\n",
              "              title=\"Convert this dataframe to an interactive table.\"\n",
              "              style=\"display:none;\">\n",
              "        \n",
              "  <svg xmlns=\"http://www.w3.org/2000/svg\" height=\"24px\"viewBox=\"0 0 24 24\"\n",
              "       width=\"24px\">\n",
              "    <path d=\"M0 0h24v24H0V0z\" fill=\"none\"/>\n",
              "    <path d=\"M18.56 5.44l.94 2.06.94-2.06 2.06-.94-2.06-.94-.94-2.06-.94 2.06-2.06.94zm-11 1L8.5 8.5l.94-2.06 2.06-.94-2.06-.94L8.5 2.5l-.94 2.06-2.06.94zm10 10l.94 2.06.94-2.06 2.06-.94-2.06-.94-.94-2.06-.94 2.06-2.06.94z\"/><path d=\"M17.41 7.96l-1.37-1.37c-.4-.4-.92-.59-1.43-.59-.52 0-1.04.2-1.43.59L10.3 9.45l-7.72 7.72c-.78.78-.78 2.05 0 2.83L4 21.41c.39.39.9.59 1.41.59.51 0 1.02-.2 1.41-.59l7.78-7.78 2.81-2.81c.8-.78.8-2.07 0-2.86zM5.41 20L4 18.59l7.72-7.72 1.47 1.35L5.41 20z\"/>\n",
              "  </svg>\n",
              "      </button>\n",
              "      \n",
              "  <style>\n",
              "    .colab-df-container {\n",
              "      display:flex;\n",
              "      flex-wrap:wrap;\n",
              "      gap: 12px;\n",
              "    }\n",
              "\n",
              "    .colab-df-convert {\n",
              "      background-color: #E8F0FE;\n",
              "      border: none;\n",
              "      border-radius: 50%;\n",
              "      cursor: pointer;\n",
              "      display: none;\n",
              "      fill: #1967D2;\n",
              "      height: 32px;\n",
              "      padding: 0 0 0 0;\n",
              "      width: 32px;\n",
              "    }\n",
              "\n",
              "    .colab-df-convert:hover {\n",
              "      background-color: #E2EBFA;\n",
              "      box-shadow: 0px 1px 2px rgba(60, 64, 67, 0.3), 0px 1px 3px 1px rgba(60, 64, 67, 0.15);\n",
              "      fill: #174EA6;\n",
              "    }\n",
              "\n",
              "    [theme=dark] .colab-df-convert {\n",
              "      background-color: #3B4455;\n",
              "      fill: #D2E3FC;\n",
              "    }\n",
              "\n",
              "    [theme=dark] .colab-df-convert:hover {\n",
              "      background-color: #434B5C;\n",
              "      box-shadow: 0px 1px 3px 1px rgba(0, 0, 0, 0.15);\n",
              "      filter: drop-shadow(0px 1px 2px rgba(0, 0, 0, 0.3));\n",
              "      fill: #FFFFFF;\n",
              "    }\n",
              "  </style>\n",
              "\n",
              "      <script>\n",
              "        const buttonEl =\n",
              "          document.querySelector('#df-665a24c9-00de-4e1b-a322-c78fd94d0f6e button.colab-df-convert');\n",
              "        buttonEl.style.display =\n",
              "          google.colab.kernel.accessAllowed ? 'block' : 'none';\n",
              "\n",
              "        async function convertToInteractive(key) {\n",
              "          const element = document.querySelector('#df-665a24c9-00de-4e1b-a322-c78fd94d0f6e');\n",
              "          const dataTable =\n",
              "            await google.colab.kernel.invokeFunction('convertToInteractive',\n",
              "                                                     [key], {});\n",
              "          if (!dataTable) return;\n",
              "\n",
              "          const docLinkHtml = 'Like what you see? Visit the ' +\n",
              "            '<a target=\"_blank\" href=https://colab.research.google.com/notebooks/data_table.ipynb>data table notebook</a>'\n",
              "            + ' to learn more about interactive tables.';\n",
              "          element.innerHTML = '';\n",
              "          dataTable['output_type'] = 'display_data';\n",
              "          await google.colab.output.renderOutput(dataTable, element);\n",
              "          const docLink = document.createElement('div');\n",
              "          docLink.innerHTML = docLinkHtml;\n",
              "          element.appendChild(docLink);\n",
              "        }\n",
              "      </script>\n",
              "    </div>\n",
              "  </div>\n",
              "  "
            ]
          },
          "metadata": {},
          "execution_count": 9
        }
      ],
      "source": [
        "import pandas as pd\n",
        "\n",
        "# results에서 loss 키값에 해당하는 밸류들을 추출하여 list로 생성.\n",
        "losses = [loss_dict['loss'] for loss_dict in trial_val.results]\n",
        "\n",
        "# DataFrame으로 생성.\n",
        "result_df = pd.DataFrame({'x': trial_val.vals['x'], 'y': trial_val.vals['y'], 'losses': losses})\n",
        "result_df"
      ]
    },
    {
      "cell_type": "markdown",
      "id": "2955aa8d",
      "metadata": {
        "id": "2955aa8d"
      },
      "source": [
        "### HyperOpt를 이용한 XGBoost 하이퍼 파라미터 최적화"
      ]
    },
    {
      "cell_type": "code",
      "execution_count": 10,
      "id": "1cb728ec",
      "metadata": {
        "id": "1cb728ec"
      },
      "outputs": [],
      "source": [
        "# 아래 코드는 이전에 수록된 코드라 책에는 싣지 않았습니다.\n",
        "import pandas as pd\n",
        "import numpy as np\n",
        "from sklearn.datasets import load_breast_cancer\n",
        "from sklearn.model_selection import train_test_split\n",
        "import warnings\n",
        "warnings.filterwarnings('ignore')\n",
        "\n",
        "dataset = load_breast_cancer()\n",
        "\n",
        "cancer_df = pd.DataFrame(data=dataset.data, columns=dataset.feature_names)\n",
        "cancer_df['target']= dataset.target\n",
        "X_features = cancer_df.iloc[:, :-1]\n",
        "y_label = cancer_df.iloc[:, -1]"
      ]
    },
    {
      "cell_type": "code",
      "execution_count": 11,
      "id": "49e2762e",
      "metadata": {
        "id": "49e2762e"
      },
      "outputs": [],
      "source": [
        "# 전체 데이터 중 80%는 학습용 데이터, 20%는 테스트용 데이터 추출\n",
        "X_train, X_test, y_train, y_test=train_test_split(X_features, y_label, test_size=0.2, random_state=156 )\n",
        "\n",
        "# 앞에서 추출한 학습 데이터를 다시 학습과 검증 데이터로 분리\n",
        "X_tr, X_val, y_tr, y_val= train_test_split(X_train, y_train, test_size=0.1, random_state=156 )"
      ]
    },
    {
      "cell_type": "code",
      "execution_count": 12,
      "id": "2ca5d412",
      "metadata": {
        "id": "2ca5d412"
      },
      "outputs": [],
      "source": [
        "from hyperopt import hp\n",
        "\n",
        "# max_depth는 5에서 20까지 1간격으로, min_child_weight는 1에서 2까지 1간격으로\n",
        "# colsample_bytree는 0.5에서 1사이, learning_rate는 0.01에서 0.2 사이 정규 분포된 값으로 검색.\n",
        "xgb_search_space = {'max_depth': hp.quniform('max_depth', 5, 20, 1),\n",
        "                    'min_child_weight': hp.quniform('min_child_weight', 1, 2, 1),\n",
        "                    'learning_rate': hp.uniform('learning_rate', 0.01, 0.2),\n",
        "                    'colsample_bytree': hp.uniform('colsample_bytree', 0.5, 1),\n",
        "                   }"
      ]
    },
    {
      "cell_type": "code",
      "execution_count": 13,
      "id": "0cc2d102",
      "metadata": {
        "id": "0cc2d102"
      },
      "outputs": [],
      "source": [
        "from sklearn.model_selection import cross_val_score\n",
        "from xgboost import XGBClassifier\n",
        "from hyperopt import STATUS_OK\n",
        "\n",
        "# fmin()에서 입력된 search_space 값으로 입력된 모든 값은 실수형임.\n",
        "# XGBClassifier의 정수형 하이퍼 파라미터는 정수형 변환을 해줘야 함.\n",
        "# 정확도는 높을수록 더 좋은 수치임. -1 * 정확도를 곱해서 큰 정확도 값일수록 최소가 되도록 변환\n",
        "def objective_func(search_space):\n",
        "    # 수행 시간 절약을 위해 nestimators는 100으로 축소\n",
        "    xgb_clf = XGBClassifier(n_estimators=100, max_depth=int(search_space['max_depth']),\n",
        "                            min_child_weight=int(search_space['min_child_weight']),\n",
        "                            learning_rate=search_space['learning_rate'],\n",
        "                            colsample_bytree=search_space['colsample_bytree'],\n",
        "                            eval_metric='logloss')\n",
        "    accuracy = cross_val_score(xgb_clf, X_train, y_train, scoring='accuracy', cv=3)\n",
        "\n",
        "    # accuracy는 cv=3 개수만큼 roc-auc 결과를 리스트로 가짐. 이를 평균해서 반환하되 -1을 곱함.\n",
        "    return {'loss':-1 * np.mean(accuracy), 'status': STATUS_OK}\n"
      ]
    },
    {
      "cell_type": "code",
      "execution_count": 14,
      "id": "fc927169",
      "metadata": {
        "id": "fc927169",
        "outputId": "3f92d595-15f4-4f98-bb0f-a389a4eb5561",
        "colab": {
          "base_uri": "https://localhost:8080/"
        }
      },
      "outputs": [
        {
          "output_type": "stream",
          "name": "stdout",
          "text": [
            "100%|██████████| 50/50 [00:25<00:00,  1.95trial/s, best loss: -0.9670616939700244]\n",
            "best: {'colsample_bytree': 0.9599446282177103, 'learning_rate': 0.15480405522751015, 'max_depth': 6.0, 'min_child_weight': 2.0}\n"
          ]
        }
      ],
      "source": [
        "from hyperopt import fmin, tpe, Trials\n",
        "\n",
        "trial_val = Trials()\n",
        "best = fmin(fn=objective_func,\n",
        "            space=xgb_search_space,\n",
        "            algo=tpe.suggest,\n",
        "            max_evals=50, # 최대 반복 횟수를 지정합니다.\n",
        "            trials=trial_val, rstate=np.random.default_rng(seed=9))\n",
        "print('best:', best)\n"
      ]
    },
    {
      "cell_type": "code",
      "execution_count": 15,
      "id": "c77da755",
      "metadata": {
        "id": "c77da755",
        "outputId": "61810a81-1973-4793-ee95-237718296056",
        "colab": {
          "base_uri": "https://localhost:8080/"
        }
      },
      "outputs": [
        {
          "output_type": "stream",
          "name": "stdout",
          "text": [
            "colsample_bytree:0.95994, learning_rate:0.1548, max_depth:6, min_child_weight:2\n"
          ]
        }
      ],
      "source": [
        "print('colsample_bytree:{0}, learning_rate:{1}, max_depth:{2}, min_child_weight:{3}'.format(\n",
        "    round(best['colsample_bytree'], 5), round(best['learning_rate'], 5),\n",
        "    int(best['max_depth']), int(best['min_child_weight'])))"
      ]
    },
    {
      "cell_type": "code",
      "execution_count": 16,
      "id": "c05a7244",
      "metadata": {
        "id": "c05a7244"
      },
      "outputs": [],
      "source": [
        "from sklearn.metrics import confusion_matrix, accuracy_score\n",
        "from sklearn.metrics import precision_score, recall_score\n",
        "from sklearn.metrics import f1_score, roc_auc_score\n",
        "\n",
        "def get_clf_eval(y_test, pred=None, pred_proba=None):\n",
        "    confusion = confusion_matrix( y_test, pred)\n",
        "    accuracy = accuracy_score(y_test , pred)\n",
        "    precision = precision_score(y_test , pred)\n",
        "    recall = recall_score(y_test , pred)\n",
        "    f1 = f1_score(y_test,pred)\n",
        "    # ROC-AUC 추가\n",
        "    roc_auc = roc_auc_score(y_test, pred_proba)\n",
        "    print('오차 행렬')\n",
        "    print(confusion)\n",
        "    # ROC-AUC print 추가\n",
        "    print('정확도: {0:.4f}, 정밀도: {1:.4f}, 재현율: {2:.4f},\\\n",
        "    F1: {3:.4f}, AUC:{4:.4f}'.format(accuracy, precision, recall, f1, roc_auc))"
      ]
    },
    {
      "cell_type": "code",
      "execution_count": 17,
      "id": "0d44ce31",
      "metadata": {
        "id": "0d44ce31",
        "outputId": "71cb8f23-71d4-4f73-ddd5-1409a413286f",
        "colab": {
          "base_uri": "https://localhost:8080/"
        }
      },
      "outputs": [
        {
          "output_type": "stream",
          "name": "stdout",
          "text": [
            "[0]\tvalidation_0-logloss:0.56834\tvalidation_1-logloss:0.60660\n",
            "[1]\tvalidation_0-logloss:0.47552\tvalidation_1-logloss:0.54538\n",
            "[2]\tvalidation_0-logloss:0.40208\tvalidation_1-logloss:0.48735\n",
            "[3]\tvalidation_0-logloss:0.34468\tvalidation_1-logloss:0.45698\n",
            "[4]\tvalidation_0-logloss:0.29775\tvalidation_1-logloss:0.41729\n",
            "[5]\tvalidation_0-logloss:0.26004\tvalidation_1-logloss:0.39167\n",
            "[6]\tvalidation_0-logloss:0.22681\tvalidation_1-logloss:0.36682\n",
            "[7]\tvalidation_0-logloss:0.20096\tvalidation_1-logloss:0.34593\n",
            "[8]\tvalidation_0-logloss:0.17762\tvalidation_1-logloss:0.33030\n",
            "[9]\tvalidation_0-logloss:0.15762\tvalidation_1-logloss:0.31918\n",
            "[10]\tvalidation_0-logloss:0.14233\tvalidation_1-logloss:0.30772\n",
            "[11]\tvalidation_0-logloss:0.12769\tvalidation_1-logloss:0.30104\n",
            "[12]\tvalidation_0-logloss:0.11566\tvalidation_1-logloss:0.29621\n",
            "[13]\tvalidation_0-logloss:0.10479\tvalidation_1-logloss:0.29157\n",
            "[14]\tvalidation_0-logloss:0.09640\tvalidation_1-logloss:0.28495\n",
            "[15]\tvalidation_0-logloss:0.08707\tvalidation_1-logloss:0.28055\n",
            "[16]\tvalidation_0-logloss:0.08067\tvalidation_1-logloss:0.27775\n",
            "[17]\tvalidation_0-logloss:0.07468\tvalidation_1-logloss:0.27470\n",
            "[18]\tvalidation_0-logloss:0.06971\tvalidation_1-logloss:0.27426\n",
            "[19]\tvalidation_0-logloss:0.06376\tvalidation_1-logloss:0.27298\n",
            "[20]\tvalidation_0-logloss:0.05900\tvalidation_1-logloss:0.27030\n",
            "[21]\tvalidation_0-logloss:0.05483\tvalidation_1-logloss:0.26467\n",
            "[22]\tvalidation_0-logloss:0.05115\tvalidation_1-logloss:0.26722\n",
            "[23]\tvalidation_0-logloss:0.04855\tvalidation_1-logloss:0.26117\n",
            "[24]\tvalidation_0-logloss:0.04630\tvalidation_1-logloss:0.26024\n",
            "[25]\tvalidation_0-logloss:0.04365\tvalidation_1-logloss:0.26456\n",
            "[26]\tvalidation_0-logloss:0.04105\tvalidation_1-logloss:0.26599\n",
            "[27]\tvalidation_0-logloss:0.03936\tvalidation_1-logloss:0.26629\n",
            "[28]\tvalidation_0-logloss:0.03716\tvalidation_1-logloss:0.27067\n",
            "[29]\tvalidation_0-logloss:0.03521\tvalidation_1-logloss:0.26713\n",
            "[30]\tvalidation_0-logloss:0.03347\tvalidation_1-logloss:0.26820\n",
            "[31]\tvalidation_0-logloss:0.03219\tvalidation_1-logloss:0.26912\n",
            "[32]\tvalidation_0-logloss:0.03091\tvalidation_1-logloss:0.26841\n",
            "[33]\tvalidation_0-logloss:0.02956\tvalidation_1-logloss:0.27270\n",
            "[34]\tvalidation_0-logloss:0.02873\tvalidation_1-logloss:0.27204\n",
            "[35]\tvalidation_0-logloss:0.02796\tvalidation_1-logloss:0.27389\n",
            "[36]\tvalidation_0-logloss:0.02732\tvalidation_1-logloss:0.27463\n",
            "[37]\tvalidation_0-logloss:0.02668\tvalidation_1-logloss:0.27186\n",
            "[38]\tvalidation_0-logloss:0.02604\tvalidation_1-logloss:0.27278\n",
            "[39]\tvalidation_0-logloss:0.02552\tvalidation_1-logloss:0.27527\n",
            "[40]\tvalidation_0-logloss:0.02481\tvalidation_1-logloss:0.27140\n",
            "[41]\tvalidation_0-logloss:0.02426\tvalidation_1-logloss:0.27243\n",
            "[42]\tvalidation_0-logloss:0.02377\tvalidation_1-logloss:0.27126\n",
            "[43]\tvalidation_0-logloss:0.02352\tvalidation_1-logloss:0.26914\n",
            "[44]\tvalidation_0-logloss:0.02304\tvalidation_1-logloss:0.27011\n",
            "[45]\tvalidation_0-logloss:0.02281\tvalidation_1-logloss:0.27312\n",
            "[46]\tvalidation_0-logloss:0.02226\tvalidation_1-logloss:0.27251\n",
            "[47]\tvalidation_0-logloss:0.02182\tvalidation_1-logloss:0.27348\n",
            "[48]\tvalidation_0-logloss:0.02165\tvalidation_1-logloss:0.27169\n",
            "[49]\tvalidation_0-logloss:0.02147\tvalidation_1-logloss:0.27391\n",
            "[50]\tvalidation_0-logloss:0.02129\tvalidation_1-logloss:0.27328\n",
            "[51]\tvalidation_0-logloss:0.02086\tvalidation_1-logloss:0.27040\n",
            "[52]\tvalidation_0-logloss:0.02071\tvalidation_1-logloss:0.26869\n",
            "[53]\tvalidation_0-logloss:0.02055\tvalidation_1-logloss:0.27083\n",
            "[54]\tvalidation_0-logloss:0.02040\tvalidation_1-logloss:0.27105\n",
            "[55]\tvalidation_0-logloss:0.02026\tvalidation_1-logloss:0.27354\n",
            "[56]\tvalidation_0-logloss:0.02013\tvalidation_1-logloss:0.27299\n",
            "[57]\tvalidation_0-logloss:0.02000\tvalidation_1-logloss:0.27293\n",
            "[58]\tvalidation_0-logloss:0.01986\tvalidation_1-logloss:0.27131\n",
            "[59]\tvalidation_0-logloss:0.01972\tvalidation_1-logloss:0.27341\n",
            "[60]\tvalidation_0-logloss:0.01960\tvalidation_1-logloss:0.27364\n",
            "[61]\tvalidation_0-logloss:0.01948\tvalidation_1-logloss:0.27206\n",
            "[62]\tvalidation_0-logloss:0.01935\tvalidation_1-logloss:0.27347\n",
            "[63]\tvalidation_0-logloss:0.01923\tvalidation_1-logloss:0.27544\n",
            "[64]\tvalidation_0-logloss:0.01912\tvalidation_1-logloss:0.27390\n",
            "[65]\tvalidation_0-logloss:0.01900\tvalidation_1-logloss:0.27140\n",
            "[66]\tvalidation_0-logloss:0.01889\tvalidation_1-logloss:0.27092\n",
            "[67]\tvalidation_0-logloss:0.01878\tvalidation_1-logloss:0.27285\n",
            "[68]\tvalidation_0-logloss:0.01867\tvalidation_1-logloss:0.27140\n",
            "[69]\tvalidation_0-logloss:0.01857\tvalidation_1-logloss:0.27161\n",
            "[70]\tvalidation_0-logloss:0.01847\tvalidation_1-logloss:0.27348\n",
            "[71]\tvalidation_0-logloss:0.01837\tvalidation_1-logloss:0.27204\n",
            "[72]\tvalidation_0-logloss:0.01827\tvalidation_1-logloss:0.27280\n",
            "[73]\tvalidation_0-logloss:0.01817\tvalidation_1-logloss:0.27014\n",
            "[74]\tvalidation_0-logloss:0.01807\tvalidation_1-logloss:0.27143\n",
            "오차 행렬\n",
            "[[34  3]\n",
            " [ 2 75]]\n",
            "정확도: 0.9561, 정밀도: 0.9615, 재현율: 0.9740,    F1: 0.9677, AUC:0.9895\n"
          ]
        }
      ],
      "source": [
        "xgb_wrapper = XGBClassifier(n_estimators=400,\n",
        "                            learning_rate=round(best['learning_rate'], 5),\n",
        "                            max_depth=int(best['max_depth']),\n",
        "                            min_child_weight=int(best['min_child_weight']),\n",
        "                            colsample_bytree=round(best['colsample_bytree'], 5)\n",
        "                           )\n",
        "\n",
        "evals = [(X_tr, y_tr), (X_val, y_val)]\n",
        "xgb_wrapper.fit(X_tr, y_tr, early_stopping_rounds=50, eval_metric='logloss',\n",
        "                eval_set=evals, verbose=True)\n",
        "\n",
        "preds = xgb_wrapper.predict(X_test)\n",
        "pred_proba = xgb_wrapper.predict_proba(X_test)[:, 1]\n",
        "\n",
        "get_clf_eval(y_test, preds, pred_proba)\n"
      ]
    },
    {
      "cell_type": "code",
      "execution_count": 17,
      "id": "ed40fc6b",
      "metadata": {
        "id": "ed40fc6b"
      },
      "outputs": [],
      "source": []
    }
  ],
  "metadata": {
    "kernelspec": {
      "display_name": "Python 3 (ipykernel)",
      "language": "python",
      "name": "python3"
    },
    "language_info": {
      "codemirror_mode": {
        "name": "ipython",
        "version": 3
      },
      "file_extension": ".py",
      "mimetype": "text/x-python",
      "name": "python",
      "nbconvert_exporter": "python",
      "pygments_lexer": "ipython3",
      "version": "3.9.7"
    },
    "colab": {
      "provenance": [],
      "include_colab_link": true
    }
  },
  "nbformat": 4,
  "nbformat_minor": 5
}