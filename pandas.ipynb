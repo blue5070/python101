{
 "cells": [
  {
   "cell_type": "markdown",
   "metadata": {},
   "source": [
    "# 3. 판다스\n",
    "\n",
    "### [데이터프레임](#dataframe)\n",
    "\n",
    "### [연산](#operation)\n",
    "\n",
    "### [저장](#save)\n",
    "\n",
    "### [시계열](#timeseries)\n",
    "\n",
    "### [그래프](#plot)"
   ]
  },
  {
   "cell_type": "markdown",
   "metadata": {},
   "source": [
    "<a id='dataframe'></a>\n",
    "\n",
    "# 데이터프레임 생성"
   ]
  },
  {
   "cell_type": "code",
   "execution_count": 1,
   "metadata": {},
   "outputs": [],
   "source": [
    "import pandas as pd"
   ]
  },
  {
   "cell_type": "code",
   "execution_count": 2,
   "metadata": {},
   "outputs": [],
   "source": [
    "df = pd.DataFrame([[1, 2], [3, 4]])"
   ]
  },
  {
   "cell_type": "code",
   "execution_count": 3,
   "metadata": {},
   "outputs": [
    {
     "data": {
      "text/html": [
       "<div>\n",
       "<style scoped>\n",
       "    .dataframe tbody tr th:only-of-type {\n",
       "        vertical-align: middle;\n",
       "    }\n",
       "\n",
       "    .dataframe tbody tr th {\n",
       "        vertical-align: top;\n",
       "    }\n",
       "\n",
       "    .dataframe thead th {\n",
       "        text-align: right;\n",
       "    }\n",
       "</style>\n",
       "<table border=\"1\" class=\"dataframe\">\n",
       "  <thead>\n",
       "    <tr style=\"text-align: right;\">\n",
       "      <th></th>\n",
       "      <th>0</th>\n",
       "      <th>1</th>\n",
       "    </tr>\n",
       "  </thead>\n",
       "  <tbody>\n",
       "    <tr>\n",
       "      <th>0</th>\n",
       "      <td>1</td>\n",
       "      <td>2</td>\n",
       "    </tr>\n",
       "    <tr>\n",
       "      <th>1</th>\n",
       "      <td>3</td>\n",
       "      <td>4</td>\n",
       "    </tr>\n",
       "  </tbody>\n",
       "</table>\n",
       "</div>"
      ],
      "text/plain": [
       "   0  1\n",
       "0  1  2\n",
       "1  3  4"
      ]
     },
     "execution_count": 3,
     "metadata": {},
     "output_type": "execute_result"
    }
   ],
   "source": [
    "df"
   ]
  },
  {
   "cell_type": "code",
   "execution_count": 4,
   "metadata": {},
   "outputs": [
    {
     "data": {
      "text/plain": [
       "pandas.core.frame.DataFrame"
      ]
     },
     "execution_count": 4,
     "metadata": {},
     "output_type": "execute_result"
    }
   ],
   "source": [
    "type(df)"
   ]
  },
  {
   "cell_type": "code",
   "execution_count": 5,
   "metadata": {},
   "outputs": [
    {
     "data": {
      "text/html": [
       "<div>\n",
       "<style scoped>\n",
       "    .dataframe tbody tr th:only-of-type {\n",
       "        vertical-align: middle;\n",
       "    }\n",
       "\n",
       "    .dataframe tbody tr th {\n",
       "        vertical-align: top;\n",
       "    }\n",
       "\n",
       "    .dataframe thead th {\n",
       "        text-align: right;\n",
       "    }\n",
       "</style>\n",
       "<table border=\"1\" class=\"dataframe\">\n",
       "  <thead>\n",
       "    <tr style=\"text-align: right;\">\n",
       "      <th></th>\n",
       "      <th>1</th>\n",
       "    </tr>\n",
       "    <tr>\n",
       "      <th>0</th>\n",
       "      <th></th>\n",
       "    </tr>\n",
       "  </thead>\n",
       "  <tbody>\n",
       "    <tr>\n",
       "      <th>1</th>\n",
       "      <td>2</td>\n",
       "    </tr>\n",
       "    <tr>\n",
       "      <th>3</th>\n",
       "      <td>4</td>\n",
       "    </tr>\n",
       "  </tbody>\n",
       "</table>\n",
       "</div>"
      ],
      "text/plain": [
       "   1\n",
       "0   \n",
       "1  2\n",
       "3  4"
      ]
     },
     "execution_count": 5,
     "metadata": {},
     "output_type": "execute_result"
    }
   ],
   "source": [
    "df.set_index(0)"
   ]
  },
  {
   "cell_type": "code",
   "execution_count": 6,
   "metadata": {},
   "outputs": [],
   "source": [
    "df = pd.DataFrame([[1, 2], [3, 4], [5, 6]])"
   ]
  },
  {
   "cell_type": "code",
   "execution_count": 7,
   "metadata": {},
   "outputs": [
    {
     "data": {
      "text/html": [
       "<div>\n",
       "<style scoped>\n",
       "    .dataframe tbody tr th:only-of-type {\n",
       "        vertical-align: middle;\n",
       "    }\n",
       "\n",
       "    .dataframe tbody tr th {\n",
       "        vertical-align: top;\n",
       "    }\n",
       "\n",
       "    .dataframe thead th {\n",
       "        text-align: right;\n",
       "    }\n",
       "</style>\n",
       "<table border=\"1\" class=\"dataframe\">\n",
       "  <thead>\n",
       "    <tr style=\"text-align: right;\">\n",
       "      <th></th>\n",
       "      <th>0</th>\n",
       "      <th>1</th>\n",
       "    </tr>\n",
       "  </thead>\n",
       "  <tbody>\n",
       "    <tr>\n",
       "      <th>0</th>\n",
       "      <td>1</td>\n",
       "      <td>2</td>\n",
       "    </tr>\n",
       "    <tr>\n",
       "      <th>1</th>\n",
       "      <td>3</td>\n",
       "      <td>4</td>\n",
       "    </tr>\n",
       "    <tr>\n",
       "      <th>2</th>\n",
       "      <td>5</td>\n",
       "      <td>6</td>\n",
       "    </tr>\n",
       "  </tbody>\n",
       "</table>\n",
       "</div>"
      ],
      "text/plain": [
       "   0  1\n",
       "0  1  2\n",
       "1  3  4\n",
       "2  5  6"
      ]
     },
     "execution_count": 7,
     "metadata": {},
     "output_type": "execute_result"
    }
   ],
   "source": [
    "df"
   ]
  },
  {
   "cell_type": "code",
   "execution_count": 8,
   "metadata": {},
   "outputs": [],
   "source": [
    "df.columns = ['KOR', 'USA']"
   ]
  },
  {
   "cell_type": "code",
   "execution_count": 9,
   "metadata": {},
   "outputs": [],
   "source": [
    "df.index = [17, 18, 19]"
   ]
  },
  {
   "cell_type": "code",
   "execution_count": 10,
   "metadata": {},
   "outputs": [
    {
     "data": {
      "text/html": [
       "<div>\n",
       "<style scoped>\n",
       "    .dataframe tbody tr th:only-of-type {\n",
       "        vertical-align: middle;\n",
       "    }\n",
       "\n",
       "    .dataframe tbody tr th {\n",
       "        vertical-align: top;\n",
       "    }\n",
       "\n",
       "    .dataframe thead th {\n",
       "        text-align: right;\n",
       "    }\n",
       "</style>\n",
       "<table border=\"1\" class=\"dataframe\">\n",
       "  <thead>\n",
       "    <tr style=\"text-align: right;\">\n",
       "      <th></th>\n",
       "      <th>KOR</th>\n",
       "      <th>USA</th>\n",
       "    </tr>\n",
       "  </thead>\n",
       "  <tbody>\n",
       "    <tr>\n",
       "      <th>17</th>\n",
       "      <td>1</td>\n",
       "      <td>2</td>\n",
       "    </tr>\n",
       "    <tr>\n",
       "      <th>18</th>\n",
       "      <td>3</td>\n",
       "      <td>4</td>\n",
       "    </tr>\n",
       "    <tr>\n",
       "      <th>19</th>\n",
       "      <td>5</td>\n",
       "      <td>6</td>\n",
       "    </tr>\n",
       "  </tbody>\n",
       "</table>\n",
       "</div>"
      ],
      "text/plain": [
       "    KOR  USA\n",
       "17    1    2\n",
       "18    3    4\n",
       "19    5    6"
      ]
     },
     "execution_count": 10,
     "metadata": {},
     "output_type": "execute_result"
    }
   ],
   "source": [
    "df"
   ]
  },
  {
   "cell_type": "markdown",
   "metadata": {},
   "source": [
    "### 데이터프레임 통계량"
   ]
  },
  {
   "cell_type": "code",
   "execution_count": 11,
   "metadata": {},
   "outputs": [
    {
     "data": {
      "text/plain": [
       "KOR    3.0\n",
       "USA    4.0\n",
       "dtype: float64"
      ]
     },
     "execution_count": 11,
     "metadata": {},
     "output_type": "execute_result"
    }
   ],
   "source": [
    "df.mean()"
   ]
  },
  {
   "cell_type": "code",
   "execution_count": 12,
   "metadata": {},
   "outputs": [
    {
     "data": {
      "text/html": [
       "<div>\n",
       "<style scoped>\n",
       "    .dataframe tbody tr th:only-of-type {\n",
       "        vertical-align: middle;\n",
       "    }\n",
       "\n",
       "    .dataframe tbody tr th {\n",
       "        vertical-align: top;\n",
       "    }\n",
       "\n",
       "    .dataframe thead th {\n",
       "        text-align: right;\n",
       "    }\n",
       "</style>\n",
       "<table border=\"1\" class=\"dataframe\">\n",
       "  <thead>\n",
       "    <tr style=\"text-align: right;\">\n",
       "      <th></th>\n",
       "      <th>mean</th>\n",
       "    </tr>\n",
       "  </thead>\n",
       "  <tbody>\n",
       "    <tr>\n",
       "      <th>KOR</th>\n",
       "      <td>3.0</td>\n",
       "    </tr>\n",
       "    <tr>\n",
       "      <th>USA</th>\n",
       "      <td>4.0</td>\n",
       "    </tr>\n",
       "  </tbody>\n",
       "</table>\n",
       "</div>"
      ],
      "text/plain": [
       "     mean\n",
       "KOR   3.0\n",
       "USA   4.0"
      ]
     },
     "execution_count": 12,
     "metadata": {},
     "output_type": "execute_result"
    }
   ],
   "source": [
    "df.mean().to_frame('mean')"
   ]
  },
  {
   "cell_type": "code",
   "execution_count": 13,
   "metadata": {},
   "outputs": [
    {
     "data": {
      "text/html": [
       "<div>\n",
       "<style scoped>\n",
       "    .dataframe tbody tr th:only-of-type {\n",
       "        vertical-align: middle;\n",
       "    }\n",
       "\n",
       "    .dataframe tbody tr th {\n",
       "        vertical-align: top;\n",
       "    }\n",
       "\n",
       "    .dataframe thead th {\n",
       "        text-align: right;\n",
       "    }\n",
       "</style>\n",
       "<table border=\"1\" class=\"dataframe\">\n",
       "  <thead>\n",
       "    <tr style=\"text-align: right;\">\n",
       "      <th></th>\n",
       "      <th>KOR</th>\n",
       "      <th>USA</th>\n",
       "    </tr>\n",
       "  </thead>\n",
       "  <tbody>\n",
       "    <tr>\n",
       "      <th>17</th>\n",
       "      <td>1</td>\n",
       "      <td>2</td>\n",
       "    </tr>\n",
       "    <tr>\n",
       "      <th>18</th>\n",
       "      <td>3</td>\n",
       "      <td>4</td>\n",
       "    </tr>\n",
       "    <tr>\n",
       "      <th>19</th>\n",
       "      <td>5</td>\n",
       "      <td>6</td>\n",
       "    </tr>\n",
       "  </tbody>\n",
       "</table>\n",
       "</div>"
      ],
      "text/plain": [
       "    KOR  USA\n",
       "17    1    2\n",
       "18    3    4\n",
       "19    5    6"
      ]
     },
     "execution_count": 13,
     "metadata": {},
     "output_type": "execute_result"
    }
   ],
   "source": [
    "df"
   ]
  },
  {
   "cell_type": "markdown",
   "metadata": {},
   "source": [
    "### 슬라이스"
   ]
  },
  {
   "cell_type": "code",
   "execution_count": 14,
   "metadata": {},
   "outputs": [
    {
     "data": {
      "text/html": [
       "<div>\n",
       "<style scoped>\n",
       "    .dataframe tbody tr th:only-of-type {\n",
       "        vertical-align: middle;\n",
       "    }\n",
       "\n",
       "    .dataframe tbody tr th {\n",
       "        vertical-align: top;\n",
       "    }\n",
       "\n",
       "    .dataframe thead th {\n",
       "        text-align: right;\n",
       "    }\n",
       "</style>\n",
       "<table border=\"1\" class=\"dataframe\">\n",
       "  <thead>\n",
       "    <tr style=\"text-align: right;\">\n",
       "      <th></th>\n",
       "      <th>KOR</th>\n",
       "      <th>USA</th>\n",
       "    </tr>\n",
       "  </thead>\n",
       "  <tbody>\n",
       "    <tr>\n",
       "      <th>18</th>\n",
       "      <td>3</td>\n",
       "      <td>4</td>\n",
       "    </tr>\n",
       "    <tr>\n",
       "      <th>19</th>\n",
       "      <td>5</td>\n",
       "      <td>6</td>\n",
       "    </tr>\n",
       "  </tbody>\n",
       "</table>\n",
       "</div>"
      ],
      "text/plain": [
       "    KOR  USA\n",
       "18    3    4\n",
       "19    5    6"
      ]
     },
     "execution_count": 14,
     "metadata": {},
     "output_type": "execute_result"
    }
   ],
   "source": [
    "df.loc[18:, :]"
   ]
  },
  {
   "cell_type": "code",
   "execution_count": 15,
   "metadata": {},
   "outputs": [
    {
     "data": {
      "text/plain": [
       "KOR    1\n",
       "USA    2\n",
       "Name: 17, dtype: int64"
      ]
     },
     "execution_count": 15,
     "metadata": {},
     "output_type": "execute_result"
    }
   ],
   "source": [
    "df.loc[17, :]"
   ]
  },
  {
   "cell_type": "code",
   "execution_count": 16,
   "metadata": {},
   "outputs": [
    {
     "data": {
      "text/html": [
       "<div>\n",
       "<style scoped>\n",
       "    .dataframe tbody tr th:only-of-type {\n",
       "        vertical-align: middle;\n",
       "    }\n",
       "\n",
       "    .dataframe tbody tr th {\n",
       "        vertical-align: top;\n",
       "    }\n",
       "\n",
       "    .dataframe thead th {\n",
       "        text-align: right;\n",
       "    }\n",
       "</style>\n",
       "<table border=\"1\" class=\"dataframe\">\n",
       "  <thead>\n",
       "    <tr style=\"text-align: right;\">\n",
       "      <th></th>\n",
       "      <th>KOR</th>\n",
       "      <th>USA</th>\n",
       "    </tr>\n",
       "  </thead>\n",
       "  <tbody>\n",
       "    <tr>\n",
       "      <th>17</th>\n",
       "      <td>1</td>\n",
       "      <td>2</td>\n",
       "    </tr>\n",
       "  </tbody>\n",
       "</table>\n",
       "</div>"
      ],
      "text/plain": [
       "    KOR  USA\n",
       "17    1    2"
      ]
     },
     "execution_count": 16,
     "metadata": {},
     "output_type": "execute_result"
    }
   ],
   "source": [
    "df.loc[[17]]"
   ]
  },
  {
   "cell_type": "code",
   "execution_count": 17,
   "metadata": {},
   "outputs": [],
   "source": [
    "df = df.loc[18:, :].copy()"
   ]
  },
  {
   "cell_type": "markdown",
   "metadata": {},
   "source": [
    "### 값 지정"
   ]
  },
  {
   "cell_type": "code",
   "execution_count": 18,
   "metadata": {},
   "outputs": [
    {
     "data": {
      "text/html": [
       "<div>\n",
       "<style scoped>\n",
       "    .dataframe tbody tr th:only-of-type {\n",
       "        vertical-align: middle;\n",
       "    }\n",
       "\n",
       "    .dataframe tbody tr th {\n",
       "        vertical-align: top;\n",
       "    }\n",
       "\n",
       "    .dataframe thead th {\n",
       "        text-align: right;\n",
       "    }\n",
       "</style>\n",
       "<table border=\"1\" class=\"dataframe\">\n",
       "  <thead>\n",
       "    <tr style=\"text-align: right;\">\n",
       "      <th></th>\n",
       "      <th>KOR</th>\n",
       "      <th>USA</th>\n",
       "    </tr>\n",
       "  </thead>\n",
       "  <tbody>\n",
       "    <tr>\n",
       "      <th>18</th>\n",
       "      <td>3</td>\n",
       "      <td>4</td>\n",
       "    </tr>\n",
       "    <tr>\n",
       "      <th>19</th>\n",
       "      <td>5</td>\n",
       "      <td>6</td>\n",
       "    </tr>\n",
       "  </tbody>\n",
       "</table>\n",
       "</div>"
      ],
      "text/plain": [
       "    KOR  USA\n",
       "18    3    4\n",
       "19    5    6"
      ]
     },
     "execution_count": 18,
     "metadata": {},
     "output_type": "execute_result"
    }
   ],
   "source": [
    "df"
   ]
  },
  {
   "cell_type": "code",
   "execution_count": 19,
   "metadata": {},
   "outputs": [],
   "source": [
    "df.loc[18, 'KOR'] = 0"
   ]
  },
  {
   "cell_type": "code",
   "execution_count": 20,
   "metadata": {},
   "outputs": [
    {
     "data": {
      "text/html": [
       "<div>\n",
       "<style scoped>\n",
       "    .dataframe tbody tr th:only-of-type {\n",
       "        vertical-align: middle;\n",
       "    }\n",
       "\n",
       "    .dataframe tbody tr th {\n",
       "        vertical-align: top;\n",
       "    }\n",
       "\n",
       "    .dataframe thead th {\n",
       "        text-align: right;\n",
       "    }\n",
       "</style>\n",
       "<table border=\"1\" class=\"dataframe\">\n",
       "  <thead>\n",
       "    <tr style=\"text-align: right;\">\n",
       "      <th></th>\n",
       "      <th>KOR</th>\n",
       "      <th>USA</th>\n",
       "    </tr>\n",
       "  </thead>\n",
       "  <tbody>\n",
       "    <tr>\n",
       "      <th>18</th>\n",
       "      <td>0</td>\n",
       "      <td>4</td>\n",
       "    </tr>\n",
       "    <tr>\n",
       "      <th>19</th>\n",
       "      <td>5</td>\n",
       "      <td>6</td>\n",
       "    </tr>\n",
       "  </tbody>\n",
       "</table>\n",
       "</div>"
      ],
      "text/plain": [
       "    KOR  USA\n",
       "18    0    4\n",
       "19    5    6"
      ]
     },
     "execution_count": 20,
     "metadata": {},
     "output_type": "execute_result"
    }
   ],
   "source": [
    "df"
   ]
  },
  {
   "cell_type": "code",
   "execution_count": 21,
   "metadata": {},
   "outputs": [],
   "source": [
    "df.loc[:, 'USA'] = 1"
   ]
  },
  {
   "cell_type": "code",
   "execution_count": 22,
   "metadata": {},
   "outputs": [
    {
     "data": {
      "text/html": [
       "<div>\n",
       "<style scoped>\n",
       "    .dataframe tbody tr th:only-of-type {\n",
       "        vertical-align: middle;\n",
       "    }\n",
       "\n",
       "    .dataframe tbody tr th {\n",
       "        vertical-align: top;\n",
       "    }\n",
       "\n",
       "    .dataframe thead th {\n",
       "        text-align: right;\n",
       "    }\n",
       "</style>\n",
       "<table border=\"1\" class=\"dataframe\">\n",
       "  <thead>\n",
       "    <tr style=\"text-align: right;\">\n",
       "      <th></th>\n",
       "      <th>KOR</th>\n",
       "      <th>USA</th>\n",
       "    </tr>\n",
       "  </thead>\n",
       "  <tbody>\n",
       "    <tr>\n",
       "      <th>18</th>\n",
       "      <td>0</td>\n",
       "      <td>1</td>\n",
       "    </tr>\n",
       "    <tr>\n",
       "      <th>19</th>\n",
       "      <td>5</td>\n",
       "      <td>1</td>\n",
       "    </tr>\n",
       "  </tbody>\n",
       "</table>\n",
       "</div>"
      ],
      "text/plain": [
       "    KOR  USA\n",
       "18    0    1\n",
       "19    5    1"
      ]
     },
     "execution_count": 22,
     "metadata": {},
     "output_type": "execute_result"
    }
   ],
   "source": [
    "df"
   ]
  },
  {
   "cell_type": "code",
   "execution_count": 23,
   "metadata": {},
   "outputs": [],
   "source": [
    "df.loc[:, :] = [[1, 2], [3, 4]]"
   ]
  },
  {
   "cell_type": "code",
   "execution_count": 24,
   "metadata": {},
   "outputs": [
    {
     "data": {
      "text/html": [
       "<div>\n",
       "<style scoped>\n",
       "    .dataframe tbody tr th:only-of-type {\n",
       "        vertical-align: middle;\n",
       "    }\n",
       "\n",
       "    .dataframe tbody tr th {\n",
       "        vertical-align: top;\n",
       "    }\n",
       "\n",
       "    .dataframe thead th {\n",
       "        text-align: right;\n",
       "    }\n",
       "</style>\n",
       "<table border=\"1\" class=\"dataframe\">\n",
       "  <thead>\n",
       "    <tr style=\"text-align: right;\">\n",
       "      <th></th>\n",
       "      <th>KOR</th>\n",
       "      <th>USA</th>\n",
       "    </tr>\n",
       "  </thead>\n",
       "  <tbody>\n",
       "    <tr>\n",
       "      <th>18</th>\n",
       "      <td>1</td>\n",
       "      <td>2</td>\n",
       "    </tr>\n",
       "    <tr>\n",
       "      <th>19</th>\n",
       "      <td>3</td>\n",
       "      <td>4</td>\n",
       "    </tr>\n",
       "  </tbody>\n",
       "</table>\n",
       "</div>"
      ],
      "text/plain": [
       "    KOR  USA\n",
       "18    1    2\n",
       "19    3    4"
      ]
     },
     "execution_count": 24,
     "metadata": {},
     "output_type": "execute_result"
    }
   ],
   "source": [
    "df"
   ]
  },
  {
   "cell_type": "code",
   "execution_count": 25,
   "metadata": {},
   "outputs": [],
   "source": [
    "df = [[1, 2], [3, 4]]"
   ]
  },
  {
   "cell_type": "code",
   "execution_count": 26,
   "metadata": {},
   "outputs": [
    {
     "data": {
      "text/plain": [
       "[[1, 2], [3, 4]]"
      ]
     },
     "execution_count": 26,
     "metadata": {},
     "output_type": "execute_result"
    }
   ],
   "source": [
    "df"
   ]
  },
  {
   "cell_type": "markdown",
   "metadata": {},
   "source": [
    "## 멀티인덱스"
   ]
  },
  {
   "cell_type": "code",
   "execution_count": 27,
   "metadata": {},
   "outputs": [],
   "source": [
    "df = pd.DataFrame({'country':['USA', 'KOR', 'USA', 'KOR'], \n",
    "                   'pop':[1, 2, 3, 4], \n",
    "                   'gdp':[3, 4, 5, 6]}, \n",
    "                  index = [16, 16, 17, 17])"
   ]
  },
  {
   "cell_type": "code",
   "execution_count": 28,
   "metadata": {},
   "outputs": [
    {
     "data": {
      "text/html": [
       "<div>\n",
       "<style scoped>\n",
       "    .dataframe tbody tr th:only-of-type {\n",
       "        vertical-align: middle;\n",
       "    }\n",
       "\n",
       "    .dataframe tbody tr th {\n",
       "        vertical-align: top;\n",
       "    }\n",
       "\n",
       "    .dataframe thead th {\n",
       "        text-align: right;\n",
       "    }\n",
       "</style>\n",
       "<table border=\"1\" class=\"dataframe\">\n",
       "  <thead>\n",
       "    <tr style=\"text-align: right;\">\n",
       "      <th></th>\n",
       "      <th>country</th>\n",
       "      <th>pop</th>\n",
       "      <th>gdp</th>\n",
       "    </tr>\n",
       "  </thead>\n",
       "  <tbody>\n",
       "    <tr>\n",
       "      <th>16</th>\n",
       "      <td>USA</td>\n",
       "      <td>1</td>\n",
       "      <td>3</td>\n",
       "    </tr>\n",
       "    <tr>\n",
       "      <th>16</th>\n",
       "      <td>KOR</td>\n",
       "      <td>2</td>\n",
       "      <td>4</td>\n",
       "    </tr>\n",
       "    <tr>\n",
       "      <th>17</th>\n",
       "      <td>USA</td>\n",
       "      <td>3</td>\n",
       "      <td>5</td>\n",
       "    </tr>\n",
       "    <tr>\n",
       "      <th>17</th>\n",
       "      <td>KOR</td>\n",
       "      <td>4</td>\n",
       "      <td>6</td>\n",
       "    </tr>\n",
       "  </tbody>\n",
       "</table>\n",
       "</div>"
      ],
      "text/plain": [
       "   country  pop  gdp\n",
       "16     USA    1    3\n",
       "16     KOR    2    4\n",
       "17     USA    3    5\n",
       "17     KOR    4    6"
      ]
     },
     "execution_count": 28,
     "metadata": {},
     "output_type": "execute_result"
    }
   ],
   "source": [
    "df"
   ]
  },
  {
   "cell_type": "code",
   "execution_count": 29,
   "metadata": {},
   "outputs": [],
   "source": [
    "df = df.set_index('country', append=True)"
   ]
  },
  {
   "cell_type": "code",
   "execution_count": 30,
   "metadata": {},
   "outputs": [
    {
     "data": {
      "text/html": [
       "<div>\n",
       "<style scoped>\n",
       "    .dataframe tbody tr th:only-of-type {\n",
       "        vertical-align: middle;\n",
       "    }\n",
       "\n",
       "    .dataframe tbody tr th {\n",
       "        vertical-align: top;\n",
       "    }\n",
       "\n",
       "    .dataframe thead th {\n",
       "        text-align: right;\n",
       "    }\n",
       "</style>\n",
       "<table border=\"1\" class=\"dataframe\">\n",
       "  <thead>\n",
       "    <tr style=\"text-align: right;\">\n",
       "      <th></th>\n",
       "      <th></th>\n",
       "      <th>pop</th>\n",
       "      <th>gdp</th>\n",
       "    </tr>\n",
       "    <tr>\n",
       "      <th></th>\n",
       "      <th>country</th>\n",
       "      <th></th>\n",
       "      <th></th>\n",
       "    </tr>\n",
       "  </thead>\n",
       "  <tbody>\n",
       "    <tr>\n",
       "      <th rowspan=\"2\" valign=\"top\">16</th>\n",
       "      <th>USA</th>\n",
       "      <td>1</td>\n",
       "      <td>3</td>\n",
       "    </tr>\n",
       "    <tr>\n",
       "      <th>KOR</th>\n",
       "      <td>2</td>\n",
       "      <td>4</td>\n",
       "    </tr>\n",
       "    <tr>\n",
       "      <th rowspan=\"2\" valign=\"top\">17</th>\n",
       "      <th>USA</th>\n",
       "      <td>3</td>\n",
       "      <td>5</td>\n",
       "    </tr>\n",
       "    <tr>\n",
       "      <th>KOR</th>\n",
       "      <td>4</td>\n",
       "      <td>6</td>\n",
       "    </tr>\n",
       "  </tbody>\n",
       "</table>\n",
       "</div>"
      ],
      "text/plain": [
       "            pop  gdp\n",
       "   country          \n",
       "16 USA        1    3\n",
       "   KOR        2    4\n",
       "17 USA        3    5\n",
       "   KOR        4    6"
      ]
     },
     "execution_count": 30,
     "metadata": {},
     "output_type": "execute_result"
    }
   ],
   "source": [
    "df"
   ]
  },
  {
   "cell_type": "code",
   "execution_count": 31,
   "metadata": {},
   "outputs": [],
   "source": [
    "from pandas import MultiIndex as MI"
   ]
  },
  {
   "cell_type": "code",
   "execution_count": 32,
   "metadata": {},
   "outputs": [],
   "source": [
    "df.index = MI.from_product([['16', '17'], ['미국', '한국']])"
   ]
  },
  {
   "cell_type": "code",
   "execution_count": 33,
   "metadata": {},
   "outputs": [
    {
     "data": {
      "text/html": [
       "<div>\n",
       "<style scoped>\n",
       "    .dataframe tbody tr th:only-of-type {\n",
       "        vertical-align: middle;\n",
       "    }\n",
       "\n",
       "    .dataframe tbody tr th {\n",
       "        vertical-align: top;\n",
       "    }\n",
       "\n",
       "    .dataframe thead th {\n",
       "        text-align: right;\n",
       "    }\n",
       "</style>\n",
       "<table border=\"1\" class=\"dataframe\">\n",
       "  <thead>\n",
       "    <tr style=\"text-align: right;\">\n",
       "      <th></th>\n",
       "      <th></th>\n",
       "      <th>pop</th>\n",
       "      <th>gdp</th>\n",
       "    </tr>\n",
       "  </thead>\n",
       "  <tbody>\n",
       "    <tr>\n",
       "      <th rowspan=\"2\" valign=\"top\">16</th>\n",
       "      <th>미국</th>\n",
       "      <td>1</td>\n",
       "      <td>3</td>\n",
       "    </tr>\n",
       "    <tr>\n",
       "      <th>한국</th>\n",
       "      <td>2</td>\n",
       "      <td>4</td>\n",
       "    </tr>\n",
       "    <tr>\n",
       "      <th rowspan=\"2\" valign=\"top\">17</th>\n",
       "      <th>미국</th>\n",
       "      <td>3</td>\n",
       "      <td>5</td>\n",
       "    </tr>\n",
       "    <tr>\n",
       "      <th>한국</th>\n",
       "      <td>4</td>\n",
       "      <td>6</td>\n",
       "    </tr>\n",
       "  </tbody>\n",
       "</table>\n",
       "</div>"
      ],
      "text/plain": [
       "       pop  gdp\n",
       "16 미국    1    3\n",
       "   한국    2    4\n",
       "17 미국    3    5\n",
       "   한국    4    6"
      ]
     },
     "execution_count": 33,
     "metadata": {},
     "output_type": "execute_result"
    }
   ],
   "source": [
    "df"
   ]
  },
  {
   "cell_type": "code",
   "execution_count": 34,
   "metadata": {},
   "outputs": [],
   "source": [
    "df.index = [':'.join(c).strip() for c in df.index.values]"
   ]
  },
  {
   "cell_type": "code",
   "execution_count": 35,
   "metadata": {},
   "outputs": [
    {
     "data": {
      "text/html": [
       "<div>\n",
       "<style scoped>\n",
       "    .dataframe tbody tr th:only-of-type {\n",
       "        vertical-align: middle;\n",
       "    }\n",
       "\n",
       "    .dataframe tbody tr th {\n",
       "        vertical-align: top;\n",
       "    }\n",
       "\n",
       "    .dataframe thead th {\n",
       "        text-align: right;\n",
       "    }\n",
       "</style>\n",
       "<table border=\"1\" class=\"dataframe\">\n",
       "  <thead>\n",
       "    <tr style=\"text-align: right;\">\n",
       "      <th></th>\n",
       "      <th>pop</th>\n",
       "      <th>gdp</th>\n",
       "    </tr>\n",
       "  </thead>\n",
       "  <tbody>\n",
       "    <tr>\n",
       "      <th>16:미국</th>\n",
       "      <td>1</td>\n",
       "      <td>3</td>\n",
       "    </tr>\n",
       "    <tr>\n",
       "      <th>16:한국</th>\n",
       "      <td>2</td>\n",
       "      <td>4</td>\n",
       "    </tr>\n",
       "    <tr>\n",
       "      <th>17:미국</th>\n",
       "      <td>3</td>\n",
       "      <td>5</td>\n",
       "    </tr>\n",
       "    <tr>\n",
       "      <th>17:한국</th>\n",
       "      <td>4</td>\n",
       "      <td>6</td>\n",
       "    </tr>\n",
       "  </tbody>\n",
       "</table>\n",
       "</div>"
      ],
      "text/plain": [
       "       pop  gdp\n",
       "16:미국    1    3\n",
       "16:한국    2    4\n",
       "17:미국    3    5\n",
       "17:한국    4    6"
      ]
     },
     "execution_count": 35,
     "metadata": {},
     "output_type": "execute_result"
    }
   ],
   "source": [
    "df"
   ]
  },
  {
   "cell_type": "code",
   "execution_count": 36,
   "metadata": {},
   "outputs": [
    {
     "data": {
      "text/plain": [
       "[['16', '미국'], ['16', '한국'], ['17', '미국'], ['17', '한국']]"
      ]
     },
     "execution_count": 36,
     "metadata": {},
     "output_type": "execute_result"
    }
   ],
   "source": [
    "df.index.str.split(':').tolist()"
   ]
  },
  {
   "cell_type": "code",
   "execution_count": 37,
   "metadata": {},
   "outputs": [],
   "source": [
    "df.index = MI.from_tuples(df.index.str.split(':').tolist())"
   ]
  },
  {
   "cell_type": "code",
   "execution_count": 38,
   "metadata": {},
   "outputs": [
    {
     "data": {
      "text/html": [
       "<div>\n",
       "<style scoped>\n",
       "    .dataframe tbody tr th:only-of-type {\n",
       "        vertical-align: middle;\n",
       "    }\n",
       "\n",
       "    .dataframe tbody tr th {\n",
       "        vertical-align: top;\n",
       "    }\n",
       "\n",
       "    .dataframe thead th {\n",
       "        text-align: right;\n",
       "    }\n",
       "</style>\n",
       "<table border=\"1\" class=\"dataframe\">\n",
       "  <thead>\n",
       "    <tr style=\"text-align: right;\">\n",
       "      <th></th>\n",
       "      <th></th>\n",
       "      <th>pop</th>\n",
       "      <th>gdp</th>\n",
       "    </tr>\n",
       "  </thead>\n",
       "  <tbody>\n",
       "    <tr>\n",
       "      <th rowspan=\"2\" valign=\"top\">16</th>\n",
       "      <th>미국</th>\n",
       "      <td>1</td>\n",
       "      <td>3</td>\n",
       "    </tr>\n",
       "    <tr>\n",
       "      <th>한국</th>\n",
       "      <td>2</td>\n",
       "      <td>4</td>\n",
       "    </tr>\n",
       "    <tr>\n",
       "      <th rowspan=\"2\" valign=\"top\">17</th>\n",
       "      <th>미국</th>\n",
       "      <td>3</td>\n",
       "      <td>5</td>\n",
       "    </tr>\n",
       "    <tr>\n",
       "      <th>한국</th>\n",
       "      <td>4</td>\n",
       "      <td>6</td>\n",
       "    </tr>\n",
       "  </tbody>\n",
       "</table>\n",
       "</div>"
      ],
      "text/plain": [
       "       pop  gdp\n",
       "16 미국    1    3\n",
       "   한국    2    4\n",
       "17 미국    3    5\n",
       "   한국    4    6"
      ]
     },
     "execution_count": 38,
     "metadata": {},
     "output_type": "execute_result"
    }
   ],
   "source": [
    "df"
   ]
  },
  {
   "cell_type": "markdown",
   "metadata": {},
   "source": [
    "### 다양한 층위에서 데이터 선택"
   ]
  },
  {
   "cell_type": "code",
   "execution_count": 39,
   "metadata": {},
   "outputs": [],
   "source": [
    "df = pd.DataFrame({'country':['USA', 'KOR', 'USA', 'KOR'], \n",
    "                   'pop':[1, 2, 3, 4], \n",
    "                   'gdp':[3, 4, 5, 6]}, \n",
    "                  index = [16, 16, 17, 17])"
   ]
  },
  {
   "cell_type": "code",
   "execution_count": 40,
   "metadata": {},
   "outputs": [],
   "source": [
    "df = df.set_index('country', append=True)"
   ]
  },
  {
   "cell_type": "code",
   "execution_count": 41,
   "metadata": {},
   "outputs": [],
   "source": [
    "idx = pd.IndexSlice"
   ]
  },
  {
   "cell_type": "code",
   "execution_count": 42,
   "metadata": {},
   "outputs": [
    {
     "data": {
      "text/html": [
       "<div>\n",
       "<style scoped>\n",
       "    .dataframe tbody tr th:only-of-type {\n",
       "        vertical-align: middle;\n",
       "    }\n",
       "\n",
       "    .dataframe tbody tr th {\n",
       "        vertical-align: top;\n",
       "    }\n",
       "\n",
       "    .dataframe thead th {\n",
       "        text-align: right;\n",
       "    }\n",
       "</style>\n",
       "<table border=\"1\" class=\"dataframe\">\n",
       "  <thead>\n",
       "    <tr style=\"text-align: right;\">\n",
       "      <th></th>\n",
       "      <th></th>\n",
       "      <th>pop</th>\n",
       "      <th>gdp</th>\n",
       "    </tr>\n",
       "    <tr>\n",
       "      <th></th>\n",
       "      <th>country</th>\n",
       "      <th></th>\n",
       "      <th></th>\n",
       "    </tr>\n",
       "  </thead>\n",
       "  <tbody>\n",
       "    <tr>\n",
       "      <th>16</th>\n",
       "      <th>USA</th>\n",
       "      <td>1</td>\n",
       "      <td>3</td>\n",
       "    </tr>\n",
       "    <tr>\n",
       "      <th>17</th>\n",
       "      <th>USA</th>\n",
       "      <td>3</td>\n",
       "      <td>5</td>\n",
       "    </tr>\n",
       "  </tbody>\n",
       "</table>\n",
       "</div>"
      ],
      "text/plain": [
       "            pop  gdp\n",
       "   country          \n",
       "16 USA        1    3\n",
       "17 USA        3    5"
      ]
     },
     "execution_count": 42,
     "metadata": {},
     "output_type": "execute_result"
    }
   ],
   "source": [
    "df.loc[idx[:, 'USA'], :]"
   ]
  },
  {
   "cell_type": "code",
   "execution_count": 43,
   "metadata": {},
   "outputs": [
    {
     "data": {
      "text/plain": [
       "pop    1\n",
       "gdp    3\n",
       "Name: (16, USA), dtype: int64"
      ]
     },
     "execution_count": 43,
     "metadata": {},
     "output_type": "execute_result"
    }
   ],
   "source": [
    "df.loc[idx[16, 'USA'], :]"
   ]
  },
  {
   "cell_type": "code",
   "execution_count": 59,
   "metadata": {},
   "outputs": [],
   "source": [
    "df = pd.DataFrame({'country':['USA', 'KOR', 'USA', 'KOR'], \n",
    "                   'pop':[1, 2, 3, 4], \n",
    "                   'gdp':[3, 4, 5, 6]}, \n",
    "                  index = [16, 16, 17, 17])"
   ]
  },
  {
   "cell_type": "code",
   "execution_count": 60,
   "metadata": {},
   "outputs": [
    {
     "data": {
      "text/html": [
       "<div>\n",
       "<style scoped>\n",
       "    .dataframe tbody tr th:only-of-type {\n",
       "        vertical-align: middle;\n",
       "    }\n",
       "\n",
       "    .dataframe tbody tr th {\n",
       "        vertical-align: top;\n",
       "    }\n",
       "\n",
       "    .dataframe thead th {\n",
       "        text-align: right;\n",
       "    }\n",
       "</style>\n",
       "<table border=\"1\" class=\"dataframe\">\n",
       "  <thead>\n",
       "    <tr style=\"text-align: right;\">\n",
       "      <th></th>\n",
       "      <th>country</th>\n",
       "      <th>pop</th>\n",
       "      <th>gdp</th>\n",
       "    </tr>\n",
       "  </thead>\n",
       "  <tbody>\n",
       "    <tr>\n",
       "      <th>16</th>\n",
       "      <td>USA</td>\n",
       "      <td>1</td>\n",
       "      <td>3</td>\n",
       "    </tr>\n",
       "    <tr>\n",
       "      <th>16</th>\n",
       "      <td>KOR</td>\n",
       "      <td>2</td>\n",
       "      <td>4</td>\n",
       "    </tr>\n",
       "    <tr>\n",
       "      <th>17</th>\n",
       "      <td>USA</td>\n",
       "      <td>3</td>\n",
       "      <td>5</td>\n",
       "    </tr>\n",
       "    <tr>\n",
       "      <th>17</th>\n",
       "      <td>KOR</td>\n",
       "      <td>4</td>\n",
       "      <td>6</td>\n",
       "    </tr>\n",
       "  </tbody>\n",
       "</table>\n",
       "</div>"
      ],
      "text/plain": [
       "   country  pop  gdp\n",
       "16     USA    1    3\n",
       "16     KOR    2    4\n",
       "17     USA    3    5\n",
       "17     KOR    4    6"
      ]
     },
     "execution_count": 60,
     "metadata": {},
     "output_type": "execute_result"
    }
   ],
   "source": [
    "df"
   ]
  },
  {
   "cell_type": "code",
   "execution_count": 46,
   "metadata": {},
   "outputs": [
    {
     "data": {
      "text/html": [
       "<div>\n",
       "<style scoped>\n",
       "    .dataframe tbody tr th:only-of-type {\n",
       "        vertical-align: middle;\n",
       "    }\n",
       "\n",
       "    .dataframe tbody tr th {\n",
       "        vertical-align: top;\n",
       "    }\n",
       "\n",
       "    .dataframe thead th {\n",
       "        text-align: right;\n",
       "    }\n",
       "</style>\n",
       "<table border=\"1\" class=\"dataframe\">\n",
       "  <thead>\n",
       "    <tr style=\"text-align: right;\">\n",
       "      <th></th>\n",
       "      <th>country</th>\n",
       "      <th>pop</th>\n",
       "      <th>gdp</th>\n",
       "    </tr>\n",
       "  </thead>\n",
       "  <tbody>\n",
       "    <tr>\n",
       "      <th>17</th>\n",
       "      <td>USA</td>\n",
       "      <td>3</td>\n",
       "      <td>5</td>\n",
       "    </tr>\n",
       "    <tr>\n",
       "      <th>17</th>\n",
       "      <td>KOR</td>\n",
       "      <td>4</td>\n",
       "      <td>6</td>\n",
       "    </tr>\n",
       "  </tbody>\n",
       "</table>\n",
       "</div>"
      ],
      "text/plain": [
       "   country  pop  gdp\n",
       "17     USA    3    5\n",
       "17     KOR    4    6"
      ]
     },
     "execution_count": 46,
     "metadata": {},
     "output_type": "execute_result"
    }
   ],
   "source": [
    "df.loc[df['pop'].ge(3)]"
   ]
  },
  {
   "cell_type": "code",
   "execution_count": 47,
   "metadata": {},
   "outputs": [
    {
     "data": {
      "text/html": [
       "<div>\n",
       "<style scoped>\n",
       "    .dataframe tbody tr th:only-of-type {\n",
       "        vertical-align: middle;\n",
       "    }\n",
       "\n",
       "    .dataframe tbody tr th {\n",
       "        vertical-align: top;\n",
       "    }\n",
       "\n",
       "    .dataframe thead th {\n",
       "        text-align: right;\n",
       "    }\n",
       "</style>\n",
       "<table border=\"1\" class=\"dataframe\">\n",
       "  <thead>\n",
       "    <tr style=\"text-align: right;\">\n",
       "      <th></th>\n",
       "      <th>country</th>\n",
       "      <th>pop</th>\n",
       "      <th>gdp</th>\n",
       "    </tr>\n",
       "  </thead>\n",
       "  <tbody>\n",
       "    <tr>\n",
       "      <th>16</th>\n",
       "      <td>USA</td>\n",
       "      <td>1</td>\n",
       "      <td>3</td>\n",
       "    </tr>\n",
       "    <tr>\n",
       "      <th>16</th>\n",
       "      <td>KOR</td>\n",
       "      <td>2</td>\n",
       "      <td>4</td>\n",
       "    </tr>\n",
       "    <tr>\n",
       "      <th>17</th>\n",
       "      <td>USA</td>\n",
       "      <td>3</td>\n",
       "      <td>5</td>\n",
       "    </tr>\n",
       "    <tr>\n",
       "      <th>17</th>\n",
       "      <td>KOR</td>\n",
       "      <td>4</td>\n",
       "      <td>6</td>\n",
       "    </tr>\n",
       "  </tbody>\n",
       "</table>\n",
       "</div>"
      ],
      "text/plain": [
       "   country  pop  gdp\n",
       "16     USA    1    3\n",
       "16     KOR    2    4\n",
       "17     USA    3    5\n",
       "17     KOR    4    6"
      ]
     },
     "execution_count": 47,
     "metadata": {},
     "output_type": "execute_result"
    }
   ],
   "source": [
    "df"
   ]
  },
  {
   "cell_type": "code",
   "execution_count": 48,
   "metadata": {},
   "outputs": [
    {
     "data": {
      "text/html": [
       "<div>\n",
       "<style scoped>\n",
       "    .dataframe tbody tr th:only-of-type {\n",
       "        vertical-align: middle;\n",
       "    }\n",
       "\n",
       "    .dataframe tbody tr th {\n",
       "        vertical-align: top;\n",
       "    }\n",
       "\n",
       "    .dataframe thead th {\n",
       "        text-align: right;\n",
       "    }\n",
       "</style>\n",
       "<table border=\"1\" class=\"dataframe\">\n",
       "  <thead>\n",
       "    <tr style=\"text-align: right;\">\n",
       "      <th></th>\n",
       "      <th>country</th>\n",
       "      <th>pop</th>\n",
       "      <th>gdp</th>\n",
       "    </tr>\n",
       "  </thead>\n",
       "  <tbody>\n",
       "    <tr>\n",
       "      <th>16</th>\n",
       "      <td>USA</td>\n",
       "      <td>1</td>\n",
       "      <td>3</td>\n",
       "    </tr>\n",
       "    <tr>\n",
       "      <th>17</th>\n",
       "      <td>USA</td>\n",
       "      <td>3</td>\n",
       "      <td>5</td>\n",
       "    </tr>\n",
       "  </tbody>\n",
       "</table>\n",
       "</div>"
      ],
      "text/plain": [
       "   country  pop  gdp\n",
       "16     USA    1    3\n",
       "17     USA    3    5"
      ]
     },
     "execution_count": 48,
     "metadata": {},
     "output_type": "execute_result"
    }
   ],
   "source": [
    "df.loc[df.country.isin(['USA', 'JPN'])]"
   ]
  },
  {
   "cell_type": "code",
   "execution_count": null,
   "metadata": {},
   "outputs": [],
   "source": []
  },
  {
   "cell_type": "markdown",
   "metadata": {},
   "source": [
    "# 멀티인덱스 특정 레벨 값 확인하기 및 레벨 줄이기\n",
    "\n",
    "- index.droplevels()\n",
    "- index.get_level_values()"
   ]
  },
  {
   "cell_type": "code",
   "execution_count": 61,
   "metadata": {},
   "outputs": [
    {
     "data": {
      "text/html": [
       "<div>\n",
       "<style scoped>\n",
       "    .dataframe tbody tr th:only-of-type {\n",
       "        vertical-align: middle;\n",
       "    }\n",
       "\n",
       "    .dataframe tbody tr th {\n",
       "        vertical-align: top;\n",
       "    }\n",
       "\n",
       "    .dataframe thead th {\n",
       "        text-align: right;\n",
       "    }\n",
       "</style>\n",
       "<table border=\"1\" class=\"dataframe\">\n",
       "  <thead>\n",
       "    <tr style=\"text-align: right;\">\n",
       "      <th></th>\n",
       "      <th>country</th>\n",
       "      <th>pop</th>\n",
       "      <th>gdp</th>\n",
       "    </tr>\n",
       "  </thead>\n",
       "  <tbody>\n",
       "    <tr>\n",
       "      <th>16</th>\n",
       "      <td>USA</td>\n",
       "      <td>1</td>\n",
       "      <td>3</td>\n",
       "    </tr>\n",
       "    <tr>\n",
       "      <th>16</th>\n",
       "      <td>KOR</td>\n",
       "      <td>2</td>\n",
       "      <td>4</td>\n",
       "    </tr>\n",
       "    <tr>\n",
       "      <th>17</th>\n",
       "      <td>USA</td>\n",
       "      <td>3</td>\n",
       "      <td>5</td>\n",
       "    </tr>\n",
       "    <tr>\n",
       "      <th>17</th>\n",
       "      <td>KOR</td>\n",
       "      <td>4</td>\n",
       "      <td>6</td>\n",
       "    </tr>\n",
       "  </tbody>\n",
       "</table>\n",
       "</div>"
      ],
      "text/plain": [
       "   country  pop  gdp\n",
       "16     USA    1    3\n",
       "16     KOR    2    4\n",
       "17     USA    3    5\n",
       "17     KOR    4    6"
      ]
     },
     "execution_count": 61,
     "metadata": {},
     "output_type": "execute_result"
    }
   ],
   "source": [
    "df"
   ]
  },
  {
   "cell_type": "code",
   "execution_count": 62,
   "metadata": {},
   "outputs": [],
   "source": [
    "df = df.set_index('country', append=True)"
   ]
  },
  {
   "cell_type": "code",
   "execution_count": 63,
   "metadata": {},
   "outputs": [],
   "source": [
    "df.index.names = ['yr', 'country']"
   ]
  },
  {
   "cell_type": "code",
   "execution_count": 64,
   "metadata": {},
   "outputs": [
    {
     "data": {
      "text/html": [
       "<div>\n",
       "<style scoped>\n",
       "    .dataframe tbody tr th:only-of-type {\n",
       "        vertical-align: middle;\n",
       "    }\n",
       "\n",
       "    .dataframe tbody tr th {\n",
       "        vertical-align: top;\n",
       "    }\n",
       "\n",
       "    .dataframe thead th {\n",
       "        text-align: right;\n",
       "    }\n",
       "</style>\n",
       "<table border=\"1\" class=\"dataframe\">\n",
       "  <thead>\n",
       "    <tr style=\"text-align: right;\">\n",
       "      <th></th>\n",
       "      <th></th>\n",
       "      <th>pop</th>\n",
       "      <th>gdp</th>\n",
       "    </tr>\n",
       "    <tr>\n",
       "      <th>yr</th>\n",
       "      <th>country</th>\n",
       "      <th></th>\n",
       "      <th></th>\n",
       "    </tr>\n",
       "  </thead>\n",
       "  <tbody>\n",
       "    <tr>\n",
       "      <th rowspan=\"2\" valign=\"top\">16</th>\n",
       "      <th>USA</th>\n",
       "      <td>1</td>\n",
       "      <td>3</td>\n",
       "    </tr>\n",
       "    <tr>\n",
       "      <th>KOR</th>\n",
       "      <td>2</td>\n",
       "      <td>4</td>\n",
       "    </tr>\n",
       "    <tr>\n",
       "      <th rowspan=\"2\" valign=\"top\">17</th>\n",
       "      <th>USA</th>\n",
       "      <td>3</td>\n",
       "      <td>5</td>\n",
       "    </tr>\n",
       "    <tr>\n",
       "      <th>KOR</th>\n",
       "      <td>4</td>\n",
       "      <td>6</td>\n",
       "    </tr>\n",
       "  </tbody>\n",
       "</table>\n",
       "</div>"
      ],
      "text/plain": [
       "            pop  gdp\n",
       "yr country          \n",
       "16 USA        1    3\n",
       "   KOR        2    4\n",
       "17 USA        3    5\n",
       "   KOR        4    6"
      ]
     },
     "execution_count": 64,
     "metadata": {},
     "output_type": "execute_result"
    }
   ],
   "source": [
    "df"
   ]
  },
  {
   "cell_type": "code",
   "execution_count": 65,
   "metadata": {},
   "outputs": [
    {
     "data": {
      "text/plain": [
       "Int64Index([16, 17], dtype='int64', name='yr')"
      ]
     },
     "execution_count": 65,
     "metadata": {},
     "output_type": "execute_result"
    }
   ],
   "source": [
    "df.index.get_level_values(0).unique()"
   ]
  },
  {
   "cell_type": "code",
   "execution_count": 66,
   "metadata": {},
   "outputs": [
    {
     "data": {
      "text/plain": [
       "Index(['USA', 'KOR'], dtype='object', name='country')"
      ]
     },
     "execution_count": 66,
     "metadata": {},
     "output_type": "execute_result"
    }
   ],
   "source": [
    "df.index.get_level_values(1).unique()"
   ]
  },
  {
   "cell_type": "code",
   "execution_count": 67,
   "metadata": {},
   "outputs": [],
   "source": [
    "df = df.loc[idx[:, 'USA'], :]"
   ]
  },
  {
   "cell_type": "code",
   "execution_count": 68,
   "metadata": {},
   "outputs": [
    {
     "data": {
      "text/html": [
       "<div>\n",
       "<style scoped>\n",
       "    .dataframe tbody tr th:only-of-type {\n",
       "        vertical-align: middle;\n",
       "    }\n",
       "\n",
       "    .dataframe tbody tr th {\n",
       "        vertical-align: top;\n",
       "    }\n",
       "\n",
       "    .dataframe thead th {\n",
       "        text-align: right;\n",
       "    }\n",
       "</style>\n",
       "<table border=\"1\" class=\"dataframe\">\n",
       "  <thead>\n",
       "    <tr style=\"text-align: right;\">\n",
       "      <th></th>\n",
       "      <th></th>\n",
       "      <th>pop</th>\n",
       "      <th>gdp</th>\n",
       "    </tr>\n",
       "    <tr>\n",
       "      <th>yr</th>\n",
       "      <th>country</th>\n",
       "      <th></th>\n",
       "      <th></th>\n",
       "    </tr>\n",
       "  </thead>\n",
       "  <tbody>\n",
       "    <tr>\n",
       "      <th>16</th>\n",
       "      <th>USA</th>\n",
       "      <td>1</td>\n",
       "      <td>3</td>\n",
       "    </tr>\n",
       "    <tr>\n",
       "      <th>17</th>\n",
       "      <th>USA</th>\n",
       "      <td>3</td>\n",
       "      <td>5</td>\n",
       "    </tr>\n",
       "  </tbody>\n",
       "</table>\n",
       "</div>"
      ],
      "text/plain": [
       "            pop  gdp\n",
       "yr country          \n",
       "16 USA        1    3\n",
       "17 USA        3    5"
      ]
     },
     "execution_count": 68,
     "metadata": {},
     "output_type": "execute_result"
    }
   ],
   "source": [
    "df"
   ]
  },
  {
   "cell_type": "code",
   "execution_count": 70,
   "metadata": {},
   "outputs": [],
   "source": [
    "df.index = df.index.droplevel(level = 1)"
   ]
  },
  {
   "cell_type": "code",
   "execution_count": 71,
   "metadata": {},
   "outputs": [
    {
     "data": {
      "text/html": [
       "<div>\n",
       "<style scoped>\n",
       "    .dataframe tbody tr th:only-of-type {\n",
       "        vertical-align: middle;\n",
       "    }\n",
       "\n",
       "    .dataframe tbody tr th {\n",
       "        vertical-align: top;\n",
       "    }\n",
       "\n",
       "    .dataframe thead th {\n",
       "        text-align: right;\n",
       "    }\n",
       "</style>\n",
       "<table border=\"1\" class=\"dataframe\">\n",
       "  <thead>\n",
       "    <tr style=\"text-align: right;\">\n",
       "      <th></th>\n",
       "      <th>pop</th>\n",
       "      <th>gdp</th>\n",
       "    </tr>\n",
       "    <tr>\n",
       "      <th>yr</th>\n",
       "      <th></th>\n",
       "      <th></th>\n",
       "    </tr>\n",
       "  </thead>\n",
       "  <tbody>\n",
       "    <tr>\n",
       "      <th>16</th>\n",
       "      <td>1</td>\n",
       "      <td>3</td>\n",
       "    </tr>\n",
       "    <tr>\n",
       "      <th>17</th>\n",
       "      <td>3</td>\n",
       "      <td>5</td>\n",
       "    </tr>\n",
       "  </tbody>\n",
       "</table>\n",
       "</div>"
      ],
      "text/plain": [
       "    pop  gdp\n",
       "yr          \n",
       "16    1    3\n",
       "17    3    5"
      ]
     },
     "execution_count": 71,
     "metadata": {},
     "output_type": "execute_result"
    }
   ],
   "source": [
    "df"
   ]
  },
  {
   "cell_type": "code",
   "execution_count": null,
   "metadata": {},
   "outputs": [],
   "source": []
  },
  {
   "cell_type": "code",
   "execution_count": null,
   "metadata": {},
   "outputs": [],
   "source": []
  },
  {
   "cell_type": "code",
   "execution_count": null,
   "metadata": {},
   "outputs": [],
   "source": []
  },
  {
   "cell_type": "code",
   "execution_count": null,
   "metadata": {},
   "outputs": [],
   "source": []
  },
  {
   "cell_type": "markdown",
   "metadata": {},
   "source": [
    "# 연습문제\n",
    "\n",
    "## 1. 연도(2017~2020), 국가별(kr, us, jp) 경제성장률과 물가상승률 데이터프레임을 생성하시오\n",
    "- 첫번째 열은 연도, 두번째 열은 국가명\n",
    "- 경제성장률과 물가상승률은 넘파이 랜덤표본 이용\n",
    "\n",
    "## 2. 연도와 국가명을 인덱스로 지정하시오\n",
    "\n",
    "## 3. 2018년 이후 국가별 경제성장률과 물가상승률을 나타내시오"
   ]
  },
  {
   "cell_type": "code",
   "execution_count": null,
   "metadata": {},
   "outputs": [],
   "source": []
  },
  {
   "cell_type": "markdown",
   "metadata": {},
   "source": [
    "<a id='operation'></a>\n",
    "\n",
    "# 데이터프레임 연산"
   ]
  },
  {
   "cell_type": "code",
   "execution_count": 75,
   "metadata": {},
   "outputs": [],
   "source": [
    "# 데이터프레임을 병렬로 표시하기 위한 함수 정의\n",
    "from IPython.display import display_html\n",
    "def display_by_side(*args):\n",
    "    html_str=''\n",
    "    for df in args:\n",
    "        html_str+=df.to_html()\n",
    "    display_html(html_str.replace('table','table style=\"display:inline\"'),raw=True)"
   ]
  },
  {
   "cell_type": "code",
   "execution_count": 76,
   "metadata": {},
   "outputs": [],
   "source": [
    "df = pd.DataFrame({'KOR':[1, 3], 'USA':[2, 4]})"
   ]
  },
  {
   "cell_type": "code",
   "execution_count": 77,
   "metadata": {},
   "outputs": [],
   "source": [
    "df1 = df + 10"
   ]
  },
  {
   "cell_type": "code",
   "execution_count": 78,
   "metadata": {},
   "outputs": [],
   "source": [
    "df1.columns = ['USA', 'CHN']"
   ]
  },
  {
   "cell_type": "code",
   "execution_count": 79,
   "metadata": {},
   "outputs": [
    {
     "data": {
      "text/html": [
       "<table style=\"display:inline\" border=\"1\" class=\"dataframe\">\n",
       "  <thead>\n",
       "    <tr style=\"text-align: right;\">\n",
       "      <th></th>\n",
       "      <th>USA</th>\n",
       "      <th>CHN</th>\n",
       "    </tr>\n",
       "  </thead>\n",
       "  <tbody>\n",
       "    <tr>\n",
       "      <th>0</th>\n",
       "      <td>11</td>\n",
       "      <td>12</td>\n",
       "    </tr>\n",
       "    <tr>\n",
       "      <th>1</th>\n",
       "      <td>13</td>\n",
       "      <td>14</td>\n",
       "    </tr>\n",
       "  </tbody>\n",
       "</table style=\"display:inline\"><table style=\"display:inline\" border=\"1\" class=\"dataframe\">\n",
       "  <thead>\n",
       "    <tr style=\"text-align: right;\">\n",
       "      <th></th>\n",
       "      <th>CHN</th>\n",
       "      <th>KOR</th>\n",
       "      <th>USA</th>\n",
       "    </tr>\n",
       "  </thead>\n",
       "  <tbody>\n",
       "    <tr>\n",
       "      <th>0</th>\n",
       "      <td>NaN</td>\n",
       "      <td>NaN</td>\n",
       "      <td>13</td>\n",
       "    </tr>\n",
       "    <tr>\n",
       "      <th>1</th>\n",
       "      <td>NaN</td>\n",
       "      <td>NaN</td>\n",
       "      <td>17</td>\n",
       "    </tr>\n",
       "  </tbody>\n",
       "</table style=\"display:inline\">"
      ]
     },
     "metadata": {},
     "output_type": "display_data"
    }
   ],
   "source": [
    "display_by_side(df1, df + df1)"
   ]
  },
  {
   "cell_type": "code",
   "execution_count": 80,
   "metadata": {},
   "outputs": [
    {
     "data": {
      "text/html": [
       "<div>\n",
       "<style scoped>\n",
       "    .dataframe tbody tr th:only-of-type {\n",
       "        vertical-align: middle;\n",
       "    }\n",
       "\n",
       "    .dataframe tbody tr th {\n",
       "        vertical-align: top;\n",
       "    }\n",
       "\n",
       "    .dataframe thead th {\n",
       "        text-align: right;\n",
       "    }\n",
       "</style>\n",
       "<table border=\"1\" class=\"dataframe\">\n",
       "  <thead>\n",
       "    <tr style=\"text-align: right;\">\n",
       "      <th></th>\n",
       "      <th>KOR</th>\n",
       "      <th>USA</th>\n",
       "    </tr>\n",
       "  </thead>\n",
       "  <tbody>\n",
       "    <tr>\n",
       "      <th>0</th>\n",
       "      <td>1</td>\n",
       "      <td>2</td>\n",
       "    </tr>\n",
       "    <tr>\n",
       "      <th>1</th>\n",
       "      <td>3</td>\n",
       "      <td>4</td>\n",
       "    </tr>\n",
       "  </tbody>\n",
       "</table>\n",
       "</div>"
      ],
      "text/plain": [
       "   KOR  USA\n",
       "0    1    2\n",
       "1    3    4"
      ]
     },
     "metadata": {},
     "output_type": "display_data"
    },
    {
     "data": {
      "text/html": [
       "<div>\n",
       "<style scoped>\n",
       "    .dataframe tbody tr th:only-of-type {\n",
       "        vertical-align: middle;\n",
       "    }\n",
       "\n",
       "    .dataframe tbody tr th {\n",
       "        vertical-align: top;\n",
       "    }\n",
       "\n",
       "    .dataframe thead th {\n",
       "        text-align: right;\n",
       "    }\n",
       "</style>\n",
       "<table border=\"1\" class=\"dataframe\">\n",
       "  <thead>\n",
       "    <tr style=\"text-align: right;\">\n",
       "      <th></th>\n",
       "      <th>0</th>\n",
       "      <th>1</th>\n",
       "    </tr>\n",
       "  </thead>\n",
       "  <tbody>\n",
       "    <tr>\n",
       "      <th>KOR</th>\n",
       "      <td>1</td>\n",
       "      <td>3</td>\n",
       "    </tr>\n",
       "    <tr>\n",
       "      <th>USA</th>\n",
       "      <td>2</td>\n",
       "      <td>4</td>\n",
       "    </tr>\n",
       "  </tbody>\n",
       "</table>\n",
       "</div>"
      ],
      "text/plain": [
       "     0  1\n",
       "KOR  1  3\n",
       "USA  2  4"
      ]
     },
     "metadata": {},
     "output_type": "display_data"
    }
   ],
   "source": [
    "display(df, df.T)"
   ]
  },
  {
   "cell_type": "code",
   "execution_count": 81,
   "metadata": {},
   "outputs": [
    {
     "data": {
      "text/html": [
       "<div>\n",
       "<style scoped>\n",
       "    .dataframe tbody tr th:only-of-type {\n",
       "        vertical-align: middle;\n",
       "    }\n",
       "\n",
       "    .dataframe tbody tr th {\n",
       "        vertical-align: top;\n",
       "    }\n",
       "\n",
       "    .dataframe thead th {\n",
       "        text-align: right;\n",
       "    }\n",
       "</style>\n",
       "<table border=\"1\" class=\"dataframe\">\n",
       "  <thead>\n",
       "    <tr style=\"text-align: right;\">\n",
       "      <th></th>\n",
       "      <th>0</th>\n",
       "      <th>1</th>\n",
       "    </tr>\n",
       "  </thead>\n",
       "  <tbody>\n",
       "    <tr>\n",
       "      <th>0</th>\n",
       "      <td>5</td>\n",
       "      <td>11</td>\n",
       "    </tr>\n",
       "    <tr>\n",
       "      <th>1</th>\n",
       "      <td>11</td>\n",
       "      <td>25</td>\n",
       "    </tr>\n",
       "  </tbody>\n",
       "</table>\n",
       "</div>"
      ],
      "text/plain": [
       "    0   1\n",
       "0   5  11\n",
       "1  11  25"
      ]
     },
     "execution_count": 81,
     "metadata": {},
     "output_type": "execute_result"
    }
   ],
   "source": [
    "df.dot(df.T)"
   ]
  },
  {
   "cell_type": "code",
   "execution_count": 82,
   "metadata": {},
   "outputs": [
    {
     "data": {
      "text/html": [
       "<div>\n",
       "<style scoped>\n",
       "    .dataframe tbody tr th:only-of-type {\n",
       "        vertical-align: middle;\n",
       "    }\n",
       "\n",
       "    .dataframe tbody tr th {\n",
       "        vertical-align: top;\n",
       "    }\n",
       "\n",
       "    .dataframe thead th {\n",
       "        text-align: right;\n",
       "    }\n",
       "</style>\n",
       "<table border=\"1\" class=\"dataframe\">\n",
       "  <thead>\n",
       "    <tr style=\"text-align: right;\">\n",
       "      <th></th>\n",
       "      <th>KOR</th>\n",
       "      <th>USA</th>\n",
       "    </tr>\n",
       "  </thead>\n",
       "  <tbody>\n",
       "    <tr>\n",
       "      <th>KOR</th>\n",
       "      <td>10</td>\n",
       "      <td>14</td>\n",
       "    </tr>\n",
       "    <tr>\n",
       "      <th>USA</th>\n",
       "      <td>14</td>\n",
       "      <td>20</td>\n",
       "    </tr>\n",
       "  </tbody>\n",
       "</table>\n",
       "</div>"
      ],
      "text/plain": [
       "     KOR  USA\n",
       "KOR   10   14\n",
       "USA   14   20"
      ]
     },
     "execution_count": 82,
     "metadata": {},
     "output_type": "execute_result"
    }
   ],
   "source": [
    "df.T.dot(df)"
   ]
  },
  {
   "cell_type": "code",
   "execution_count": 83,
   "metadata": {},
   "outputs": [
    {
     "ename": "ValueError",
     "evalue": "matrices are not aligned",
     "output_type": "error",
     "traceback": [
      "\u001b[0;31m---------------------------------------------------------------------------\u001b[0m",
      "\u001b[0;31mValueError\u001b[0m                                Traceback (most recent call last)",
      "\u001b[0;32m<ipython-input-83-23a34507af6f>\u001b[0m in \u001b[0;36m<module>\u001b[0;34m\u001b[0m\n\u001b[0;32m----> 1\u001b[0;31m \u001b[0mdf\u001b[0m\u001b[0;34m.\u001b[0m\u001b[0mdot\u001b[0m\u001b[0;34m(\u001b[0m\u001b[0mdf\u001b[0m\u001b[0;34m)\u001b[0m\u001b[0;34m\u001b[0m\u001b[0;34m\u001b[0m\u001b[0m\n\u001b[0m",
      "\u001b[0;32m~/opt/anaconda3/lib/python3.8/site-packages/pandas/core/frame.py\u001b[0m in \u001b[0;36mdot\u001b[0;34m(self, other)\u001b[0m\n\u001b[1;32m   1183\u001b[0m             \u001b[0mcommon\u001b[0m \u001b[0;34m=\u001b[0m \u001b[0mself\u001b[0m\u001b[0;34m.\u001b[0m\u001b[0mcolumns\u001b[0m\u001b[0;34m.\u001b[0m\u001b[0munion\u001b[0m\u001b[0;34m(\u001b[0m\u001b[0mother\u001b[0m\u001b[0;34m.\u001b[0m\u001b[0mindex\u001b[0m\u001b[0;34m)\u001b[0m\u001b[0;34m\u001b[0m\u001b[0;34m\u001b[0m\u001b[0m\n\u001b[1;32m   1184\u001b[0m             \u001b[0;32mif\u001b[0m \u001b[0mlen\u001b[0m\u001b[0;34m(\u001b[0m\u001b[0mcommon\u001b[0m\u001b[0;34m)\u001b[0m \u001b[0;34m>\u001b[0m \u001b[0mlen\u001b[0m\u001b[0;34m(\u001b[0m\u001b[0mself\u001b[0m\u001b[0;34m.\u001b[0m\u001b[0mcolumns\u001b[0m\u001b[0;34m)\u001b[0m \u001b[0;32mor\u001b[0m \u001b[0mlen\u001b[0m\u001b[0;34m(\u001b[0m\u001b[0mcommon\u001b[0m\u001b[0;34m)\u001b[0m \u001b[0;34m>\u001b[0m \u001b[0mlen\u001b[0m\u001b[0;34m(\u001b[0m\u001b[0mother\u001b[0m\u001b[0;34m.\u001b[0m\u001b[0mindex\u001b[0m\u001b[0;34m)\u001b[0m\u001b[0;34m:\u001b[0m\u001b[0;34m\u001b[0m\u001b[0;34m\u001b[0m\u001b[0m\n\u001b[0;32m-> 1185\u001b[0;31m                 \u001b[0;32mraise\u001b[0m \u001b[0mValueError\u001b[0m\u001b[0;34m(\u001b[0m\u001b[0;34m\"matrices are not aligned\"\u001b[0m\u001b[0;34m)\u001b[0m\u001b[0;34m\u001b[0m\u001b[0;34m\u001b[0m\u001b[0m\n\u001b[0m\u001b[1;32m   1186\u001b[0m \u001b[0;34m\u001b[0m\u001b[0m\n\u001b[1;32m   1187\u001b[0m             \u001b[0mleft\u001b[0m \u001b[0;34m=\u001b[0m \u001b[0mself\u001b[0m\u001b[0;34m.\u001b[0m\u001b[0mreindex\u001b[0m\u001b[0;34m(\u001b[0m\u001b[0mcolumns\u001b[0m\u001b[0;34m=\u001b[0m\u001b[0mcommon\u001b[0m\u001b[0;34m,\u001b[0m \u001b[0mcopy\u001b[0m\u001b[0;34m=\u001b[0m\u001b[0;32mFalse\u001b[0m\u001b[0;34m)\u001b[0m\u001b[0;34m\u001b[0m\u001b[0;34m\u001b[0m\u001b[0m\n",
      "\u001b[0;31mValueError\u001b[0m: matrices are not aligned"
     ]
    }
   ],
   "source": [
    "df.dot(df)"
   ]
  },
  {
   "cell_type": "code",
   "execution_count": 84,
   "metadata": {},
   "outputs": [],
   "source": [
    "df1 = pd.DataFrame({'USA':[1, 3], 'CHN':[2, 4]})\n",
    "df2 = pd.DataFrame({'JPN':[2, 4], 'KOR':[6, 8]})"
   ]
  },
  {
   "cell_type": "code",
   "execution_count": 85,
   "metadata": {},
   "outputs": [
    {
     "data": {
      "text/html": [
       "<div>\n",
       "<style scoped>\n",
       "    .dataframe tbody tr th:only-of-type {\n",
       "        vertical-align: middle;\n",
       "    }\n",
       "\n",
       "    .dataframe tbody tr th {\n",
       "        vertical-align: top;\n",
       "    }\n",
       "\n",
       "    .dataframe thead th {\n",
       "        text-align: right;\n",
       "    }\n",
       "</style>\n",
       "<table border=\"1\" class=\"dataframe\">\n",
       "  <thead>\n",
       "    <tr style=\"text-align: right;\">\n",
       "      <th></th>\n",
       "      <th>USA</th>\n",
       "      <th>CHN</th>\n",
       "    </tr>\n",
       "  </thead>\n",
       "  <tbody>\n",
       "    <tr>\n",
       "      <th>0</th>\n",
       "      <td>1</td>\n",
       "      <td>2</td>\n",
       "    </tr>\n",
       "    <tr>\n",
       "      <th>1</th>\n",
       "      <td>3</td>\n",
       "      <td>4</td>\n",
       "    </tr>\n",
       "  </tbody>\n",
       "</table>\n",
       "</div>"
      ],
      "text/plain": [
       "   USA  CHN\n",
       "0    1    2\n",
       "1    3    4"
      ]
     },
     "metadata": {},
     "output_type": "display_data"
    },
    {
     "data": {
      "text/html": [
       "<div>\n",
       "<style scoped>\n",
       "    .dataframe tbody tr th:only-of-type {\n",
       "        vertical-align: middle;\n",
       "    }\n",
       "\n",
       "    .dataframe tbody tr th {\n",
       "        vertical-align: top;\n",
       "    }\n",
       "\n",
       "    .dataframe thead th {\n",
       "        text-align: right;\n",
       "    }\n",
       "</style>\n",
       "<table border=\"1\" class=\"dataframe\">\n",
       "  <thead>\n",
       "    <tr style=\"text-align: right;\">\n",
       "      <th></th>\n",
       "      <th>JPN</th>\n",
       "      <th>KOR</th>\n",
       "    </tr>\n",
       "  </thead>\n",
       "  <tbody>\n",
       "    <tr>\n",
       "      <th>0</th>\n",
       "      <td>2</td>\n",
       "      <td>6</td>\n",
       "    </tr>\n",
       "    <tr>\n",
       "      <th>1</th>\n",
       "      <td>4</td>\n",
       "      <td>8</td>\n",
       "    </tr>\n",
       "  </tbody>\n",
       "</table>\n",
       "</div>"
      ],
      "text/plain": [
       "   JPN  KOR\n",
       "0    2    6\n",
       "1    4    8"
      ]
     },
     "metadata": {},
     "output_type": "display_data"
    }
   ],
   "source": [
    "display(df1, df2)"
   ]
  },
  {
   "cell_type": "code",
   "execution_count": 86,
   "metadata": {},
   "outputs": [
    {
     "data": {
      "text/html": [
       "<div>\n",
       "<style scoped>\n",
       "    .dataframe tbody tr th:only-of-type {\n",
       "        vertical-align: middle;\n",
       "    }\n",
       "\n",
       "    .dataframe tbody tr th {\n",
       "        vertical-align: top;\n",
       "    }\n",
       "\n",
       "    .dataframe thead th {\n",
       "        text-align: right;\n",
       "    }\n",
       "</style>\n",
       "<table border=\"1\" class=\"dataframe\">\n",
       "  <thead>\n",
       "    <tr style=\"text-align: right;\">\n",
       "      <th></th>\n",
       "      <th>USA</th>\n",
       "      <th>CHN</th>\n",
       "      <th>JPN</th>\n",
       "      <th>KOR</th>\n",
       "    </tr>\n",
       "  </thead>\n",
       "  <tbody>\n",
       "    <tr>\n",
       "      <th>0</th>\n",
       "      <td>1</td>\n",
       "      <td>2</td>\n",
       "      <td>2</td>\n",
       "      <td>6</td>\n",
       "    </tr>\n",
       "    <tr>\n",
       "      <th>1</th>\n",
       "      <td>3</td>\n",
       "      <td>4</td>\n",
       "      <td>4</td>\n",
       "      <td>8</td>\n",
       "    </tr>\n",
       "  </tbody>\n",
       "</table>\n",
       "</div>"
      ],
      "text/plain": [
       "   USA  CHN  JPN  KOR\n",
       "0    1    2    2    6\n",
       "1    3    4    4    8"
      ]
     },
     "execution_count": 86,
     "metadata": {},
     "output_type": "execute_result"
    }
   ],
   "source": [
    "pd.concat([df1, df2], axis = 1)"
   ]
  },
  {
   "cell_type": "code",
   "execution_count": 87,
   "metadata": {},
   "outputs": [
    {
     "data": {
      "text/html": [
       "<div>\n",
       "<style scoped>\n",
       "    .dataframe tbody tr th:only-of-type {\n",
       "        vertical-align: middle;\n",
       "    }\n",
       "\n",
       "    .dataframe tbody tr th {\n",
       "        vertical-align: top;\n",
       "    }\n",
       "\n",
       "    .dataframe thead th {\n",
       "        text-align: right;\n",
       "    }\n",
       "</style>\n",
       "<table border=\"1\" class=\"dataframe\">\n",
       "  <thead>\n",
       "    <tr style=\"text-align: right;\">\n",
       "      <th></th>\n",
       "      <th>USA</th>\n",
       "      <th>CHN</th>\n",
       "      <th>JPN</th>\n",
       "      <th>KOR</th>\n",
       "    </tr>\n",
       "  </thead>\n",
       "  <tbody>\n",
       "    <tr>\n",
       "      <th>0</th>\n",
       "      <td>1.0</td>\n",
       "      <td>2.0</td>\n",
       "      <td>NaN</td>\n",
       "      <td>NaN</td>\n",
       "    </tr>\n",
       "    <tr>\n",
       "      <th>1</th>\n",
       "      <td>3.0</td>\n",
       "      <td>4.0</td>\n",
       "      <td>NaN</td>\n",
       "      <td>NaN</td>\n",
       "    </tr>\n",
       "    <tr>\n",
       "      <th>0</th>\n",
       "      <td>NaN</td>\n",
       "      <td>NaN</td>\n",
       "      <td>2.0</td>\n",
       "      <td>6.0</td>\n",
       "    </tr>\n",
       "    <tr>\n",
       "      <th>1</th>\n",
       "      <td>NaN</td>\n",
       "      <td>NaN</td>\n",
       "      <td>4.0</td>\n",
       "      <td>8.0</td>\n",
       "    </tr>\n",
       "  </tbody>\n",
       "</table>\n",
       "</div>"
      ],
      "text/plain": [
       "   USA  CHN  JPN  KOR\n",
       "0  1.0  2.0  NaN  NaN\n",
       "1  3.0  4.0  NaN  NaN\n",
       "0  NaN  NaN  2.0  6.0\n",
       "1  NaN  NaN  4.0  8.0"
      ]
     },
     "execution_count": 87,
     "metadata": {},
     "output_type": "execute_result"
    }
   ],
   "source": [
    "pd.concat([df1, df2], axis = 0)"
   ]
  },
  {
   "cell_type": "markdown",
   "metadata": {},
   "source": [
    "### merge"
   ]
  },
  {
   "cell_type": "code",
   "execution_count": 88,
   "metadata": {},
   "outputs": [],
   "source": [
    "df2.columns = ['CHN', 'KOR']"
   ]
  },
  {
   "cell_type": "code",
   "execution_count": 89,
   "metadata": {},
   "outputs": [
    {
     "data": {
      "text/html": [
       "<div>\n",
       "<style scoped>\n",
       "    .dataframe tbody tr th:only-of-type {\n",
       "        vertical-align: middle;\n",
       "    }\n",
       "\n",
       "    .dataframe tbody tr th {\n",
       "        vertical-align: top;\n",
       "    }\n",
       "\n",
       "    .dataframe thead th {\n",
       "        text-align: right;\n",
       "    }\n",
       "</style>\n",
       "<table border=\"1\" class=\"dataframe\">\n",
       "  <thead>\n",
       "    <tr style=\"text-align: right;\">\n",
       "      <th></th>\n",
       "      <th>USA</th>\n",
       "      <th>CHN</th>\n",
       "      <th>KOR</th>\n",
       "    </tr>\n",
       "  </thead>\n",
       "  <tbody>\n",
       "    <tr>\n",
       "      <th>0</th>\n",
       "      <td>1</td>\n",
       "      <td>2</td>\n",
       "      <td>6</td>\n",
       "    </tr>\n",
       "    <tr>\n",
       "      <th>1</th>\n",
       "      <td>3</td>\n",
       "      <td>4</td>\n",
       "      <td>8</td>\n",
       "    </tr>\n",
       "  </tbody>\n",
       "</table>\n",
       "</div>"
      ],
      "text/plain": [
       "   USA  CHN  KOR\n",
       "0    1    2    6\n",
       "1    3    4    8"
      ]
     },
     "execution_count": 89,
     "metadata": {},
     "output_type": "execute_result"
    }
   ],
   "source": [
    "df1.merge(df2, on = 'CHN', how = 'left')"
   ]
  },
  {
   "cell_type": "markdown",
   "metadata": {},
   "source": [
    "### 새로운 열 만들기"
   ]
  },
  {
   "cell_type": "code",
   "execution_count": 91,
   "metadata": {},
   "outputs": [
    {
     "data": {
      "text/html": [
       "<div>\n",
       "<style scoped>\n",
       "    .dataframe tbody tr th:only-of-type {\n",
       "        vertical-align: middle;\n",
       "    }\n",
       "\n",
       "    .dataframe tbody tr th {\n",
       "        vertical-align: top;\n",
       "    }\n",
       "\n",
       "    .dataframe thead th {\n",
       "        text-align: right;\n",
       "    }\n",
       "</style>\n",
       "<table border=\"1\" class=\"dataframe\">\n",
       "  <thead>\n",
       "    <tr style=\"text-align: right;\">\n",
       "      <th></th>\n",
       "      <th>KOR</th>\n",
       "      <th>USA</th>\n",
       "      <th>Total</th>\n",
       "    </tr>\n",
       "  </thead>\n",
       "  <tbody>\n",
       "    <tr>\n",
       "      <th>0</th>\n",
       "      <td>1</td>\n",
       "      <td>2</td>\n",
       "      <td>6</td>\n",
       "    </tr>\n",
       "    <tr>\n",
       "      <th>1</th>\n",
       "      <td>3</td>\n",
       "      <td>4</td>\n",
       "      <td>14</td>\n",
       "    </tr>\n",
       "  </tbody>\n",
       "</table>\n",
       "</div>"
      ],
      "text/plain": [
       "   KOR  USA  Total\n",
       "0    1    2      6\n",
       "1    3    4     14"
      ]
     },
     "execution_count": 91,
     "metadata": {},
     "output_type": "execute_result"
    }
   ],
   "source": [
    "df['Total'] = df.sum(axis = 1)\n",
    "df"
   ]
  },
  {
   "cell_type": "code",
   "execution_count": 92,
   "metadata": {},
   "outputs": [
    {
     "data": {
      "text/html": [
       "<div>\n",
       "<style scoped>\n",
       "    .dataframe tbody tr th:only-of-type {\n",
       "        vertical-align: middle;\n",
       "    }\n",
       "\n",
       "    .dataframe tbody tr th {\n",
       "        vertical-align: top;\n",
       "    }\n",
       "\n",
       "    .dataframe thead th {\n",
       "        text-align: right;\n",
       "    }\n",
       "</style>\n",
       "<table border=\"1\" class=\"dataframe\">\n",
       "  <thead>\n",
       "    <tr style=\"text-align: right;\">\n",
       "      <th></th>\n",
       "      <th>KOR</th>\n",
       "      <th>USA</th>\n",
       "      <th>Total</th>\n",
       "    </tr>\n",
       "  </thead>\n",
       "  <tbody>\n",
       "    <tr>\n",
       "      <th>0</th>\n",
       "      <td>0.166667</td>\n",
       "      <td>0.333333</td>\n",
       "      <td>1.0</td>\n",
       "    </tr>\n",
       "    <tr>\n",
       "      <th>1</th>\n",
       "      <td>0.214286</td>\n",
       "      <td>0.285714</td>\n",
       "      <td>1.0</td>\n",
       "    </tr>\n",
       "  </tbody>\n",
       "</table>\n",
       "</div>"
      ],
      "text/plain": [
       "        KOR       USA  Total\n",
       "0  0.166667  0.333333    1.0\n",
       "1  0.214286  0.285714    1.0"
      ]
     },
     "execution_count": 92,
     "metadata": {},
     "output_type": "execute_result"
    }
   ],
   "source": [
    "df.div(df.Total, axis = 0)"
   ]
  },
  {
   "cell_type": "code",
   "execution_count": 93,
   "metadata": {},
   "outputs": [
    {
     "data": {
      "text/html": [
       "<div>\n",
       "<style scoped>\n",
       "    .dataframe tbody tr th:only-of-type {\n",
       "        vertical-align: middle;\n",
       "    }\n",
       "\n",
       "    .dataframe tbody tr th {\n",
       "        vertical-align: top;\n",
       "    }\n",
       "\n",
       "    .dataframe thead th {\n",
       "        text-align: right;\n",
       "    }\n",
       "</style>\n",
       "<table border=\"1\" class=\"dataframe\">\n",
       "  <thead>\n",
       "    <tr style=\"text-align: right;\">\n",
       "      <th></th>\n",
       "      <th>0</th>\n",
       "      <th>1</th>\n",
       "      <th>KOR</th>\n",
       "      <th>Total</th>\n",
       "      <th>USA</th>\n",
       "    </tr>\n",
       "  </thead>\n",
       "  <tbody>\n",
       "    <tr>\n",
       "      <th>0</th>\n",
       "      <td>NaN</td>\n",
       "      <td>NaN</td>\n",
       "      <td>NaN</td>\n",
       "      <td>NaN</td>\n",
       "      <td>NaN</td>\n",
       "    </tr>\n",
       "    <tr>\n",
       "      <th>1</th>\n",
       "      <td>NaN</td>\n",
       "      <td>NaN</td>\n",
       "      <td>NaN</td>\n",
       "      <td>NaN</td>\n",
       "      <td>NaN</td>\n",
       "    </tr>\n",
       "  </tbody>\n",
       "</table>\n",
       "</div>"
      ],
      "text/plain": [
       "    0   1  KOR  Total  USA\n",
       "0 NaN NaN  NaN    NaN  NaN\n",
       "1 NaN NaN  NaN    NaN  NaN"
      ]
     },
     "execution_count": 93,
     "metadata": {},
     "output_type": "execute_result"
    }
   ],
   "source": [
    "df.div(df.Total, axis = 1)"
   ]
  },
  {
   "cell_type": "markdown",
   "metadata": {},
   "source": [
    "### 숫자 데이터를 범주형 데이터로 변환"
   ]
  },
  {
   "cell_type": "code",
   "execution_count": 94,
   "metadata": {},
   "outputs": [
    {
     "data": {
      "text/html": [
       "<div>\n",
       "<style scoped>\n",
       "    .dataframe tbody tr th:only-of-type {\n",
       "        vertical-align: middle;\n",
       "    }\n",
       "\n",
       "    .dataframe tbody tr th {\n",
       "        vertical-align: top;\n",
       "    }\n",
       "\n",
       "    .dataframe thead th {\n",
       "        text-align: right;\n",
       "    }\n",
       "</style>\n",
       "<table border=\"1\" class=\"dataframe\">\n",
       "  <thead>\n",
       "    <tr style=\"text-align: right;\">\n",
       "      <th></th>\n",
       "      <th>a</th>\n",
       "      <th>b</th>\n",
       "    </tr>\n",
       "  </thead>\n",
       "  <tbody>\n",
       "    <tr>\n",
       "      <th>0</th>\n",
       "      <td>0</td>\n",
       "      <td>3</td>\n",
       "    </tr>\n",
       "    <tr>\n",
       "      <th>1</th>\n",
       "      <td>1</td>\n",
       "      <td>6</td>\n",
       "    </tr>\n",
       "    <tr>\n",
       "      <th>2</th>\n",
       "      <td>2</td>\n",
       "      <td>6</td>\n",
       "    </tr>\n",
       "    <tr>\n",
       "      <th>3</th>\n",
       "      <td>3</td>\n",
       "      <td>9</td>\n",
       "    </tr>\n",
       "  </tbody>\n",
       "</table>\n",
       "</div>"
      ],
      "text/plain": [
       "   a  b\n",
       "0  0  3\n",
       "1  1  6\n",
       "2  2  6\n",
       "3  3  9"
      ]
     },
     "execution_count": 94,
     "metadata": {},
     "output_type": "execute_result"
    }
   ],
   "source": [
    "from numpy.random import randint\n",
    "df = pd.DataFrame({'a':range(4), 'b':randint(1,10,4)})\n",
    "df"
   ]
  },
  {
   "cell_type": "code",
   "execution_count": 95,
   "metadata": {},
   "outputs": [
    {
     "data": {
      "text/plain": [
       "0     (0, 5]\n",
       "1    (5, 10]\n",
       "2    (5, 10]\n",
       "3    (5, 10]\n",
       "Name: b, dtype: category\n",
       "Categories (2, interval[int64]): [(0, 5] < (5, 10]]"
      ]
     },
     "execution_count": 95,
     "metadata": {},
     "output_type": "execute_result"
    }
   ],
   "source": [
    "pd.cut(df.b, [0, 5, 10])"
   ]
  },
  {
   "cell_type": "code",
   "execution_count": 96,
   "metadata": {},
   "outputs": [],
   "source": [
    "df.loc[:, 'c'] = pd.cut(df.b, [0, 5, 10], labels=False)"
   ]
  },
  {
   "cell_type": "code",
   "execution_count": 97,
   "metadata": {},
   "outputs": [
    {
     "data": {
      "text/html": [
       "<div>\n",
       "<style scoped>\n",
       "    .dataframe tbody tr th:only-of-type {\n",
       "        vertical-align: middle;\n",
       "    }\n",
       "\n",
       "    .dataframe tbody tr th {\n",
       "        vertical-align: top;\n",
       "    }\n",
       "\n",
       "    .dataframe thead th {\n",
       "        text-align: right;\n",
       "    }\n",
       "</style>\n",
       "<table border=\"1\" class=\"dataframe\">\n",
       "  <thead>\n",
       "    <tr style=\"text-align: right;\">\n",
       "      <th></th>\n",
       "      <th>a</th>\n",
       "      <th>b</th>\n",
       "      <th>c</th>\n",
       "    </tr>\n",
       "  </thead>\n",
       "  <tbody>\n",
       "    <tr>\n",
       "      <th>0</th>\n",
       "      <td>0</td>\n",
       "      <td>3</td>\n",
       "      <td>0</td>\n",
       "    </tr>\n",
       "    <tr>\n",
       "      <th>1</th>\n",
       "      <td>1</td>\n",
       "      <td>6</td>\n",
       "      <td>1</td>\n",
       "    </tr>\n",
       "    <tr>\n",
       "      <th>2</th>\n",
       "      <td>2</td>\n",
       "      <td>6</td>\n",
       "      <td>1</td>\n",
       "    </tr>\n",
       "    <tr>\n",
       "      <th>3</th>\n",
       "      <td>3</td>\n",
       "      <td>9</td>\n",
       "      <td>1</td>\n",
       "    </tr>\n",
       "  </tbody>\n",
       "</table>\n",
       "</div>"
      ],
      "text/plain": [
       "   a  b  c\n",
       "0  0  3  0\n",
       "1  1  6  1\n",
       "2  2  6  1\n",
       "3  3  9  1"
      ]
     },
     "execution_count": 97,
     "metadata": {},
     "output_type": "execute_result"
    }
   ],
   "source": [
    "df"
   ]
  },
  {
   "cell_type": "code",
   "execution_count": 98,
   "metadata": {},
   "outputs": [
    {
     "data": {
      "text/plain": [
       "0    (2.999, 6.0]\n",
       "1    (2.999, 6.0]\n",
       "2    (2.999, 6.0]\n",
       "3      (6.0, 9.0]\n",
       "Name: b, dtype: category\n",
       "Categories (2, interval[float64]): [(2.999, 6.0] < (6.0, 9.0]]"
      ]
     },
     "execution_count": 98,
     "metadata": {},
     "output_type": "execute_result"
    }
   ],
   "source": [
    "pd.qcut(df.b, 2)"
   ]
  },
  {
   "cell_type": "markdown",
   "metadata": {},
   "source": [
    "## Groupby"
   ]
  },
  {
   "cell_type": "code",
   "execution_count": 99,
   "metadata": {},
   "outputs": [],
   "source": [
    "df = pd.DataFrame({'country':['USA', 'KOR', 'USA', 'KOR'], \n",
    "                   'pop':[1, 2, 3, 4], \n",
    "                   'gdp':[3, 4, 5, 6]}, \n",
    "                  index = [16, 16, 17, 17])"
   ]
  },
  {
   "cell_type": "code",
   "execution_count": 100,
   "metadata": {},
   "outputs": [
    {
     "data": {
      "text/html": [
       "<div>\n",
       "<style scoped>\n",
       "    .dataframe tbody tr th:only-of-type {\n",
       "        vertical-align: middle;\n",
       "    }\n",
       "\n",
       "    .dataframe tbody tr th {\n",
       "        vertical-align: top;\n",
       "    }\n",
       "\n",
       "    .dataframe thead th {\n",
       "        text-align: right;\n",
       "    }\n",
       "</style>\n",
       "<table border=\"1\" class=\"dataframe\">\n",
       "  <thead>\n",
       "    <tr style=\"text-align: right;\">\n",
       "      <th></th>\n",
       "      <th>pop</th>\n",
       "      <th>gdp</th>\n",
       "    </tr>\n",
       "    <tr>\n",
       "      <th>country</th>\n",
       "      <th></th>\n",
       "      <th></th>\n",
       "    </tr>\n",
       "  </thead>\n",
       "  <tbody>\n",
       "    <tr>\n",
       "      <th>KOR</th>\n",
       "      <td>6</td>\n",
       "      <td>10</td>\n",
       "    </tr>\n",
       "    <tr>\n",
       "      <th>USA</th>\n",
       "      <td>4</td>\n",
       "      <td>8</td>\n",
       "    </tr>\n",
       "  </tbody>\n",
       "</table>\n",
       "</div>"
      ],
      "text/plain": [
       "         pop  gdp\n",
       "country          \n",
       "KOR        6   10\n",
       "USA        4    8"
      ]
     },
     "execution_count": 100,
     "metadata": {},
     "output_type": "execute_result"
    }
   ],
   "source": [
    "df.groupby('country').sum()"
   ]
  },
  {
   "cell_type": "code",
   "execution_count": 101,
   "metadata": {},
   "outputs": [],
   "source": [
    "df = df[['pop', 'gdp']]"
   ]
  },
  {
   "cell_type": "code",
   "execution_count": 102,
   "metadata": {},
   "outputs": [
    {
     "data": {
      "text/plain": [
       "pop\n",
       "(0, 2]    3.5\n",
       "(2, 4]    5.5\n",
       "Name: gdp, dtype: float64"
      ]
     },
     "execution_count": 102,
     "metadata": {},
     "output_type": "execute_result"
    }
   ],
   "source": [
    "df.groupby(pd.cut(df['pop'], [0, 2, 4]))['gdp'].mean()"
   ]
  },
  {
   "cell_type": "markdown",
   "metadata": {},
   "source": [
    "## lambda 함수"
   ]
  },
  {
   "cell_type": "code",
   "execution_count": 103,
   "metadata": {},
   "outputs": [],
   "source": [
    "square = lambda x: x * x"
   ]
  },
  {
   "cell_type": "code",
   "execution_count": 104,
   "metadata": {},
   "outputs": [
    {
     "data": {
      "text/plain": [
       "4"
      ]
     },
     "execution_count": 104,
     "metadata": {},
     "output_type": "execute_result"
    }
   ],
   "source": [
    "square(2)"
   ]
  },
  {
   "cell_type": "markdown",
   "metadata": {},
   "source": [
    "## apply/applymap/map"
   ]
  },
  {
   "cell_type": "code",
   "execution_count": 105,
   "metadata": {},
   "outputs": [],
   "source": [
    "df = pd.DataFrame({'country':['USA', 'KOR', 'USA', 'KOR'], \n",
    "                   'pop':[1, 2, 3, 4], \n",
    "                   'gdp':[3, 4, 5, 6]}, \n",
    "                  index = [16, 16, 17, 17])"
   ]
  },
  {
   "cell_type": "code",
   "execution_count": 106,
   "metadata": {},
   "outputs": [
    {
     "data": {
      "text/html": [
       "<div>\n",
       "<style scoped>\n",
       "    .dataframe tbody tr th:only-of-type {\n",
       "        vertical-align: middle;\n",
       "    }\n",
       "\n",
       "    .dataframe tbody tr th {\n",
       "        vertical-align: top;\n",
       "    }\n",
       "\n",
       "    .dataframe thead th {\n",
       "        text-align: right;\n",
       "    }\n",
       "</style>\n",
       "<table border=\"1\" class=\"dataframe\">\n",
       "  <thead>\n",
       "    <tr style=\"text-align: right;\">\n",
       "      <th></th>\n",
       "      <th>pop</th>\n",
       "      <th>gdp</th>\n",
       "    </tr>\n",
       "  </thead>\n",
       "  <tbody>\n",
       "    <tr>\n",
       "      <th>16</th>\n",
       "      <td>0.1</td>\n",
       "      <td>0.166667</td>\n",
       "    </tr>\n",
       "    <tr>\n",
       "      <th>16</th>\n",
       "      <td>0.2</td>\n",
       "      <td>0.222222</td>\n",
       "    </tr>\n",
       "    <tr>\n",
       "      <th>17</th>\n",
       "      <td>0.3</td>\n",
       "      <td>0.277778</td>\n",
       "    </tr>\n",
       "    <tr>\n",
       "      <th>17</th>\n",
       "      <td>0.4</td>\n",
       "      <td>0.333333</td>\n",
       "    </tr>\n",
       "  </tbody>\n",
       "</table>\n",
       "</div>"
      ],
      "text/plain": [
       "    pop       gdp\n",
       "16  0.1  0.166667\n",
       "16  0.2  0.222222\n",
       "17  0.3  0.277778\n",
       "17  0.4  0.333333"
      ]
     },
     "execution_count": 106,
     "metadata": {},
     "output_type": "execute_result"
    }
   ],
   "source": [
    "df[['pop', 'gdp']].apply(lambda x: x.div(x.sum()))"
   ]
  },
  {
   "cell_type": "code",
   "execution_count": 107,
   "metadata": {},
   "outputs": [
    {
     "data": {
      "text/html": [
       "<div>\n",
       "<style scoped>\n",
       "    .dataframe tbody tr th:only-of-type {\n",
       "        vertical-align: middle;\n",
       "    }\n",
       "\n",
       "    .dataframe tbody tr th {\n",
       "        vertical-align: top;\n",
       "    }\n",
       "\n",
       "    .dataframe thead th {\n",
       "        text-align: right;\n",
       "    }\n",
       "</style>\n",
       "<table border=\"1\" class=\"dataframe\">\n",
       "  <thead>\n",
       "    <tr style=\"text-align: right;\">\n",
       "      <th></th>\n",
       "      <th>pop</th>\n",
       "      <th>gdp</th>\n",
       "    </tr>\n",
       "  </thead>\n",
       "  <tbody>\n",
       "    <tr>\n",
       "      <th>16</th>\n",
       "      <td>0.10</td>\n",
       "      <td>0.17</td>\n",
       "    </tr>\n",
       "    <tr>\n",
       "      <th>16</th>\n",
       "      <td>0.20</td>\n",
       "      <td>0.22</td>\n",
       "    </tr>\n",
       "    <tr>\n",
       "      <th>17</th>\n",
       "      <td>0.30</td>\n",
       "      <td>0.28</td>\n",
       "    </tr>\n",
       "    <tr>\n",
       "      <th>17</th>\n",
       "      <td>0.40</td>\n",
       "      <td>0.33</td>\n",
       "    </tr>\n",
       "  </tbody>\n",
       "</table>\n",
       "</div>"
      ],
      "text/plain": [
       "     pop   gdp\n",
       "16  0.10  0.17\n",
       "16  0.20  0.22\n",
       "17  0.30  0.28\n",
       "17  0.40  0.33"
      ]
     },
     "execution_count": 107,
     "metadata": {},
     "output_type": "execute_result"
    }
   ],
   "source": [
    "df = df[['pop', 'gdp']].apply(lambda x: x.div(x.sum()))\n",
    "df.applymap(lambda x: '{:,.2f}'.format(x))"
   ]
  },
  {
   "cell_type": "markdown",
   "metadata": {},
   "source": [
    "## stack/unstack"
   ]
  },
  {
   "cell_type": "code",
   "execution_count": 108,
   "metadata": {},
   "outputs": [],
   "source": [
    "df = pd.DataFrame({'country':['USA', 'KOR', 'USA', 'KOR'], \n",
    "                   'pop':[1, 2, 3, 4], \n",
    "                   'gdp':[3, 4, 5, 6]}, \n",
    "                  index = [16, 16, 17, 17])\n",
    "\n",
    "df = df.set_index('country', append=True)"
   ]
  },
  {
   "cell_type": "code",
   "execution_count": 109,
   "metadata": {},
   "outputs": [
    {
     "data": {
      "text/html": [
       "<div>\n",
       "<style scoped>\n",
       "    .dataframe tbody tr th:only-of-type {\n",
       "        vertical-align: middle;\n",
       "    }\n",
       "\n",
       "    .dataframe tbody tr th {\n",
       "        vertical-align: top;\n",
       "    }\n",
       "\n",
       "    .dataframe thead tr th {\n",
       "        text-align: left;\n",
       "    }\n",
       "</style>\n",
       "<table border=\"1\" class=\"dataframe\">\n",
       "  <thead>\n",
       "    <tr>\n",
       "      <th></th>\n",
       "      <th colspan=\"2\" halign=\"left\">pop</th>\n",
       "      <th colspan=\"2\" halign=\"left\">gdp</th>\n",
       "    </tr>\n",
       "    <tr>\n",
       "      <th>country</th>\n",
       "      <th>KOR</th>\n",
       "      <th>USA</th>\n",
       "      <th>KOR</th>\n",
       "      <th>USA</th>\n",
       "    </tr>\n",
       "  </thead>\n",
       "  <tbody>\n",
       "    <tr>\n",
       "      <th>16</th>\n",
       "      <td>2</td>\n",
       "      <td>1</td>\n",
       "      <td>4</td>\n",
       "      <td>3</td>\n",
       "    </tr>\n",
       "    <tr>\n",
       "      <th>17</th>\n",
       "      <td>4</td>\n",
       "      <td>3</td>\n",
       "      <td>6</td>\n",
       "      <td>5</td>\n",
       "    </tr>\n",
       "  </tbody>\n",
       "</table>\n",
       "</div>"
      ],
      "text/plain": [
       "        pop     gdp    \n",
       "country KOR USA KOR USA\n",
       "16        2   1   4   3\n",
       "17        4   3   6   5"
      ]
     },
     "execution_count": 109,
     "metadata": {},
     "output_type": "execute_result"
    }
   ],
   "source": [
    "df.unstack(level = 1)"
   ]
  },
  {
   "cell_type": "code",
   "execution_count": null,
   "metadata": {},
   "outputs": [],
   "source": []
  },
  {
   "cell_type": "code",
   "execution_count": null,
   "metadata": {},
   "outputs": [],
   "source": []
  },
  {
   "cell_type": "markdown",
   "metadata": {},
   "source": [
    "# 연습문제"
   ]
  },
  {
   "cell_type": "markdown",
   "metadata": {},
   "source": [
    "## 1. 앞에서 계산한 연도(2017~2020), 국가별(kr, us, jp) 경제성장률과 물가상승률 데이터프레임을 이용하여\n",
    "\n",
    "- 2018년 이후 국가별 평균 경제성장률과 물가상승률을 계산하라\n",
    "- 2018년 이후 한국과 미국의 연도별 평균경제성장률을 계산하라\n",
    "\n",
    "## 2. 같은 방식으로 중국(cn)의 경제성장률과 물가상승률 데이터프레임을 생성하여 결합하라\n",
    "\n",
    "## 3. 4개 국가 평균 경제성장률이 0보다 큰 연도를 표시하라"
   ]
  },
  {
   "cell_type": "code",
   "execution_count": null,
   "metadata": {},
   "outputs": [],
   "source": []
  },
  {
   "cell_type": "code",
   "execution_count": null,
   "metadata": {},
   "outputs": [],
   "source": []
  },
  {
   "cell_type": "markdown",
   "metadata": {},
   "source": [
    "<a id='timeseries'></a>\n",
    "\n",
    "# 시계열"
   ]
  },
  {
   "cell_type": "code",
   "execution_count": 146,
   "metadata": {},
   "outputs": [],
   "source": [
    "import numpy as np\n",
    "df = pd.DataFrame(np.random.randint(1, 20, 24).reshape(12, 2), columns=['con', 'gdp'])"
   ]
  },
  {
   "cell_type": "code",
   "execution_count": 147,
   "metadata": {},
   "outputs": [
    {
     "data": {
      "text/html": [
       "<div>\n",
       "<style scoped>\n",
       "    .dataframe tbody tr th:only-of-type {\n",
       "        vertical-align: middle;\n",
       "    }\n",
       "\n",
       "    .dataframe tbody tr th {\n",
       "        vertical-align: top;\n",
       "    }\n",
       "\n",
       "    .dataframe thead th {\n",
       "        text-align: right;\n",
       "    }\n",
       "</style>\n",
       "<table border=\"1\" class=\"dataframe\">\n",
       "  <thead>\n",
       "    <tr style=\"text-align: right;\">\n",
       "      <th></th>\n",
       "      <th>con</th>\n",
       "      <th>gdp</th>\n",
       "    </tr>\n",
       "  </thead>\n",
       "  <tbody>\n",
       "    <tr>\n",
       "      <th>0</th>\n",
       "      <td>3</td>\n",
       "      <td>9</td>\n",
       "    </tr>\n",
       "    <tr>\n",
       "      <th>1</th>\n",
       "      <td>5</td>\n",
       "      <td>18</td>\n",
       "    </tr>\n",
       "    <tr>\n",
       "      <th>2</th>\n",
       "      <td>16</td>\n",
       "      <td>4</td>\n",
       "    </tr>\n",
       "    <tr>\n",
       "      <th>3</th>\n",
       "      <td>19</td>\n",
       "      <td>18</td>\n",
       "    </tr>\n",
       "    <tr>\n",
       "      <th>4</th>\n",
       "      <td>16</td>\n",
       "      <td>18</td>\n",
       "    </tr>\n",
       "    <tr>\n",
       "      <th>5</th>\n",
       "      <td>8</td>\n",
       "      <td>8</td>\n",
       "    </tr>\n",
       "    <tr>\n",
       "      <th>6</th>\n",
       "      <td>15</td>\n",
       "      <td>14</td>\n",
       "    </tr>\n",
       "    <tr>\n",
       "      <th>7</th>\n",
       "      <td>5</td>\n",
       "      <td>6</td>\n",
       "    </tr>\n",
       "    <tr>\n",
       "      <th>8</th>\n",
       "      <td>11</td>\n",
       "      <td>9</td>\n",
       "    </tr>\n",
       "    <tr>\n",
       "      <th>9</th>\n",
       "      <td>1</td>\n",
       "      <td>11</td>\n",
       "    </tr>\n",
       "    <tr>\n",
       "      <th>10</th>\n",
       "      <td>16</td>\n",
       "      <td>8</td>\n",
       "    </tr>\n",
       "    <tr>\n",
       "      <th>11</th>\n",
       "      <td>3</td>\n",
       "      <td>3</td>\n",
       "    </tr>\n",
       "  </tbody>\n",
       "</table>\n",
       "</div>"
      ],
      "text/plain": [
       "    con  gdp\n",
       "0     3    9\n",
       "1     5   18\n",
       "2    16    4\n",
       "3    19   18\n",
       "4    16   18\n",
       "5     8    8\n",
       "6    15   14\n",
       "7     5    6\n",
       "8    11    9\n",
       "9     1   11\n",
       "10   16    8\n",
       "11    3    3"
      ]
     },
     "execution_count": 147,
     "metadata": {},
     "output_type": "execute_result"
    }
   ],
   "source": [
    "df"
   ]
  },
  {
   "cell_type": "code",
   "execution_count": 148,
   "metadata": {},
   "outputs": [],
   "source": [
    "df.index = pd.date_range('2017-3-31', '2019-12-31', freq='Q')"
   ]
  },
  {
   "cell_type": "code",
   "execution_count": 149,
   "metadata": {},
   "outputs": [
    {
     "data": {
      "text/html": [
       "<div>\n",
       "<style scoped>\n",
       "    .dataframe tbody tr th:only-of-type {\n",
       "        vertical-align: middle;\n",
       "    }\n",
       "\n",
       "    .dataframe tbody tr th {\n",
       "        vertical-align: top;\n",
       "    }\n",
       "\n",
       "    .dataframe thead th {\n",
       "        text-align: right;\n",
       "    }\n",
       "</style>\n",
       "<table border=\"1\" class=\"dataframe\">\n",
       "  <thead>\n",
       "    <tr style=\"text-align: right;\">\n",
       "      <th></th>\n",
       "      <th>con</th>\n",
       "      <th>gdp</th>\n",
       "    </tr>\n",
       "  </thead>\n",
       "  <tbody>\n",
       "    <tr>\n",
       "      <th>2017-03-31</th>\n",
       "      <td>3</td>\n",
       "      <td>9</td>\n",
       "    </tr>\n",
       "    <tr>\n",
       "      <th>2017-06-30</th>\n",
       "      <td>5</td>\n",
       "      <td>18</td>\n",
       "    </tr>\n",
       "    <tr>\n",
       "      <th>2017-09-30</th>\n",
       "      <td>16</td>\n",
       "      <td>4</td>\n",
       "    </tr>\n",
       "    <tr>\n",
       "      <th>2017-12-31</th>\n",
       "      <td>19</td>\n",
       "      <td>18</td>\n",
       "    </tr>\n",
       "    <tr>\n",
       "      <th>2018-03-31</th>\n",
       "      <td>16</td>\n",
       "      <td>18</td>\n",
       "    </tr>\n",
       "    <tr>\n",
       "      <th>2018-06-30</th>\n",
       "      <td>8</td>\n",
       "      <td>8</td>\n",
       "    </tr>\n",
       "    <tr>\n",
       "      <th>2018-09-30</th>\n",
       "      <td>15</td>\n",
       "      <td>14</td>\n",
       "    </tr>\n",
       "    <tr>\n",
       "      <th>2018-12-31</th>\n",
       "      <td>5</td>\n",
       "      <td>6</td>\n",
       "    </tr>\n",
       "    <tr>\n",
       "      <th>2019-03-31</th>\n",
       "      <td>11</td>\n",
       "      <td>9</td>\n",
       "    </tr>\n",
       "    <tr>\n",
       "      <th>2019-06-30</th>\n",
       "      <td>1</td>\n",
       "      <td>11</td>\n",
       "    </tr>\n",
       "    <tr>\n",
       "      <th>2019-09-30</th>\n",
       "      <td>16</td>\n",
       "      <td>8</td>\n",
       "    </tr>\n",
       "    <tr>\n",
       "      <th>2019-12-31</th>\n",
       "      <td>3</td>\n",
       "      <td>3</td>\n",
       "    </tr>\n",
       "  </tbody>\n",
       "</table>\n",
       "</div>"
      ],
      "text/plain": [
       "            con  gdp\n",
       "2017-03-31    3    9\n",
       "2017-06-30    5   18\n",
       "2017-09-30   16    4\n",
       "2017-12-31   19   18\n",
       "2018-03-31   16   18\n",
       "2018-06-30    8    8\n",
       "2018-09-30   15   14\n",
       "2018-12-31    5    6\n",
       "2019-03-31   11    9\n",
       "2019-06-30    1   11\n",
       "2019-09-30   16    8\n",
       "2019-12-31    3    3"
      ]
     },
     "execution_count": 149,
     "metadata": {},
     "output_type": "execute_result"
    }
   ],
   "source": [
    "df"
   ]
  },
  {
   "cell_type": "code",
   "execution_count": 150,
   "metadata": {},
   "outputs": [
    {
     "data": {
      "text/plain": [
       "pandas.core.indexes.datetimes.DatetimeIndex"
      ]
     },
     "execution_count": 150,
     "metadata": {},
     "output_type": "execute_result"
    }
   ],
   "source": [
    "type(df.index)"
   ]
  },
  {
   "cell_type": "code",
   "execution_count": 151,
   "metadata": {},
   "outputs": [
    {
     "data": {
      "text/html": [
       "<div>\n",
       "<style scoped>\n",
       "    .dataframe tbody tr th:only-of-type {\n",
       "        vertical-align: middle;\n",
       "    }\n",
       "\n",
       "    .dataframe tbody tr th {\n",
       "        vertical-align: top;\n",
       "    }\n",
       "\n",
       "    .dataframe thead th {\n",
       "        text-align: right;\n",
       "    }\n",
       "</style>\n",
       "<table border=\"1\" class=\"dataframe\">\n",
       "  <thead>\n",
       "    <tr style=\"text-align: right;\">\n",
       "      <th></th>\n",
       "      <th>con</th>\n",
       "      <th>gdp</th>\n",
       "    </tr>\n",
       "  </thead>\n",
       "  <tbody>\n",
       "    <tr>\n",
       "      <th>2017-12-31</th>\n",
       "      <td>43</td>\n",
       "      <td>49</td>\n",
       "    </tr>\n",
       "    <tr>\n",
       "      <th>2018-12-31</th>\n",
       "      <td>44</td>\n",
       "      <td>46</td>\n",
       "    </tr>\n",
       "    <tr>\n",
       "      <th>2019-12-31</th>\n",
       "      <td>31</td>\n",
       "      <td>31</td>\n",
       "    </tr>\n",
       "  </tbody>\n",
       "</table>\n",
       "</div>"
      ],
      "text/plain": [
       "            con  gdp\n",
       "2017-12-31   43   49\n",
       "2018-12-31   44   46\n",
       "2019-12-31   31   31"
      ]
     },
     "execution_count": 151,
     "metadata": {},
     "output_type": "execute_result"
    }
   ],
   "source": [
    "df.resample('A').sum()"
   ]
  },
  {
   "cell_type": "code",
   "execution_count": 152,
   "metadata": {},
   "outputs": [
    {
     "data": {
      "text/html": [
       "<div>\n",
       "<style scoped>\n",
       "    .dataframe tbody tr th:only-of-type {\n",
       "        vertical-align: middle;\n",
       "    }\n",
       "\n",
       "    .dataframe tbody tr th {\n",
       "        vertical-align: top;\n",
       "    }\n",
       "\n",
       "    .dataframe thead th {\n",
       "        text-align: right;\n",
       "    }\n",
       "</style>\n",
       "<table border=\"1\" class=\"dataframe\">\n",
       "  <thead>\n",
       "    <tr style=\"text-align: right;\">\n",
       "      <th></th>\n",
       "      <th>con</th>\n",
       "      <th>gdp</th>\n",
       "    </tr>\n",
       "  </thead>\n",
       "  <tbody>\n",
       "    <tr>\n",
       "      <th>2017-12-31</th>\n",
       "      <td>19</td>\n",
       "      <td>18</td>\n",
       "    </tr>\n",
       "    <tr>\n",
       "      <th>2018-12-31</th>\n",
       "      <td>5</td>\n",
       "      <td>6</td>\n",
       "    </tr>\n",
       "    <tr>\n",
       "      <th>2019-12-31</th>\n",
       "      <td>3</td>\n",
       "      <td>3</td>\n",
       "    </tr>\n",
       "  </tbody>\n",
       "</table>\n",
       "</div>"
      ],
      "text/plain": [
       "            con  gdp\n",
       "2017-12-31   19   18\n",
       "2018-12-31    5    6\n",
       "2019-12-31    3    3"
      ]
     },
     "execution_count": 152,
     "metadata": {},
     "output_type": "execute_result"
    }
   ],
   "source": [
    "df.resample('A').last()"
   ]
  },
  {
   "cell_type": "code",
   "execution_count": 153,
   "metadata": {},
   "outputs": [
    {
     "data": {
      "text/html": [
       "<div>\n",
       "<style scoped>\n",
       "    .dataframe tbody tr th:only-of-type {\n",
       "        vertical-align: middle;\n",
       "    }\n",
       "\n",
       "    .dataframe tbody tr th {\n",
       "        vertical-align: top;\n",
       "    }\n",
       "\n",
       "    .dataframe thead th {\n",
       "        text-align: right;\n",
       "    }\n",
       "</style>\n",
       "<table border=\"1\" class=\"dataframe\">\n",
       "  <thead>\n",
       "    <tr style=\"text-align: right;\">\n",
       "      <th></th>\n",
       "      <th>con</th>\n",
       "      <th>gdp</th>\n",
       "    </tr>\n",
       "  </thead>\n",
       "  <tbody>\n",
       "    <tr>\n",
       "      <th>2017-12-31</th>\n",
       "      <td>10.75</td>\n",
       "      <td>12.25</td>\n",
       "    </tr>\n",
       "    <tr>\n",
       "      <th>2018-12-31</th>\n",
       "      <td>11.00</td>\n",
       "      <td>11.50</td>\n",
       "    </tr>\n",
       "    <tr>\n",
       "      <th>2019-12-31</th>\n",
       "      <td>7.75</td>\n",
       "      <td>7.75</td>\n",
       "    </tr>\n",
       "  </tbody>\n",
       "</table>\n",
       "</div>"
      ],
      "text/plain": [
       "              con    gdp\n",
       "2017-12-31  10.75  12.25\n",
       "2018-12-31  11.00  11.50\n",
       "2019-12-31   7.75   7.75"
      ]
     },
     "execution_count": 153,
     "metadata": {},
     "output_type": "execute_result"
    }
   ],
   "source": [
    "df.resample('A').mean()"
   ]
  },
  {
   "cell_type": "code",
   "execution_count": 154,
   "metadata": {},
   "outputs": [
    {
     "data": {
      "text/plain": [
       "<AxesSubplot:>"
      ]
     },
     "execution_count": 154,
     "metadata": {},
     "output_type": "execute_result"
    },
    {
     "data": {
      "image/png": "[encoded data removed]",
      "text/plain": [
       "<Figure size 432x288 with 1 Axes>"
      ]
     },
     "metadata": {
      "needs_background": "light"
     },
     "output_type": "display_data"
    }
   ],
   "source": [
    "df.plot()"
   ]
  },
  {
   "cell_type": "code",
   "execution_count": 155,
   "metadata": {},
   "outputs": [
    {
     "data": {
      "text/plain": [
       "<AxesSubplot:>"
      ]
     },
     "execution_count": 155,
     "metadata": {},
     "output_type": "execute_result"
    },
    {
     "data": {
      "image/png": "[encoded data removed]",
      "text/plain": [
       "<Figure size 432x288 with 1 Axes>"
      ]
     },
     "metadata": {
      "needs_background": "light"
     },
     "output_type": "display_data"
    }
   ],
   "source": [
    "df.plot.bar()"
   ]
  },
  {
   "cell_type": "code",
   "execution_count": 156,
   "metadata": {},
   "outputs": [
    {
     "data": {
      "text/plain": [
       "<AxesSubplot:>"
      ]
     },
     "execution_count": 156,
     "metadata": {},
     "output_type": "execute_result"
    },
    {
     "data": {
      "image/png": "[encoded data removed]",
      "text/plain": [
       "<Figure size 432x288 with 1 Axes>"
      ]
     },
     "metadata": {
      "needs_background": "light"
     },
     "output_type": "display_data"
    }
   ],
   "source": [
    "df.resample('M').interpolate(method='cubic').plot()\n",
    "# ‘nearest’, ‘zero’, ‘slinear’, ‘quadratic’, ‘cubic’, ‘spline’, ‘barycentric’, ‘polynomial’"
   ]
  },
  {
   "cell_type": "code",
   "execution_count": 157,
   "metadata": {},
   "outputs": [
    {
     "data": {
      "text/plain": [
       "<AxesSubplot:>"
      ]
     },
     "execution_count": 157,
     "metadata": {},
     "output_type": "execute_result"
    },
    {
     "data": {
      "image/png": "[encoded data removed]",
      "text/plain": [
       "<Figure size 432x288 with 1 Axes>"
      ]
     },
     "metadata": {
      "needs_background": "light"
     },
     "output_type": "display_data"
    }
   ],
   "source": [
    "df.plot()\n",
    "# ‘nearest’, ‘zero’, ‘slinear’, ‘quadratic’, ‘cubic’, ‘spline’, ‘barycentric’, ‘polynomial’"
   ]
  },
  {
   "cell_type": "code",
   "execution_count": 158,
   "metadata": {},
   "outputs": [],
   "source": [
    "df = pd.DataFrame({'value':[2, 4, 5, 6], 'date':['20201201', '2019-9-1', '1 jul 2018', '2017q1']})"
   ]
  },
  {
   "cell_type": "code",
   "execution_count": 159,
   "metadata": {},
   "outputs": [
    {
     "data": {
      "text/html": [
       "<div>\n",
       "<style scoped>\n",
       "    .dataframe tbody tr th:only-of-type {\n",
       "        vertical-align: middle;\n",
       "    }\n",
       "\n",
       "    .dataframe tbody tr th {\n",
       "        vertical-align: top;\n",
       "    }\n",
       "\n",
       "    .dataframe thead th {\n",
       "        text-align: right;\n",
       "    }\n",
       "</style>\n",
       "<table border=\"1\" class=\"dataframe\">\n",
       "  <thead>\n",
       "    <tr style=\"text-align: right;\">\n",
       "      <th></th>\n",
       "      <th>value</th>\n",
       "      <th>date</th>\n",
       "    </tr>\n",
       "  </thead>\n",
       "  <tbody>\n",
       "    <tr>\n",
       "      <th>0</th>\n",
       "      <td>2</td>\n",
       "      <td>20201201</td>\n",
       "    </tr>\n",
       "    <tr>\n",
       "      <th>1</th>\n",
       "      <td>4</td>\n",
       "      <td>2019-9-1</td>\n",
       "    </tr>\n",
       "    <tr>\n",
       "      <th>2</th>\n",
       "      <td>5</td>\n",
       "      <td>1 jul 2018</td>\n",
       "    </tr>\n",
       "    <tr>\n",
       "      <th>3</th>\n",
       "      <td>6</td>\n",
       "      <td>2017q1</td>\n",
       "    </tr>\n",
       "  </tbody>\n",
       "</table>\n",
       "</div>"
      ],
      "text/plain": [
       "   value        date\n",
       "0      2    20201201\n",
       "1      4    2019-9-1\n",
       "2      5  1 jul 2018\n",
       "3      6      2017q1"
      ]
     },
     "execution_count": 159,
     "metadata": {},
     "output_type": "execute_result"
    }
   ],
   "source": [
    "df"
   ]
  },
  {
   "cell_type": "code",
   "execution_count": 160,
   "metadata": {},
   "outputs": [],
   "source": [
    "df.date = pd.to_datetime(df.date)"
   ]
  },
  {
   "cell_type": "code",
   "execution_count": 161,
   "metadata": {},
   "outputs": [
    {
     "data": {
      "text/html": [
       "<div>\n",
       "<style scoped>\n",
       "    .dataframe tbody tr th:only-of-type {\n",
       "        vertical-align: middle;\n",
       "    }\n",
       "\n",
       "    .dataframe tbody tr th {\n",
       "        vertical-align: top;\n",
       "    }\n",
       "\n",
       "    .dataframe thead th {\n",
       "        text-align: right;\n",
       "    }\n",
       "</style>\n",
       "<table border=\"1\" class=\"dataframe\">\n",
       "  <thead>\n",
       "    <tr style=\"text-align: right;\">\n",
       "      <th></th>\n",
       "      <th>value</th>\n",
       "      <th>date</th>\n",
       "    </tr>\n",
       "  </thead>\n",
       "  <tbody>\n",
       "    <tr>\n",
       "      <th>0</th>\n",
       "      <td>2</td>\n",
       "      <td>2020-12-01</td>\n",
       "    </tr>\n",
       "    <tr>\n",
       "      <th>1</th>\n",
       "      <td>4</td>\n",
       "      <td>2019-09-01</td>\n",
       "    </tr>\n",
       "    <tr>\n",
       "      <th>2</th>\n",
       "      <td>5</td>\n",
       "      <td>2018-07-01</td>\n",
       "    </tr>\n",
       "    <tr>\n",
       "      <th>3</th>\n",
       "      <td>6</td>\n",
       "      <td>2017-01-01</td>\n",
       "    </tr>\n",
       "  </tbody>\n",
       "</table>\n",
       "</div>"
      ],
      "text/plain": [
       "   value       date\n",
       "0      2 2020-12-01\n",
       "1      4 2019-09-01\n",
       "2      5 2018-07-01\n",
       "3      6 2017-01-01"
      ]
     },
     "execution_count": 161,
     "metadata": {},
     "output_type": "execute_result"
    }
   ],
   "source": [
    "df"
   ]
  },
  {
   "cell_type": "code",
   "execution_count": 162,
   "metadata": {},
   "outputs": [],
   "source": [
    "df = df.set_index('date')"
   ]
  },
  {
   "cell_type": "code",
   "execution_count": 163,
   "metadata": {},
   "outputs": [
    {
     "data": {
      "text/html": [
       "<div>\n",
       "<style scoped>\n",
       "    .dataframe tbody tr th:only-of-type {\n",
       "        vertical-align: middle;\n",
       "    }\n",
       "\n",
       "    .dataframe tbody tr th {\n",
       "        vertical-align: top;\n",
       "    }\n",
       "\n",
       "    .dataframe thead th {\n",
       "        text-align: right;\n",
       "    }\n",
       "</style>\n",
       "<table border=\"1\" class=\"dataframe\">\n",
       "  <thead>\n",
       "    <tr style=\"text-align: right;\">\n",
       "      <th></th>\n",
       "      <th>value</th>\n",
       "    </tr>\n",
       "    <tr>\n",
       "      <th>date</th>\n",
       "      <th></th>\n",
       "    </tr>\n",
       "  </thead>\n",
       "  <tbody>\n",
       "    <tr>\n",
       "      <th>2020-12-01</th>\n",
       "      <td>2</td>\n",
       "    </tr>\n",
       "    <tr>\n",
       "      <th>2019-09-01</th>\n",
       "      <td>4</td>\n",
       "    </tr>\n",
       "    <tr>\n",
       "      <th>2018-07-01</th>\n",
       "      <td>5</td>\n",
       "    </tr>\n",
       "    <tr>\n",
       "      <th>2017-01-01</th>\n",
       "      <td>6</td>\n",
       "    </tr>\n",
       "  </tbody>\n",
       "</table>\n",
       "</div>"
      ],
      "text/plain": [
       "            value\n",
       "date             \n",
       "2020-12-01      2\n",
       "2019-09-01      4\n",
       "2018-07-01      5\n",
       "2017-01-01      6"
      ]
     },
     "execution_count": 163,
     "metadata": {},
     "output_type": "execute_result"
    }
   ],
   "source": [
    "df"
   ]
  },
  {
   "cell_type": "markdown",
   "metadata": {},
   "source": [
    "#### 전기 대비 증가율, 차분 등 함수를 적용하기 위해서는 데이터프레임의 데이트타임인덱스가 빠짐없이 순서대로 정렬되어 있는지 확인해야 한다."
   ]
  },
  {
   "cell_type": "code",
   "execution_count": 164,
   "metadata": {},
   "outputs": [
    {
     "data": {
      "text/html": [
       "<div>\n",
       "<style scoped>\n",
       "    .dataframe tbody tr th:only-of-type {\n",
       "        vertical-align: middle;\n",
       "    }\n",
       "\n",
       "    .dataframe tbody tr th {\n",
       "        vertical-align: top;\n",
       "    }\n",
       "\n",
       "    .dataframe thead th {\n",
       "        text-align: right;\n",
       "    }\n",
       "</style>\n",
       "<table border=\"1\" class=\"dataframe\">\n",
       "  <thead>\n",
       "    <tr style=\"text-align: right;\">\n",
       "      <th></th>\n",
       "      <th>value</th>\n",
       "    </tr>\n",
       "    <tr>\n",
       "      <th>date</th>\n",
       "      <th></th>\n",
       "    </tr>\n",
       "  </thead>\n",
       "  <tbody>\n",
       "    <tr>\n",
       "      <th>2020-12-01</th>\n",
       "      <td>NaN</td>\n",
       "    </tr>\n",
       "    <tr>\n",
       "      <th>2019-09-01</th>\n",
       "      <td>1.00</td>\n",
       "    </tr>\n",
       "    <tr>\n",
       "      <th>2018-07-01</th>\n",
       "      <td>0.25</td>\n",
       "    </tr>\n",
       "    <tr>\n",
       "      <th>2017-01-01</th>\n",
       "      <td>0.20</td>\n",
       "    </tr>\n",
       "  </tbody>\n",
       "</table>\n",
       "</div>"
      ],
      "text/plain": [
       "            value\n",
       "date             \n",
       "2020-12-01    NaN\n",
       "2019-09-01   1.00\n",
       "2018-07-01   0.25\n",
       "2017-01-01   0.20"
      ]
     },
     "execution_count": 164,
     "metadata": {},
     "output_type": "execute_result"
    }
   ],
   "source": [
    "df.pct_change()"
   ]
  },
  {
   "cell_type": "code",
   "execution_count": 165,
   "metadata": {},
   "outputs": [],
   "source": [
    "from pandas.tseries.offsets import YearEnd, YearBegin, QuarterEnd, QuarterBegin"
   ]
  },
  {
   "cell_type": "code",
   "execution_count": 166,
   "metadata": {},
   "outputs": [
    {
     "data": {
      "text/html": [
       "<div>\n",
       "<style scoped>\n",
       "    .dataframe tbody tr th:only-of-type {\n",
       "        vertical-align: middle;\n",
       "    }\n",
       "\n",
       "    .dataframe tbody tr th {\n",
       "        vertical-align: top;\n",
       "    }\n",
       "\n",
       "    .dataframe thead th {\n",
       "        text-align: right;\n",
       "    }\n",
       "</style>\n",
       "<table border=\"1\" class=\"dataframe\">\n",
       "  <thead>\n",
       "    <tr style=\"text-align: right;\">\n",
       "      <th></th>\n",
       "      <th>value</th>\n",
       "    </tr>\n",
       "    <tr>\n",
       "      <th>date</th>\n",
       "      <th></th>\n",
       "    </tr>\n",
       "  </thead>\n",
       "  <tbody>\n",
       "    <tr>\n",
       "      <th>2020-12-31</th>\n",
       "      <td>2</td>\n",
       "    </tr>\n",
       "    <tr>\n",
       "      <th>2019-12-31</th>\n",
       "      <td>4</td>\n",
       "    </tr>\n",
       "    <tr>\n",
       "      <th>2018-12-31</th>\n",
       "      <td>5</td>\n",
       "    </tr>\n",
       "    <tr>\n",
       "      <th>2017-12-31</th>\n",
       "      <td>6</td>\n",
       "    </tr>\n",
       "  </tbody>\n",
       "</table>\n",
       "</div>"
      ],
      "text/plain": [
       "            value\n",
       "date             \n",
       "2020-12-31      2\n",
       "2019-12-31      4\n",
       "2018-12-31      5\n",
       "2017-12-31      6"
      ]
     },
     "execution_count": 166,
     "metadata": {},
     "output_type": "execute_result"
    }
   ],
   "source": [
    "df.index = df.index + YearEnd()\n",
    "df"
   ]
  },
  {
   "cell_type": "code",
   "execution_count": 167,
   "metadata": {},
   "outputs": [],
   "source": [
    "df = pd.DataFrame({'value':[2, 4, 5, 6], 'date':['20201201', '2019-9-1', '1 jul 2018', '2017q1']})\n",
    "df.date = pd.to_datetime(df.date)\n",
    "df = df.set_index('date')"
   ]
  },
  {
   "cell_type": "code",
   "execution_count": 168,
   "metadata": {},
   "outputs": [
    {
     "data": {
      "text/html": [
       "<div>\n",
       "<style scoped>\n",
       "    .dataframe tbody tr th:only-of-type {\n",
       "        vertical-align: middle;\n",
       "    }\n",
       "\n",
       "    .dataframe tbody tr th {\n",
       "        vertical-align: top;\n",
       "    }\n",
       "\n",
       "    .dataframe thead th {\n",
       "        text-align: right;\n",
       "    }\n",
       "</style>\n",
       "<table border=\"1\" class=\"dataframe\">\n",
       "  <thead>\n",
       "    <tr style=\"text-align: right;\">\n",
       "      <th></th>\n",
       "      <th>value</th>\n",
       "    </tr>\n",
       "    <tr>\n",
       "      <th>date</th>\n",
       "      <th></th>\n",
       "    </tr>\n",
       "  </thead>\n",
       "  <tbody>\n",
       "    <tr>\n",
       "      <th>2020-12-31</th>\n",
       "      <td>2</td>\n",
       "    </tr>\n",
       "    <tr>\n",
       "      <th>2019-09-30</th>\n",
       "      <td>4</td>\n",
       "    </tr>\n",
       "    <tr>\n",
       "      <th>2018-09-30</th>\n",
       "      <td>5</td>\n",
       "    </tr>\n",
       "    <tr>\n",
       "      <th>2017-03-31</th>\n",
       "      <td>6</td>\n",
       "    </tr>\n",
       "  </tbody>\n",
       "</table>\n",
       "</div>"
      ],
      "text/plain": [
       "            value\n",
       "date             \n",
       "2020-12-31      2\n",
       "2019-09-30      4\n",
       "2018-09-30      5\n",
       "2017-03-31      6"
      ]
     },
     "execution_count": 168,
     "metadata": {},
     "output_type": "execute_result"
    }
   ],
   "source": [
    "df.index = df.index + QuarterEnd()\n",
    "df"
   ]
  },
  {
   "cell_type": "markdown",
   "metadata": {},
   "source": [
    "## 연도/분기/월 변수 만들기"
   ]
  },
  {
   "cell_type": "code",
   "execution_count": 169,
   "metadata": {},
   "outputs": [],
   "source": [
    "df = pd.DataFrame({'value':[2, 4, 5, 6], 'date':['20201201', '2019-9-1', '1 jul 2018', '2017q1']})\n",
    "df.date = pd.to_datetime(df.date)"
   ]
  },
  {
   "cell_type": "code",
   "execution_count": 170,
   "metadata": {},
   "outputs": [
    {
     "data": {
      "text/html": [
       "<div>\n",
       "<style scoped>\n",
       "    .dataframe tbody tr th:only-of-type {\n",
       "        vertical-align: middle;\n",
       "    }\n",
       "\n",
       "    .dataframe tbody tr th {\n",
       "        vertical-align: top;\n",
       "    }\n",
       "\n",
       "    .dataframe thead th {\n",
       "        text-align: right;\n",
       "    }\n",
       "</style>\n",
       "<table border=\"1\" class=\"dataframe\">\n",
       "  <thead>\n",
       "    <tr style=\"text-align: right;\">\n",
       "      <th></th>\n",
       "      <th>value</th>\n",
       "      <th>date</th>\n",
       "    </tr>\n",
       "  </thead>\n",
       "  <tbody>\n",
       "    <tr>\n",
       "      <th>0</th>\n",
       "      <td>2</td>\n",
       "      <td>2020-12-01</td>\n",
       "    </tr>\n",
       "    <tr>\n",
       "      <th>1</th>\n",
       "      <td>4</td>\n",
       "      <td>2019-09-01</td>\n",
       "    </tr>\n",
       "    <tr>\n",
       "      <th>2</th>\n",
       "      <td>5</td>\n",
       "      <td>2018-07-01</td>\n",
       "    </tr>\n",
       "    <tr>\n",
       "      <th>3</th>\n",
       "      <td>6</td>\n",
       "      <td>2017-01-01</td>\n",
       "    </tr>\n",
       "  </tbody>\n",
       "</table>\n",
       "</div>"
      ],
      "text/plain": [
       "   value       date\n",
       "0      2 2020-12-01\n",
       "1      4 2019-09-01\n",
       "2      5 2018-07-01\n",
       "3      6 2017-01-01"
      ]
     },
     "execution_count": 170,
     "metadata": {},
     "output_type": "execute_result"
    }
   ],
   "source": [
    "df"
   ]
  },
  {
   "cell_type": "code",
   "execution_count": 171,
   "metadata": {},
   "outputs": [],
   "source": [
    "df['month'] = df.date.dt.month"
   ]
  },
  {
   "cell_type": "code",
   "execution_count": 172,
   "metadata": {},
   "outputs": [
    {
     "data": {
      "text/html": [
       "<div>\n",
       "<style scoped>\n",
       "    .dataframe tbody tr th:only-of-type {\n",
       "        vertical-align: middle;\n",
       "    }\n",
       "\n",
       "    .dataframe tbody tr th {\n",
       "        vertical-align: top;\n",
       "    }\n",
       "\n",
       "    .dataframe thead th {\n",
       "        text-align: right;\n",
       "    }\n",
       "</style>\n",
       "<table border=\"1\" class=\"dataframe\">\n",
       "  <thead>\n",
       "    <tr style=\"text-align: right;\">\n",
       "      <th></th>\n",
       "      <th>value</th>\n",
       "      <th>date</th>\n",
       "      <th>month</th>\n",
       "    </tr>\n",
       "  </thead>\n",
       "  <tbody>\n",
       "    <tr>\n",
       "      <th>0</th>\n",
       "      <td>2</td>\n",
       "      <td>2020-12-01</td>\n",
       "      <td>12</td>\n",
       "    </tr>\n",
       "    <tr>\n",
       "      <th>1</th>\n",
       "      <td>4</td>\n",
       "      <td>2019-09-01</td>\n",
       "      <td>9</td>\n",
       "    </tr>\n",
       "    <tr>\n",
       "      <th>2</th>\n",
       "      <td>5</td>\n",
       "      <td>2018-07-01</td>\n",
       "      <td>7</td>\n",
       "    </tr>\n",
       "    <tr>\n",
       "      <th>3</th>\n",
       "      <td>6</td>\n",
       "      <td>2017-01-01</td>\n",
       "      <td>1</td>\n",
       "    </tr>\n",
       "  </tbody>\n",
       "</table>\n",
       "</div>"
      ],
      "text/plain": [
       "   value       date  month\n",
       "0      2 2020-12-01     12\n",
       "1      4 2019-09-01      9\n",
       "2      5 2018-07-01      7\n",
       "3      6 2017-01-01      1"
      ]
     },
     "execution_count": 172,
     "metadata": {},
     "output_type": "execute_result"
    }
   ],
   "source": [
    "df"
   ]
  },
  {
   "cell_type": "code",
   "execution_count": 173,
   "metadata": {},
   "outputs": [],
   "source": [
    "df['day'] = df.date.dt.day"
   ]
  },
  {
   "cell_type": "code",
   "execution_count": 174,
   "metadata": {},
   "outputs": [
    {
     "data": {
      "text/html": [
       "<div>\n",
       "<style scoped>\n",
       "    .dataframe tbody tr th:only-of-type {\n",
       "        vertical-align: middle;\n",
       "    }\n",
       "\n",
       "    .dataframe tbody tr th {\n",
       "        vertical-align: top;\n",
       "    }\n",
       "\n",
       "    .dataframe thead th {\n",
       "        text-align: right;\n",
       "    }\n",
       "</style>\n",
       "<table border=\"1\" class=\"dataframe\">\n",
       "  <thead>\n",
       "    <tr style=\"text-align: right;\">\n",
       "      <th></th>\n",
       "      <th>value</th>\n",
       "      <th>date</th>\n",
       "      <th>month</th>\n",
       "      <th>day</th>\n",
       "    </tr>\n",
       "  </thead>\n",
       "  <tbody>\n",
       "    <tr>\n",
       "      <th>0</th>\n",
       "      <td>2</td>\n",
       "      <td>2020-12-01</td>\n",
       "      <td>12</td>\n",
       "      <td>1</td>\n",
       "    </tr>\n",
       "    <tr>\n",
       "      <th>1</th>\n",
       "      <td>4</td>\n",
       "      <td>2019-09-01</td>\n",
       "      <td>9</td>\n",
       "      <td>1</td>\n",
       "    </tr>\n",
       "    <tr>\n",
       "      <th>2</th>\n",
       "      <td>5</td>\n",
       "      <td>2018-07-01</td>\n",
       "      <td>7</td>\n",
       "      <td>1</td>\n",
       "    </tr>\n",
       "    <tr>\n",
       "      <th>3</th>\n",
       "      <td>6</td>\n",
       "      <td>2017-01-01</td>\n",
       "      <td>1</td>\n",
       "      <td>1</td>\n",
       "    </tr>\n",
       "  </tbody>\n",
       "</table>\n",
       "</div>"
      ],
      "text/plain": [
       "   value       date  month  day\n",
       "0      2 2020-12-01     12    1\n",
       "1      4 2019-09-01      9    1\n",
       "2      5 2018-07-01      7    1\n",
       "3      6 2017-01-01      1    1"
      ]
     },
     "execution_count": 174,
     "metadata": {},
     "output_type": "execute_result"
    }
   ],
   "source": [
    "df"
   ]
  },
  {
   "cell_type": "markdown",
   "metadata": {},
   "source": [
    "<a id='save'></a>\n",
    "\n",
    "# 데이터프레임 저장"
   ]
  },
  {
   "cell_type": "code",
   "execution_count": 175,
   "metadata": {},
   "outputs": [
    {
     "data": {
      "text/plain": [
       "'/Users/hyunchangyi/python2020'"
      ]
     },
     "execution_count": 175,
     "metadata": {},
     "output_type": "execute_result"
    }
   ],
   "source": [
    "pwd"
   ]
  },
  {
   "cell_type": "markdown",
   "metadata": {},
   "source": [
    "### DF를 pickle()로 저장\n",
    "\n",
    "- python에서 매우 효율적임"
   ]
  },
  {
   "cell_type": "code",
   "execution_count": 176,
   "metadata": {},
   "outputs": [
    {
     "name": "stdout",
     "output_type": "stream",
     "text": [
      "\u001b[34mECOS\u001b[m\u001b[m/           \u001b[34mSSD\u001b[m\u001b[m/            \u001b[34mWIOT\u001b[m\u001b[m/           \u001b[31mtutorial.ipynb\u001b[m\u001b[m*\r\n",
      "\u001b[34mFFC\u001b[m\u001b[m/            TEST.ipynb      \u001b[31mpandas.ipynb\u001b[m\u001b[m*\r\n"
     ]
    }
   ],
   "source": [
    "ls"
   ]
  },
  {
   "cell_type": "code",
   "execution_count": 177,
   "metadata": {},
   "outputs": [],
   "source": [
    "import os\n",
    "os.makedirs('pickle')\n",
    "df.to_pickle('pickle//df.pkl')"
   ]
  },
  {
   "cell_type": "code",
   "execution_count": 178,
   "metadata": {},
   "outputs": [
    {
     "name": "stdout",
     "output_type": "stream",
     "text": [
      "\u001b[34mECOS\u001b[m\u001b[m/           \u001b[34mSSD\u001b[m\u001b[m/            \u001b[34mWIOT\u001b[m\u001b[m/           \u001b[34mpickle\u001b[m\u001b[m/\r\n",
      "\u001b[34mFFC\u001b[m\u001b[m/            TEST.ipynb      \u001b[31mpandas.ipynb\u001b[m\u001b[m*   \u001b[31mtutorial.ipynb\u001b[m\u001b[m*\r\n"
     ]
    }
   ],
   "source": [
    "ls"
   ]
  },
  {
   "cell_type": "code",
   "execution_count": 179,
   "metadata": {},
   "outputs": [
    {
     "name": "stdout",
     "output_type": "stream",
     "text": [
      "/Users/hyunchangyi/python2020/pickle\n"
     ]
    }
   ],
   "source": [
    "cd pickle"
   ]
  },
  {
   "cell_type": "code",
   "execution_count": 180,
   "metadata": {},
   "outputs": [
    {
     "name": "stdout",
     "output_type": "stream",
     "text": [
      "df.pkl\r\n"
     ]
    }
   ],
   "source": [
    "ls"
   ]
  },
  {
   "cell_type": "code",
   "execution_count": 181,
   "metadata": {},
   "outputs": [
    {
     "name": "stdout",
     "output_type": "stream",
     "text": [
      "/Users/hyunchangyi/python2020\n"
     ]
    }
   ],
   "source": [
    "cd .."
   ]
  },
  {
   "cell_type": "code",
   "execution_count": 182,
   "metadata": {},
   "outputs": [],
   "source": [
    "df1 = pd.read_pickle('pickle//df.pkl')"
   ]
  },
  {
   "cell_type": "code",
   "execution_count": 183,
   "metadata": {},
   "outputs": [
    {
     "data": {
      "text/html": [
       "<div>\n",
       "<style scoped>\n",
       "    .dataframe tbody tr th:only-of-type {\n",
       "        vertical-align: middle;\n",
       "    }\n",
       "\n",
       "    .dataframe tbody tr th {\n",
       "        vertical-align: top;\n",
       "    }\n",
       "\n",
       "    .dataframe thead th {\n",
       "        text-align: right;\n",
       "    }\n",
       "</style>\n",
       "<table border=\"1\" class=\"dataframe\">\n",
       "  <thead>\n",
       "    <tr style=\"text-align: right;\">\n",
       "      <th></th>\n",
       "      <th>value</th>\n",
       "      <th>date</th>\n",
       "      <th>month</th>\n",
       "      <th>day</th>\n",
       "    </tr>\n",
       "  </thead>\n",
       "  <tbody>\n",
       "    <tr>\n",
       "      <th>0</th>\n",
       "      <td>2</td>\n",
       "      <td>2020-12-01</td>\n",
       "      <td>12</td>\n",
       "      <td>1</td>\n",
       "    </tr>\n",
       "    <tr>\n",
       "      <th>1</th>\n",
       "      <td>4</td>\n",
       "      <td>2019-09-01</td>\n",
       "      <td>9</td>\n",
       "      <td>1</td>\n",
       "    </tr>\n",
       "    <tr>\n",
       "      <th>2</th>\n",
       "      <td>5</td>\n",
       "      <td>2018-07-01</td>\n",
       "      <td>7</td>\n",
       "      <td>1</td>\n",
       "    </tr>\n",
       "    <tr>\n",
       "      <th>3</th>\n",
       "      <td>6</td>\n",
       "      <td>2017-01-01</td>\n",
       "      <td>1</td>\n",
       "      <td>1</td>\n",
       "    </tr>\n",
       "  </tbody>\n",
       "</table>\n",
       "</div>"
      ],
      "text/plain": [
       "   value       date  month  day\n",
       "0      2 2020-12-01     12    1\n",
       "1      4 2019-09-01      9    1\n",
       "2      5 2018-07-01      7    1\n",
       "3      6 2017-01-01      1    1"
      ]
     },
     "execution_count": 183,
     "metadata": {},
     "output_type": "execute_result"
    }
   ],
   "source": [
    "df1"
   ]
  },
  {
   "cell_type": "markdown",
   "metadata": {},
   "source": [
    "### DF를 csv로 저장"
   ]
  },
  {
   "cell_type": "code",
   "execution_count": 184,
   "metadata": {},
   "outputs": [],
   "source": [
    "df.to_csv('df.csv')\n",
    "df_csv = pd.read_csv('df.csv', index_col=0)"
   ]
  },
  {
   "cell_type": "markdown",
   "metadata": {},
   "source": [
    "### DF를 stata의 자료파일 dta로 저장"
   ]
  },
  {
   "cell_type": "code",
   "execution_count": 185,
   "metadata": {},
   "outputs": [],
   "source": [
    "df1.to_stata('df.dta')\n",
    "df1_dta = pd.read_stata('df.dta')"
   ]
  },
  {
   "cell_type": "markdown",
   "metadata": {},
   "source": [
    "### 각 DF를 엑셀의 시트로 저장"
   ]
  },
  {
   "cell_type": "code",
   "execution_count": 186,
   "metadata": {},
   "outputs": [],
   "source": [
    "writer = pd.ExcelWriter('dfs.xlsx')\n",
    "df.to_excel(writer,'df')\n",
    "df1.to_excel(writer,'df1')\n",
    "df2.to_excel(writer,'df2')\n",
    "writer.save()"
   ]
  },
  {
   "cell_type": "markdown",
   "metadata": {},
   "source": [
    "### 여러 DF를 dictionary로 결합한 다음 pickle()로 저장"
   ]
  },
  {
   "cell_type": "code",
   "execution_count": 187,
   "metadata": {},
   "outputs": [],
   "source": [
    "dfs = {'df': df, 'df1': df1, 'df2': df2}"
   ]
  },
  {
   "cell_type": "code",
   "execution_count": 188,
   "metadata": {},
   "outputs": [],
   "source": [
    "import pickle"
   ]
  },
  {
   "cell_type": "code",
   "execution_count": 189,
   "metadata": {},
   "outputs": [],
   "source": [
    "with open('dfs.pkl', 'wb') as handle:\n",
    "    pickle.dump(dfs, handle, protocol=pickle.HIGHEST_PROTOCOL)"
   ]
  },
  {
   "cell_type": "code",
   "execution_count": 190,
   "metadata": {},
   "outputs": [],
   "source": [
    "with open('dfs.pkl', 'rb') as handle:\n",
    "    dfs_pkl = pickle.load(handle)"
   ]
  },
  {
   "cell_type": "markdown",
   "metadata": {},
   "source": [
    "<a id='plot'></a>\n",
    "\n",
    "# 그래프 그리기"
   ]
  },
  {
   "cell_type": "code",
   "execution_count": 191,
   "metadata": {},
   "outputs": [],
   "source": [
    "%matplotlib notebook"
   ]
  },
  {
   "cell_type": "code",
   "execution_count": 192,
   "metadata": {},
   "outputs": [
    {
     "data": {
      "application/javascript": [
       "/* Put everything inside the global mpl namespace */\n",
       "/* global mpl */\n",
       "window.mpl = {};\n",
       "\n",
       "mpl.get_websocket_type = function () {\n",
       "    if (typeof WebSocket !== 'undefined') {\n",
       "        return WebSocket;\n",
       "    } else if (typeof MozWebSocket !== 'undefined') {\n",
       "        return MozWebSocket;\n",
       "    } else {\n",
       "        alert(\n",
       "            'Your browser does not have WebSocket support. ' +\n",
       "                'Please try Chrome, Safari or Firefox ≥ 6. ' +\n",
       "                'Firefox 4 and 5 are also supported but you ' +\n",
       "                'have to enable WebSockets in about:config.'\n",
       "        );\n",
       "    }\n",
       "};\n",
       "\n",
       "mpl.figure = function (figure_id, websocket, ondownload, parent_element) {\n",
       "    this.id = figure_id;\n",
       "\n",
       "    this.ws = websocket;\n",
       "\n",
       "    this.supports_binary = this.ws.binaryType !== undefined;\n",
       "\n",
       "    if (!this.supports_binary) {\n",
       "        var warnings = document.getElementById('mpl-warnings');\n",
       "        if (warnings) {\n",
       "            warnings.style.display = 'block';\n",
       "            warnings.textContent =\n",
       "                'This browser does not support binary websocket messages. ' +\n",
       "                'Performance may be slow.';\n",
       "        }\n",
       "    }\n",
       "\n",
       "    this.imageObj = new Image();\n",
       "\n",
       "    this.context = undefined;\n",
       "    this.message = undefined;\n",
       "    this.canvas = undefined;\n",
       "    this.rubberband_canvas = undefined;\n",
       "    this.rubberband_context = undefined;\n",
       "    this.format_dropdown = undefined;\n",
       "\n",
       "    this.image_mode = 'full';\n",
       "\n",
       "    this.root = document.createElement('div');\n",
       "    this.root.setAttribute('style', 'display: inline-block');\n",
       "    this._root_extra_style(this.root);\n",
       "\n",
       "    parent_element.appendChild(this.root);\n",
       "\n",
       "    this._init_header(this);\n",
       "    this._init_canvas(this);\n",
       "    this._init_toolbar(this);\n",
       "\n",
       "    var fig = this;\n",
       "\n",
       "    this.waiting = false;\n",
       "\n",
       "    this.ws.onopen = function () {\n",
       "        fig.send_message('supports_binary', { value: fig.supports_binary });\n",
       "        fig.send_message('send_image_mode', {});\n",
       "        if (fig.ratio !== 1) {\n",
       "            fig.send_message('set_dpi_ratio', { dpi_ratio: fig.ratio });\n",
       "        }\n",
       "        fig.send_message('refresh', {});\n",
       "    };\n",
       "\n",
       "    this.imageObj.onload = function () {\n",
       "        if (fig.image_mode === 'full') {\n",
       "            // Full images could contain transparency (where diff images\n",
       "            // almost always do), so we need to clear the canvas so that\n",
       "            // there is no ghosting.\n",
       "            fig.context.clearRect(0, 0, fig.canvas.width, fig.canvas.height);\n",
       "        }\n",
       "        fig.context.drawImage(fig.imageObj, 0, 0);\n",
       "    };\n",
       "\n",
       "    this.imageObj.onunload = function () {\n",
       "        fig.ws.close();\n",
       "    };\n",
       "\n",
       "    this.ws.onmessage = this._make_on_message_function(this);\n",
       "\n",
       "    this.ondownload = ondownload;\n",
       "};\n",
       "\n",
       "mpl.figure.prototype._init_header = function () {\n",
       "    var titlebar = document.createElement('div');\n",
       "    titlebar.classList =\n",
       "        'ui-dialog-titlebar ui-widget-header ui-corner-all ui-helper-clearfix';\n",
       "    var titletext = document.createElement('div');\n",
       "    titletext.classList = 'ui-dialog-title';\n",
       "    titletext.setAttribute(\n",
       "        'style',\n",
       "        'width: 100%; text-align: center; padding: 3px;'\n",
       "    );\n",
       "    titlebar.appendChild(titletext);\n",
       "    this.root.appendChild(titlebar);\n",
       "    this.header = titletext;\n",
       "};\n",
       "\n",
       "mpl.figure.prototype._canvas_extra_style = function (_canvas_div) {};\n",
       "\n",
       "mpl.figure.prototype._root_extra_style = function (_canvas_div) {};\n",
       "\n",
       "mpl.figure.prototype._init_canvas = function () {\n",
       "    var fig = this;\n",
       "\n",
       "    var canvas_div = (this.canvas_div = document.createElement('div'));\n",
       "    canvas_div.setAttribute(\n",
       "        'style',\n",
       "        'border: 1px solid #ddd;' +\n",
       "            'box-sizing: content-box;' +\n",
       "            'clear: both;' +\n",
       "            'min-height: 1px;' +\n",
       "            'min-width: 1px;' +\n",
       "            'outline: 0;' +\n",
       "            'overflow: hidden;' +\n",
       "            'position: relative;' +\n",
       "            'resize: both;'\n",
       "    );\n",
       "\n",
       "    function on_keyboard_event_closure(name) {\n",
       "        return function (event) {\n",
       "            return fig.key_event(event, name);\n",
       "        };\n",
       "    }\n",
       "\n",
       "    canvas_div.addEventListener(\n",
       "        'keydown',\n",
       "        on_keyboard_event_closure('key_press')\n",
       "    );\n",
       "    canvas_div.addEventListener(\n",
       "        'keyup',\n",
       "        on_keyboard_event_closure('key_release')\n",
       "    );\n",
       "\n",
       "    this._canvas_extra_style(canvas_div);\n",
       "    this.root.appendChild(canvas_div);\n",
       "\n",
       "    var canvas = (this.canvas = document.createElement('canvas'));\n",
       "    canvas.classList.add('mpl-canvas');\n",
       "    canvas.setAttribute('style', 'box-sizing: content-box;');\n",
       "\n",
       "    this.context = canvas.getContext('2d');\n",
       "\n",
       "    var backingStore =\n",
       "        this.context.backingStorePixelRatio ||\n",
       "        this.context.webkitBackingStorePixelRatio ||\n",
       "        this.context.mozBackingStorePixelRatio ||\n",
       "        this.context.msBackingStorePixelRatio ||\n",
       "        this.context.oBackingStorePixelRatio ||\n",
       "        this.context.backingStorePixelRatio ||\n",
       "        1;\n",
       "\n",
       "    this.ratio = (window.devicePixelRatio || 1) / backingStore;\n",
       "    if (this.ratio !== 1) {\n",
       "        fig.send_message('set_dpi_ratio', { dpi_ratio: this.ratio });\n",
       "    }\n",
       "\n",
       "    var rubberband_canvas = (this.rubberband_canvas = document.createElement(\n",
       "        'canvas'\n",
       "    ));\n",
       "    rubberband_canvas.setAttribute(\n",
       "        'style',\n",
       "        'box-sizing: content-box; position: absolute; left: 0; top: 0; z-index: 1;'\n",
       "    );\n",
       "\n",
       "    var resizeObserver = new ResizeObserver(function (entries) {\n",
       "        var nentries = entries.length;\n",
       "        for (var i = 0; i < nentries; i++) {\n",
       "            var entry = entries[i];\n",
       "            var width, height;\n",
       "            if (entry.contentBoxSize) {\n",
       "                if (entry.contentBoxSize instanceof Array) {\n",
       "                    // Chrome 84 implements new version of spec.\n",
       "                    width = entry.contentBoxSize[0].inlineSize;\n",
       "                    height = entry.contentBoxSize[0].blockSize;\n",
       "                } else {\n",
       "                    // Firefox implements old version of spec.\n",
       "                    width = entry.contentBoxSize.inlineSize;\n",
       "                    height = entry.contentBoxSize.blockSize;\n",
       "                }\n",
       "            } else {\n",
       "                // Chrome <84 implements even older version of spec.\n",
       "                width = entry.contentRect.width;\n",
       "                height = entry.contentRect.height;\n",
       "            }\n",
       "\n",
       "            // Keep the size of the canvas and rubber band canvas in sync with\n",
       "            // the canvas container.\n",
       "            if (entry.devicePixelContentBoxSize) {\n",
       "                // Chrome 84 implements new version of spec.\n",
       "                canvas.setAttribute(\n",
       "                    'width',\n",
       "                    entry.devicePixelContentBoxSize[0].inlineSize\n",
       "                );\n",
       "                canvas.setAttribute(\n",
       "                    'height',\n",
       "                    entry.devicePixelContentBoxSize[0].blockSize\n",
       "                );\n",
       "            } else {\n",
       "                canvas.setAttribute('width', width * fig.ratio);\n",
       "                canvas.setAttribute('height', height * fig.ratio);\n",
       "            }\n",
       "            canvas.setAttribute(\n",
       "                'style',\n",
       "                'width: ' + width + 'px; height: ' + height + 'px;'\n",
       "            );\n",
       "\n",
       "            rubberband_canvas.setAttribute('width', width);\n",
       "            rubberband_canvas.setAttribute('height', height);\n",
       "\n",
       "            // And update the size in Python. We ignore the initial 0/0 size\n",
       "            // that occurs as the element is placed into the DOM, which should\n",
       "            // otherwise not happen due to the minimum size styling.\n",
       "            if (width != 0 && height != 0) {\n",
       "                fig.request_resize(width, height);\n",
       "            }\n",
       "        }\n",
       "    });\n",
       "    resizeObserver.observe(canvas_div);\n",
       "\n",
       "    function on_mouse_event_closure(name) {\n",
       "        return function (event) {\n",
       "            return fig.mouse_event(event, name);\n",
       "        };\n",
       "    }\n",
       "\n",
       "    rubberband_canvas.addEventListener(\n",
       "        'mousedown',\n",
       "        on_mouse_event_closure('button_press')\n",
       "    );\n",
       "    rubberband_canvas.addEventListener(\n",
       "        'mouseup',\n",
       "        on_mouse_event_closure('button_release')\n",
       "    );\n",
       "    // Throttle sequential mouse events to 1 every 20ms.\n",
       "    rubberband_canvas.addEventListener(\n",
       "        'mousemove',\n",
       "        on_mouse_event_closure('motion_notify')\n",
       "    );\n",
       "\n",
       "    rubberband_canvas.addEventListener(\n",
       "        'mouseenter',\n",
       "        on_mouse_event_closure('figure_enter')\n",
       "    );\n",
       "    rubberband_canvas.addEventListener(\n",
       "        'mouseleave',\n",
       "        on_mouse_event_closure('figure_leave')\n",
       "    );\n",
       "\n",
       "    canvas_div.addEventListener('wheel', function (event) {\n",
       "        if (event.deltaY < 0) {\n",
       "            event.step = 1;\n",
       "        } else {\n",
       "            event.step = -1;\n",
       "        }\n",
       "        on_mouse_event_closure('scroll')(event);\n",
       "    });\n",
       "\n",
       "    canvas_div.appendChild(canvas);\n",
       "    canvas_div.appendChild(rubberband_canvas);\n",
       "\n",
       "    this.rubberband_context = rubberband_canvas.getContext('2d');\n",
       "    this.rubberband_context.strokeStyle = '#000000';\n",
       "\n",
       "    this._resize_canvas = function (width, height, forward) {\n",
       "        if (forward) {\n",
       "            canvas_div.style.width = width + 'px';\n",
       "            canvas_div.style.height = height + 'px';\n",
       "        }\n",
       "    };\n",
       "\n",
       "    // Disable right mouse context menu.\n",
       "    this.rubberband_canvas.addEventListener('contextmenu', function (_e) {\n",
       "        event.preventDefault();\n",
       "        return false;\n",
       "    });\n",
       "\n",
       "    function set_focus() {\n",
       "        canvas.focus();\n",
       "        canvas_div.focus();\n",
       "    }\n",
       "\n",
       "    window.setTimeout(set_focus, 100);\n",
       "};\n",
       "\n",
       "mpl.figure.prototype._init_toolbar = function () {\n",
       "    var fig = this;\n",
       "\n",
       "    var toolbar = document.createElement('div');\n",
       "    toolbar.classList = 'mpl-toolbar';\n",
       "    this.root.appendChild(toolbar);\n",
       "\n",
       "    function on_click_closure(name) {\n",
       "        return function (_event) {\n",
       "            return fig.toolbar_button_onclick(name);\n",
       "        };\n",
       "    }\n",
       "\n",
       "    function on_mouseover_closure(tooltip) {\n",
       "        return function (event) {\n",
       "            if (!event.currentTarget.disabled) {\n",
       "                return fig.toolbar_button_onmouseover(tooltip);\n",
       "            }\n",
       "        };\n",
       "    }\n",
       "\n",
       "    fig.buttons = {};\n",
       "    var buttonGroup = document.createElement('div');\n",
       "    buttonGroup.classList = 'mpl-button-group';\n",
       "    for (var toolbar_ind in mpl.toolbar_items) {\n",
       "        var name = mpl.toolbar_items[toolbar_ind][0];\n",
       "        var tooltip = mpl.toolbar_items[toolbar_ind][1];\n",
       "        var image = mpl.toolbar_items[toolbar_ind][2];\n",
       "        var method_name = mpl.toolbar_items[toolbar_ind][3];\n",
       "\n",
       "        if (!name) {\n",
       "            /* Instead of a spacer, we start a new button group. */\n",
       "            if (buttonGroup.hasChildNodes()) {\n",
       "                toolbar.appendChild(buttonGroup);\n",
       "            }\n",
       "            buttonGroup = document.createElement('div');\n",
       "            buttonGroup.classList = 'mpl-button-group';\n",
       "            continue;\n",
       "        }\n",
       "\n",
       "        var button = (fig.buttons[name] = document.createElement('button'));\n",
       "        button.classList = 'mpl-widget';\n",
       "        button.setAttribute('role', 'button');\n",
       "        button.setAttribute('aria-disabled', 'false');\n",
       "        button.addEventListener('click', on_click_closure(method_name));\n",
       "        button.addEventListener('mouseover', on_mouseover_closure(tooltip));\n",
       "\n",
       "        var icon_img = document.createElement('img');\n",
       "        icon_img.src = '_images/' + image + '.png';\n",
       "        icon_img.srcset = '_images/' + image + '_large.png 2x';\n",
       "        icon_img.alt = tooltip;\n",
       "        button.appendChild(icon_img);\n",
       "\n",
       "        buttonGroup.appendChild(button);\n",
       "    }\n",
       "\n",
       "    if (buttonGroup.hasChildNodes()) {\n",
       "        toolbar.appendChild(buttonGroup);\n",
       "    }\n",
       "\n",
       "    var fmt_picker = document.createElement('select');\n",
       "    fmt_picker.classList = 'mpl-widget';\n",
       "    toolbar.appendChild(fmt_picker);\n",
       "    this.format_dropdown = fmt_picker;\n",
       "\n",
       "    for (var ind in mpl.extensions) {\n",
       "        var fmt = mpl.extensions[ind];\n",
       "        var option = document.createElement('option');\n",
       "        option.selected = fmt === mpl.default_extension;\n",
       "        option.innerHTML = fmt;\n",
       "        fmt_picker.appendChild(option);\n",
       "    }\n",
       "\n",
       "    var status_bar = document.createElement('span');\n",
       "    status_bar.classList = 'mpl-message';\n",
       "    toolbar.appendChild(status_bar);\n",
       "    this.message = status_bar;\n",
       "};\n",
       "\n",
       "mpl.figure.prototype.request_resize = function (x_pixels, y_pixels) {\n",
       "    // Request matplotlib to resize the figure. Matplotlib will then trigger a resize in the client,\n",
       "    // which will in turn request a refresh of the image.\n",
       "    this.send_message('resize', { width: x_pixels, height: y_pixels });\n",
       "};\n",
       "\n",
       "mpl.figure.prototype.send_message = function (type, properties) {\n",
       "    properties['type'] = type;\n",
       "    properties['figure_id'] = this.id;\n",
       "    this.ws.send(JSON.stringify(properties));\n",
       "};\n",
       "\n",
       "mpl.figure.prototype.send_draw_message = function () {\n",
       "    if (!this.waiting) {\n",
       "        this.waiting = true;\n",
       "        this.ws.send(JSON.stringify({ type: 'draw', figure_id: this.id }));\n",
       "    }\n",
       "};\n",
       "\n",
       "mpl.figure.prototype.handle_save = function (fig, _msg) {\n",
       "    var format_dropdown = fig.format_dropdown;\n",
       "    var format = format_dropdown.options[format_dropdown.selectedIndex].value;\n",
       "    fig.ondownload(fig, format);\n",
       "};\n",
       "\n",
       "mpl.figure.prototype.handle_resize = function (fig, msg) {\n",
       "    var size = msg['size'];\n",
       "    if (size[0] !== fig.canvas.width || size[1] !== fig.canvas.height) {\n",
       "        fig._resize_canvas(size[0], size[1], msg['forward']);\n",
       "        fig.send_message('refresh', {});\n",
       "    }\n",
       "};\n",
       "\n",
       "mpl.figure.prototype.handle_rubberband = function (fig, msg) {\n",
       "    var x0 = msg['x0'] / fig.ratio;\n",
       "    var y0 = (fig.canvas.height - msg['y0']) / fig.ratio;\n",
       "    var x1 = msg['x1'] / fig.ratio;\n",
       "    var y1 = (fig.canvas.height - msg['y1']) / fig.ratio;\n",
       "    x0 = Math.floor(x0) + 0.5;\n",
       "    y0 = Math.floor(y0) + 0.5;\n",
       "    x1 = Math.floor(x1) + 0.5;\n",
       "    y1 = Math.floor(y1) + 0.5;\n",
       "    var min_x = Math.min(x0, x1);\n",
       "    var min_y = Math.min(y0, y1);\n",
       "    var width = Math.abs(x1 - x0);\n",
       "    var height = Math.abs(y1 - y0);\n",
       "\n",
       "    fig.rubberband_context.clearRect(\n",
       "        0,\n",
       "        0,\n",
       "        fig.canvas.width / fig.ratio,\n",
       "        fig.canvas.height / fig.ratio\n",
       "    );\n",
       "\n",
       "    fig.rubberband_context.strokeRect(min_x, min_y, width, height);\n",
       "};\n",
       "\n",
       "mpl.figure.prototype.handle_figure_label = function (fig, msg) {\n",
       "    // Updates the figure title.\n",
       "    fig.header.textContent = msg['label'];\n",
       "};\n",
       "\n",
       "mpl.figure.prototype.handle_cursor = function (fig, msg) {\n",
       "    var cursor = msg['cursor'];\n",
       "    switch (cursor) {\n",
       "        case 0:\n",
       "            cursor = 'pointer';\n",
       "            break;\n",
       "        case 1:\n",
       "            cursor = 'default';\n",
       "            break;\n",
       "        case 2:\n",
       "            cursor = 'crosshair';\n",
       "            break;\n",
       "        case 3:\n",
       "            cursor = 'move';\n",
       "            break;\n",
       "    }\n",
       "    fig.rubberband_canvas.style.cursor = cursor;\n",
       "};\n",
       "\n",
       "mpl.figure.prototype.handle_message = function (fig, msg) {\n",
       "    fig.message.textContent = msg['message'];\n",
       "};\n",
       "\n",
       "mpl.figure.prototype.handle_draw = function (fig, _msg) {\n",
       "    // Request the server to send over a new figure.\n",
       "    fig.send_draw_message();\n",
       "};\n",
       "\n",
       "mpl.figure.prototype.handle_image_mode = function (fig, msg) {\n",
       "    fig.image_mode = msg['mode'];\n",
       "};\n",
       "\n",
       "mpl.figure.prototype.handle_history_buttons = function (fig, msg) {\n",
       "    for (var key in msg) {\n",
       "        if (!(key in fig.buttons)) {\n",
       "            continue;\n",
       "        }\n",
       "        fig.buttons[key].disabled = !msg[key];\n",
       "        fig.buttons[key].setAttribute('aria-disabled', !msg[key]);\n",
       "    }\n",
       "};\n",
       "\n",
       "mpl.figure.prototype.handle_navigate_mode = function (fig, msg) {\n",
       "    if (msg['mode'] === 'PAN') {\n",
       "        fig.buttons['Pan'].classList.add('active');\n",
       "        fig.buttons['Zoom'].classList.remove('active');\n",
       "    } else if (msg['mode'] === 'ZOOM') {\n",
       "        fig.buttons['Pan'].classList.remove('active');\n",
       "        fig.buttons['Zoom'].classList.add('active');\n",
       "    } else {\n",
       "        fig.buttons['Pan'].classList.remove('active');\n",
       "        fig.buttons['Zoom'].classList.remove('active');\n",
       "    }\n",
       "};\n",
       "\n",
       "mpl.figure.prototype.updated_canvas_event = function () {\n",
       "    // Called whenever the canvas gets updated.\n",
       "    this.send_message('ack', {});\n",
       "};\n",
       "\n",
       "// A function to construct a web socket function for onmessage handling.\n",
       "// Called in the figure constructor.\n",
       "mpl.figure.prototype._make_on_message_function = function (fig) {\n",
       "    return function socket_on_message(evt) {\n",
       "        if (evt.data instanceof Blob) {\n",
       "            /* FIXME: We get \"Resource interpreted as Image but\n",
       "             * transferred with MIME type text/plain:\" errors on\n",
       "             * Chrome.  But how to set the MIME type?  It doesn't seem\n",
       "             * to be part of the websocket stream */\n",
       "            evt.data.type = 'image/png';\n",
       "\n",
       "            /* Free the memory for the previous frames */\n",
       "            if (fig.imageObj.src) {\n",
       "                (window.URL || window.webkitURL).revokeObjectURL(\n",
       "                    fig.imageObj.src\n",
       "                );\n",
       "            }\n",
       "\n",
       "            fig.imageObj.src = (window.URL || window.webkitURL).createObjectURL(\n",
       "                evt.data\n",
       "            );\n",
       "            fig.updated_canvas_event();\n",
       "            fig.waiting = false;\n",
       "            return;\n",
       "        } else if (\n",
       "            typeof evt.data === 'string' &&\n",
       "            evt.data.slice(0, 21) === 'data:image/png;base64'\n",
       "        ) {\n",
       "            fig.imageObj.src = evt.data;\n",
       "            fig.updated_canvas_event();\n",
       "            fig.waiting = false;\n",
       "            return;\n",
       "        }\n",
       "\n",
       "        var msg = JSON.parse(evt.data);\n",
       "        var msg_type = msg['type'];\n",
       "\n",
       "        // Call the  \"handle_{type}\" callback, which takes\n",
       "        // the figure and JSON message as its only arguments.\n",
       "        try {\n",
       "            var callback = fig['handle_' + msg_type];\n",
       "        } catch (e) {\n",
       "            console.log(\n",
       "                \"No handler for the '\" + msg_type + \"' message type: \",\n",
       "                msg\n",
       "            );\n",
       "            return;\n",
       "        }\n",
       "\n",
       "        if (callback) {\n",
       "            try {\n",
       "                // console.log(\"Handling '\" + msg_type + \"' message: \", msg);\n",
       "                callback(fig, msg);\n",
       "            } catch (e) {\n",
       "                console.log(\n",
       "                    \"Exception inside the 'handler_\" + msg_type + \"' callback:\",\n",
       "                    e,\n",
       "                    e.stack,\n",
       "                    msg\n",
       "                );\n",
       "            }\n",
       "        }\n",
       "    };\n",
       "};\n",
       "\n",
       "// from http://stackoverflow.com/questions/1114465/getting-mouse-location-in-canvas\n",
       "mpl.findpos = function (e) {\n",
       "    //this section is from http://www.quirksmode.org/js/events_properties.html\n",
       "    var targ;\n",
       "    if (!e) {\n",
       "        e = window.event;\n",
       "    }\n",
       "    if (e.target) {\n",
       "        targ = e.target;\n",
       "    } else if (e.srcElement) {\n",
       "        targ = e.srcElement;\n",
       "    }\n",
       "    if (targ.nodeType === 3) {\n",
       "        // defeat Safari bug\n",
       "        targ = targ.parentNode;\n",
       "    }\n",
       "\n",
       "    // pageX,Y are the mouse positions relative to the document\n",
       "    var boundingRect = targ.getBoundingClientRect();\n",
       "    var x = e.pageX - (boundingRect.left + document.body.scrollLeft);\n",
       "    var y = e.pageY - (boundingRect.top + document.body.scrollTop);\n",
       "\n",
       "    return { x: x, y: y };\n",
       "};\n",
       "\n",
       "/*\n",
       " * return a copy of an object with only non-object keys\n",
       " * we need this to avoid circular references\n",
       " * http://stackoverflow.com/a/24161582/3208463\n",
       " */\n",
       "function simpleKeys(original) {\n",
       "    return Object.keys(original).reduce(function (obj, key) {\n",
       "        if (typeof original[key] !== 'object') {\n",
       "            obj[key] = original[key];\n",
       "        }\n",
       "        return obj;\n",
       "    }, {});\n",
       "}\n",
       "\n",
       "mpl.figure.prototype.mouse_event = function (event, name) {\n",
       "    var canvas_pos = mpl.findpos(event);\n",
       "\n",
       "    if (name === 'button_press') {\n",
       "        this.canvas.focus();\n",
       "        this.canvas_div.focus();\n",
       "    }\n",
       "\n",
       "    var x = canvas_pos.x * this.ratio;\n",
       "    var y = canvas_pos.y * this.ratio;\n",
       "\n",
       "    this.send_message(name, {\n",
       "        x: x,\n",
       "        y: y,\n",
       "        button: event.button,\n",
       "        step: event.step,\n",
       "        guiEvent: simpleKeys(event),\n",
       "    });\n",
       "\n",
       "    /* This prevents the web browser from automatically changing to\n",
       "     * the text insertion cursor when the button is pressed.  We want\n",
       "     * to control all of the cursor setting manually through the\n",
       "     * 'cursor' event from matplotlib */\n",
       "    event.preventDefault();\n",
       "    return false;\n",
       "};\n",
       "\n",
       "mpl.figure.prototype._key_event_extra = function (_event, _name) {\n",
       "    // Handle any extra behaviour associated with a key event\n",
       "};\n",
       "\n",
       "mpl.figure.prototype.key_event = function (event, name) {\n",
       "    // Prevent repeat events\n",
       "    if (name === 'key_press') {\n",
       "        if (event.which === this._key) {\n",
       "            return;\n",
       "        } else {\n",
       "            this._key = event.which;\n",
       "        }\n",
       "    }\n",
       "    if (name === 'key_release') {\n",
       "        this._key = null;\n",
       "    }\n",
       "\n",
       "    var value = '';\n",
       "    if (event.ctrlKey && event.which !== 17) {\n",
       "        value += 'ctrl+';\n",
       "    }\n",
       "    if (event.altKey && event.which !== 18) {\n",
       "        value += 'alt+';\n",
       "    }\n",
       "    if (event.shiftKey && event.which !== 16) {\n",
       "        value += 'shift+';\n",
       "    }\n",
       "\n",
       "    value += 'k';\n",
       "    value += event.which.toString();\n",
       "\n",
       "    this._key_event_extra(event, name);\n",
       "\n",
       "    this.send_message(name, { key: value, guiEvent: simpleKeys(event) });\n",
       "    return false;\n",
       "};\n",
       "\n",
       "mpl.figure.prototype.toolbar_button_onclick = function (name) {\n",
       "    if (name === 'download') {\n",
       "        this.handle_save(this, null);\n",
       "    } else {\n",
       "        this.send_message('toolbar_button', { name: name });\n",
       "    }\n",
       "};\n",
       "\n",
       "mpl.figure.prototype.toolbar_button_onmouseover = function (tooltip) {\n",
       "    this.message.textContent = tooltip;\n",
       "};\n",
       "mpl.toolbar_items = [[\"Home\", \"Reset original view\", \"fa fa-home icon-home\", \"home\"], [\"Back\", \"Back to previous view\", \"fa fa-arrow-left icon-arrow-left\", \"back\"], [\"Forward\", \"Forward to next view\", \"fa fa-arrow-right icon-arrow-right\", \"forward\"], [\"\", \"\", \"\", \"\"], [\"Pan\", \"Left button pans, Right button zooms\\nx/y fixes axis, CTRL fixes aspect\", \"fa fa-arrows icon-move\", \"pan\"], [\"Zoom\", \"Zoom to rectangle\\nx/y fixes axis, CTRL fixes aspect\", \"fa fa-square-o icon-check-empty\", \"zoom\"], [\"\", \"\", \"\", \"\"], [\"Download\", \"Download plot\", \"fa fa-floppy-o icon-save\", \"download\"]];\n",
       "\n",
       "mpl.extensions = [\"eps\", \"jpeg\", \"pdf\", \"png\", \"ps\", \"raw\", \"svg\", \"tif\"];\n",
       "\n",
       "mpl.default_extension = \"png\";/* global mpl */\n",
       "\n",
       "var comm_websocket_adapter = function (comm) {\n",
       "    // Create a \"websocket\"-like object which calls the given IPython comm\n",
       "    // object with the appropriate methods. Currently this is a non binary\n",
       "    // socket, so there is still some room for performance tuning.\n",
       "    var ws = {};\n",
       "\n",
       "    ws.close = function () {\n",
       "        comm.close();\n",
       "    };\n",
       "    ws.send = function (m) {\n",
       "        //console.log('sending', m);\n",
       "        comm.send(m);\n",
       "    };\n",
       "    // Register the callback with on_msg.\n",
       "    comm.on_msg(function (msg) {\n",
       "        //console.log('receiving', msg['content']['data'], msg);\n",
       "        // Pass the mpl event to the overridden (by mpl) onmessage function.\n",
       "        ws.onmessage(msg['content']['data']);\n",
       "    });\n",
       "    return ws;\n",
       "};\n",
       "\n",
       "mpl.mpl_figure_comm = function (comm, msg) {\n",
       "    // This is the function which gets called when the mpl process\n",
       "    // starts-up an IPython Comm through the \"matplotlib\" channel.\n",
       "\n",
       "    var id = msg.content.data.id;\n",
       "    // Get hold of the div created by the display call when the Comm\n",
       "    // socket was opened in Python.\n",
       "    var element = document.getElementById(id);\n",
       "    var ws_proxy = comm_websocket_adapter(comm);\n",
       "\n",
       "    function ondownload(figure, _format) {\n",
       "        window.open(figure.canvas.toDataURL());\n",
       "    }\n",
       "\n",
       "    var fig = new mpl.figure(id, ws_proxy, ondownload, element);\n",
       "\n",
       "    // Call onopen now - mpl needs it, as it is assuming we've passed it a real\n",
       "    // web socket which is closed, not our websocket->open comm proxy.\n",
       "    ws_proxy.onopen();\n",
       "\n",
       "    fig.parent_element = element;\n",
       "    fig.cell_info = mpl.find_output_cell(\"<div id='\" + id + \"'></div>\");\n",
       "    if (!fig.cell_info) {\n",
       "        console.error('Failed to find cell for figure', id, fig);\n",
       "        return;\n",
       "    }\n",
       "    fig.cell_info[0].output_area.element.one(\n",
       "        'cleared',\n",
       "        { fig: fig },\n",
       "        fig._remove_fig_handler\n",
       "    );\n",
       "};\n",
       "\n",
       "mpl.figure.prototype.handle_close = function (fig, msg) {\n",
       "    var width = fig.canvas.width / fig.ratio;\n",
       "    fig.cell_info[0].output_area.element.off(\n",
       "        'cleared',\n",
       "        fig._remove_fig_handler\n",
       "    );\n",
       "\n",
       "    // Update the output cell to use the data from the current canvas.\n",
       "    fig.push_to_output();\n",
       "    var dataURL = fig.canvas.toDataURL();\n",
       "    // Re-enable the keyboard manager in IPython - without this line, in FF,\n",
       "    // the notebook keyboard shortcuts fail.\n",
       "    IPython.keyboard_manager.enable();\n",
       "    fig.parent_element.innerHTML =\n",
       "        '<img src=\"' + dataURL + '\" width=\"' + width + '\">';\n",
       "    fig.close_ws(fig, msg);\n",
       "};\n",
       "\n",
       "mpl.figure.prototype.close_ws = function (fig, msg) {\n",
       "    fig.send_message('closing', msg);\n",
       "    // fig.ws.close()\n",
       "};\n",
       "\n",
       "mpl.figure.prototype.push_to_output = function (_remove_interactive) {\n",
       "    // Turn the data on the canvas into data in the output cell.\n",
       "    var width = this.canvas.width / this.ratio;\n",
       "    var dataURL = this.canvas.toDataURL();\n",
       "    this.cell_info[1]['text/html'] =\n",
       "        '<img src=\"' + dataURL + '\" width=\"' + width + '\">';\n",
       "};\n",
       "\n",
       "mpl.figure.prototype.updated_canvas_event = function () {\n",
       "    // Tell IPython that the notebook contents must change.\n",
       "    IPython.notebook.set_dirty(true);\n",
       "    this.send_message('ack', {});\n",
       "    var fig = this;\n",
       "    // Wait a second, then push the new image to the DOM so\n",
       "    // that it is saved nicely (might be nice to debounce this).\n",
       "    setTimeout(function () {\n",
       "        fig.push_to_output();\n",
       "    }, 1000);\n",
       "};\n",
       "\n",
       "mpl.figure.prototype._init_toolbar = function () {\n",
       "    var fig = this;\n",
       "\n",
       "    var toolbar = document.createElement('div');\n",
       "    toolbar.classList = 'btn-toolbar';\n",
       "    this.root.appendChild(toolbar);\n",
       "\n",
       "    function on_click_closure(name) {\n",
       "        return function (_event) {\n",
       "            return fig.toolbar_button_onclick(name);\n",
       "        };\n",
       "    }\n",
       "\n",
       "    function on_mouseover_closure(tooltip) {\n",
       "        return function (event) {\n",
       "            if (!event.currentTarget.disabled) {\n",
       "                return fig.toolbar_button_onmouseover(tooltip);\n",
       "            }\n",
       "        };\n",
       "    }\n",
       "\n",
       "    fig.buttons = {};\n",
       "    var buttonGroup = document.createElement('div');\n",
       "    buttonGroup.classList = 'btn-group';\n",
       "    var button;\n",
       "    for (var toolbar_ind in mpl.toolbar_items) {\n",
       "        var name = mpl.toolbar_items[toolbar_ind][0];\n",
       "        var tooltip = mpl.toolbar_items[toolbar_ind][1];\n",
       "        var image = mpl.toolbar_items[toolbar_ind][2];\n",
       "        var method_name = mpl.toolbar_items[toolbar_ind][3];\n",
       "\n",
       "        if (!name) {\n",
       "            /* Instead of a spacer, we start a new button group. */\n",
       "            if (buttonGroup.hasChildNodes()) {\n",
       "                toolbar.appendChild(buttonGroup);\n",
       "            }\n",
       "            buttonGroup = document.createElement('div');\n",
       "            buttonGroup.classList = 'btn-group';\n",
       "            continue;\n",
       "        }\n",
       "\n",
       "        button = fig.buttons[name] = document.createElement('button');\n",
       "        button.classList = 'btn btn-default';\n",
       "        button.href = '#';\n",
       "        button.title = name;\n",
       "        button.innerHTML = '<i class=\"fa ' + image + ' fa-lg\"></i>';\n",
       "        button.addEventListener('click', on_click_closure(method_name));\n",
       "        button.addEventListener('mouseover', on_mouseover_closure(tooltip));\n",
       "        buttonGroup.appendChild(button);\n",
       "    }\n",
       "\n",
       "    if (buttonGroup.hasChildNodes()) {\n",
       "        toolbar.appendChild(buttonGroup);\n",
       "    }\n",
       "\n",
       "    // Add the status bar.\n",
       "    var status_bar = document.createElement('span');\n",
       "    status_bar.classList = 'mpl-message pull-right';\n",
       "    toolbar.appendChild(status_bar);\n",
       "    this.message = status_bar;\n",
       "\n",
       "    // Add the close button to the window.\n",
       "    var buttongrp = document.createElement('div');\n",
       "    buttongrp.classList = 'btn-group inline pull-right';\n",
       "    button = document.createElement('button');\n",
       "    button.classList = 'btn btn-mini btn-primary';\n",
       "    button.href = '#';\n",
       "    button.title = 'Stop Interaction';\n",
       "    button.innerHTML = '<i class=\"fa fa-power-off icon-remove icon-large\"></i>';\n",
       "    button.addEventListener('click', function (_evt) {\n",
       "        fig.handle_close(fig, {});\n",
       "    });\n",
       "    button.addEventListener(\n",
       "        'mouseover',\n",
       "        on_mouseover_closure('Stop Interaction')\n",
       "    );\n",
       "    buttongrp.appendChild(button);\n",
       "    var titlebar = this.root.querySelector('.ui-dialog-titlebar');\n",
       "    titlebar.insertBefore(buttongrp, titlebar.firstChild);\n",
       "};\n",
       "\n",
       "mpl.figure.prototype._remove_fig_handler = function (event) {\n",
       "    var fig = event.data.fig;\n",
       "    fig.close_ws(fig, {});\n",
       "};\n",
       "\n",
       "mpl.figure.prototype._root_extra_style = function (el) {\n",
       "    el.style.boxSizing = 'content-box'; // override notebook setting of border-box.\n",
       "};\n",
       "\n",
       "mpl.figure.prototype._canvas_extra_style = function (el) {\n",
       "    // this is important to make the div 'focusable\n",
       "    el.setAttribute('tabindex', 0);\n",
       "    // reach out to IPython and tell the keyboard manager to turn it's self\n",
       "    // off when our div gets focus\n",
       "\n",
       "    // location in version 3\n",
       "    if (IPython.notebook.keyboard_manager) {\n",
       "        IPython.notebook.keyboard_manager.register_events(el);\n",
       "    } else {\n",
       "        // location in version 2\n",
       "        IPython.keyboard_manager.register_events(el);\n",
       "    }\n",
       "};\n",
       "\n",
       "mpl.figure.prototype._key_event_extra = function (event, _name) {\n",
       "    var manager = IPython.notebook.keyboard_manager;\n",
       "    if (!manager) {\n",
       "        manager = IPython.keyboard_manager;\n",
       "    }\n",
       "\n",
       "    // Check for shift+enter\n",
       "    if (event.shiftKey && event.which === 13) {\n",
       "        this.canvas_div.blur();\n",
       "        // select the cell after this one\n",
       "        var index = IPython.notebook.find_cell_index(this.cell_info[0]);\n",
       "        IPython.notebook.select(index + 1);\n",
       "    }\n",
       "};\n",
       "\n",
       "mpl.figure.prototype.handle_save = function (fig, _msg) {\n",
       "    fig.ondownload(fig, null);\n",
       "};\n",
       "\n",
       "mpl.find_output_cell = function (html_output) {\n",
       "    // Return the cell and output element which can be found *uniquely* in the notebook.\n",
       "    // Note - this is a bit hacky, but it is done because the \"notebook_saving.Notebook\"\n",
       "    // IPython event is triggered only after the cells have been serialised, which for\n",
       "    // our purposes (turning an active figure into a static one), is too late.\n",
       "    var cells = IPython.notebook.get_cells();\n",
       "    var ncells = cells.length;\n",
       "    for (var i = 0; i < ncells; i++) {\n",
       "        var cell = cells[i];\n",
       "        if (cell.cell_type === 'code') {\n",
       "            for (var j = 0; j < cell.output_area.outputs.length; j++) {\n",
       "                var data = cell.output_area.outputs[j];\n",
       "                if (data.data) {\n",
       "                    // IPython >= 3 moved mimebundle to data attribute of output\n",
       "                    data = data.data;\n",
       "                }\n",
       "                if (data['text/html'] === html_output) {\n",
       "                    return [cell, data, j];\n",
       "                }\n",
       "            }\n",
       "        }\n",
       "    }\n",
       "};\n",
       "\n",
       "// Register the function which deals with the matplotlib target/channel.\n",
       "// The kernel may be null if the page has been refreshed.\n",
       "if (IPython.notebook.kernel !== null) {\n",
       "    IPython.notebook.kernel.comm_manager.register_target(\n",
       "        'matplotlib',\n",
       "        mpl.mpl_figure_comm\n",
       "    );\n",
       "}\n"
      ],
      "text/plain": [
       "<IPython.core.display.Javascript object>"
      ]
     },
     "metadata": {},
     "output_type": "display_data"
    },
    {
     "data": {
      "text/html": [
       "<img src=\"data:image/png;base64,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\" width=\"640\">"
      ],
      "text/plain": [
       "<IPython.core.display.HTML object>"
      ]
     },
     "metadata": {},
     "output_type": "display_data"
    },
    {
     "data": {
      "text/plain": [
       "<AxesSubplot:>"
      ]
     },
     "execution_count": 192,
     "metadata": {},
     "output_type": "execute_result"
    }
   ],
   "source": [
    "df = pd.DataFrame([0, 1, 2, 3, 4, 4], columns = ['y'])\n",
    "df.plot()"
   ]
  },
  {
   "cell_type": "code",
   "execution_count": 194,
   "metadata": {},
   "outputs": [],
   "source": [
    "%matplotlib inline"
   ]
  },
  {
   "cell_type": "code",
   "execution_count": 200,
   "metadata": {},
   "outputs": [
    {
     "data": {
      "image/png": "[encoded data removed]",
      "text/plain": [
       "<Figure size 864x288 with 2 Axes>"
      ]
     },
     "metadata": {
      "needs_background": "light"
     },
     "output_type": "display_data"
    }
   ],
   "source": [
    "import matplotlib.pyplot as plt\n",
    "\n",
    "fig, ax = plt.subplots(1, 2, figsize=(12, 4))\n",
    "\n",
    "df.plot(ax=ax[0])\n",
    "df.loc[2:].plot(ax=ax[1])\n",
    "ax[1].legend(loc=4, fontsize=18)\n",
    "ax[0].set_title('ax1')\n",
    "fig.suptitle('graph', fontsize=18);"
   ]
  },
  {
   "cell_type": "markdown",
   "metadata": {},
   "source": [
    "### x, y축 값 표시 포맷"
   ]
  },
  {
   "cell_type": "code",
   "execution_count": null,
   "metadata": {},
   "outputs": [],
   "source": [
    "from matplotlib.ticker import FuncFormatter as FF\n",
    "\n",
    "fig, ax = plt.subplots(1, 2, figsize=(12, 4))\n",
    "\n",
    "df.plot(ax=ax[0])\n",
    "df.loc[2:].plot(ax=ax[1])\n",
    "ax[1].legend(loc=4, fontsize=18)\n",
    "ax[0].set_title('ax1')\n",
    "fig.suptitle('graph', fontsize=18);\n",
    "\n",
    "dp2 = lambda x, p: '{:,.2f}'.format(x)\n",
    "dp0 = lambda x, p: '{:,.0f}'.format(x)\n",
    "ax[1].yaxis.set_major_formatter(FF(dp2))\n",
    "ax[1].xaxis.set_major_formatter(FF(dp0))"
   ]
  },
  {
   "cell_type": "code",
   "execution_count": 201,
   "metadata": {},
   "outputs": [
    {
     "data": {
      "text/plain": [
       "<AxesSubplot:xlabel='x', ylabel='y'>"
      ]
     },
     "execution_count": 201,
     "metadata": {},
     "output_type": "execute_result"
    },
    {
     "data": {
      "image/png": "[encoded data removed]",
      "text/plain": [
       "<Figure size 864x288 with 3 Axes>"
      ]
     },
     "metadata": {
      "needs_background": "light"
     },
     "output_type": "display_data"
    }
   ],
   "source": [
    "df['x'] = df['y'] * 2\n",
    "\n",
    "fig, ax = plt.subplots(1, 3, figsize=(12, 4))\n",
    "\n",
    "df.plot.bar(ax=ax[0])\n",
    "df.plot.bar(stacked=True, ax=ax[1])\n",
    "df.plot.scatter(x='x', y='y', ax=ax[2])"
   ]
  },
  {
   "cell_type": "markdown",
   "metadata": {},
   "source": [
    "### 시계열 막대 그래프"
   ]
  },
  {
   "cell_type": "code",
   "execution_count": null,
   "metadata": {},
   "outputs": [],
   "source": [
    "import pandas as pd\n",
    "import numpy as np\n",
    "df = pd.DataFrame(np.random.randint(1, 20, 24).reshape(12, 2), columns=['con', 'gdp'],\n",
    "                  index = pd.date_range('2017-3-31', '2019-12-31', freq='Q'))"
   ]
  },
  {
   "cell_type": "code",
   "execution_count": null,
   "metadata": {},
   "outputs": [],
   "source": [
    "import matplotlib.pyplot as plt\n",
    "\n",
    "fig, ax = plt.subplots(1, 1)\n",
    "\n",
    "df.plot.bar(ax=ax)"
   ]
  },
  {
   "cell_type": "code",
   "execution_count": null,
   "metadata": {},
   "outputs": [],
   "source": [
    "import matplotlib.pyplot as plt\n",
    "\n",
    "fig, ax = plt.subplots(1, 1)\n",
    "\n",
    "df.plot.bar(ax=ax)\n",
    "\n",
    "ticklabels = [pd.to_datetime(t.get_text()).strftime('%b\\n%y') for t in ax.get_xticklabels()]\n",
    "ax.set_xticklabels(ticklabels, rotation=0)"
   ]
  },
  {
   "cell_type": "code",
   "execution_count": null,
   "metadata": {},
   "outputs": [],
   "source": [
    "def xaxis_date_format(ax, fmt = '%y'):\n",
    "    '''fmt: '%b\\n%y', '%y-%m-%d', etc '''\n",
    "    ticklabels = [pd.to_datetime(t.get_text()).strftime(fmt) for t in ax.get_xticklabels()]\n",
    "    ax.set_xticklabels(ticklabels, rotation=0)"
   ]
  },
  {
   "cell_type": "markdown",
   "metadata": {},
   "source": [
    "# 연습문제\n",
    "\n",
    "## 1. 성인 500명에 대한 키(cm)와 몸무게(kg) 데이터를 아래 관계에 따라 생성하시오\n",
    "\n",
    "$height \\sim norm(170, 15)$\n",
    "\n",
    "$weight = (height - 100)^{1.2} + u$, $u \\sim norm(0, 5)$\n",
    "\n",
    "## 2. 키와 몸무게 각각에 대한 히스토그램(5 kg/cm 구간)을 subplots을 이용하여 그리시오\n",
    "\n",
    "## 3. 키 180cm 이상 및 이하로 그룹을 나누어 키와 몸무게의 산포도를 그리시오"
   ]
  }
 ],
 "metadata": {
  "kernelspec": {
   "display_name": "Python 3",
   "language": "python",
   "name": "python3"
  },
  "language_info": {
   "codemirror_mode": {
    "name": "ipython",
    "version": 3
   },
   "file_extension": ".py",
   "mimetype": "text/x-python",
   "name": "python",
   "nbconvert_exporter": "python",
   "pygments_lexer": "ipython3",
   "version": "3.8.5"
  }
 },
 "nbformat": 4,
 "nbformat_minor": 2
}
